{
 "cells": [
  {
   "cell_type": "markdown",
   "id": "6d431f7d",
   "metadata": {},
   "source": [
    "# Data Collection"
   ]
  },
  {
   "cell_type": "code",
   "execution_count": 45,
   "id": "9d9ac387",
   "metadata": {},
   "outputs": [
    {
     "data": {
      "text/plain": [
       "['/Users/ibrahim/Desktop/Preprocess/query/PNight5.txt',\n",
       " '/Users/ibrahim/Desktop/Preprocess/query/PNight4.txt',\n",
       " '/Users/ibrahim/Desktop/Preprocess/query/PNight1.txt',\n",
       " '/Users/ibrahim/Desktop/Preprocess/query/PNight3.txt',\n",
       " '/Users/ibrahim/Desktop/Preprocess/query/PNight2.txt']"
      ]
     },
     "execution_count": 45,
     "metadata": {},
     "output_type": "execute_result"
    }
   ],
   "source": [
    "import glob\n",
    "file_names = glob.glob(\"/Users/ibrahim/Desktop/Preprocess/query/*.txt\")\n",
    "file_names"
   ]
  },
  {
   "cell_type": "code",
   "execution_count": 46,
   "id": "edc8fb6e",
   "metadata": {},
   "outputs": [],
   "source": [
    "raw_documents=[]\n",
    "for file in file_names:\n",
    "    try:\n",
    "        with open(file, \"r\", encoding=\"utf-8\") as f: raw_documents.append(f.read())\n",
    "    except:\n",
    "        pass"
   ]
  },
  {
   "cell_type": "code",
   "execution_count": 47,
   "id": "e5931279",
   "metadata": {},
   "outputs": [
    {
     "name": "stdout",
     "output_type": "stream",
     "text": [
      "Number of documents:  5\n"
     ]
    }
   ],
   "source": [
    "print(\"Number of documents: \",len(raw_documents))"
   ]
  },
  {
   "cell_type": "code",
   "execution_count": 48,
   "id": "f784f548",
   "metadata": {},
   "outputs": [
    {
     "data": {
      "text/plain": [
       "['/Users/ibrahim/Desktop/Preprocess/AllStories/BNight1.txt',\n",
       " '/Users/ibrahim/Desktop/Preprocess/AllStories/BNight3.txt',\n",
       " '/Users/ibrahim/Desktop/Preprocess/AllStories/BNight2.txt',\n",
       " '/Users/ibrahim/Desktop/Preprocess/AllStories/BNight5.txt',\n",
       " '/Users/ibrahim/Desktop/Preprocess/AllStories/BNight4.txt',\n",
       " '/Users/ibrahim/Desktop/Preprocess/AllStories/BNight3 copy.txt']"
      ]
     },
     "execution_count": 48,
     "metadata": {},
     "output_type": "execute_result"
    }
   ],
   "source": [
    "querydoc=glob.glob(\"/Users/ibrahim/Desktop/Preprocess/AllStories/*.txt\")\n",
    "querydoc"
   ]
  },
  {
   "cell_type": "code",
   "execution_count": 49,
   "id": "d8d9e828",
   "metadata": {},
   "outputs": [],
   "source": [
    "query_documents=[]\n",
    "for file in querydoc:\n",
    "    try:\n",
    "        with open(file, \"r\", encoding=\"utf-8\") as f: query_documents.append(f.read())\n",
    "    except:\n",
    "        pass"
   ]
  },
  {
   "cell_type": "code",
   "execution_count": 50,
   "id": "95ef1bad",
   "metadata": {},
   "outputs": [
    {
     "name": "stdout",
     "output_type": "stream",
     "text": [
      "Number of documents:  6\n"
     ]
    }
   ],
   "source": [
    "print(\"Number of documents: \",len(query_documents))"
   ]
  },
  {
   "cell_type": "code",
   "execution_count": null,
   "id": "daf227af",
   "metadata": {},
   "outputs": [],
   "source": []
  },
  {
   "cell_type": "markdown",
   "id": "bbc6c70d",
   "metadata": {},
   "source": [
    "# 1.1 Locality Sensitive Hashing (LSH) Algorithm (First Layer)\n",
    "https://nbviewer.org/github/bassimeledath/quora_profile/blob/master/questions_analysis.ipynb\n",
    "\n",
    "https://www.pinecone.io/learn/locality-sensitive-hashing/"
   ]
  },
  {
   "cell_type": "code",
   "execution_count": 51,
   "id": "979ad634",
   "metadata": {},
   "outputs": [],
   "source": [
    "import numpy as np\n",
    "import pandas as pd\n",
    "import re\n",
    "import time\n",
    "from datasketch import MinHash, MinHashLSHForest"
   ]
  },
  {
   "cell_type": "code",
   "execution_count": 52,
   "id": "6e38d0df",
   "metadata": {},
   "outputs": [],
   "source": [
    "#Preprocess will split a string of text into individual tokens/shingles based on whitespace.\n",
    "def preprocess(text):\n",
    "    punc = '''!()-[]{};:'\"\\,<>./?@#$%^&*_~'''\n",
    "    tokens = text\n",
    "    # Removing punctuations in string\n",
    "    # Using loop + punctuation string\n",
    "    for ele in tokens:\n",
    "        if ele in punc:\n",
    "            tokens = tokens.replace(ele, \"\")\n",
    "    tokens = text.lower()\n",
    "    tokens = tokens.split()\n",
    "    return tokens"
   ]
  },
  {
   "cell_type": "code",
   "execution_count": 53,
   "id": "029e4139",
   "metadata": {},
   "outputs": [],
   "source": [
    "#Number of Permutations\n",
    "permutations = 800\n",
    "\n",
    "#Number of Recommendations to return\n",
    "num_recommendations = 5"
   ]
  },
  {
   "cell_type": "code",
   "execution_count": 54,
   "id": "712a3264",
   "metadata": {},
   "outputs": [],
   "source": [
    "def get_forest(data, perms):\n",
    "    start_time = time.time()\n",
    "    \n",
    "    minhash = []\n",
    "    \n",
    "    for text in data:\n",
    "        tokens = preprocess(text)\n",
    "        m = MinHash(num_perm=perms)\n",
    "        for s in tokens:\n",
    "            m.update(s.encode('utf8'))\n",
    "        minhash.append(m)\n",
    "        \n",
    "    forest = MinHashLSHForest(num_perm=perms)\n",
    "    \n",
    "    for i,m in enumerate(minhash):\n",
    "        forest.add(i,m)\n",
    "        \n",
    "    forest.index()\n",
    "    \n",
    "    #print('It took %s seconds to build forest.' %(time.time()-start_time))\n",
    "    \n",
    "    return forest"
   ]
  },
  {
   "cell_type": "code",
   "execution_count": 55,
   "id": "6353ff29",
   "metadata": {},
   "outputs": [],
   "source": [
    "def predict(text, database, perms, num_results, forest):\n",
    "    start_time = time.time()\n",
    "    \n",
    "    tokens = preprocess(text)\n",
    "    m = MinHash(num_perm=perms)\n",
    "    for s in tokens:\n",
    "        m.update(s.encode('utf8'))\n",
    "        \n",
    "    idx_array = np.array(forest.query(m, num_results))\n",
    "    if len(idx_array) == 0:\n",
    "        return None # if your query is empty, return none\n",
    "    result={}\n",
    "    result = database.iloc[idx_array]\n",
    "    \n",
    "    #print('It took %s seconds to query forest.' %(time.time()-start_time))\n",
    "    \n",
    "    return result"
   ]
  },
  {
   "cell_type": "code",
   "execution_count": 56,
   "id": "915d2f14",
   "metadata": {},
   "outputs": [
    {
     "name": "stdout",
     "output_type": "stream",
     "text": [
      "0    \\n\\n\\n\\nWhen it was the fifth night, Dunyazad ...\n",
      "1    When it was the fourth night, Dunyazad asked h...\n",
      "2    SHAHRAZAD SAID:\\n\\tI have heard, O fortunate k...\n",
      "3    When it was the third night, Dunyazad asked he...\n",
      "4    When it was the second night, Dunyazad said to...\n",
      "Name: 0, dtype: object\n"
     ]
    }
   ],
   "source": [
    "db = pd.DataFrame(raw_documents)#We have 67 Sentences\n",
    "db=db[0]\n",
    "print(db)\n",
    "forest = get_forest(db, permutations)"
   ]
  },
  {
   "cell_type": "code",
   "execution_count": 57,
   "id": "7d533953",
   "metadata": {},
   "outputs": [
    {
     "name": "stdout",
     "output_type": "stream",
     "text": [
      "query when it was the third night,\n",
      "and the king had had his will of the wazir's daughter, dunyazad,\n",
      "her sister, said to her, \"finish for us that tale of thine;\" and\n",
      "she replied, \"with joy and goodly gree! it hath reached me, o\n",
      "auspicious king, that when the third old man told a tale to the\n",
      "jinni more wondrous than the two preceding, the jinni marvelled\n",
      "with exceeding marvel, and, shaking with delight, cried, lo! i\n",
      "have given thee the remainder of the merchant's punishment and\n",
      "for thy sake have i released him.\" thereupon the merchant\n",
      "embraced the old men and thanked them, and these shaykhs wished\n",
      "him joy on being saved and fared forth each one for his own city.\n",
      "yet this tale is not more wondrous than the fisherman's story.\"\n",
      "asked the king, \"what is the fisherman's story?\" and she answered\n",
      "by relating the tale of\n",
      "\n",
      "the fisherman and the jinni.\n",
      "it hath reached me, o auspicious king, that there was a fisher\n",
      "man well stricken in years who had a wife and three children, and\n",
      "withal was of poor condition. now it was his custom to cast his\n",
      "net every day four times, and no more. on a day he went forth\n",
      "about noontide to the sea shore, where he laid down his basket;\n",
      "and, tucking up his shirt and plunging into the water, made a\n",
      "cast with his net and waited till it settled to the bottom. then\n",
      "he gathered the cords together and haled away at it, but found it\n",
      "weighty; and however much he drew it landwards, he could not pull\n",
      "it up; so he carried the ends ashore and drove a stake into the\n",
      "ground and made the net fast to it. then he stripped and dived\n",
      "into the water all about the net, and left not off working hard\n",
      "until he had brought it up. he rejoiced thereat and, donning his\n",
      "clothes, went to the net, when he found in it a dead jackass\n",
      "which had torn the meshes. now when he saw it, he exclaimed in\n",
      "his grief, \"there is no majesty, and there is no might save in\n",
      "allah the glorious, the great!\" then quoth he, \"this is a strange\n",
      "manner of daily bread;\" and he began re citing in extempore\n",
      "verse:-o toiler through the glooms of night in peril and in pain * thy\n",
      "toiling stint for daily bread comes not by might and main!\n",
      "seest thou not the fisher seek afloat upon the sea * his bread,\n",
      "while glimmer stars of night as set in tangled skein.\n",
      "anon he plungeth in despite the buffet of the waves * the while\n",
      "\n",
      "\f",
      "to sight the bellying net his eager glances strain;\n",
      "till joying at the night's success, a fish he bringeth home *\n",
      "whose gullet by the hook of fate was caught and cut in\n",
      "twain.\n",
      "when buys that fish of him a man who spent the hours of night *\n",
      "reckless of cold and wet and gloom in ease and comfort fain,\n",
      "laud to the lord who gives to this, to that denies his wishes *\n",
      "and dooms one toil and catch the prey and other eat the\n",
      "fishes.[fn#60]\n",
      "then quoth he, \"up and to it; i am sure of his beneficence,\n",
      "inshallah!\" so he continued:-when thou art seized of evil fate, assume * the noble soul's long\n",
      "suffering: 'tis thy best:\n",
      "complain not to the creature; this be plaint * from one most\n",
      "ruthful to the ruthlessest.\n",
      "the fisherman, when he had looked at the dead ass, got it free of\n",
      "the toils and wrung out and spread his net; then he plunged into\n",
      "the sea, saying, \"in allah's name!\" and made a cast and pulled at\n",
      "it, but it grew heavy and settled down more firmly than the first\n",
      "time. now he thought that there were fish in it, and he made it\n",
      "fast, and doffing his clothes went into the water, and dived and\n",
      "haled until he drew it up upon dry land. then found he in it a\n",
      "large earthen pitcher which was full of sand and mud; and seeing\n",
      "this he was greatly troubled and began repeating these\n",
      "verses[fn#61]:-forbear, o troubles of the world, * and pardon an ye nill\n",
      "forbear:\n",
      "i went to seek my daily bread * i find that breadless i must\n",
      "fare:\n",
      "for neither handcraft brings me aught * nor fate allots to me a\n",
      "share:\n",
      "how many fools the pleiads reach * while darkness whelms the\n",
      "wise and ware.\n",
      "\n",
      " Top similar sentences \n",
      " 2    SHAHRAZAD SAID:\\n\\tI have heard, O fortunate k...\n",
      "3    When it was the third night, Dunyazad asked he...\n",
      "Name: 0, dtype: object\n"
     ]
    }
   ],
   "source": [
    "num_recommendations = 10\n",
    "query = query_documents[5].lower()\n",
    "print('query', query)\n",
    "result1 = predict(query, db, permutations, num_recommendations, forest)\n",
    "print('\\n Top similar sentences \\n', result1)"
   ]
  },
  {
   "cell_type": "code",
   "execution_count": 58,
   "id": "c5c81167",
   "metadata": {},
   "outputs": [
    {
     "name": "stdout",
     "output_type": "stream",
     "text": [
      "['SHAHRAZAD SAID:\\n\\tI have heard, O fortunate king, that a wealthy merchant, who had many dealings throughout the lands, rode out one day to settle a matter of business in one of them. When it became hot, he sat down under a tree and put his hand in his saddlebag, from which he took out a piece of bread and a date. He ate and when he had finished with the date he threw away its stone, at which a huge ‘ifrit appeared, with a drawn sword in his hand. This ‘ifrit came up to the merchant and said: ‘Get up so that I can kill you as you killed my son.’ ‘How did I kill your son?’ asked the merchant, and the ‘ifrit told him: ‘When you ate that date and threw away the stone, it struck my son in the chest as he was walking, and he died instantly.’ ‘We belong to God and to Him do we return,’ recited the merchant, adding: ‘There is no might and no power except with God, the Exalted, the Omnipotent. If I killed him, this was by accident, so please forgive me.’ ‘I must kill you,’ insisted the ‘ifrit, and he dragged off the merchant, threw him down on the ground and raised his sword to strike.\\n\\n\\tWith tears in his eyes, the merchant exclaimed: ‘I entrust my affair to God!’ and he then recited these lines:\\n\\nTime is two days, one safe and one of peril,\\nAnd our lives are of two halves, one fair, one overcast.\\nSay to those who reproach us for what Time has done:\\n‘Does Time oppose any but great men?’\\nDo you not see that when the storm winds blow,\\nIt is the tall trees that they strike?\\nCorpses rise to the surface of the sea,\\nWhile it is in its depths that pearls lie hid.\\nIt may be that Time will mishandle us,\\nSubjecting us to constant harm.\\nThough in the heavens there are countless stars,\\nOnly the sun and moon suffer eclipse.\\nThere are both green and dry boughs on the earth,\\nBut we throw stones only at those with fruit.\\nYou think well of the days when they are fine,\\nSo do not fear the evil that fate brings.\\n\\n\\n\\tWhen he had finished, the ‘ifrit said: ‘Stop talking, for, by God, I am most certainly going to kill you.’ ‘‘Ifrit,’ the merchant said, ‘I am a wealthy man, with a wife and children; I have debts and I hold deposits, so let me go home and give everyone their due before returning to you at the start of the new year. I shall take a solemn oath and swear by God that I shall come back to you and you can then do what you want with me. God will be the guarantor of this.’ The ‘ifrit trusted him and let him go, after which he went home, settled all his affairs, and gave everyone what was owed them. He told his wife and children what had happened, gave them his injunctions and stayed with them until the end of the year, when he got up, performed the ritual ablution and, with his shroud under his arm, said goodbye to his family and all his relations as well as his neighbours, and set off reluctantly, while they all wept and wailed. He came to the orchard on what was New Year’s Day, and as he sat there weeping over his fate, a very old man approached him, leading a gazelle on a chain. The newcomer greeted him and asked him why he was sitting there alone, when the place was a haunt of jinn. The merchant told the story of his encounter with the ‘ifrit, and the old man exclaimed: ‘By God, brother, you are a very pious man and your story is so wonderful that were it written with needles on the corners of men’s eyes, it would be a lesson for those who take heed.’\\n\\tHe took his seat by the merchant’s side and promised not to leave until he had seen what happened to him with the ‘ifrit. As the two of them sat there talking, the merchant was overcome by an access of fear together with ever-increasing distress and apprehension. It was at this point that a second old man arrived, having with him two black Salukis. After greeting the two men, he asked them why they were sitting in this haunt of jinn and they told him the story from beginning to end. No sooner had he sat down with them than a third old man, with a dappled mule, came up, greeted them and asked why they were there, at which they repeated the whole story – but there is no point in going over it again.\\n\\tAs soon as the newcomer had sat down, a huge dust-devil appeared in the middle of the desert, clearing away to show the ‘ifrit with a drawn sword in his hand and sparks shooting from his eyes. He came up to the three, dragged the merchant from between them and said: ‘Get up so that I can kill you as you killed my beloved son.’ The merchant sobbed and wept, while the three old men shed tears, wailed and lamented. Then the first of them, the man with the gazelle, left the others, kissed the ‘ifrit’s hand and said: ‘Jinni, royal crown of the jinn, if I tell you the story of my connection with this gazelle, will you grant me a third share in this merchant’s blood?’ The ‘ifrit agreed to do this if he found the story marvellous, AND SO THE OLD MAN BEGAN HIS TALE:\\n\\tKnow, ‘ifrit, that this gazelle is my cousin, my own flesh and blood. I married her when she was still young and stayed with her for thirty years without her bearing me a child. So I took a concubine and she bore me a son, the perfection of whose eyes and eyebrows made him look like the full moon when it appears. He grew up and when he was fifteen I had occasion to travel to a certain city, taking with me a great quantity of trade goods. My wife, now this gazelle, had studied sorcery since her youth and she turned the boy into a calf and his mother into a cow, handing them over to the herdsman. When, after a long absence, I got back from my journey, I asked about the two of them and my wife told me that the woman had died and that the boy had run away, where she did not know.\\n\\tFor a year I remained sad at heart and tearful until ‘Id al-Adha came round and I sent to tell the herdsman to bring me a fat cow. What he brought me was my slave girl whom my wife had enchanted. I tucked up my clothes, took the knife in my hand and was about to slaughter her, when she gave a cry, howled and shed tears. This astonished me and, feeling pity for her, I left her and told the herdsman to fetch me another. At that my wife called out: ‘Kill this one, as I have no finer or fatter cow.’ I went up again to do the killing and again the cow gave a cry, at which I told the herdsman to slaughter her and then skin her. He did this, only to discover that there was neither flesh nor fat in the carcass, but only skin and bone. I was sorry for what I had done at a time when regret was of no use, and I gave the cow to the herdsman, telling him to bring me a fat calf. He brought me my son, and when this ‘calf ’ caught sight of me, he broke his tether and rolled in the dust in front of me, howling and shedding tears. Again I felt pity and told the herdsman to leave the calf and fetch me a cow, and again my wife, now this gazelle, called to me, insisting that I must slaughter the calf that day. ‘This is a noble and a blessed day,’ she pointed out. ‘The sacrifice must be a good one and we have nothing fatter or finer than this calf.’ ‘Look at what happened with the cow that you told me to kill. This led to a disappointment and we got no good from it at all, leaving me full of regret at having slaughtered it. This time I am not going to do what you say or kill this calf.’ ‘By God the Omnipotent, the Compassionate, the Merciful, you must do this on this noble day, and if you don’t, then you are not my husband and I am not your wife.’ On hearing these harsh words, but not realizing what she intended to do, I went up to the calf with the knife in my hand.\\n\\nMorning now dawned and Shahrazad broke off from what she had been allowed to say. ‘What a good, pleasant, delightful and sweet story this is!’ exclaimed Dunyazad, at which Shahrazad told her: ‘How can this compare with what I shall tell you this coming night, if I am still alive and the king spares me?’ ‘By God,’ the king said to himself, ‘I am not going to kill her until I hear the rest of the story,’ and so they spent the rest of the time embracing one another until the sun had fully risen. The king then went to his court as the vizier came with the shroud under his arm, and he gave his judgements, appointing some officials and dismissing others, until evening, but to the vizier’s great surprise he gave no instructions about his daughter. The court was then dismissed and King Shahriyar returned to his palace.'\n",
      " 'When it was the third night, Dunyazad asked her sister to finish the story. ‘With pleasure,’ said Shahrazad and went on: ‘I have heard, O fortunate king, that the third old man told the ‘ifrit a more remarkable story than the other two, and that in his astonishment and delight the ‘ifrit granted him the remaining share of the blood debt and allowed the merchant to go free. For his part, the merchant went and thanked the old men, who congratulated him on his safety, after which each of them went home. This, however, is not more surprising than the tale of the fisherman.’ When the king asked what that was, she went on:\\n\\nI have heard, O fortunate king, that there once was a poor, elderly fisherman with a wife and three children, who was in the habit of casting his net exactly four times each day. He went out to the shore at noon one day, put down his basket, tucked up his shirt, waded into the sea and cast his net. He waited until it had sunk down before pulling its cords together and then, finding it heavy, he tried unsuccessfully to drag it in. He took one end of it to the shore and fixed it to a peg that he drove in there, after which he stripped and dived into the sea beside it, where he continued tugging until he managed to get it up. He climbed out delightedly, put his clothes back on and went up to the net, only to find that what was in it was a dead donkey, and that the donkey had made a hole in the net. The fisherman was saddened by this and recited the formula: ‘There is no might and no power except with God, the Exalted, the Omnipotent,’ before saying: ‘This is a strange thing that God has given me by way of food!’ and then reciting:\\n\\nYou who court danger, diving in the dark of night,\\n\\nGive up; your efforts do not win your daily bread from God.\\n\\nThe fisherman rises to earn his keep;\\n\\nThere is the sea, with stars woven in the sky.\\n\\nHe plunges in, buffeted by waves,\\n\\nHis eyes fixed on his billowing net.\\n\\nHappy with his night’s work, he takes back home\\n\\nA fish, its jaw caught up on his pronged hook.\\n\\nThis fish is bought from him by one who spent his night\\n\\nOut of the cold, enjoying his comforts.\\n\\nPraise be to God, Who gives and Who deprives;\\n\\nFor one man eats the fish; another catches it.\\n\\n\\n\\nHe encouraged himself, saying that Almighty God would show favour and reciting:\\n\\nWhen you are faced with hardship, clothe yourself\\n\\nIn noble patience; that is more resolute.\\n\\nDo not complain, then, to God’s servants; you complain\\n\\nTo those who have no mercy of the Merciful.\\n\\n\\n\\nHe freed the donkey from the net, which he then wrung out before spreading it out again and going back into the sea. Invoking the Name of God, he made another cast, waited until the net had settled, and found it heavier and more difficult to move than before. Thinking that it must be full of fish, he fastened it to his peg, stripped off his clothes and dived in to free it. After tugging at it he got it up on shore, only to discover that what was in it was a large jar full of sand and mud. Saddened by this sight, he recited:\\n\\nTroubles of Time, give up!\\n\\nStop, even if you have not had enough.\\n\\nI came out looking for my daily bread,\\n\\nBut I have found there is no more of this.\\n\\nHow many a fool reaches the Pleiades!\\n\\nHow many wise men lie hidden in the earth!\\n\\n\\n\\nThe fisherman threw away the jar, wrung out his net, cleaned it and went back a third time to the sea, asking God to forgive him. He made his cast and waited for the net to settle before drawing it in, and this time what he found in it were bits of pots, bottles and bones. He was furious and, shedding bitter tears, he recited:\\n\\nYou have no power at all over your daily bread;\\n\\nNeither learning nor letters will fetch it for you.\\n\\nFortune and sustenance are divided up;\\n\\nOne land is fertile while another suffers drought.\\n\\nTime’s changes bring down cultured men,\\n\\nWhile fortune lifts the undeserving up.\\n\\nCome, death, and visit me, for life is vile;\\n\\nFalcons are brought down low while ducks are raised on high.\\n\\nFeel no surprise if you should see a man of excellence\\n\\nIn poverty, while an inferior holds sway.\\n\\nOne bird circles the earth from east to west;\\n\\nAnother gets its food but does not have to move.\\n\\n\\n\\nHe then looked up to heaven and said: ‘O my God, You know that I only cast my net four times a day. I have done this thrice and got nothing, so this time grant me something on which to live.’ He pronounced the Name of God and cast his net into the sea. He waited until it had settled and then he tried to pull it in, but found that it had snagged on the bottom. He recited the formula: ‘There is no power and no might except with God,’ and went on:\\n\\nHow wretched is this kind of world\\n\\nThat leaves us in such trouble and distress!\\n\\nIn the morning it may be that things go well,\\n\\nBut I must drink destruction’s cup when evening comes.\\n\\nYet when it is asked who leads the easiest life,\\n\\nMen would reply that this was I.\\n\\n\\n\\nThe fisherman stripped off his clothes and, after diving in, he worked his hardest to drag the net to shore. Then, when he opened it up, he found in it a brass bottle with a lead seal, imprinted with the inscription of our master Solomon, the son of David, on both of whom be peace. The fisherman was delighted to see this, telling himself that it would fetch ten gold dinars if he sold it in the brass market. He shook it and, discovering that it was heavy as well as sealed, he said to himself: ‘I wonder what is in it? I’ll open it up and have a look before selling it.’ He took out a knife and worked on the lead until he had removed it from the bottle, which he then put down on the ground, shaking it in order to pour out its contents. To his astonishment, at first nothing came out, but then there emerged smoke which towered up into the sky and spread over the surface of the ground. When it had all come out, it collected and solidified; a tremor ran through it and it became an ‘ifrit with his head in the clouds and his feet on the earth. His head was like a dome, his hands were like winnowing forks and his feet like ships’ masts. He had a mouth like a cave with teeth like rocks, while his nostrils were like jugs and his eyes like lamps. He was dark and scowling.\\n\\nWhen he saw this ‘ifrit the fisherman shuddered; his teeth chattered; his mouth dried up and he could not see where he was going. At the sight of him the ‘ifrit exclaimed: ‘There is no god but the God of Solomon, His prophet. Prophet of God, do not kill me for I shall never disobey you again in word or in deed.’ ‘‘Ifrit,’ the fisherman said, ‘you talk of Solomon, the prophet of God, but Solomon died eighteen hundred years ago and we are living in the last age of the world. What is your story and how did you come to be in this bottle?’ To which the ‘ifrit replied: ‘There is no god but God. I have good news for you, fisherman.’ ‘What is that?’ the fisherman asked, and the ‘ifrit said: ‘I am now going to put you to the worst of deaths.’ ‘For this good news, leader of the ‘ifrits,’ exclaimed the fisherman, ‘you deserve that God’s protection be removed from you, you damned creature. Why should you kill me and what have I done to deserve this? It was I who saved you from the bottom of the sea and brought you ashore.’\\n\\nBut the ‘ifrit said: ‘Choose what death you want and how you want me to kill you.’ ‘What have I done wrong,’ asked the fisherman, ‘and why are you punishing me?’ The ‘ifrit replied: ‘Listen to my story,’ and the fisherman said: ‘Tell it, but keep it short as I am at my last gasp.’ ‘Know, fisherman,’ the ‘ifrit told him, ‘that I was one of the apostate jinn, and that together with Sakhr, the jinni, I rebelled against Solomon, the son of David, on both of whom be peace. Solomon sent his vizier, Asaf, to fetch me to him under duress, and I was forced to go with him in a state of humiliation to stand before Solomon. “I take refuge with God!” exclaimed Solomon when he saw me, and he then offered me conversion to the Faith and proposed that I enter his service. When I refused, he called for this bottle, in which he imprisoned me, sealing it with lead and imprinting on it the Greatest Name of God. Then, at his command, the jinn carried me off and threw me into the middle of the sea.\\n\\n‘For a hundred years I stayed there, promising myself that I would give whoever freed me enough wealth to last him for ever, but the years passed and no one rescued me. For the next hundred years I told myself that I would open up all the treasures of the earth for my rescuer, but still no one rescued me. Four hundred years later, I promised that I would grant three wishes, but when I still remained imprisoned, I became furiously angry and said to myself that I would kill whoever saved me, giving him a choice of how he wanted to die. It is you who are my rescuer, and so I allow you this choice.’\\n\\nWhen the fisherman heard this, he exclaimed in wonder at his bad luck in freeing the ‘ifrit now, and he went on: ‘Spare me, may God spare you, and do not kill me lest God place you in the power of one who will kill you.’ ‘I must kill you,’ insisted the ‘ifrit, ‘and so choose how you want to die.’ Ignoring this, the fisherman made another appeal, calling on the ‘ifrit to show gratitude for his release. ‘It is only because you freed me that I am going to kill you,’ repeated the ‘ifrit, at which the fisherman said: ‘Lord of the ‘ifrits, I have done you good and you are repaying me with evil. The proverbial lines are right where they say:\\n\\nWe did them good; they did its opposite,\\n\\nAnd this, by God, is how the shameless act.\\n\\nWhoever helps those who deserve no help,\\n\\nWill be like one who rescues a hyena.’\\n\\n\\n\\n‘Don’t go on so long,’ said the ‘ifrit when he heard this, ‘for death is coming to you.’ The fisherman said to himself: ‘This is a jinni and I am a human. God has given me sound intelligence which I can use to find a way of destroying him, whereas he can only use vicious cunning.’ So he asked: ‘Are you definitely going to kill me?’ and when the ‘ifrit confirmed this, he said: ‘I conjure you by the Greatest Name inscribed on the seal of Solomon and ask you to give me a truthful answer to a question that I have.’ ‘I shall,’ replied the ‘ifrit, who had been shaken and disturbed by the mention of the Greatest Name, and he went on: ‘Ask your question but be brief.’ The fisherman went on: ‘You say you were in this bottle, but there is not room in it for your hand or your foot, much less all the rest of you.’ ‘You don’t believe that I was in it?’ asked the ‘ifrit, to which the fisherman replied: ‘I shall never believe it until I see it with my own eyes.’\\n\\nMorning now dawned and Shahrazad broke off from what she had been allowed to say.']\n"
     ]
    }
   ],
   "source": [
    "#Create a list of candiates to be taken to the next layer which is Cosine Simialrity\n",
    "candidates1=[]\n",
    "candidates1=result1.values\n",
    "print(candidates1)"
   ]
  },
  {
   "cell_type": "code",
   "execution_count": null,
   "id": "f6588cfa",
   "metadata": {},
   "outputs": [],
   "source": []
  },
  {
   "cell_type": "code",
   "execution_count": null,
   "id": "020b26e4",
   "metadata": {},
   "outputs": [],
   "source": []
  },
  {
   "cell_type": "code",
   "execution_count": null,
   "id": "65673147",
   "metadata": {},
   "outputs": [],
   "source": []
  },
  {
   "cell_type": "code",
   "execution_count": null,
   "id": "03ba7a2f",
   "metadata": {},
   "outputs": [],
   "source": []
  },
  {
   "cell_type": "code",
   "execution_count": null,
   "id": "050d0511",
   "metadata": {},
   "outputs": [],
   "source": []
  },
  {
   "cell_type": "markdown",
   "id": "84345d64",
   "metadata": {},
   "source": [
    "# 1.2 Cosine Similarity (The second layer)"
   ]
  },
  {
   "cell_type": "markdown",
   "id": "f0b8a608",
   "metadata": {},
   "source": [
    "https://towardsdatascience.com/how-to-rank-text-content-by-semantic-similarity-4d2419a84c32"
   ]
  },
  {
   "cell_type": "code",
   "execution_count": 59,
   "id": "8bf0402f",
   "metadata": {},
   "outputs": [],
   "source": [
    "from re import sub\n",
    "from gensim.utils import simple_preprocess\n",
    "\n",
    "#query_string = 'fruit and vegetables'\n",
    "#documents = ['cars drive on the road', 'tomatoes are actually fruit']\n",
    "\n",
    "stopwords = []\n",
    "\n",
    "# From: https://github.com/RaRe-Technologies/gensim/blob/develop/docs/notebooks/soft_cosine_tutorial.ipynb\n",
    "def preprocess(doc):\n",
    "    # Tokenize, clean up input document string\n",
    "    doc = sub(r'<img[^<>]+(>|$)', \" image_token \", doc)\n",
    "    doc = sub(r'<[^<>]+(>|$)', \" \", doc)\n",
    "    doc = sub(r'\\[img_assist[^]]*?\\]', \" \", doc)\n",
    "    doc = sub(r'http[s]?://(?:[a-zA-Z]|[0-9]|[$-_@.&+]|[!*\\(\\),]|(?:%[0-9a-fA-F][0-9a-fA-F]))+', \" url_token \", doc)\n",
    "    return [token for token in simple_preprocess(doc, min_len=0, max_len=float(\"inf\")) if token not in stopwords]\n",
    "\n",
    "# Preprocess the documents, including the query string\n",
    "corpus = [preprocess(document) for document in candidates1]\n",
    "#print(corpus)\n",
    "query = preprocess(query)\n",
    "#print (query)"
   ]
  },
  {
   "cell_type": "code",
   "execution_count": 60,
   "id": "e15a12e3",
   "metadata": {},
   "outputs": [
    {
     "name": "stderr",
     "output_type": "stream",
     "text": [
      "100%|██████████████████████████████████████| 1045/1045 [00:08<00:00, 125.10it/s]\n"
     ]
    }
   ],
   "source": [
    "import gensim.downloader as api\n",
    "from gensim.corpora import Dictionary\n",
    "from gensim.models import TfidfModel\n",
    "from gensim.similarities import WordEmbeddingSimilarityIndex\n",
    "from gensim.similarities import SparseTermSimilarityMatrix\n",
    "from gensim.similarities import SoftCosineSimilarity\n",
    "\n",
    "# Load the model: this is a big file, can take a while to download and open\n",
    "glove = api.load(\"glove-wiki-gigaword-50\")    \n",
    "similarity_index = WordEmbeddingSimilarityIndex(glove)\n",
    "\n",
    "# Build the term dictionary, TF-idf model\n",
    "dictionary = Dictionary(corpus+[query])\n",
    "tfidf = TfidfModel(dictionary=dictionary)\n",
    "\n",
    "# Create the term similarity matrix.  \n",
    "similarity_matrix = SparseTermSimilarityMatrix(similarity_index, dictionary, tfidf)"
   ]
  },
  {
   "cell_type": "code",
   "execution_count": 61,
   "id": "0f6386d8",
   "metadata": {},
   "outputs": [
    {
     "name": "stdout",
     "output_type": "stream",
     "text": [
      "1 \t 0.622 \t When it was the third night, Dunyazad asked her sister to finish the story. ‘With pleasure,’ said Shahrazad and went on: ‘I have heard, O fortunate king, that the third old man told the ‘ifrit a more remarkable story than the other two, and that in his astonishment and delight the ‘ifrit granted him the remaining share of the blood debt and allowed the merchant to go free. For his part, the merchant went and thanked the old men, who congratulated him on his safety, after which each of them went home. This, however, is not more surprising than the tale of the fisherman.’ When the king asked what that was, she went on:\n",
      "\n",
      "I have heard, O fortunate king, that there once was a poor, elderly fisherman with a wife and three children, who was in the habit of casting his net exactly four times each day. He went out to the shore at noon one day, put down his basket, tucked up his shirt, waded into the sea and cast his net. He waited until it had sunk down before pulling its cords together and then, finding it heavy, he tried unsuccessfully to drag it in. He took one end of it to the shore and fixed it to a peg that he drove in there, after which he stripped and dived into the sea beside it, where he continued tugging until he managed to get it up. He climbed out delightedly, put his clothes back on and went up to the net, only to find that what was in it was a dead donkey, and that the donkey had made a hole in the net. The fisherman was saddened by this and recited the formula: ‘There is no might and no power except with God, the Exalted, the Omnipotent,’ before saying: ‘This is a strange thing that God has given me by way of food!’ and then reciting:\n",
      "\n",
      "You who court danger, diving in the dark of night,\n",
      "\n",
      "Give up; your efforts do not win your daily bread from God.\n",
      "\n",
      "The fisherman rises to earn his keep;\n",
      "\n",
      "There is the sea, with stars woven in the sky.\n",
      "\n",
      "He plunges in, buffeted by waves,\n",
      "\n",
      "His eyes fixed on his billowing net.\n",
      "\n",
      "Happy with his night’s work, he takes back home\n",
      "\n",
      "A fish, its jaw caught up on his pronged hook.\n",
      "\n",
      "This fish is bought from him by one who spent his night\n",
      "\n",
      "Out of the cold, enjoying his comforts.\n",
      "\n",
      "Praise be to God, Who gives and Who deprives;\n",
      "\n",
      "For one man eats the fish; another catches it.\n",
      "\n",
      "\n",
      "\n",
      "He encouraged himself, saying that Almighty God would show favour and reciting:\n",
      "\n",
      "When you are faced with hardship, clothe yourself\n",
      "\n",
      "In noble patience; that is more resolute.\n",
      "\n",
      "Do not complain, then, to God’s servants; you complain\n",
      "\n",
      "To those who have no mercy of the Merciful.\n",
      "\n",
      "\n",
      "\n",
      "He freed the donkey from the net, which he then wrung out before spreading it out again and going back into the sea. Invoking the Name of God, he made another cast, waited until the net had settled, and found it heavier and more difficult to move than before. Thinking that it must be full of fish, he fastened it to his peg, stripped off his clothes and dived in to free it. After tugging at it he got it up on shore, only to discover that what was in it was a large jar full of sand and mud. Saddened by this sight, he recited:\n",
      "\n",
      "Troubles of Time, give up!\n",
      "\n",
      "Stop, even if you have not had enough.\n",
      "\n",
      "I came out looking for my daily bread,\n",
      "\n",
      "But I have found there is no more of this.\n",
      "\n",
      "How many a fool reaches the Pleiades!\n",
      "\n",
      "How many wise men lie hidden in the earth!\n",
      "\n",
      "\n",
      "\n",
      "The fisherman threw away the jar, wrung out his net, cleaned it and went back a third time to the sea, asking God to forgive him. He made his cast and waited for the net to settle before drawing it in, and this time what he found in it were bits of pots, bottles and bones. He was furious and, shedding bitter tears, he recited:\n",
      "\n",
      "You have no power at all over your daily bread;\n",
      "\n",
      "Neither learning nor letters will fetch it for you.\n",
      "\n",
      "Fortune and sustenance are divided up;\n",
      "\n",
      "One land is fertile while another suffers drought.\n",
      "\n",
      "Time’s changes bring down cultured men,\n",
      "\n",
      "While fortune lifts the undeserving up.\n",
      "\n",
      "Come, death, and visit me, for life is vile;\n",
      "\n",
      "Falcons are brought down low while ducks are raised on high.\n",
      "\n",
      "Feel no surprise if you should see a man of excellence\n",
      "\n",
      "In poverty, while an inferior holds sway.\n",
      "\n",
      "One bird circles the earth from east to west;\n",
      "\n",
      "Another gets its food but does not have to move.\n",
      "\n",
      "\n",
      "\n",
      "He then looked up to heaven and said: ‘O my God, You know that I only cast my net four times a day. I have done this thrice and got nothing, so this time grant me something on which to live.’ He pronounced the Name of God and cast his net into the sea. He waited until it had settled and then he tried to pull it in, but found that it had snagged on the bottom. He recited the formula: ‘There is no power and no might except with God,’ and went on:\n",
      "\n",
      "How wretched is this kind of world\n",
      "\n",
      "That leaves us in such trouble and distress!\n",
      "\n",
      "In the morning it may be that things go well,\n",
      "\n",
      "But I must drink destruction’s cup when evening comes.\n",
      "\n",
      "Yet when it is asked who leads the easiest life,\n",
      "\n",
      "Men would reply that this was I.\n",
      "\n",
      "\n",
      "\n",
      "The fisherman stripped off his clothes and, after diving in, he worked his hardest to drag the net to shore. Then, when he opened it up, he found in it a brass bottle with a lead seal, imprinted with the inscription of our master Solomon, the son of David, on both of whom be peace. The fisherman was delighted to see this, telling himself that it would fetch ten gold dinars if he sold it in the brass market. He shook it and, discovering that it was heavy as well as sealed, he said to himself: ‘I wonder what is in it? I’ll open it up and have a look before selling it.’ He took out a knife and worked on the lead until he had removed it from the bottle, which he then put down on the ground, shaking it in order to pour out its contents. To his astonishment, at first nothing came out, but then there emerged smoke which towered up into the sky and spread over the surface of the ground. When it had all come out, it collected and solidified; a tremor ran through it and it became an ‘ifrit with his head in the clouds and his feet on the earth. His head was like a dome, his hands were like winnowing forks and his feet like ships’ masts. He had a mouth like a cave with teeth like rocks, while his nostrils were like jugs and his eyes like lamps. He was dark and scowling.\n",
      "\n",
      "When he saw this ‘ifrit the fisherman shuddered; his teeth chattered; his mouth dried up and he could not see where he was going. At the sight of him the ‘ifrit exclaimed: ‘There is no god but the God of Solomon, His prophet. Prophet of God, do not kill me for I shall never disobey you again in word or in deed.’ ‘‘Ifrit,’ the fisherman said, ‘you talk of Solomon, the prophet of God, but Solomon died eighteen hundred years ago and we are living in the last age of the world. What is your story and how did you come to be in this bottle?’ To which the ‘ifrit replied: ‘There is no god but God. I have good news for you, fisherman.’ ‘What is that?’ the fisherman asked, and the ‘ifrit said: ‘I am now going to put you to the worst of deaths.’ ‘For this good news, leader of the ‘ifrits,’ exclaimed the fisherman, ‘you deserve that God’s protection be removed from you, you damned creature. Why should you kill me and what have I done to deserve this? It was I who saved you from the bottom of the sea and brought you ashore.’\n",
      "\n",
      "But the ‘ifrit said: ‘Choose what death you want and how you want me to kill you.’ ‘What have I done wrong,’ asked the fisherman, ‘and why are you punishing me?’ The ‘ifrit replied: ‘Listen to my story,’ and the fisherman said: ‘Tell it, but keep it short as I am at my last gasp.’ ‘Know, fisherman,’ the ‘ifrit told him, ‘that I was one of the apostate jinn, and that together with Sakhr, the jinni, I rebelled against Solomon, the son of David, on both of whom be peace. Solomon sent his vizier, Asaf, to fetch me to him under duress, and I was forced to go with him in a state of humiliation to stand before Solomon. “I take refuge with God!” exclaimed Solomon when he saw me, and he then offered me conversion to the Faith and proposed that I enter his service. When I refused, he called for this bottle, in which he imprisoned me, sealing it with lead and imprinting on it the Greatest Name of God. Then, at his command, the jinn carried me off and threw me into the middle of the sea.\n",
      "\n",
      "‘For a hundred years I stayed there, promising myself that I would give whoever freed me enough wealth to last him for ever, but the years passed and no one rescued me. For the next hundred years I told myself that I would open up all the treasures of the earth for my rescuer, but still no one rescued me. Four hundred years later, I promised that I would grant three wishes, but when I still remained imprisoned, I became furiously angry and said to myself that I would kill whoever saved me, giving him a choice of how he wanted to die. It is you who are my rescuer, and so I allow you this choice.’\n",
      "\n",
      "When the fisherman heard this, he exclaimed in wonder at his bad luck in freeing the ‘ifrit now, and he went on: ‘Spare me, may God spare you, and do not kill me lest God place you in the power of one who will kill you.’ ‘I must kill you,’ insisted the ‘ifrit, ‘and so choose how you want to die.’ Ignoring this, the fisherman made another appeal, calling on the ‘ifrit to show gratitude for his release. ‘It is only because you freed me that I am going to kill you,’ repeated the ‘ifrit, at which the fisherman said: ‘Lord of the ‘ifrits, I have done you good and you are repaying me with evil. The proverbial lines are right where they say:\n",
      "\n",
      "We did them good; they did its opposite,\n",
      "\n",
      "And this, by God, is how the shameless act.\n",
      "\n",
      "Whoever helps those who deserve no help,\n",
      "\n",
      "Will be like one who rescues a hyena.’\n",
      "\n",
      "\n",
      "\n",
      "‘Don’t go on so long,’ said the ‘ifrit when he heard this, ‘for death is coming to you.’ The fisherman said to himself: ‘This is a jinni and I am a human. God has given me sound intelligence which I can use to find a way of destroying him, whereas he can only use vicious cunning.’ So he asked: ‘Are you definitely going to kill me?’ and when the ‘ifrit confirmed this, he said: ‘I conjure you by the Greatest Name inscribed on the seal of Solomon and ask you to give me a truthful answer to a question that I have.’ ‘I shall,’ replied the ‘ifrit, who had been shaken and disturbed by the mention of the Greatest Name, and he went on: ‘Ask your question but be brief.’ The fisherman went on: ‘You say you were in this bottle, but there is not room in it for your hand or your foot, much less all the rest of you.’ ‘You don’t believe that I was in it?’ asked the ‘ifrit, to which the fisherman replied: ‘I shall never believe it until I see it with my own eyes.’\n",
      "\n",
      "Morning now dawned and Shahrazad broke off from what she had been allowed to say.\n",
      "0 \t 0.569 \t SHAHRAZAD SAID:\n",
      "\tI have heard, O fortunate king, that a wealthy merchant, who had many dealings throughout the lands, rode out one day to settle a matter of business in one of them. When it became hot, he sat down under a tree and put his hand in his saddlebag, from which he took out a piece of bread and a date. He ate and when he had finished with the date he threw away its stone, at which a huge ‘ifrit appeared, with a drawn sword in his hand. This ‘ifrit came up to the merchant and said: ‘Get up so that I can kill you as you killed my son.’ ‘How did I kill your son?’ asked the merchant, and the ‘ifrit told him: ‘When you ate that date and threw away the stone, it struck my son in the chest as he was walking, and he died instantly.’ ‘We belong to God and to Him do we return,’ recited the merchant, adding: ‘There is no might and no power except with God, the Exalted, the Omnipotent. If I killed him, this was by accident, so please forgive me.’ ‘I must kill you,’ insisted the ‘ifrit, and he dragged off the merchant, threw him down on the ground and raised his sword to strike.\n",
      "\n",
      "\tWith tears in his eyes, the merchant exclaimed: ‘I entrust my affair to God!’ and he then recited these lines:\n",
      "\n",
      "Time is two days, one safe and one of peril,\n",
      "And our lives are of two halves, one fair, one overcast.\n",
      "Say to those who reproach us for what Time has done:\n",
      "‘Does Time oppose any but great men?’\n",
      "Do you not see that when the storm winds blow,\n",
      "It is the tall trees that they strike?\n",
      "Corpses rise to the surface of the sea,\n",
      "While it is in its depths that pearls lie hid.\n",
      "It may be that Time will mishandle us,\n",
      "Subjecting us to constant harm.\n",
      "Though in the heavens there are countless stars,\n",
      "Only the sun and moon suffer eclipse.\n",
      "There are both green and dry boughs on the earth,\n",
      "But we throw stones only at those with fruit.\n",
      "You think well of the days when they are fine,\n",
      "So do not fear the evil that fate brings.\n",
      "\n",
      "\n",
      "\tWhen he had finished, the ‘ifrit said: ‘Stop talking, for, by God, I am most certainly going to kill you.’ ‘‘Ifrit,’ the merchant said, ‘I am a wealthy man, with a wife and children; I have debts and I hold deposits, so let me go home and give everyone their due before returning to you at the start of the new year. I shall take a solemn oath and swear by God that I shall come back to you and you can then do what you want with me. God will be the guarantor of this.’ The ‘ifrit trusted him and let him go, after which he went home, settled all his affairs, and gave everyone what was owed them. He told his wife and children what had happened, gave them his injunctions and stayed with them until the end of the year, when he got up, performed the ritual ablution and, with his shroud under his arm, said goodbye to his family and all his relations as well as his neighbours, and set off reluctantly, while they all wept and wailed. He came to the orchard on what was New Year’s Day, and as he sat there weeping over his fate, a very old man approached him, leading a gazelle on a chain. The newcomer greeted him and asked him why he was sitting there alone, when the place was a haunt of jinn. The merchant told the story of his encounter with the ‘ifrit, and the old man exclaimed: ‘By God, brother, you are a very pious man and your story is so wonderful that were it written with needles on the corners of men’s eyes, it would be a lesson for those who take heed.’\n",
      "\tHe took his seat by the merchant’s side and promised not to leave until he had seen what happened to him with the ‘ifrit. As the two of them sat there talking, the merchant was overcome by an access of fear together with ever-increasing distress and apprehension. It was at this point that a second old man arrived, having with him two black Salukis. After greeting the two men, he asked them why they were sitting in this haunt of jinn and they told him the story from beginning to end. No sooner had he sat down with them than a third old man, with a dappled mule, came up, greeted them and asked why they were there, at which they repeated the whole story – but there is no point in going over it again.\n",
      "\tAs soon as the newcomer had sat down, a huge dust-devil appeared in the middle of the desert, clearing away to show the ‘ifrit with a drawn sword in his hand and sparks shooting from his eyes. He came up to the three, dragged the merchant from between them and said: ‘Get up so that I can kill you as you killed my beloved son.’ The merchant sobbed and wept, while the three old men shed tears, wailed and lamented. Then the first of them, the man with the gazelle, left the others, kissed the ‘ifrit’s hand and said: ‘Jinni, royal crown of the jinn, if I tell you the story of my connection with this gazelle, will you grant me a third share in this merchant’s blood?’ The ‘ifrit agreed to do this if he found the story marvellous, AND SO THE OLD MAN BEGAN HIS TALE:\n",
      "\tKnow, ‘ifrit, that this gazelle is my cousin, my own flesh and blood. I married her when she was still young and stayed with her for thirty years without her bearing me a child. So I took a concubine and she bore me a son, the perfection of whose eyes and eyebrows made him look like the full moon when it appears. He grew up and when he was fifteen I had occasion to travel to a certain city, taking with me a great quantity of trade goods. My wife, now this gazelle, had studied sorcery since her youth and she turned the boy into a calf and his mother into a cow, handing them over to the herdsman. When, after a long absence, I got back from my journey, I asked about the two of them and my wife told me that the woman had died and that the boy had run away, where she did not know.\n",
      "\tFor a year I remained sad at heart and tearful until ‘Id al-Adha came round and I sent to tell the herdsman to bring me a fat cow. What he brought me was my slave girl whom my wife had enchanted. I tucked up my clothes, took the knife in my hand and was about to slaughter her, when she gave a cry, howled and shed tears. This astonished me and, feeling pity for her, I left her and told the herdsman to fetch me another. At that my wife called out: ‘Kill this one, as I have no finer or fatter cow.’ I went up again to do the killing and again the cow gave a cry, at which I told the herdsman to slaughter her and then skin her. He did this, only to discover that there was neither flesh nor fat in the carcass, but only skin and bone. I was sorry for what I had done at a time when regret was of no use, and I gave the cow to the herdsman, telling him to bring me a fat calf. He brought me my son, and when this ‘calf ’ caught sight of me, he broke his tether and rolled in the dust in front of me, howling and shedding tears. Again I felt pity and told the herdsman to leave the calf and fetch me a cow, and again my wife, now this gazelle, called to me, insisting that I must slaughter the calf that day. ‘This is a noble and a blessed day,’ she pointed out. ‘The sacrifice must be a good one and we have nothing fatter or finer than this calf.’ ‘Look at what happened with the cow that you told me to kill. This led to a disappointment and we got no good from it at all, leaving me full of regret at having slaughtered it. This time I am not going to do what you say or kill this calf.’ ‘By God the Omnipotent, the Compassionate, the Merciful, you must do this on this noble day, and if you don’t, then you are not my husband and I am not your wife.’ On hearing these harsh words, but not realizing what she intended to do, I went up to the calf with the knife in my hand.\n",
      "\n",
      "Morning now dawned and Shahrazad broke off from what she had been allowed to say. ‘What a good, pleasant, delightful and sweet story this is!’ exclaimed Dunyazad, at which Shahrazad told her: ‘How can this compare with what I shall tell you this coming night, if I am still alive and the king spares me?’ ‘By God,’ the king said to himself, ‘I am not going to kill her until I hear the rest of the story,’ and so they spent the rest of the time embracing one another until the sun had fully risen. The king then went to his court as the vizier came with the shroud under his arm, and he gave his judgements, appointing some officials and dismissing others, until evening, but to the vizier’s great surprise he gave no instructions about his daughter. The court was then dismissed and King Shahriyar returned to his palace.\n"
     ]
    }
   ],
   "source": [
    "# Compute Soft Cosine Measure between the query and the documents.\n",
    "# From: https://github.com/RaRe-Technologies/gensim/blob/develop/docs/notebooks/soft_cosine_tutorial.ipynb\n",
    "query_tf = tfidf[dictionary.doc2bow(query)]\n",
    "\n",
    "index = SoftCosineSimilarity(\n",
    "            tfidf[[dictionary.doc2bow(document) for document in corpus]],\n",
    "            similarity_matrix)\n",
    "\n",
    "doc_similarity_scores = index[query_tf] \n",
    "\n",
    "\n",
    "# Output the sorted similarity scores and documents\n",
    "NW_Candiadates1=[]\n",
    "sorted_indexes = np.argsort(doc_similarity_scores)[::-1]\n",
    "for idx in sorted_indexes:\n",
    "    if doc_similarity_scores[idx]>0.3:\n",
    "        print(f'{idx} \\t {doc_similarity_scores[idx]:0.3f} \\t {candidates1[idx]}')\n",
    "        NW_Candiadates1.append(candidates1[idx])"
   ]
  },
  {
   "cell_type": "code",
   "execution_count": 62,
   "id": "be3952bb",
   "metadata": {},
   "outputs": [
    {
     "data": {
      "text/plain": [
       "'When it was the third night, Dunyazad asked her sister to finish the story. ‘With pleasure,’ said Shahrazad and went on: ‘I have heard, O fortunate king, that the third old man told the ‘ifrit a more remarkable story than the other two, and that in his astonishment and delight the ‘ifrit granted him the remaining share of the blood debt and allowed the merchant to go free. For his part, the merchant went and thanked the old men, who congratulated him on his safety, after which each of them went home. This, however, is not more surprising than the tale of the fisherman.’ When the king asked what that was, she went on:\\n\\nI have heard, O fortunate king, that there once was a poor, elderly fisherman with a wife and three children, who was in the habit of casting his net exactly four times each day. He went out to the shore at noon one day, put down his basket, tucked up his shirt, waded into the sea and cast his net. He waited until it had sunk down before pulling its cords together and then, finding it heavy, he tried unsuccessfully to drag it in. He took one end of it to the shore and fixed it to a peg that he drove in there, after which he stripped and dived into the sea beside it, where he continued tugging until he managed to get it up. He climbed out delightedly, put his clothes back on and went up to the net, only to find that what was in it was a dead donkey, and that the donkey had made a hole in the net. The fisherman was saddened by this and recited the formula: ‘There is no might and no power except with God, the Exalted, the Omnipotent,’ before saying: ‘This is a strange thing that God has given me by way of food!’ and then reciting:\\n\\nYou who court danger, diving in the dark of night,\\n\\nGive up; your efforts do not win your daily bread from God.\\n\\nThe fisherman rises to earn his keep;\\n\\nThere is the sea, with stars woven in the sky.\\n\\nHe plunges in, buffeted by waves,\\n\\nHis eyes fixed on his billowing net.\\n\\nHappy with his night’s work, he takes back home\\n\\nA fish, its jaw caught up on his pronged hook.\\n\\nThis fish is bought from him by one who spent his night\\n\\nOut of the cold, enjoying his comforts.\\n\\nPraise be to God, Who gives and Who deprives;\\n\\nFor one man eats the fish; another catches it.\\n\\n\\n\\nHe encouraged himself, saying that Almighty God would show favour and reciting:\\n\\nWhen you are faced with hardship, clothe yourself\\n\\nIn noble patience; that is more resolute.\\n\\nDo not complain, then, to God’s servants; you complain\\n\\nTo those who have no mercy of the Merciful.\\n\\n\\n\\nHe freed the donkey from the net, which he then wrung out before spreading it out again and going back into the sea. Invoking the Name of God, he made another cast, waited until the net had settled, and found it heavier and more difficult to move than before. Thinking that it must be full of fish, he fastened it to his peg, stripped off his clothes and dived in to free it. After tugging at it he got it up on shore, only to discover that what was in it was a large jar full of sand and mud. Saddened by this sight, he recited:\\n\\nTroubles of Time, give up!\\n\\nStop, even if you have not had enough.\\n\\nI came out looking for my daily bread,\\n\\nBut I have found there is no more of this.\\n\\nHow many a fool reaches the Pleiades!\\n\\nHow many wise men lie hidden in the earth!\\n\\n\\n\\nThe fisherman threw away the jar, wrung out his net, cleaned it and went back a third time to the sea, asking God to forgive him. He made his cast and waited for the net to settle before drawing it in, and this time what he found in it were bits of pots, bottles and bones. He was furious and, shedding bitter tears, he recited:\\n\\nYou have no power at all over your daily bread;\\n\\nNeither learning nor letters will fetch it for you.\\n\\nFortune and sustenance are divided up;\\n\\nOne land is fertile while another suffers drought.\\n\\nTime’s changes bring down cultured men,\\n\\nWhile fortune lifts the undeserving up.\\n\\nCome, death, and visit me, for life is vile;\\n\\nFalcons are brought down low while ducks are raised on high.\\n\\nFeel no surprise if you should see a man of excellence\\n\\nIn poverty, while an inferior holds sway.\\n\\nOne bird circles the earth from east to west;\\n\\nAnother gets its food but does not have to move.\\n\\n\\n\\nHe then looked up to heaven and said: ‘O my God, You know that I only cast my net four times a day. I have done this thrice and got nothing, so this time grant me something on which to live.’ He pronounced the Name of God and cast his net into the sea. He waited until it had settled and then he tried to pull it in, but found that it had snagged on the bottom. He recited the formula: ‘There is no power and no might except with God,’ and went on:\\n\\nHow wretched is this kind of world\\n\\nThat leaves us in such trouble and distress!\\n\\nIn the morning it may be that things go well,\\n\\nBut I must drink destruction’s cup when evening comes.\\n\\nYet when it is asked who leads the easiest life,\\n\\nMen would reply that this was I.\\n\\n\\n\\nThe fisherman stripped off his clothes and, after diving in, he worked his hardest to drag the net to shore. Then, when he opened it up, he found in it a brass bottle with a lead seal, imprinted with the inscription of our master Solomon, the son of David, on both of whom be peace. The fisherman was delighted to see this, telling himself that it would fetch ten gold dinars if he sold it in the brass market. He shook it and, discovering that it was heavy as well as sealed, he said to himself: ‘I wonder what is in it? I’ll open it up and have a look before selling it.’ He took out a knife and worked on the lead until he had removed it from the bottle, which he then put down on the ground, shaking it in order to pour out its contents. To his astonishment, at first nothing came out, but then there emerged smoke which towered up into the sky and spread over the surface of the ground. When it had all come out, it collected and solidified; a tremor ran through it and it became an ‘ifrit with his head in the clouds and his feet on the earth. His head was like a dome, his hands were like winnowing forks and his feet like ships’ masts. He had a mouth like a cave with teeth like rocks, while his nostrils were like jugs and his eyes like lamps. He was dark and scowling.\\n\\nWhen he saw this ‘ifrit the fisherman shuddered; his teeth chattered; his mouth dried up and he could not see where he was going. At the sight of him the ‘ifrit exclaimed: ‘There is no god but the God of Solomon, His prophet. Prophet of God, do not kill me for I shall never disobey you again in word or in deed.’ ‘‘Ifrit,’ the fisherman said, ‘you talk of Solomon, the prophet of God, but Solomon died eighteen hundred years ago and we are living in the last age of the world. What is your story and how did you come to be in this bottle?’ To which the ‘ifrit replied: ‘There is no god but God. I have good news for you, fisherman.’ ‘What is that?’ the fisherman asked, and the ‘ifrit said: ‘I am now going to put you to the worst of deaths.’ ‘For this good news, leader of the ‘ifrits,’ exclaimed the fisherman, ‘you deserve that God’s protection be removed from you, you damned creature. Why should you kill me and what have I done to deserve this? It was I who saved you from the bottom of the sea and brought you ashore.’\\n\\nBut the ‘ifrit said: ‘Choose what death you want and how you want me to kill you.’ ‘What have I done wrong,’ asked the fisherman, ‘and why are you punishing me?’ The ‘ifrit replied: ‘Listen to my story,’ and the fisherman said: ‘Tell it, but keep it short as I am at my last gasp.’ ‘Know, fisherman,’ the ‘ifrit told him, ‘that I was one of the apostate jinn, and that together with Sakhr, the jinni, I rebelled against Solomon, the son of David, on both of whom be peace. Solomon sent his vizier, Asaf, to fetch me to him under duress, and I was forced to go with him in a state of humiliation to stand before Solomon. “I take refuge with God!” exclaimed Solomon when he saw me, and he then offered me conversion to the Faith and proposed that I enter his service. When I refused, he called for this bottle, in which he imprisoned me, sealing it with lead and imprinting on it the Greatest Name of God. Then, at his command, the jinn carried me off and threw me into the middle of the sea.\\n\\n‘For a hundred years I stayed there, promising myself that I would give whoever freed me enough wealth to last him for ever, but the years passed and no one rescued me. For the next hundred years I told myself that I would open up all the treasures of the earth for my rescuer, but still no one rescued me. Four hundred years later, I promised that I would grant three wishes, but when I still remained imprisoned, I became furiously angry and said to myself that I would kill whoever saved me, giving him a choice of how he wanted to die. It is you who are my rescuer, and so I allow you this choice.’\\n\\nWhen the fisherman heard this, he exclaimed in wonder at his bad luck in freeing the ‘ifrit now, and he went on: ‘Spare me, may God spare you, and do not kill me lest God place you in the power of one who will kill you.’ ‘I must kill you,’ insisted the ‘ifrit, ‘and so choose how you want to die.’ Ignoring this, the fisherman made another appeal, calling on the ‘ifrit to show gratitude for his release. ‘It is only because you freed me that I am going to kill you,’ repeated the ‘ifrit, at which the fisherman said: ‘Lord of the ‘ifrits, I have done you good and you are repaying me with evil. The proverbial lines are right where they say:\\n\\nWe did them good; they did its opposite,\\n\\nAnd this, by God, is how the shameless act.\\n\\nWhoever helps those who deserve no help,\\n\\nWill be like one who rescues a hyena.’\\n\\n\\n\\n‘Don’t go on so long,’ said the ‘ifrit when he heard this, ‘for death is coming to you.’ The fisherman said to himself: ‘This is a jinni and I am a human. God has given me sound intelligence which I can use to find a way of destroying him, whereas he can only use vicious cunning.’ So he asked: ‘Are you definitely going to kill me?’ and when the ‘ifrit confirmed this, he said: ‘I conjure you by the Greatest Name inscribed on the seal of Solomon and ask you to give me a truthful answer to a question that I have.’ ‘I shall,’ replied the ‘ifrit, who had been shaken and disturbed by the mention of the Greatest Name, and he went on: ‘Ask your question but be brief.’ The fisherman went on: ‘You say you were in this bottle, but there is not room in it for your hand or your foot, much less all the rest of you.’ ‘You don’t believe that I was in it?’ asked the ‘ifrit, to which the fisherman replied: ‘I shall never believe it until I see it with my own eyes.’\\n\\nMorning now dawned and Shahrazad broke off from what she had been allowed to say.'"
      ]
     },
     "execution_count": 62,
     "metadata": {},
     "output_type": "execute_result"
    }
   ],
   "source": [
    "NW_Candiadates1[0]"
   ]
  },
  {
   "cell_type": "markdown",
   "id": "46a5a77a",
   "metadata": {},
   "source": [
    "# LSH --> NEW COSINE ---> NW ON PARAGRAPHS"
   ]
  },
  {
   "cell_type": "code",
   "execution_count": 63,
   "id": "762f0c2b",
   "metadata": {},
   "outputs": [
    {
     "data": {
      "text/plain": [
       "81"
      ]
     },
     "execution_count": 63,
     "metadata": {},
     "output_type": "execute_result"
    }
   ],
   "source": [
    "Target_paragraphs = list(filter(lambda x : x != '', NW_Candiadates1[0].split('.')))#https://stackoverflow.com/questions/53240763/python-how-to-separate-paragraphs-from-text\n",
    "len(Target_paragraphs)"
   ]
  },
  {
   "cell_type": "code",
   "execution_count": 64,
   "id": "563dbd5f",
   "metadata": {},
   "outputs": [],
   "source": [
    "import nltk \n",
    "#lower Sentences\n",
    "Target_paragraphs2=[]\n",
    "for i in Target_paragraphs:\n",
    "    i = i.lower()\n",
    "    \n",
    "    Target_paragraphs2.append(i)"
   ]
  },
  {
   "cell_type": "code",
   "execution_count": 65,
   "id": "40cf976d",
   "metadata": {},
   "outputs": [],
   "source": [
    "import re\n",
    " \n",
    "# Removing punctuations in string\n",
    "# Using loop + punctuation string\n",
    "final_target_paragraphs_list=[]\n",
    "for ele in Target_paragraphs2:\n",
    "    x = re.sub(r'[^\\w\\s]', '', ele)\n",
    "    x = x.replace('\\n',\" \")\n",
    "    final_target_paragraphs_list.append(x)"
   ]
  },
  {
   "cell_type": "code",
   "execution_count": 66,
   "id": "792be58a",
   "metadata": {},
   "outputs": [],
   "source": [
    "#https://stackoverflow.com/questions/50685343/how-to-lemmatize-a-list-of-sentences\n",
    "from nltk.stem.wordnet import WordNetLemmatizer\n",
    "from nltk import word_tokenize\n",
    "\n",
    "lmtzr = WordNetLemmatizer()\n",
    "lemmatized = [[lmtzr.lemmatize(word) for word in word_tokenize(s)]\n",
    "              for s in final_target_paragraphs_list]\n",
    "#print(lemmatized[2])\n",
    "#[['i', 'like', 'car'], ['cat', 'are', 'the', 'best']]"
   ]
  },
  {
   "cell_type": "code",
   "execution_count": 67,
   "id": "ccff1e51",
   "metadata": {},
   "outputs": [],
   "source": [
    "Final_Target_Lemmatized=[]\n",
    "for i in range(len(final_target_paragraphs_list)):\n",
    "    Final_Target_Lemmatized.append(\" \".join(word for word in lemmatized[i]))"
   ]
  },
  {
   "cell_type": "code",
   "execution_count": 68,
   "id": "551ef41d",
   "metadata": {},
   "outputs": [
    {
     "name": "stdout",
     "output_type": "stream",
     "text": [
      "17\n"
     ]
    }
   ],
   "source": [
    "query = query_documents[5].lower()\n",
    "query_paragraps = list(filter(lambda x : x != '', query.split('.')))#https://stackoverflow.com/questions/53240763/python-how-to-separate-paragraphs-from-text\n",
    "print(len(query_paragraps))\n",
    "#print(query_paragraps[7])"
   ]
  },
  {
   "cell_type": "code",
   "execution_count": 69,
   "id": "83789795",
   "metadata": {},
   "outputs": [],
   "source": [
    "import nltk \n",
    "#lower Sentences\n",
    "preprocess_query_paragraphs=[]\n",
    "for i in query_paragraps:\n",
    "    i = i.lower()\n",
    "    preprocess_query_paragraphs.append(i)"
   ]
  },
  {
   "cell_type": "code",
   "execution_count": 70,
   "id": "49e8dd42",
   "metadata": {},
   "outputs": [],
   "source": [
    "import re\n",
    " \n",
    "# Removing punctuations in string\n",
    "# Using loop + punctuation string\n",
    "final_query_paragraphs_list=[]\n",
    "for ele in preprocess_query_paragraphs:\n",
    "    x = re.sub(r'[^\\w\\s]', '', ele)\n",
    "    x = x.replace('\\n',\" \")\n",
    "    final_query_paragraphs_list.append(x)"
   ]
  },
  {
   "cell_type": "code",
   "execution_count": 71,
   "id": "0cbd3061",
   "metadata": {},
   "outputs": [],
   "source": [
    "#https://stackoverflow.com/questions/50685343/how-to-lemmatize-a-list-of-sentences\n",
    "from nltk.stem.wordnet import WordNetLemmatizer\n",
    "from nltk import word_tokenize\n",
    "\n",
    "lmtzr = WordNetLemmatizer()\n",
    "lemmatized = [[lmtzr.lemmatize(word) for word in word_tokenize(s)]\n",
    "              for s in final_query_paragraphs_list]\n",
    "#print(lemmatized[2])\n",
    "#[['i', 'like', 'car'], ['cat', 'are', 'the', 'best']]"
   ]
  },
  {
   "cell_type": "code",
   "execution_count": 72,
   "id": "349f97c2",
   "metadata": {},
   "outputs": [],
   "source": [
    "Final_Query_Lemmatized=[]\n",
    "for i in range(len(final_query_paragraphs_list)):\n",
    "    Final_Query_Lemmatized.append(\" \".join(word for word in lemmatized[i]))"
   ]
  },
  {
   "cell_type": "code",
   "execution_count": 73,
   "id": "04098216",
   "metadata": {},
   "outputs": [
    {
     "data": {
      "text/plain": [
       "17"
      ]
     },
     "execution_count": 73,
     "metadata": {},
     "output_type": "execute_result"
    }
   ],
   "source": [
    "len(Final_Query_Lemmatized)"
   ]
  },
  {
   "cell_type": "code",
   "execution_count": null,
   "id": "5fe8119c",
   "metadata": {},
   "outputs": [],
   "source": []
  },
  {
   "cell_type": "markdown",
   "id": "4181ea43",
   "metadata": {},
   "source": [
    "# Final Shit /3 1:10 Am"
   ]
  },
  {
   "cell_type": "markdown",
   "id": "cdf2319f",
   "metadata": {},
   "source": [
    "# Divide actual Tokens of Query"
   ]
  },
  {
   "cell_type": "code",
   "execution_count": 74,
   "id": "6afddccd",
   "metadata": {},
   "outputs": [],
   "source": [
    "Final_Query_Lemmatized\n",
    "Final_Query=[]\n",
    "i=0\n",
    "if len(Final_Query_Lemmatized) % 3==0:\n",
    "    while(i < len(Final_Query_Lemmatized)):\n",
    "        #if len(x) < len(test):\n",
    "        if Final_Query_Lemmatized[i]==Final_Query_Lemmatized[-2]:\n",
    "            Final_Query.append(Final_Query_Lemmatized[-2]+\" \"+Final_Query_Lemmatized[-1])\n",
    "            break\n",
    "        else:\n",
    "            Final_Query.append(Final_Query_Lemmatized[i]+\" \"+Final_Query_Lemmatized[i+1]+\" \"+Final_Query_Lemmatized[i+2])\n",
    "        i += 3\n",
    "else:\n",
    "    while(i < len(Final_Query_Lemmatized)):\n",
    "        #if len(x) < len(test):\n",
    "        if Final_Query_Lemmatized[i]==Final_Query_Lemmatized[-1]:\n",
    "            Final_Query.append(Final_Query_Lemmatized[i])\n",
    "            Final_Query[-1]=Final_Query[-2]+\" \"+Final_Query[-1]\n",
    "            Final_Query.remove(Final_Query[-2])\n",
    "            break\n",
    "        elif Final_Query_Lemmatized[i]==Final_Query_Lemmatized[-2]:\n",
    "            Final_Query.append(Final_Query_Lemmatized[i]+\" \"+Final_Query_Lemmatized[i+1])\n",
    "            #x.remove(x[-2])\n",
    "            break\n",
    "        else:\n",
    "            Final_Query.append(Final_Query_Lemmatized[i]+\" \"+Final_Query_Lemmatized[i+1]+\" \"+Final_Query_Lemmatized[i+2])\n",
    "        i += 3\n",
    "#print(Final_Query)"
   ]
  },
  {
   "cell_type": "code",
   "execution_count": 75,
   "id": "bfea9a43",
   "metadata": {},
   "outputs": [
    {
     "data": {
      "text/plain": [
       "17"
      ]
     },
     "execution_count": 75,
     "metadata": {},
     "output_type": "execute_result"
    }
   ],
   "source": [
    "len(Final_Query_Lemmatized)"
   ]
  },
  {
   "cell_type": "code",
   "execution_count": 76,
   "id": "67ba01df",
   "metadata": {},
   "outputs": [
    {
     "data": {
      "text/plain": [
       "6"
      ]
     },
     "execution_count": 76,
     "metadata": {},
     "output_type": "execute_result"
    }
   ],
   "source": [
    "len(Final_Query)"
   ]
  },
  {
   "cell_type": "code",
   "execution_count": 77,
   "id": "0a32320a",
   "metadata": {},
   "outputs": [],
   "source": [
    "Final_Target_Lemmatized\n",
    "Final_Target=[]\n",
    "i=0\n",
    "if len(Final_Target_Lemmatized) % 3==0:\n",
    "    while(i < len(Final_Target_Lemmatized)):\n",
    "        #if len(x) < len(test):\n",
    "        if Final_Target_Lemmatized[i]==Final_Target_Lemmatized[-2]:\n",
    "            Final_Target.append(Final_Target_Lemmatized[-2]+\" \"+Final_Target_Lemmatized[-1])\n",
    "            break\n",
    "        else:\n",
    "            Final_Target.append(Final_Target_Lemmatized[i]+\" \"+Final_Target_Lemmatized[i+1]+\" \"+Final_Target_Lemmatized[i+2])\n",
    "        i += 3\n",
    "else:\n",
    "    while(i < len(Final_Target_Lemmatized)):\n",
    "        #if len(x) < len(test):\n",
    "        if Final_Target_Lemmatized[i]==Final_Target_Lemmatized[-1]:\n",
    "            Final_Target.append(Final_Target_Lemmatized[i])\n",
    "            Final_Target[-1]=Final_Target[-2]+\" \"+Final_Target[-1]\n",
    "            Final_Target.remove(Final_Target[-2])\n",
    "            break\n",
    "        elif Final_Target_Lemmatized[i]==Final_Target_Lemmatized[-2]:\n",
    "            Final_Target.append(Final_Target_Lemmatized[i]+\" \"+Final_Target_Lemmatized[i+1])\n",
    "            #x.remove(x[-2])\n",
    "            break\n",
    "        else:\n",
    "            Final_Target.append(Final_Target_Lemmatized[i]+\" \"+Final_Target_Lemmatized[i+1]+\" \"+Final_Target_Lemmatized[i+2])\n",
    "        i += 3\n",
    "#print(Final_Query)"
   ]
  },
  {
   "cell_type": "code",
   "execution_count": 78,
   "id": "191150f1",
   "metadata": {},
   "outputs": [
    {
     "data": {
      "text/plain": [
       "27"
      ]
     },
     "execution_count": 78,
     "metadata": {},
     "output_type": "execute_result"
    }
   ],
   "source": [
    "len(Final_Target)"
   ]
  },
  {
   "cell_type": "markdown",
   "id": "c456aa75",
   "metadata": {},
   "source": [
    "# NW Spot Checking"
   ]
  },
  {
   "cell_type": "code",
   "execution_count": 106,
   "id": "1223a25c",
   "metadata": {},
   "outputs": [
    {
     "name": "stdout",
     "output_type": "stream",
     "text": [
      "Query:  when it wa the third night and the king had had his will of the wazirs daughter dunyazad her sister said to her finish for u that tale of thine and she replied with joy and goodly gree it hath reached me o auspicious king that when the third old man told a tale to the jinni more wondrous than the two preceding the jinni marvelled with exceeding marvel and shaking with delight cried lo i have given thee the remainder of the merchant punishment and for thy sake have i released him thereupon the merchant embraced the old men and thanked them and these shaykhs wished him joy on being saved and fared forth each one for his own city yet this tale is not more wondrous than the fisherman story \n",
      "\n",
      "Target Sentence: \n",
      " when it wa the third night dunyazad asked her sister to finish the story with pleasure said shahrazad and went on i have heard o fortunate king that the third old man told the ifrit a more remarkable story than the other two and that in his astonishment and delight the ifrit granted him the remaining share of the blood debt and allowed the merchant to go free for his part the merchant went and thanked the old men who congratulated him on his safety after which each of them went home \n",
      "\n",
      "Perecent Identity using NW: 29.79\n"
     ]
    }
   ],
   "source": [
    "from minineedle import needle, core\n",
    "\n",
    "\n",
    "R = {} # Dicitonary to Save query, target sentence, precent identity and the actual aligmnet\n",
    "IR=0 #IndexRange\n",
    "\n",
    "query=Final_Query[IR].split()\n",
    "if IR==0:\n",
    "    for i in Final_Target[IR:IR+1]:\n",
    "    #print(\"t--------------\",i)\n",
    "        alignment = needle.NeedlemanWunsch(query, i.split())\n",
    "        x = alignment.get_identity()\n",
    "        y = alignment \n",
    "        R[i]=[x , query, i, y]\n",
    "    max_value = max(R.values())\n",
    "    print('Query: ',Final_Query[IR],'\\n')\n",
    "    print('Target Sentence: \\n',max_value[2],'\\n')\n",
    "    print('Perecent Identity using NW:',max_value[0])\n",
    "#print('\\n',max_value[3]) \n",
    "else:\n",
    "    for i in Final_Target[IR-1:IR+1]:\n",
    "    #print(\"t--------------\",i)\n",
    "        alignment = needle.NeedlemanWunsch(query, i.split())\n",
    "        x = alignment.get_identity()\n",
    "        y = alignment \n",
    "        R[i]=[x , query, i, y]\n",
    "    max_value = max(R.values())\n",
    "    print('Query: ',Final_Query[IR],'\\n')\n",
    "    print('Target Sentence: \\n',max_value[2],'\\n')\n",
    "    print('Perecent Identity using NW:',max_value[0]) "
   ]
  },
  {
   "cell_type": "code",
   "execution_count": 105,
   "id": "bdf14490",
   "metadata": {},
   "outputs": [
    {
     "name": "stdout",
     "output_type": "stream",
     "text": [
      "Query:  anon he plungeth in despite the buffet of the wave the while to sight the bellying net his eager glance strain till joying at the night success a fish he bringeth home whose gullet by the hook of fate wa caught and cut in twain \n",
      "\n",
      "Target Sentence: \n",
      " the fisherman rise to earn his keep there is the sea with star woven in the sky \n",
      "\n",
      "Perecent Identity using NW: 11.11\n"
     ]
    }
   ],
   "source": []
  },
  {
   "cell_type": "code",
   "execution_count": null,
   "id": "d6dce6a8",
   "metadata": {},
   "outputs": [],
   "source": []
  },
  {
   "cell_type": "code",
   "execution_count": 74,
   "id": "f2225de5",
   "metadata": {},
   "outputs": [
    {
     "name": "stdout",
     "output_type": "stream",
     "text": [
      "['Ibrainm Hasan Ali', 'Alyami test1 test2', 'test3 test4 test5', 'test6 test7 test8', 'test9 test10 test11 test12']\n"
     ]
    }
   ],
   "source": [
    "test=['Ibrainm','Hasan','Ali','Alyami','test1','test2','test3','test4','test5','test6','test7','test8','test9','test10','test11','test12']\n",
    "x=[]\n",
    "i=0\n",
    "if len(test) % 3==0:\n",
    "    while(i < len(test)):\n",
    "        #if len(x) < len(test):\n",
    "        if test[i]==test[-2]:\n",
    "            x.append(test[-2]+\" \"+test[-1])\n",
    "            break\n",
    "        else:\n",
    "            x.append(test[i]+\" \"+test[i+1]+\" \"+test[i+2])\n",
    "        i += 3\n",
    "else:\n",
    "    while(i < len(test)):\n",
    "        #if len(x) < len(test):\n",
    "        if test[i]==test[-1]:\n",
    "            x.append(test[i])\n",
    "            x[-1]=x[-2]+\" \"+x[-1]\n",
    "            x.remove(x[-2])\n",
    "            break\n",
    "        elif test[i]==test[-2]:\n",
    "            x.append(test[i]+\" \"+test[i+1])\n",
    "            #x.remove(x[-2])\n",
    "            break\n",
    "        else:\n",
    "            x.append(test[i]+\" \"+test[i+1]+\" \"+test[i+2])\n",
    "        i += 3\n",
    "print(x)"
   ]
  },
  {
   "cell_type": "code",
   "execution_count": 52,
   "id": "dddc33c8",
   "metadata": {},
   "outputs": [
    {
     "data": {
      "text/plain": [
       "14"
      ]
     },
     "execution_count": 52,
     "metadata": {},
     "output_type": "execute_result"
    }
   ],
   "source": [
    "len(test)\n"
   ]
  },
  {
   "cell_type": "code",
   "execution_count": 291,
   "id": "2d1673c0",
   "metadata": {},
   "outputs": [
    {
     "ename": "IndexError",
     "evalue": "list index out of range",
     "output_type": "error",
     "traceback": [
      "\u001b[0;31m---------------------------------------------------------------------------\u001b[0m",
      "\u001b[0;31mIndexError\u001b[0m                                Traceback (most recent call last)",
      "\u001b[0;32m/var/folders/82/58plxq9d79373wycjp789qfm0000gn/T/ipykernel_3633/3589305355.py\u001b[0m in \u001b[0;36m<module>\u001b[0;34m\u001b[0m\n\u001b[1;32m      9\u001b[0m             \u001b[0;32mbreak\u001b[0m\u001b[0;34m\u001b[0m\u001b[0;34m\u001b[0m\u001b[0m\n\u001b[1;32m     10\u001b[0m         \u001b[0;32melse\u001b[0m\u001b[0;34m:\u001b[0m\u001b[0;34m\u001b[0m\u001b[0;34m\u001b[0m\u001b[0m\n\u001b[0;32m---> 11\u001b[0;31m             \u001b[0mx\u001b[0m\u001b[0;34m.\u001b[0m\u001b[0mappend\u001b[0m\u001b[0;34m(\u001b[0m\u001b[0mtest\u001b[0m\u001b[0;34m[\u001b[0m\u001b[0mi\u001b[0m\u001b[0;34m]\u001b[0m\u001b[0;34m+\u001b[0m\u001b[0;34m\" \"\u001b[0m\u001b[0;34m+\u001b[0m\u001b[0mtest\u001b[0m\u001b[0;34m[\u001b[0m\u001b[0mi\u001b[0m\u001b[0;34m+\u001b[0m\u001b[0;36m1\u001b[0m\u001b[0;34m]\u001b[0m\u001b[0;34m+\u001b[0m\u001b[0;34m\" \"\u001b[0m\u001b[0;34m+\u001b[0m\u001b[0mtest\u001b[0m\u001b[0;34m[\u001b[0m\u001b[0mi\u001b[0m\u001b[0;34m+\u001b[0m\u001b[0;36m2\u001b[0m\u001b[0;34m]\u001b[0m\u001b[0;34m)\u001b[0m\u001b[0;34m\u001b[0m\u001b[0;34m\u001b[0m\u001b[0m\n\u001b[0m\u001b[1;32m     12\u001b[0m         \u001b[0mi\u001b[0m \u001b[0;34m+=\u001b[0m \u001b[0;36m3\u001b[0m\u001b[0;34m\u001b[0m\u001b[0;34m\u001b[0m\u001b[0m\n\u001b[1;32m     13\u001b[0m \u001b[0;32melse\u001b[0m\u001b[0;34m:\u001b[0m\u001b[0;34m\u001b[0m\u001b[0;34m\u001b[0m\u001b[0m\n",
      "\u001b[0;31mIndexError\u001b[0m: list index out of range"
     ]
    }
   ],
   "source": [
    "test=['Ibrainm','Hasan','Ali','Alyami','test1','test2','test3','test4','test5','test6']\n",
    "x=[]\n",
    "i=0\n",
    "if len(test) % 2==0:\n",
    "    while(i < len(test)):\n",
    "        #if len(x) < len(test):\n",
    "        if test[i]==test[-2]:\n",
    "            x.append(test[-2]+\" \"+test[-1])\n",
    "            break\n",
    "        else:\n",
    "            x.append(test[i]+\" \"+test[i+1]+\" \"+test[i+2])\n",
    "        i += 3\n",
    "else:\n",
    "    while(i < len(test)):\n",
    "        #if len(x) < len(test):\n",
    "        if test[i]==test[-1]:\n",
    "            x.append(test[i])\n",
    "            x[-1]=x[-2]+\" \"+x[-1]\n",
    "            x.remove(x[-2])\n",
    "            break\n",
    "        else:\n",
    "            x.append(test[i]+\" \"+test[i+1]+\" \"+test[i+2])\n",
    "        i += 3"
   ]
  },
  {
   "cell_type": "code",
   "execution_count": 290,
   "id": "d677e0ec",
   "metadata": {},
   "outputs": [
    {
     "data": {
      "text/plain": [
       "['Ibrainm Hasan Ali', 'Alyami test1 test2', 'test3 test4 test5']"
      ]
     },
     "execution_count": 290,
     "metadata": {},
     "output_type": "execute_result"
    }
   ],
   "source": [
    "x"
   ]
  },
  {
   "cell_type": "markdown",
   "id": "d6fd1f0a",
   "metadata": {},
   "source": [
    "# Divide actual Tokens of Target to 4 sentences per token"
   ]
  },
  {
   "cell_type": "code",
   "execution_count": 89,
   "id": "feadbfbe",
   "metadata": {},
   "outputs": [
    {
     "data": {
      "text/plain": [
       "['Ibrainm Hasan Ali', 'Alyami test1 test2', 'test3 test4 test5']"
      ]
     },
     "execution_count": 89,
     "metadata": {},
     "output_type": "execute_result"
    }
   ],
   "source": [
    "test=['Ibrainm','Hasan','Ali','Alyami','test1','test2','test3','test4','test5']\n",
    "x=[]\n",
    "i=0\n",
    "if len(test) % 2==0:\n",
    "    while(i < len(test)):\n",
    "        #if len(x) < len(test):\n",
    "        if test[i]==test[-2]:\n",
    "            x.append(test[-2]+\" \"+test[-1])\n",
    "            break\n",
    "        else:\n",
    "            x.append(test[i]+\" \"+test[i+1]+\" \"+test[i+2])\n",
    "        i += 3\n",
    "else:\n",
    "    while(i < len(test)):\n",
    "        #if len(x) < len(test):\n",
    "        if test[i]==test[-1]:\n",
    "            x.append(test[i])\n",
    "            x[-1]=x[-2]+\" \"+x[-1]\n",
    "            x.remove(x[-2])\n",
    "            break\n",
    "        else:\n",
    "            x.append(test[i]+\" \"+test[i+1]+\" \"+test[i+2])\n",
    "        i += 3\n",
    "x"
   ]
  },
  {
   "cell_type": "code",
   "execution_count": 78,
   "id": "bef2586f",
   "metadata": {},
   "outputs": [
    {
     "data": {
      "text/plain": [
       "101"
      ]
     },
     "execution_count": 78,
     "metadata": {},
     "output_type": "execute_result"
    }
   ],
   "source": []
  },
  {
   "cell_type": "code",
   "execution_count": 84,
   "id": "ce168527",
   "metadata": {},
   "outputs": [
    {
     "ename": "IndexError",
     "evalue": "list index out of range",
     "output_type": "error",
     "traceback": [
      "\u001b[0;31m---------------------------------------------------------------------------\u001b[0m",
      "\u001b[0;31mIndexError\u001b[0m                                Traceback (most recent call last)",
      "\u001b[0;32m/var/folders/82/58plxq9d79373wycjp789qfm0000gn/T/ipykernel_3633/1279484799.py\u001b[0m in \u001b[0;36m<module>\u001b[0;34m\u001b[0m\n\u001b[1;32m     21\u001b[0m             \u001b[0;32mbreak\u001b[0m\u001b[0;34m\u001b[0m\u001b[0;34m\u001b[0m\u001b[0m\n\u001b[1;32m     22\u001b[0m         \u001b[0;32melse\u001b[0m\u001b[0;34m:\u001b[0m\u001b[0;34m\u001b[0m\u001b[0;34m\u001b[0m\u001b[0m\n\u001b[0;32m---> 23\u001b[0;31m             \u001b[0mFinal_Target\u001b[0m\u001b[0;34m.\u001b[0m\u001b[0mappend\u001b[0m\u001b[0;34m(\u001b[0m\u001b[0mFinal_Target_Lemmatized\u001b[0m\u001b[0;34m[\u001b[0m\u001b[0mi\u001b[0m\u001b[0;34m]\u001b[0m\u001b[0;34m+\u001b[0m\u001b[0;34m\" \"\u001b[0m\u001b[0;34m+\u001b[0m\u001b[0mFinal_Target_Lemmatized\u001b[0m\u001b[0;34m[\u001b[0m\u001b[0mi\u001b[0m\u001b[0;34m+\u001b[0m\u001b[0;36m1\u001b[0m\u001b[0;34m]\u001b[0m\u001b[0;34m+\u001b[0m\u001b[0;34m\" \"\u001b[0m\u001b[0;34m+\u001b[0m\u001b[0mFinal_Target_Lemmatized\u001b[0m\u001b[0;34m[\u001b[0m\u001b[0mi\u001b[0m\u001b[0;34m+\u001b[0m\u001b[0;36m2\u001b[0m\u001b[0;34m]\u001b[0m\u001b[0;34m)\u001b[0m\u001b[0;34m\u001b[0m\u001b[0;34m\u001b[0m\u001b[0m\n\u001b[0m\u001b[1;32m     24\u001b[0m         \u001b[0mi\u001b[0m \u001b[0;34m+=\u001b[0m \u001b[0;36m3\u001b[0m\u001b[0;34m\u001b[0m\u001b[0;34m\u001b[0m\u001b[0m\n\u001b[1;32m     25\u001b[0m \u001b[0mx\u001b[0m\u001b[0;34m\u001b[0m\u001b[0;34m\u001b[0m\u001b[0m\n",
      "\u001b[0;31mIndexError\u001b[0m: list index out of range"
     ]
    }
   ],
   "source": [
    "Final_Target_Lemmatized\n",
    "Final_Target=[]\n",
    "\n",
    "i=0\n",
    "if len(Final_Target_Lemmatized) % 2==0:\n",
    "    while(i < len(Final_Target_Lemmatized)):\n",
    "        #if len(x) < len(test):\n",
    "        if Final_Target_Lemmatized[i]==Final_Target_Lemmatized[-2]:\n",
    "            Final_Target.append(Final_Target_Lemmatized[-2]+\" \"+Final_Target_Lemmatized[-1])\n",
    "            break\n",
    "        else:\n",
    "            Final_Target.append(Final_Target_Lemmatized[i]+\" \"+Final_Target_Lemmatized[i+1]+\" \"+Final_Target_Lemmatized[i+2])\n",
    "        i += 3\n",
    "else:\n",
    "    while(i < len(Final_Target_Lemmatized)):\n",
    "        #if len(x) < len(test):\n",
    "        if Final_Target_Lemmatized[i]==Final_Target_Lemmatized[-1]:\n",
    "            Final_Target.append(Final_Target_Lemmatized[i])\n",
    "            Final_Target[-1]=Final_Target[-2]+\" \"+Final_Target[-1]\n",
    "            Final_Target.remove(Final_Target[-2])\n",
    "            break\n",
    "        else:\n",
    "            Final_Target.append(Final_Target_Lemmatized[i]+\" \"+Final_Target_Lemmatized[i+1]+\" \"+Final_Target_Lemmatized[i+2])\n",
    "        i += 3\n",
    "x"
   ]
  },
  {
   "cell_type": "code",
   "execution_count": 80,
   "id": "e8b31aa8",
   "metadata": {
    "scrolled": true
   },
   "outputs": [
    {
     "ename": "IndexError",
     "evalue": "list index out of range",
     "output_type": "error",
     "traceback": [
      "\u001b[0;31m---------------------------------------------------------------------------\u001b[0m",
      "\u001b[0;31mIndexError\u001b[0m                                Traceback (most recent call last)",
      "\u001b[0;32m/var/folders/82/58plxq9d79373wycjp789qfm0000gn/T/ipykernel_3633/3411592833.py\u001b[0m in \u001b[0;36m<module>\u001b[0;34m\u001b[0m\n\u001b[1;32m     19\u001b[0m             \u001b[0;32mbreak\u001b[0m\u001b[0;34m\u001b[0m\u001b[0;34m\u001b[0m\u001b[0m\n\u001b[1;32m     20\u001b[0m         \u001b[0;32melse\u001b[0m\u001b[0;34m:\u001b[0m\u001b[0;34m\u001b[0m\u001b[0;34m\u001b[0m\u001b[0m\n\u001b[0;32m---> 21\u001b[0;31m             \u001b[0mFinal_Target\u001b[0m\u001b[0;34m.\u001b[0m\u001b[0mappend\u001b[0m\u001b[0;34m(\u001b[0m\u001b[0mFinal_Target_Lemmatized\u001b[0m\u001b[0;34m[\u001b[0m\u001b[0mi\u001b[0m\u001b[0;34m]\u001b[0m\u001b[0;34m+\u001b[0m\u001b[0;34m\" \"\u001b[0m\u001b[0;34m+\u001b[0m\u001b[0mFinal_Target_Lemmatized\u001b[0m\u001b[0;34m[\u001b[0m\u001b[0mi\u001b[0m\u001b[0;34m+\u001b[0m\u001b[0;36m1\u001b[0m\u001b[0;34m]\u001b[0m\u001b[0;34m+\u001b[0m\u001b[0;34m\" \"\u001b[0m\u001b[0;34m+\u001b[0m\u001b[0mFinal_Target_Lemmatized\u001b[0m\u001b[0;34m[\u001b[0m\u001b[0mi\u001b[0m\u001b[0;34m+\u001b[0m\u001b[0;36m2\u001b[0m\u001b[0;34m]\u001b[0m\u001b[0;34m)\u001b[0m\u001b[0;34m\u001b[0m\u001b[0;34m\u001b[0m\u001b[0m\n\u001b[0m\u001b[1;32m     22\u001b[0m         \u001b[0mi\u001b[0m \u001b[0;34m+=\u001b[0m \u001b[0;36m3\u001b[0m\u001b[0;34m\u001b[0m\u001b[0;34m\u001b[0m\u001b[0m\n",
      "\u001b[0;31mIndexError\u001b[0m: list index out of range"
     ]
    }
   ],
   "source": [
    "Final_Target=[]\n",
    "i=0\n",
    "if len(Final_Target_Lemmatized) % 2==0:\n",
    "    while(i < len(Final_Target_Lemmatized)):\n",
    "        #if len(x) < len(test):\n",
    "        if Final_Target_Lemmatized[i]==Final_Target_Lemmatized[-2]:\n",
    "            Final_Target.append(Final_Target_Lemmatized[-2]+\" \"+Final_Target_Lemmatized[-1])\n",
    "            break\n",
    "        else:\n",
    "            Final_Target.append(Final_Target_Lemmatized[i]+\" \"+Final_Target_Lemmatized[i+1]+\" \"+Final_Target_Lemmatized[i+2])\n",
    "        i += 3\n",
    "else:\n",
    "    while(i < len(Final_Target_Lemmatized)):\n",
    "        #if len(x) < len(test):\n",
    "        if Final_Target_Lemmatized[i]==Final_Target_Lemmatized[-1]:\n",
    "            Final_Target.append(Final_Target_Lemmatized[i])\n",
    "            Final_Target[-1]=Final_Target[-2]+\" \"+Final_Target[-1]\n",
    "            Final_Target.remove(Final_Target[-2])\n",
    "            break\n",
    "        else:\n",
    "            Final_Target.append(Final_Target_Lemmatized[i]+\" \"+Final_Target_Lemmatized[i+1]+\" \"+Final_Target_Lemmatized[i+2])\n",
    "        i += 3"
   ]
  },
  {
   "cell_type": "code",
   "execution_count": 66,
   "id": "ace6edc7",
   "metadata": {},
   "outputs": [
    {
     "data": {
      "text/plain": [
       "101"
      ]
     },
     "execution_count": 66,
     "metadata": {},
     "output_type": "execute_result"
    }
   ],
   "source": [
    "len(Final_Target_Lemmatized)"
   ]
  },
  {
   "cell_type": "code",
   "execution_count": null,
   "id": "b061b44c",
   "metadata": {},
   "outputs": [],
   "source": [
    "Final_Target[5]"
   ]
  },
  {
   "cell_type": "code",
   "execution_count": 31,
   "id": "27dd38aa",
   "metadata": {},
   "outputs": [
    {
     "ename": "NameError",
     "evalue": "name 'Final_Query' is not defined",
     "output_type": "error",
     "traceback": [
      "\u001b[0;31m---------------------------------------------------------------------------\u001b[0m",
      "\u001b[0;31mNameError\u001b[0m                                 Traceback (most recent call last)",
      "\u001b[0;32m/var/folders/82/58plxq9d79373wycjp789qfm0000gn/T/ipykernel_3434/2789741087.py\u001b[0m in \u001b[0;36m<module>\u001b[0;34m\u001b[0m\n\u001b[1;32m      4\u001b[0m \u001b[0mR\u001b[0m \u001b[0;34m=\u001b[0m \u001b[0;34m{\u001b[0m\u001b[0;34m}\u001b[0m \u001b[0;31m# Dicitonary to Save query, target sentence, precent identity and the actual aligmnet\u001b[0m\u001b[0;34m\u001b[0m\u001b[0;34m\u001b[0m\u001b[0m\n\u001b[1;32m      5\u001b[0m \u001b[0mIR\u001b[0m\u001b[0;34m=\u001b[0m\u001b[0;36m0\u001b[0m \u001b[0;31m#IndexRange\u001b[0m\u001b[0;34m\u001b[0m\u001b[0;34m\u001b[0m\u001b[0m\n\u001b[0;32m----> 6\u001b[0;31m \u001b[0mquery\u001b[0m\u001b[0;34m=\u001b[0m\u001b[0mFinal_Query\u001b[0m\u001b[0;34m[\u001b[0m\u001b[0mIR\u001b[0m\u001b[0;34m]\u001b[0m\u001b[0;34m.\u001b[0m\u001b[0msplit\u001b[0m\u001b[0;34m(\u001b[0m\u001b[0;34m)\u001b[0m\u001b[0;34m\u001b[0m\u001b[0;34m\u001b[0m\u001b[0m\n\u001b[0m\u001b[1;32m      7\u001b[0m \u001b[0;32mif\u001b[0m \u001b[0mIR\u001b[0m\u001b[0;34m==\u001b[0m\u001b[0;36m0\u001b[0m\u001b[0;34m:\u001b[0m\u001b[0;34m\u001b[0m\u001b[0;34m\u001b[0m\u001b[0m\n\u001b[1;32m      8\u001b[0m     \u001b[0;32mfor\u001b[0m \u001b[0mi\u001b[0m \u001b[0;32min\u001b[0m \u001b[0mFinal_Target\u001b[0m\u001b[0;34m[\u001b[0m\u001b[0mIR\u001b[0m\u001b[0;34m:\u001b[0m\u001b[0mIR\u001b[0m\u001b[0;34m+\u001b[0m\u001b[0;36m1\u001b[0m\u001b[0;34m]\u001b[0m\u001b[0;34m:\u001b[0m\u001b[0;34m\u001b[0m\u001b[0;34m\u001b[0m\u001b[0m\n",
      "\u001b[0;31mNameError\u001b[0m: name 'Final_Query' is not defined"
     ]
    }
   ],
   "source": [
    "from minineedle import needle, core\n",
    "\n",
    "\n",
    "R = {} # Dicitonary to Save query, target sentence, precent identity and the actual aligmnet\n",
    "IR=0 #IndexRange\n",
    "query=Final_Query[IR].split()\n",
    "if IR==0:\n",
    "    for i in Final_Target[IR:IR+1]:\n",
    "    #print(\"t--------------\",i)\n",
    "        alignment = needle.NeedlemanWunsch(query, i.split())\n",
    "        x = alignment.get_identity()\n",
    "        y = alignment \n",
    "        R[i]=[x , query, i, y]\n",
    "    max_value = max(R.values())\n",
    "    print('Query: ',Final_Query[IR],'\\n')\n",
    "    print('Target Sentence: \\n',max_value[2],'\\n')\n",
    "    print('Perecent Identity using NW:',max_value[0])\n",
    "#print('\\n',max_value[3]) \n",
    "else:\n",
    "    for i in Final_Target[IR-1:IR+1]:\n",
    "    #print(\"t--------------\",i)\n",
    "        alignment = needle.NeedlemanWunsch(query, i.split())\n",
    "        x = alignment.get_identity()\n",
    "        y = alignment \n",
    "        R[i]=[x , query, i, y]\n",
    "    max_value = max(R.values())\n",
    "    print('Query: ',Final_Query[IR],'\\n')\n",
    "    print('Target Sentence: \\n',max_value[2],'\\n')\n",
    "    print('Perecent Identity using NW:',max_value[0])\n",
    "#print('\\n',max_value[3]) "
   ]
  },
  {
   "cell_type": "markdown",
   "id": "96f212cb",
   "metadata": {},
   "source": [
    "# Sentence by sentece"
   ]
  },
  {
   "cell_type": "code",
   "execution_count": 472,
   "id": "117d08a8",
   "metadata": {},
   "outputs": [
    {
     "name": "stdout",
     "output_type": "stream",
     "text": [
      "Query:  quoth i to the herdsman daughter is this true that thou sayest of this calf quoth she yea o my master he is thy son the very core of thy heart \n",
      "\n",
      "Target Sentence: \n",
      " when i got to his house his daughter welcomed me kissing my hand while the calf came and rolled on the ground in front of me \n",
      "\n",
      "Perecent Identity using NW: 17.65\n"
     ]
    }
   ],
   "source": [
    "from minineedle import needle, core\n",
    "\n",
    "\n",
    "R = {} # Dicitonary to Save query, target sentence, precent identity and the actual aligmnet\n",
    "IR=11 #IndexRange\n",
    "query=Final_Query_Lemmatized[IR].split()\n",
    "if IR==0:\n",
    "    for i in Final_Target_Lemmatized[IR:IR+3]:\n",
    "    #print(\"t--------------\",i)\n",
    "        alignment = needle.NeedlemanWunsch(query, i.split())\n",
    "        x = alignment.get_identity()\n",
    "        y = alignment \n",
    "        R[i]=[x , query, i, y]\n",
    "    max_value = max(R.values())\n",
    "    print('Query: ',Final_Query_Lemmatized[IR],'\\n')\n",
    "    print('Target Sentence: \\n',max_value[2],'\\n')\n",
    "    print('Perecent Identity using NW:',max_value[0])\n",
    "#print('\\n',max_value[3]) \n",
    "else:\n",
    "    for i in Final_Target_Lemmatized[IR-1:IR+2]:\n",
    "    #print(\"t--------------\",i)\n",
    "        alignment = needle.NeedlemanWunsch(query, i.split())\n",
    "        x = alignment.get_identity()\n",
    "        y = alignment \n",
    "        R[i]=[x , query, i, y]\n",
    "    max_value = max(R.values())\n",
    "    print('Query: ',Final_Query_Lemmatized[IR],'\\n')\n",
    "    print('Target Sentence: \\n',max_value[2],'\\n')\n",
    "    print('Perecent Identity using NW:',max_value[0])\n",
    "#print('\\n',max_value[3]) "
   ]
  },
  {
   "cell_type": "code",
   "execution_count": 462,
   "id": "4ae0c7ef",
   "metadata": {},
   "outputs": [
    {
     "data": {
      "text/plain": [
       "'the next day a i wa sitting there he came back to me and said i have something to tell you that will please you and you owe me a reward for my good news'"
      ]
     },
     "execution_count": 462,
     "metadata": {},
     "output_type": "execute_result"
    }
   ],
   "source": [
    "Final_Target_Lemmatized[]"
   ]
  },
  {
   "cell_type": "code",
   "execution_count": null,
   "id": "243705c3",
   "metadata": {},
   "outputs": [],
   "source": []
  },
  {
   "cell_type": "code",
   "execution_count": null,
   "id": "fe278cfc",
   "metadata": {},
   "outputs": [],
   "source": []
  },
  {
   "cell_type": "code",
   "execution_count": null,
   "id": "549b1675",
   "metadata": {},
   "outputs": [],
   "source": []
  },
  {
   "cell_type": "code",
   "execution_count": null,
   "id": "ea85c245",
   "metadata": {},
   "outputs": [],
   "source": []
  },
  {
   "cell_type": "code",
   "execution_count": 261,
   "id": "0223a55d",
   "metadata": {},
   "outputs": [
    {
     "data": {
      "text/plain": [
       "['the ifrit wa listening with astonishment to what the old man with the gazelle wa saying and the man went on lord of the king of the jinni while all this wa going on my wife now this gazelle wa looking on and telling me to kill the calf because it wa fat but i could not bring myself to do this and so i told the herdsman to take it away which he did the next day a i wa sitting there he came back to me and said i have something to tell you that will please you and you owe me a reward for my good news',\n",
       " 'i agreed to this and he went on master i have a daughter who a a young girl wa taught magic by an old woman we had staying with u yesterday when you gave me the calf i went to the girl and when she saw it she covered her face shed tear but then burst into laughter']"
      ]
     },
     "execution_count": 261,
     "metadata": {},
     "output_type": "execute_result"
    }
   ],
   "source": [
    "Final_Target[1:limit]"
   ]
  },
  {
   "cell_type": "code",
   "execution_count": null,
   "id": "51cbc330",
   "metadata": {},
   "outputs": [],
   "source": []
  },
  {
   "cell_type": "code",
   "execution_count": 85,
   "id": "5baef3b3",
   "metadata": {},
   "outputs": [
    {
     "ename": "IndexError",
     "evalue": "list index out of range",
     "output_type": "error",
     "traceback": [
      "\u001b[0;31m---------------------------------------------------------------------------\u001b[0m",
      "\u001b[0;31mIndexError\u001b[0m                                Traceback (most recent call last)",
      "\u001b[0;32m/var/folders/82/58plxq9d79373wycjp789qfm0000gn/T/ipykernel_3633/1016464378.py\u001b[0m in \u001b[0;36m<module>\u001b[0;34m\u001b[0m\n\u001b[1;32m     15\u001b[0m     \u001b[0;32mwhile\u001b[0m\u001b[0;34m(\u001b[0m\u001b[0mi\u001b[0m \u001b[0;34m<=\u001b[0m \u001b[0mlen\u001b[0m\u001b[0;34m(\u001b[0m\u001b[0mtest\u001b[0m\u001b[0;34m)\u001b[0m\u001b[0;34m)\u001b[0m\u001b[0;34m:\u001b[0m\u001b[0;34m\u001b[0m\u001b[0;34m\u001b[0m\u001b[0m\n\u001b[1;32m     16\u001b[0m         \u001b[0;31m#if len(x) < len(test):\u001b[0m\u001b[0;34m\u001b[0m\u001b[0;34m\u001b[0m\u001b[0m\n\u001b[0;32m---> 17\u001b[0;31m         \u001b[0;32mif\u001b[0m \u001b[0mtest\u001b[0m\u001b[0;34m[\u001b[0m\u001b[0mi\u001b[0m\u001b[0;34m]\u001b[0m\u001b[0;34m==\u001b[0m\u001b[0mtest\u001b[0m\u001b[0;34m[\u001b[0m\u001b[0;34m-\u001b[0m\u001b[0;36m1\u001b[0m\u001b[0;34m]\u001b[0m\u001b[0;34m:\u001b[0m\u001b[0;34m\u001b[0m\u001b[0;34m\u001b[0m\u001b[0m\n\u001b[0m\u001b[1;32m     18\u001b[0m             \u001b[0mx\u001b[0m\u001b[0;34m.\u001b[0m\u001b[0mappend\u001b[0m\u001b[0;34m(\u001b[0m\u001b[0mtest\u001b[0m\u001b[0;34m[\u001b[0m\u001b[0mi\u001b[0m\u001b[0;34m]\u001b[0m\u001b[0;34m)\u001b[0m\u001b[0;34m\u001b[0m\u001b[0;34m\u001b[0m\u001b[0m\n\u001b[1;32m     19\u001b[0m             \u001b[0mx\u001b[0m\u001b[0;34m[\u001b[0m\u001b[0;34m-\u001b[0m\u001b[0;36m1\u001b[0m\u001b[0;34m]\u001b[0m\u001b[0;34m=\u001b[0m\u001b[0mx\u001b[0m\u001b[0;34m[\u001b[0m\u001b[0;34m-\u001b[0m\u001b[0;36m2\u001b[0m\u001b[0;34m]\u001b[0m\u001b[0;34m+\u001b[0m\u001b[0;34m\" \"\u001b[0m\u001b[0;34m+\u001b[0m\u001b[0mx\u001b[0m\u001b[0;34m[\u001b[0m\u001b[0;34m-\u001b[0m\u001b[0;36m1\u001b[0m\u001b[0;34m]\u001b[0m\u001b[0;34m\u001b[0m\u001b[0;34m\u001b[0m\u001b[0m\n",
      "\u001b[0;31mIndexError\u001b[0m: list index out of range"
     ]
    }
   ],
   "source": [
    "test=['Ibrainm','Hasan','Ali']\n",
    "x=[]\n",
    "i=0\n",
    "if len(test) % 2==0:\n",
    "    while(i < len(test)):\n",
    "        if test[i]==test[-1]:\n",
    "            x.append(test[i])\n",
    "            x[-1]=x[-2]+\" \"+x[-1]\n",
    "            x.remove(x[-2])\n",
    "            break\n",
    "        else:\n",
    "            x.append(test[i]+\" \"+test[i+1]+\" \"+test[i+2])\n",
    "        i += 3\n",
    "else:\n",
    "    while(i <= len(test)):\n",
    "        #if len(x) < len(test):\n",
    "        if test[i]==test[-1]:\n",
    "            x.append(test[i])\n",
    "            x[-1]=x[-2]+\" \"+x[-1]\n",
    "            x.remove(x[-2])\n",
    "            break\n",
    "        else:\n",
    "            x.append(test[i]+\" \"+test[i+1]+\" \"+test[i+2])\n",
    "        i += 3"
   ]
  },
  {
   "cell_type": "code",
   "execution_count": 233,
   "id": "1c903cc3",
   "metadata": {},
   "outputs": [
    {
     "data": {
      "text/plain": [
       "['Ibrainm Hasan Ali Alyami', 'test1 test2 test3 test4 test5']"
      ]
     },
     "execution_count": 233,
     "metadata": {},
     "output_type": "execute_result"
    }
   ],
   "source": [
    "x"
   ]
  },
  {
   "cell_type": "code",
   "execution_count": 55,
   "id": "46e22606",
   "metadata": {},
   "outputs": [
    {
     "data": {
      "text/plain": [
       "['This is me.']"
      ]
     },
     "execution_count": 55,
     "metadata": {},
     "output_type": "execute_result"
    }
   ],
   "source": [
    "nltk.sent_tokenize(test[0])"
   ]
  },
  {
   "cell_type": "markdown",
   "id": "45b702c7",
   "metadata": {},
   "source": [
    "# 2 senteces in one token and recheck"
   ]
  },
  {
   "cell_type": "code",
   "execution_count": 531,
   "id": "d93d2ff3",
   "metadata": {},
   "outputs": [],
   "source": [
    "Final_Query_Lemmatized\n",
    "Final_Query=[]\n",
    "i=0\n",
    "if len(Final_Query_Lemmatized) % 2==0:\n",
    "    while(i < len(Final_Query_Lemmatized)):\n",
    "        #if len(x) < len(test):\n",
    "        if Final_Query_Lemmatized[i]==Final_Query_Lemmatized[-2]:\n",
    "            Final_Query.append(Final_Query_Lemmatized[-2]+\" \"+Final_Query_Lemmatized[-1])\n",
    "            break\n",
    "        else:\n",
    "            Final_Query.append(Final_Query_Lemmatized[i]+\" \"+Final_Query_Lemmatized[i+1])\n",
    "        i += 2\n",
    "else:\n",
    "    while(i < len(Final_Query_Lemmatized)):\n",
    "        #if len(x) < len(test):\n",
    "        if Final_Query_Lemmatized[i]==Final_Query_Lemmatized[-1]:\n",
    "            Final_Query.append(Final_Query_Lemmatized[i])\n",
    "            Final_Query[-1]=Final_Query[-2]+\" \"+Final_Query[-1]\n",
    "            Final_Query.remove(Final_Query[-2])\n",
    "            break\n",
    "        else:\n",
    "            Final_Query.append(Final_Query_Lemmatized[i]+\" \"+Final_Query_Lemmatized[i+1])\n",
    "        i += 2"
   ]
  },
  {
   "cell_type": "code",
   "execution_count": 544,
   "id": "810068a4",
   "metadata": {},
   "outputs": [
    {
     "data": {
      "text/plain": [
       "'when it wa the second night said dunyazad to her sister shahrazad o my sister finish for u that story of the merchant and the jinni and she answered with joy and goodly gree if the king permit me then quoth the king tell thy tale and shahrazad began in these word it hath reached me o auspicious king and heaven directed ruler that when the merchant purposed the sacrifice of the calf but saw it weeping his heart relented and he said to the herdsman keep the calf among my cattle'"
      ]
     },
     "execution_count": 544,
     "metadata": {},
     "output_type": "execute_result"
    }
   ],
   "source": [
    "Final_Query[0]"
   ]
  },
  {
   "cell_type": "code",
   "execution_count": 534,
   "id": "b96effc4",
   "metadata": {},
   "outputs": [
    {
     "data": {
      "text/plain": [
       "21"
      ]
     },
     "execution_count": 534,
     "metadata": {},
     "output_type": "execute_result"
    }
   ],
   "source": [
    "len(Final_Query_Lemmatized)"
   ]
  },
  {
   "cell_type": "code",
   "execution_count": 535,
   "id": "fd881daf",
   "metadata": {},
   "outputs": [],
   "source": [
    "Final_Target_Lemmatized\n",
    "Final_Target=[]\n",
    "\n",
    "i=0\n",
    "if len(Final_Target_Lemmatized) % 2==0:\n",
    "    while(i < len(Final_Target_Lemmatized)):\n",
    "        #if len(x) < len(test):\n",
    "        if Final_Target_Lemmatized[i]==Final_Target_Lemmatized[-2]:\n",
    "            Final_Target.append(Final_Target_Lemmatized[-2]+\" \"+Final_Target_Lemmatized[-1])\n",
    "            break\n",
    "        else:\n",
    "            Final_Query.append(Final_Target_Lemmatized[i]+\" \"+Final_Target_Lemmatized[i+1])\n",
    "        i += 2\n",
    "else:\n",
    "    while(i < len(Final_Target_Lemmatized)):\n",
    "        #if len(x) < len(test):\n",
    "        if Final_Target_Lemmatized[i]==Final_Target_Lemmatized[-1]:\n",
    "            Final_Target.append(Final_Target_Lemmatized[i])\n",
    "            Final_Target[-1]=Final_Target[-2]+\" \"+Final_Target[-1]\n",
    "            Final_Target.remove(Final_Target[-2])\n",
    "            break\n",
    "        else:\n",
    "            Final_Target.append(Final_Target_Lemmatized[i]+\" \"+Final_Target_Lemmatized[i+1])\n",
    "        i += 2\n"
   ]
  },
  {
   "cell_type": "code",
   "execution_count": 538,
   "id": "ae1247ad",
   "metadata": {},
   "outputs": [
    {
     "data": {
      "text/plain": [
       "50"
      ]
     },
     "execution_count": 538,
     "metadata": {},
     "output_type": "execute_result"
    }
   ],
   "source": [
    "len(Final_Target)"
   ]
  },
  {
   "cell_type": "code",
   "execution_count": 541,
   "id": "52c2d7ee",
   "metadata": {},
   "outputs": [
    {
     "data": {
      "text/plain": [
       "'what a good pleasant delightful and sweet story this is exclaimed dunyazad at which shahrazad told her how can this compare with what i shall tell you this coming night if i am still alive and the king spare me by god the king said to himself i am not going to kill her until i hear the rest of this remarkable story and so they spent the rest of the time embracing one another until the sun had fully risen the king then went to his court the troop arrived together with the vizier and when everyone wa there he gave his judgement appointing some official dismissing others and issuing order and prohibition until evening the court wa then dismissed and the king returned to his palace where when night came he lay again with shahrazad'"
      ]
     },
     "execution_count": 541,
     "metadata": {},
     "output_type": "execute_result"
    }
   ],
   "source": [
    "Final_Target[]"
   ]
  },
  {
   "cell_type": "code",
   "execution_count": 589,
   "id": "7958bdf4",
   "metadata": {},
   "outputs": [
    {
     "name": "stdout",
     "output_type": "stream",
     "text": [
      "Query:  then i fell on his neck and said allah upon thee tell me all that the daughter of my uncle did by thee and by thy mother and when he told me what had come to pas between them i said o my son allah favoured thee with one to restore thee and thy right hath returned to thee \n",
      "\n",
      "Target Sentence: \n",
      " i wa astonished by this and a soon a i found that it wa morning i came to tell you when i heard what the man had to say i went out with him drunk although not on wine with the joy and delight that i wa feeling \n",
      "\n",
      "Perecent Identity using NW: 14.75\n"
     ]
    }
   ],
   "source": [
    "from minineedle import needle, core\n",
    "\n",
    "\n",
    "R = {} # Dicitonary to Save query, target sentence, precent identity and the actual aligmnet\n",
    "IR=8 #IndexRange\n",
    "query=Final_Query[IR].split()\n",
    "if IR==0:\n",
    "    for i in Final_Target[IR:IR+2]:\n",
    "    #print(\"t--------------\",i)\n",
    "        alignment = needle.NeedlemanWunsch(query, i.split())\n",
    "        x = alignment.get_identity()\n",
    "        y = alignment \n",
    "        R[i]=[x , query, i, y]\n",
    "    max_value = max(R.values())\n",
    "    print('Query: ',Final_Query[IR],'\\n')\n",
    "    print('Target Sentence: \\n',max_value[2],'\\n')\n",
    "    print('Perecent Identity using NW:',max_value[0])\n",
    "#print('\\n',max_value[3]) \n",
    "else:\n",
    "    for i in Final_Target[IR-5:IR+5]:\n",
    "    #print(\"t--------------\",i)\n",
    "        alignment = needle.NeedlemanWunsch(query, i.split())\n",
    "        x = alignment.get_identity()\n",
    "        y = alignment \n",
    "        R[i]=[x , query, i, y]\n",
    "    max_value = max(R.values())\n",
    "    print('Query: ',Final_Query[IR],'\\n')\n",
    "    print('Target Sentence: \\n',max_value[2],'\\n')\n",
    "    print('Perecent Identity using NW:',max_value[0])\n",
    "#print('\\n',max_value[3]) "
   ]
  },
  {
   "cell_type": "code",
   "execution_count": 599,
   "id": "8ae23b06",
   "metadata": {},
   "outputs": [
    {
     "data": {
      "text/plain": [
       "'then i fell on his neck and said allah upon thee tell me all that the daughter of my uncle did by thee and by thy mother and when he told me what had come to pas between them i said o my son allah favoured thee with one to restore thee and thy right hath returned to thee'"
      ]
     },
     "execution_count": 599,
     "metadata": {},
     "output_type": "execute_result"
    }
   ],
   "source": [
    "Final_Query[8]"
   ]
  },
  {
   "cell_type": "code",
   "execution_count": 600,
   "id": "be1103cc",
   "metadata": {},
   "outputs": [
    {
     "data": {
      "text/plain": [
       "'at that she took a bowl filled it with water and recited a spell over it after which she sprinkled the water over the calf saying if you are a calf and this is how almighty god created you stay in this shape and dont change but if you are under a spell then return to your original shape with the permission of almighty god the calf shuddered and became a man at which i fell on him and said for god sake tell me what my wife did to you and your mother'"
      ]
     },
     "execution_count": 600,
     "metadata": {},
     "output_type": "execute_result"
    }
   ],
   "source": [
    "Final_Target[8]"
   ]
  },
  {
   "cell_type": "code",
   "execution_count": null,
   "id": "628c9df2",
   "metadata": {},
   "outputs": [],
   "source": [
    "alignment = needle.NeedlemanWunsch(query, i.split())\n",
    "x = alignment.get_identity()\n",
    "y = alignment "
   ]
  },
  {
   "cell_type": "markdown",
   "id": "2a3a827a",
   "metadata": {},
   "source": [
    "# LSH"
   ]
  },
  {
   "cell_type": "code",
   "execution_count": 1773,
   "id": "09f11d26",
   "metadata": {},
   "outputs": [
    {
     "name": "stdout",
     "output_type": "stream",
     "text": [
      "0      when it wa the second night dunyazad said to s...\n",
      "1      with pleasure replied shahrazad if the king gi...\n",
      "2      the ifrit wa listening with astonishment to wh...\n",
      "3      the next day a i wa sitting there he came back...\n",
      "4      i agreed to this and he went on master i have ...\n",
      "                             ...                        \n",
      "96     when the old man had finished his tale the ifr...\n",
      "97     morning now dawned and shahrazad broke off fro...\n",
      "98     what a good pleasant delightful and sweet stor...\n",
      "99     the king then went to his court the troop arri...\n",
      "100    the court wa then dismissed and the king retur...\n",
      "Name: 0, Length: 101, dtype: object\n"
     ]
    }
   ],
   "source": [
    "db = pd.DataFrame(Final_Target_Lemmatized)#We have 67 Sentences\n",
    "db=db[0]\n",
    "print(db)\n",
    "forest = get_forest(db, permutations)"
   ]
  },
  {
   "cell_type": "code",
   "execution_count": 1875,
   "id": "9949f645",
   "metadata": {},
   "outputs": [
    {
     "name": "stdout",
     "output_type": "stream",
     "text": [
      "query:   when she deceased my son fared forth to the city of hind even to the city of this man who hath done to thee what hath been donefn51 and i also took this gazelle my cousin and wandered with her from town to town seeking tidings of my\n"
     ]
    }
   ],
   "source": [
    "num_recommendations = 100\n",
    "query = Final_Query_Lemmatized[20]\n",
    "print('query:  ', query)\n",
    "result = predict(query, db, permutations, num_recommendations, forest)\n",
    "#print('\\n Top similar sentences \\n', result)"
   ]
  },
  {
   "cell_type": "code",
   "execution_count": 1872,
   "id": "871d9fcc",
   "metadata": {},
   "outputs": [],
   "source": [
    "#Create a list of candiates to be taken to the next layer which is Cosine Simialrity\n",
    "candidates=[]\n",
    "candidates=result.values\n",
    "#print(candidates)"
   ]
  },
  {
   "cell_type": "code",
   "execution_count": 1873,
   "id": "efd9da12",
   "metadata": {},
   "outputs": [
    {
     "data": {
      "text/plain": [
       "53"
      ]
     },
     "execution_count": 1873,
     "metadata": {},
     "output_type": "execute_result"
    }
   ],
   "source": [
    "len(candidates)"
   ]
  },
  {
   "cell_type": "code",
   "execution_count": 1882,
   "id": "acf0dd91",
   "metadata": {},
   "outputs": [
    {
     "name": "stdout",
     "output_type": "stream",
     "text": [
      "Sentence: when she deceased my son fared forth to the city of hind even to the city of this man who hath done to thee what hath been donefn51 and i also took this gazelle my cousin and wandered with her from town to town seeking tidings of my \n",
      "\n",
      "Top 5 most similar sentences in corpus:\n"
     ]
    }
   ],
   "source": [
    "from sentence_transformers import SentenceTransformer, util\n",
    "import numpy as np\n",
    "\n",
    "model = SentenceTransformer('stsb-roberta-large')\n",
    "query = Final_Query_Lemmatized[0]\n",
    "# encode corpus to get corpus embeddings\n",
    "candidates_embeddings = model.encode(Final_Target_Lemmatized, convert_to_tensor=True)\n",
    "# encode sentence to get sentence embeddings\n",
    "sentence_embedding = model.encode(query, convert_to_tensor=True)\n",
    "# top_k results to return\n",
    "top_k=5\n",
    "# compute similarity scores of the sentence with the corpus\n",
    "cos_scores = util.pytorch_cos_sim(sentence_embedding, candidates_embeddings)[0]\n",
    "# Sort the results in decreasing order and get the first top_k\n",
    "top_results = np.argpartition(-cos_scores, range(top_k))[0:top_k]\n",
    "print(\"Sentence:\", query, \"\\n\")\n",
    "print(\"Top\", top_k, \"most similar sentences in corpus:\")\n",
    "NW2_Candidates=[]\n",
    "for idx in range(len(top_results)):\n",
    "    #print(corpus[idx], \"(Score: %.4f)\" % (cos_scores[idx]))\n",
    "    NW2_Candidates.append(corpus[idx])"
   ]
  },
  {
   "cell_type": "code",
   "execution_count": 1883,
   "id": "c36a628b",
   "metadata": {},
   "outputs": [],
   "source": [
    "NW3=[]\n",
    "for i in NW2_Candidates:\n",
    "    NW3.append(\" \".join(i))"
   ]
  },
  {
   "cell_type": "code",
   "execution_count": 1885,
   "id": "73578af1",
   "metadata": {},
   "outputs": [
    {
     "data": {
      "text/plain": [
       "['when it was the fifth night dunyazad asked her sister to finish the story if she was not too sleepy and shahrazad said i have heard o fortunate king that king yunan accused his vizier of being jealous of duban and wanting to have him killed then after that i would regret it yunan added as king sindbad regretted killing his falcon excuse me your majesty said the vizier but how was that yunan went on you must know that there was a persian king with a passion for enjoyment and amusement who had a fondness for hunting he had reared a falcon which was his constant companion by night and by day and which would spend the night perched on his wrist he would take it hunting with him and he had a golden bowl made for it which he hung round its neck and from which it could drink one day the chief falconer came to where he was sitting and told him that it was time to go out hunting the king gave the orders and went off with the falcon on his wrist until he and his party reached a wadi where they spread out their hunting cordon trapped in this was a gazelle and the king threatened that anyone who allowed it to leap over his head would be put to death when the cordon was narrowed the gazelle came to where the king was posted supported itself on its hindlegs and placed its forelegs on its chest as though it was kissing the ground before him he bent his head towards it and it then jumped over him making for the open country he noticed that his men were looking at him and winking at each other and when he asked his vizier what this meant the man explained they are pointing out that you said that if anyone let the gazelle jump over his head he would be killed the king then swore that he would hunt it down and he rode off in pursuit following the gazelle until he came to a mountain there it was about to pass through a cleft when the king loosed his falcon at it and the bird clawed at its eyes blinding and dazing it so that the king could draw his mace and knock it over with a single blow he then dismounted and cut its throat after which he skinned it and tied it to his saddlebow as this was in the noonday heat and the region was desolate and waterless both the king and his horse were thirsty by now the king scouted round and discovered a tree from which what looked like liquid butter was dripping wearing a pair of kid gloves he took the bowl from the falcon s neck filled it with this liquid and set it in front of the bird but it knocked the bowl and overturned it the king took it and filled it again thinking that the falcon must be thirsty but the same thing happened when he put it down a second time this annoyed him and he went a third time to fill the bowl and take it to his horse but this time the falcon upset it with its wing the king cursed it exclaiming you unluckiest of birds you have stopped me drinking and have stopped yourself and the horse he then struck off its wing with a blow from his sword but the bird raised its head as though to say by its gesture look at the top of the tree the king raised his eyes and what he saw there was a brood of vipers whose poison was dripping down immediately regretting what he had done he mounted his horse and rode back to his pavilion bringing with him the gazelle which he handed to the cook telling him to take it and roast it as he sat on his chair with the falcon on his wrist it drew its last breath and died leaving its master to exclaim with sorrow for having killed it when it had saved his life so ends the story of king sindbad great king the vizier said sindbad acted out of necessity and i can see nothing wrong in that i myself am acting out of sympathy for you so that you may realize that i am right for otherwise you may meet the same fate as the vizier who schemed against the prince how was that the king asked and the vizier said you must know your majesty that there was a vizier in the service of a certain king with a son who was passionately fond of hunting this vizier had been ordered to accompany the prince wherever he went and so when he went off to hunt one day the vizier rode with him while they were riding they caught sight of a huge beast and the vizier encouraged the prince to pursue it the prince rode after it until he was out of sight and the beast then vanished into the desert leaving the prince with no idea of where to go just then ahead of him he saw a weeping girl and when he asked her who she was she told him i am the daughter of one of the kings of india and while i was in this desert i became drowsy then before i knew what was happening i had fallen off my beast and was left alone not knowing what to do when the prince heard this he felt sorry for the girl and took her up behind him on the back of his horse on his way he passed a ruined building and the girl said she wanted to relieve herself he set her down but she was taking so long that he followed her only to discover that although he had not realized it she was a female ghul and was telling her children i have brought you a fat young man today fetch him to us mother they said so that we can swallow him down on hearing this the prince shuddered fearing for his life and certain that he was going to die he went back and the ghula came out and seeing him panic stricken and shivering she asked why he was afraid i have an enemy whom i fear he told her you call yourself a prince she asked and when he said yes she went on why don t you buy him off with money he won t accept money but wants my life he told her adding i am afraid of him and i have been wronged in that case if what you say is true then ask help from god she said for he will protect you against your enemy s evil and the evil that you fear from him at that the prince lifted his head towards heaven and said god who answers the prayers of those in distress when they call on you and who clears away evil may you help me against my enemy and remove him from me for you have power to do what you wish after hearing the prince s prayer the ghula left him he went back to his father and when he told him about the vizier s advice his father summoned the man and had him killed as for you your majesty if you put your trust in this sage he will see to it that you die the worst of deaths and it will be the man whom you have well treated and taken as a friend who will destroy you don t you see that he cured your disease externally through something you held in your hand so how can you be sure that he won t kill you by something else you hold what you say is right vizier my sound advisor agreed the king for this man has come as a spy to destroy me and if he could cure me with something i held it may be that he can kill me with something that i smell then he asked the vizier what was to be done about duban the vizier said send for him immediately telling him to come here and when he does cut off his head and then you will be safe from any harm he may intend to do you betray him before he betrays you the king agreed with the vizier and sent for duban who came gladly not knowing what god the merciful had ordained this was as the poet said you who fear your fate be at your ease entrust your affairs to him who has stretched out the earth what is decreed by fate will come about and you are safe from what is not decreed duban the wise came into the presence of the king and recited if i do not show gratitude in accordance with part at least of your deserts tell me for whom i should compose my poetry and my prose before i asked you granted me favours that came with no delay and no excuse why then do i not give you your due of praise lauding your generosity in secret and in public i shall record the benefits you heaped on me lightening my cares but burdening my back he followed this with another poem turn aside from cares entrusting your affairs to fate rejoice in the good that will come speedily to you so that you may forget all that is past there is many a troublesome affair whose aftermath will leave you in content god acts according to his will do not oppose your god he also recited leave your affairs to god the gentle the omniscient and let your heart rest from all worldly care know that things do not go as you wish they follow the decree of god the king he then recited be of good cheer relax forget your cares cares eat away the resolute man s heart planning is no help to a slave who has no power abandon this and live in happiness the king asked him do you know why i have sent for you no one knows what is hidden except for god duban replied i have sent for you said the king in order to kill you and take your life this astonished duban who said why should you kill me your majesty and what is my crime i have been told that you are a spy answered the king and that you have come to murder me i am going to kill you before you can do the same to me the king then called for the executioner and said cut off this traitor s head so that we may be freed from his evil doing spare me said duban and god will spare you do not kill me lest he kill you he then repeated what i repeated to you ifrit but you would not give up your intention to kill me similarly the king insisted i shall not be safe unless i put you to death you cured me with something that i held in my hand and i cannot be sure that you will not kill me with something that i smell or in some other way duban said my reward from you o king is the reward of good by evil but the king insisted you must be killed without delay when duban was certain that the king was going to have him killed he wept in sorrow for the good that he had done to the undeserving as the poet has said you can be sure that maimuna has no sense though this is what her father has whoever walks on dry or slippery ground and takes no thought must fall the executioner then came up blindfolded him and unsheathed his sword asking the king s permission to proceed duban was weeping and imploring the king spare me and god will spare you do not slay me lest god slay you he recited i gave my good advice and yet had no success while they succeeded but through treachery what i advised humiliated me if i live never shall i give advice again if not after my death let all advisors be accursed then he said to the king if this is how you reward me it is the crocodile s reward the king asked for the story of the crocodile but duban replied i cannot tell it to you while i am in this state i conjure you by god to spare me so that god may spare you at that one of the king s courtiers got up and asked the king for duban s life pointing out we have not seen that he has done you any wrong but only that he cured you of a disease that no wise doctor was able to treat the king said you do not know why i have ordered his death but this is because if i spare him i shall certainly die a man who cured me of my illness by something that i held in my hand is able to kill me by something that i smell i am afraid that he has been bribed to murder me as he is a spy and this is why he has come here he must be executed and after that i shall be safe duban repeated his plea for mercy but on realizing that he could not escape execution he said to the king if i must be killed allow me a delay so that i may return to my house give instructions to my family and my neighbours about my funeral settle my debts and give away my books of medicine i have a very special book which i shall present to you to be kept in your treasury what is in the book asked the king innumerable secrets duban replied the least of which is that if you cut off my head and then open three pages and read three lines from the left hand page my head will speak to you and answer all your questions the astonished king trembled with joy when i cut off your head will you really talk to me he asked yes said duban this is an amazing thing exclaimed the king and he sent him off under escort duban returned to his house and settled all his affairs and then the next day he came back to the court where all the viziers chamberlains deputies and officers of state assembled until the place looked like a garden in flower he entered and was brought before the king carrying with him an old book together with a collyrium case containing powder he sat down and asked for a plate which was brought he then poured the powder on it and spread it out after which he said king take this book but don t open it until you cut off my head when you have done that set the head on the plate and have it pressed into the powder at that the flow of blood will halt and you can then open the book the king took the book from him and gave orders for his execution the executioner cut off his head which fell on the plate where it was pressed down into the powder the blood ceased to flow and duban the wise opened his eyes and said o king open the book the king did this but he found the pages stuck together so he put his finger into his mouth wet it with his spittle and with difficulty he opened the first the second and the third pages he opened six pages in all but when he looked at them he could find nothing written there wise man he said there is no writing here open more pages said duban the king opened three more but soon afterwards he felt the poison with which the book had been impregnated spreading through him he was wracked by convulsions and cried out that he had been poisoned while duban recited they wielded power with arrogance but soon it was as though their power had never been if they had acted justly they would have met with justice but they were tyrants and time played the tyrant in return afflicting them with grievous trials it was as though here fate was telling them this is a return for that and time cannot be blamed as soon as duban s head had finished speaking the king fell dead know then ifrit that had he spared duban god would have spared him but as he refused and looked to have him killed god destroyed him had you spared me god would have spared you morning now dawned and shahrazad broke off from what she had been allowed to say',\n",
       " 'when it was the fourth night dunyazad asked her to finish the story if she was not sleepy and so she went on i have heard o fortunate king that when the fisherman told the ifrit that he would not believe him until he saw this with his own eyes a shudder ran through the ifrit and he became a cloud of smoke hovering over the sea then the smoke coalesced and entered the jar bit by bit until it was all there quickly the fisherman picked up the brass stopper with its inscription and put it over the mouth of the bottle he called out to the ifrit ask me how you want to die by god i am going to throw you into the sea and then build myself a house in this place so that i can stop anyone who comes fishing by telling them that there is an ifrit here who gives anyone who brings him up a choice of how he wants to be killed when the ifrit heard this and found himself imprisoned in the bottle he tried to get out but could not as he was prevented by solomon s seal and he realized that the fisherman had tricked him i was only joking he told the fisherman who replied you are lying you most despicable foulest and most insignificant of ifrits and he took up the bottle no no called the ifrit but the fisherman said yes yes at which the ifrit asked him mildly and humbly what he intended to do with him i am going to throw you into the sea the fisherman told him you may have been there for eighteen hundred years but i shall see to it that you stay there until the last trump didn t i say spare me may god spare you and do not kill me lest god place you in the power of one who will kill you but you refused and acted treacherously towards me now god has put you in my power and i shall do the same to you open the bottle implored the ifrit so that i can do you good damned liar said the fisherman you and i are like the vizier of king yunan and duban the sage what is their story asked the ifrit and the fisherman replied you must know ifrit that once upon a time in the old days in the land of ruman there was a king called yunan in the city of fars he was a wealthy and dignified man with troops and guards of all races but he was also a leper who had taken medicines of various kinds and used ointments but whose illness doctors and men of learning had been unable to cure there was an elderly physician known as duban the sage who had studied the books of the greeks the persians the arabs and the syrians he was a master of medicine and of astronomy and was conversant with the fundamental principles of his subject with a knowledge of what was useful and what was harmful he knew the herbs and plants that were hurtful and those that were helpful as well as having a mastery of philosophy together with all branches of medicine and other sciences when this man arrived at the city within a few days he had heard that the king was suffering from leprosy and that no doctor or man of learning had been able to cure him he spent the night thinking over the problem and when dawn broke he put on his most splendid clothes and went to the king kissing the ground before him and calling eloquently for the continuance of his glory and good fortune after introducing himself he went on i have heard your majesty of the disease that has afflicted you and that although you have been treated by many doctors they have been unable to remove it i shall cure you without giving you any medicine to drink or applying any ointments yunan was amazed to hear what he had to say and asked how he was going to do that promising to enrich him and his children s children i shall shower favours on you he said and grant you all your wishes taking you as a boon companion and a dear friend he then presented duban with a robe of honour and treated him with favour before asking are you really going to cure my leprosy without medicines or ointment duban repeated that he would and the astonished king asked when this would be urging him to be quick to hear is to obey replied duban promising to do this the very next day duban now went to the city where he rented a house in which he deposited his books his medicines and his drugs he took some of the latter and placed them in a polo stick for which he made a handle and he used his skill to design a ball the next day after he had finished he went into the presence of the king kissed the ground before him and told him to ride out to the polo ground and play a game the king was accompanied by the emirs chamberlains viziers and officers of state and before he had taken his seat on the ground duban came up to him and handed him the stick take this he said hold it like this and when you ride on to the field hit the ball with a full swing until the palm of your hand begins to sweat together with the rest of your body the drug will then enter through your palm and spread through the rest of you when you have finished and the drug has penetrated go back to your palace wash in the baths and then go to sleep for you will have been cured that is all at that the king took the stick from him and mounted holding it in his hand he threw the ball ahead of him and rode after it hitting it as hard as he could when he caught up with it and then following it up and hitting it again until the palm of his hand and the rest of his body became sweaty because of his grip on the stick when duban saw that the drug had penetrated into the king s body he told him to go back to his palace and bathe immediately the king went back straight away and ordered that the baths be cleared for him this was done and house boys and mamluks hurried up to him and prepared clothes for him to wear he then entered the baths washed himself thoroughly and dressed before coming out after which he rode back to his palace and fell asleep so much for him but as for duban the sage he returned to spend the night in his house and in the morning he went to ask permission to see the king on being allowed to enter he went in kissed the ground before him and addressed him with these verses which he chanted virtues are exalted when you are called their father a title that none other may accept the brightness shining from your face removes the gloom that shrouds each grave affair this face of yours will never cease to gleam although the face of time may frown your liberality has granted me the gifts that rain clouds shower down on the hills your generosity has destroyed your wealth until you reached the heights at which you aimed when duban had finished these lines the king stood up and embraced him before seating him by his side and presenting him with splendid robes of honour this was because when he had left the baths he had looked at his body and found it to his great delight and relief pure and silver white showing no trace of leprosy in the morning he had gone to his court and taken his seat on his royal throne the chamberlains and officers of state all standing up for him and it was then that duban had come in the king had risen quickly for him and after the sage had been seated by his side splendid tables of food were set out and he ate with the king and kept him company for the rest of the day the king then made him a present of two thousand dinars in addition to the robes of honour and other gifts after which he mounted him on his own horse duban went back to his house leaving the king filled with admiration for what he had done and saying this man treated me externally without using any ointment by god that is skill of a high order he deserves gifts and favours and i shall always treat him as a friend and companion the king passed a happy night gladdened by the soundness of his body and his freedom from disease the next day he went out and sat on his throne while his state officials stood and the emirs and viziers took their seats on his right and his left he asked for duban who entered and kissed the ground before him at which the king got up greeted him seated him by his side and ate with him he then presented him with more robes of honour as well as gifts and talked with him until nightfall when he gave him another five robes of honour together with a thousand dinars after which duban went gratefully home the next morning the king came to his court where he was surrounded by his emirs viziers and chamberlains among the viziers was an ugly and ill omened man base miserly and so envious that he was in love with envy when this man saw that the king had taken duban as an intimate and had rewarded him with favours he was jealous and planned to do him an injury for as the sayings have it no one is free of envy and injustice lurks in the soul strength shows it and weakness hides it this vizier came up to king yunan kissed the ground before him and said king of the age i have grown up surrounded by your bounty and i have some serious advice for you were i to conceal it from you i would show myself to be a bastard but if you tell me to give it to you i shall do so yunan was disturbed by this and said what is this advice of yours the vizier replied great king it was a saying of the ancients that time was no friend to those who did not look at the consequences of their actions i have observed that your majesty has wrongly shown favour to an enemy who is looking to destroy your kingdom you have treated this man with generosity and done him the greatest honour taking him as an intimate something that fills me with apprehension yunan was uneasy his colour changed and he asked the vizier who he was talking about if you are asleep wake up the vizier told him and went on i am talking about the sage duban damn you exclaimed yunan this is my friend and the dearest of people to me for he cured me through something that i held in my hand from a disease that no other doctor could treat his like is not to be found in this age or in this world from west to east you may accuse him but today i am going to assign him pay and allowances with a monthly income of a thousand dinars while even if i divided my kingdom with him this would be too little i think that it is envy that has made you say this reminding me of the story of king sindbad morning now dawned and shahrazad broke off from what she had been allowed to say',\n",
       " 'shahrazad said i have heard o fortunate king that a wealthy merchant who had many dealings throughout the lands rode out one day to settle a matter of business in one of them when it became hot he sat down under a tree and put his hand in his saddlebag from which he took out a piece of bread and a date he ate and when he had finished with the date he threw away its stone at which a huge ifrit appeared with a drawn sword in his hand this ifrit came up to the merchant and said get up so that i can kill you as you killed my son how did i kill your son asked the merchant and the ifrit told him when you ate that date and threw away the stone it struck my son in the chest as he was walking and he died instantly we belong to god and to him do we return recited the merchant adding there is no might and no power except with god the exalted the omnipotent if i killed him this was by accident so please forgive me i must kill you insisted the ifrit and he dragged off the merchant threw him down on the ground and raised his sword to strike with tears in his eyes the merchant exclaimed i entrust my affair to god and he then recited these lines time is two days one safe and one of peril and our lives are of two halves one fair one overcast say to those who reproach us for what time has done does time oppose any but great men do you not see that when the storm winds blow it is the tall trees that they strike corpses rise to the surface of the sea while it is in its depths that pearls lie hid it may be that time will mishandle us subjecting us to constant harm though in the heavens there are countless stars only the sun and moon suffer eclipse there are both green and dry boughs on the earth but we throw stones only at those with fruit you think well of the days when they are fine so do not fear the evil that fate brings when he had finished the ifrit said stop talking for by god i am most certainly going to kill you ifrit the merchant said i am a wealthy man with a wife and children i have debts and i hold deposits so let me go home and give everyone their due before returning to you at the start of the new year i shall take a solemn oath and swear by god that i shall come back to you and you can then do what you want with me god will be the guarantor of this the ifrit trusted him and let him go after which he went home settled all his affairs and gave everyone what was owed them he told his wife and children what had happened gave them his injunctions and stayed with them until the end of the year when he got up performed the ritual ablution and with his shroud under his arm said goodbye to his family and all his relations as well as his neighbours and set off reluctantly while they all wept and wailed he came to the orchard on what was new year s day and as he sat there weeping over his fate a very old man approached him leading a gazelle on a chain the newcomer greeted him and asked him why he was sitting there alone when the place was a haunt of jinn the merchant told the story of his encounter with the ifrit and the old man exclaimed by god brother you are a very pious man and your story is so wonderful that were it written with needles on the corners of men s eyes it would be a lesson for those who take heed he took his seat by the merchant s side and promised not to leave until he had seen what happened to him with the ifrit as the two of them sat there talking the merchant was overcome by an access of fear together with ever increasing distress and apprehension it was at this point that a second old man arrived having with him two black salukis after greeting the two men he asked them why they were sitting in this haunt of jinn and they told him the story from beginning to end no sooner had he sat down with them than a third old man with a dappled mule came up greeted them and asked why they were there at which they repeated the whole story but there is no point in going over it again as soon as the newcomer had sat down a huge dust devil appeared in the middle of the desert clearing away to show the ifrit with a drawn sword in his hand and sparks shooting from his eyes he came up to the three dragged the merchant from between them and said get up so that i can kill you as you killed my beloved son the merchant sobbed and wept while the three old men shed tears wailed and lamented then the first of them the man with the gazelle left the others kissed the ifrit s hand and said jinni royal crown of the jinn if i tell you the story of my connection with this gazelle will you grant me a third share in this merchant s blood the ifrit agreed to do this if he found the story marvellous and so the old man began his tale know ifrit that this gazelle is my cousin my own flesh and blood i married her when she was still young and stayed with her for thirty years without her bearing me a child so i took a concubine and she bore me a son the perfection of whose eyes and eyebrows made him look like the full moon when it appears he grew up and when he was fifteen i had occasion to travel to a certain city taking with me a great quantity of trade goods my wife now this gazelle had studied sorcery since her youth and she turned the boy into a calf and his mother into a cow handing them over to the herdsman when after a long absence i got back from my journey i asked about the two of them and my wife told me that the woman had died and that the boy had run away where she did not know for a year i remained sad at heart and tearful until id al adha came round and i sent to tell the herdsman to bring me a fat cow what he brought me was my slave girl whom my wife had enchanted i tucked up my clothes took the knife in my hand and was about to slaughter her when she gave a cry howled and shed tears this astonished me and feeling pity for her i left her and told the herdsman to fetch me another at that my wife called out kill this one as i have no finer or fatter cow i went up again to do the killing and again the cow gave a cry at which i told the herdsman to slaughter her and then skin her he did this only to discover that there was neither flesh nor fat in the carcass but only skin and bone i was sorry for what i had done at a time when regret was of no use and i gave the cow to the herdsman telling him to bring me a fat calf he brought me my son and when this calf caught sight of me he broke his tether and rolled in the dust in front of me howling and shedding tears again i felt pity and told the herdsman to leave the calf and fetch me a cow and again my wife now this gazelle called to me insisting that i must slaughter the calf that day this is a noble and a blessed day she pointed out the sacrifice must be a good one and we have nothing fatter or finer than this calf look at what happened with the cow that you told me to kill this led to a disappointment and we got no good from it at all leaving me full of regret at having slaughtered it this time i am not going to do what you say or kill this calf by god the omnipotent the compassionate the merciful you must do this on this noble day and if you don t then you are not my husband and i am not your wife on hearing these harsh words but not realizing what she intended to do i went up to the calf with the knife in my hand morning now dawned and shahrazad broke off from what she had been allowed to say what a good pleasant delightful and sweet story this is exclaimed dunyazad at which shahrazad told her how can this compare with what i shall tell you this coming night if i am still alive and the king spares me by god the king said to himself i am not going to kill her until i hear the rest of the story and so they spent the rest of the time embracing one another until the sun had fully risen the king then went to his court as the vizier came with the shroud under his arm and he gave his judgements appointing some officials and dismissing others until evening but to the vizier s great surprise he gave no instructions about his daughter the court was then dismissed and king shahriyar returned to his palace',\n",
       " 'when it was the third night dunyazad asked her sister to finish the story with pleasure said shahrazad and went on i have heard o fortunate king that the third old man told the ifrit a more remarkable story than the other two and that in his astonishment and delight the ifrit granted him the remaining share of the blood debt and allowed the merchant to go free for his part the merchant went and thanked the old men who congratulated him on his safety after which each of them went home this however is not more surprising than the tale of the fisherman when the king asked what that was she went on i have heard o fortunate king that there once was a poor elderly fisherman with a wife and three children who was in the habit of casting his net exactly four times each day he went out to the shore at noon one day put down his basket tucked up his shirt waded into the sea and cast his net he waited until it had sunk down before pulling its cords together and then finding it heavy he tried unsuccessfully to drag it in he took one end of it to the shore and fixed it to a peg that he drove in there after which he stripped and dived into the sea beside it where he continued tugging until he managed to get it up he climbed out delightedly put his clothes back on and went up to the net only to find that what was in it was a dead donkey and that the donkey had made a hole in the net the fisherman was saddened by this and recited the formula there is no might and no power except with god the exalted the omnipotent before saying this is a strange thing that god has given me by way of food and then reciting you who court danger diving in the dark of night give up your efforts do not win your daily bread from god the fisherman rises to earn his keep there is the sea with stars woven in the sky he plunges in buffeted by waves his eyes fixed on his billowing net happy with his night s work he takes back home a fish its jaw caught up on his pronged hook this fish is bought from him by one who spent his night out of the cold enjoying his comforts praise be to god who gives and who deprives for one man eats the fish another catches it he encouraged himself saying that almighty god would show favour and reciting when you are faced with hardship clothe yourself in noble patience that is more resolute do not complain then to god s servants you complain to those who have no mercy of the merciful he freed the donkey from the net which he then wrung out before spreading it out again and going back into the sea invoking the name of god he made another cast waited until the net had settled and found it heavier and more difficult to move than before thinking that it must be full of fish he fastened it to his peg stripped off his clothes and dived in to free it after tugging at it he got it up on shore only to discover that what was in it was a large jar full of sand and mud saddened by this sight he recited troubles of time give up stop even if you have not had enough i came out looking for my daily bread but i have found there is no more of this how many a fool reaches the pleiades how many wise men lie hidden in the earth the fisherman threw away the jar wrung out his net cleaned it and went back a third time to the sea asking god to forgive him he made his cast and waited for the net to settle before drawing it in and this time what he found in it were bits of pots bottles and bones he was furious and shedding bitter tears he recited you have no power at all over your daily bread neither learning nor letters will fetch it for you fortune and sustenance are divided up one land is fertile while another suffers drought time s changes bring down cultured men while fortune lifts the undeserving up come death and visit me for life is vile falcons are brought down low while ducks are raised on high feel no surprise if you should see a man of excellence in poverty while an inferior holds sway one bird circles the earth from east to west another gets its food but does not have to move he then looked up to heaven and said o my god you know that i only cast my net four times a day i have done this thrice and got nothing so this time grant me something on which to live he pronounced the name of god and cast his net into the sea he waited until it had settled and then he tried to pull it in but found that it had snagged on the bottom he recited the formula there is no power and no might except with god and went on how wretched is this kind of world that leaves us in such trouble and distress in the morning it may be that things go well but i must drink destruction s cup when evening comes yet when it is asked who leads the easiest life men would reply that this was i the fisherman stripped off his clothes and after diving in he worked his hardest to drag the net to shore then when he opened it up he found in it a brass bottle with a lead seal imprinted with the inscription of our master solomon the son of david on both of whom be peace the fisherman was delighted to see this telling himself that it would fetch ten gold dinars if he sold it in the brass market he shook it and discovering that it was heavy as well as sealed he said to himself i wonder what is in it i ll open it up and have a look before selling it he took out a knife and worked on the lead until he had removed it from the bottle which he then put down on the ground shaking it in order to pour out its contents to his astonishment at first nothing came out but then there emerged smoke which towered up into the sky and spread over the surface of the ground when it had all come out it collected and solidified a tremor ran through it and it became an ifrit with his head in the clouds and his feet on the earth his head was like a dome his hands were like winnowing forks and his feet like ships masts he had a mouth like a cave with teeth like rocks while his nostrils were like jugs and his eyes like lamps he was dark and scowling when he saw this ifrit the fisherman shuddered his teeth chattered his mouth dried up and he could not see where he was going at the sight of him the ifrit exclaimed there is no god but the god of solomon his prophet prophet of god do not kill me for i shall never disobey you again in word or in deed ifrit the fisherman said you talk of solomon the prophet of god but solomon died eighteen hundred years ago and we are living in the last age of the world what is your story and how did you come to be in this bottle to which the ifrit replied there is no god but god i have good news for you fisherman what is that the fisherman asked and the ifrit said i am now going to put you to the worst of deaths for this good news leader of the ifrits exclaimed the fisherman you deserve that god s protection be removed from you you damned creature why should you kill me and what have i done to deserve this it was i who saved you from the bottom of the sea and brought you ashore but the ifrit said choose what death you want and how you want me to kill you what have i done wrong asked the fisherman and why are you punishing me the ifrit replied listen to my story and the fisherman said tell it but keep it short as i am at my last gasp know fisherman the ifrit told him that i was one of the apostate jinn and that together with sakhr the jinni i rebelled against solomon the son of david on both of whom be peace solomon sent his vizier asaf to fetch me to him under duress and i was forced to go with him in a state of humiliation to stand before solomon i take refuge with god exclaimed solomon when he saw me and he then offered me conversion to the faith and proposed that i enter his service when i refused he called for this bottle in which he imprisoned me sealing it with lead and imprinting on it the greatest name of god then at his command the jinn carried me off and threw me into the middle of the sea for a hundred years i stayed there promising myself that i would give whoever freed me enough wealth to last him for ever but the years passed and no one rescued me for the next hundred years i told myself that i would open up all the treasures of the earth for my rescuer but still no one rescued me four hundred years later i promised that i would grant three wishes but when i still remained imprisoned i became furiously angry and said to myself that i would kill whoever saved me giving him a choice of how he wanted to die it is you who are my rescuer and so i allow you this choice when the fisherman heard this he exclaimed in wonder at his bad luck in freeing the ifrit now and he went on spare me may god spare you and do not kill me lest god place you in the power of one who will kill you i must kill you insisted the ifrit and so choose how you want to die ignoring this the fisherman made another appeal calling on the ifrit to show gratitude for his release it is only because you freed me that i am going to kill you repeated the ifrit at which the fisherman said lord of the ifrits i have done you good and you are repaying me with evil the proverbial lines are right where they say we did them good they did its opposite and this by god is how the shameless act whoever helps those who deserve no help will be like one who rescues a hyena don t go on so long said the ifrit when he heard this for death is coming to you the fisherman said to himself this is a jinni and i am a human god has given me sound intelligence which i can use to find a way of destroying him whereas he can only use vicious cunning so he asked are you definitely going to kill me and when the ifrit confirmed this he said i conjure you by the greatest name inscribed on the seal of solomon and ask you to give me a truthful answer to a question that i have i shall replied the ifrit who had been shaken and disturbed by the mention of the greatest name and he went on ask your question but be brief the fisherman went on you say you were in this bottle but there is not room in it for your hand or your foot much less all the rest of you you don t believe that i was in it asked the ifrit to which the fisherman replied i shall never believe it until i see it with my own eyes morning now dawned and shahrazad broke off from what she had been allowed to say',\n",
       " 'when it was the second night dunyazad said to shahrazad sister finish your story of the merchant and the ifrit for us with pleasure replied shahrazad if the king gives me permission and when the king gave it she went on i have heard o fortunate king and rightly guided ruler that when the merchant was about to cut the throat of the calf he was moved by pity and told the herdsman to keep the calf among the other beasts the ifrit was listening with astonishment to what the old man with the gazelle was saying and the man went on lord of the kings of the jinn while all this was going on my wife now this gazelle was looking on and telling me to kill the calf because it was fat but i could not bring myself to do this and so i told the herdsman to take it away which he did the next day as i was sitting there he came back to me and said i have something to tell you that will please you and you owe me a reward for my good news i agreed to this and he went on master i have a daughter who as a young girl was taught magic by an old woman we had staying with us yesterday when you gave me the calf i went to the girl and when she saw it she covered her face shed tears but then burst into laughter then she said father do you hold me so cheap that you bring strange men in to me where are these strange men i asked and why are you laughing and crying she said this calf you have with you is our master s son who is under a spell laid upon him and his mother by his father s wife this is why i was laughing but the reason why i wept was that his father killed his mother i was astonished by this and as soon as i found that it was morning i came to tell you when i heard what the man had to say i went out with him drunk although not on wine with the joy and delight that i was feeling when i got to his house his daughter welcomed me kissing my hands while the calf came and rolled on the ground in front of me i asked her is what you say about this calf true yes master she assured me this is your darling son girl i told her if you free him you can have all the beasts and everything else that your father looks after she smiled and said master i only want this on two conditions the first being that you marry me to him and the second that i be allowed to put a spell on the one who enchanted him and keep her confined for otherwise i shall not be safe from her scheming when i heard what she had to say i promised to give her what she wanted as well as everything that was in her father s charge adding that i would even give her permission to kill my wife at that she took a bowl filled it with water and recited a spell over it after which she sprinkled the water over the calf saying if you are a calf and this is how almighty god created you stay in this shape and don t change but if you are under a spell then return to your original shape with the permission of almighty god the calf shuddered and became a man at which i fell on him and said for god s sake tell me what my wife did to you and your mother he told me what had happened and i said my son god has sent you a rescuer to restore your rights i then married the herdsman s daughter to him and she transformed my wife into this gazelle saying this is a beautiful shape and not a brutish one repellent to the sight the girl stayed with us for some time until god chose to take her to himself and my son went off to india the country of the man with whom you have had this experience i myself took my wife this gazelle and have travelled from place to place looking for news of him until fate brought me here and i saw this merchant sitting weeping this is my story it is indeed a marvellous tale the ifrit agreed and i grant you a third share in his blood at this point the old man with the two salukis came up and asked the ifrit if i tell you what happened to me and my brothers these two dogs and you find it the most amazing and astonishing of stories will you transfer to me a third of this man s offence the ifrit agreed and the man began lord of the kings of the jinn these two dogs are my brothers i being the third on his death my father left us three thousand dinars and each one of us opened a shop for trade i had not been there for long before my eldest brother now one of these dogs sold the contents of his shop for a thousand dinars bought trade goods and set off on his travels he had been away for a whole year when one day as i was in my shop a beggar came up to me and stopped i wished him well but he said in tears don t you know me any more when i looked at him closely i saw that this was my brother and so i got up to welcome him and brought him into the shop i asked him how he was and he said don t ask my wealth has gone and my circumstances have changed i took him to the baths gave him some of my own clothes and then brought him back home then i checked my accounts and the sales figures of my shop and i found that i had made a profit of a thousand dinars on a capital of two thousand i divided this with my brother telling him to forget that he had ever travelled abroad he took the money gladly and opened another shop some time later my second brother now this other dog sold everything he had with the intention of travelling we tried unsuccessfully to stop him but he bought trade goods and set out with some others he too spent a whole year away before coming back to me in the same state as his brother brother i told him didn t i tell you not to go but he replied this was something decreed by fate and here am i a poor man penniless and without even a shirt i took him to the baths and gave him a new suit of my own clothes to put on before bringing him to my shop where we then ate and drank i told him brother i check the accounts of my shop once every new year and any surplus i find i shall share with you when i did my audit i found that i had two thousand dinars and after praising the exalted creator i gave him a thousand and kept the other thousand myself my brother opened another shop but after a time he and my other brother proposed that i should go off with them on a voyage i refused asking what did you get from your travels to make me imagine that i could make a profit i refused to listen to them and we stayed there trading in our shops every year they would make the same proposal to me and i would not agree until after six years i finally accepted and told them i would go with them i asked them to show me what money they had only to find that they had nothing at all having squandered everything on food drink and entertainment i didn t say a word to them but checked the accounts of my shop and sold what i owned together with all my shop goods leaving me to my delight with a total of six thousand dinars i divided this in half telling my brothers that they and i could have three thousand dinars with which to trade while i would bury the remaining three thousand in case the same thing happened to me as had happened to them in that case i would have money left over to allow us to reopen our shops they agreed to this and i handed each of them a thousand dinars keeping a thousand for myself we provided ourselves with what we had to have in the way of trade goods and made our preparations for travel hiring a ship and loading our goods on board after a whole month s journey we brought them to a city where they fetched us a ten fold profit we were about to sail off again when on the shore we came across a girl dressed in rags and tatters she kissed my hand and asked if i was a charitable man in which case she would reward me i love charity and good deeds i told her even if you give me no reward marry me master she said and take me to your country i have given myself to you treat me kindly for i am someone who deserves kindness and generosity i shall pay you back for this and don t be misled by the state i am in now when i heard this i felt a yearning for her as god the great and glorious had decreed and so i took her gave her clothes and provided her with elegantly furnished accommodation on the ship i treated her with respect and as our journey went on i fell so deeply in love with her that i could not bear to leave her by night or by day in my concern for her i neglected my brothers who grew jealous of me envying my wealth and the quantity of my goods they spent their time eyeing all this and they discussed killing me and taking what i had saying let us kill our brother and then all this will be ours satan made this seem good to them and so finding me alone and asleep by the side of my wife they picked us both up and threw us overboard my wife woke a shudder ran through her and she became an ifrita she then carried me to an island where she left me for a time before coming back at dawn and saying i am your servant and it was i who saved your life by carrying you off with the permission of almighty god you must know that i am one of the jinn and when i saw you i fell in love with you as god had decreed for i believe in him and in his apostle may god bless him and give him peace i came to you wearing rags as you saw but you married me and now i have saved you from drowning i am angry with your brothers and will have to kill them i was astonished to hear this and i thanked her for what she had done but forbade her to kill my brothers i then told her the whole story of my dealings with them and this prompted her to say tonight i shall fly off to them sink their ship and destroy them i implored her in god s name not to do that reminding her of the proverb that tells those who do good to those who wrong them the evil doer s own deeds are punishment enough for him and pointing out that at all events they were my brothers she continued to insist despite my pleading with her and she then flew off with me and put me down on the roof of my own house i opened the doors brought out the money that i had buried and opened up my shop after greeting the people there and buying goods for trade when i went home that evening i found these two dogs tied up and when they caught sight of me they came up with tears in their eyes and attached themselves to me before i realized what was happening my wife told me these are your brothers who did this to them i asked and she said i sent a message to my sister it was she who transformed them and they will not be freed from the spell for ten years my brothers have now been like this for ten years and i was on my way to get them released when i came across this man he told me his story and i decided not to leave him until i saw what was going to happen between you and him this is my tale it is a marvellous one agreed the ifrit adding i grant you a third share in the blood he owes for his crime the third old man with the mule now said if i tell you a more amazing story than these two will you grant me the remaining share the ifrit agreed and the man went on sultan and leader of the jinn this mule was my wife i had been away for a year on my travels and when i had finished i came back to her this was at night and i saw a black slave lying in bed with her the two of them talked flirted laughed kissed and played with each other my wife caught sight of me and came to me with a jug of water over which she uttered a spell she sprinkled the water over me and said leave this shape of yours and take the form of a dog immediately i became a dog and she drove me out through the door of the house i went on until i came to a butcher s shop where i started gnawing bones the butcher saw me and took me into his house where his daughter covered her face from me and said are you bringing a man in to me where is there a man asked her father and she said this dog is a man over whom his wife has cast a spell but i can free him from it do that for god s sake said her father and she took a jug of water spoke some words over it and sprinkled some of it on me go back to your original shape she said and that is what i did i kissed the girl s hand and said i would like you to use your magic to do to my wife what she did to me she gave me some water and told me when you find her asleep sprinkle this water over her and say what you like for she will become whatever you want i took the water and went to my wife whom i found sleeping i sprinkled her with the water and said leave this shape and become a mule which she did there and then and it is she whom you can see sultan and chief of the kings of the jinn is that true the man asked the mule at which it nodded its head conveying by gesture the message that is my story and that is what happened to me when the old man had finished his tale the ifrit trembling with delight granted him a third of the merchant s blood morning now dawned and shahrazad broke off from what she had been allowed to say what a good pleasant delightful and sweet story this is exclaimed dunyazad at which shahrazad told her how can this compare with what i shall tell you this coming night if i am still alive and the king spares me by god the king said to himself i am not going to kill her until i hear the rest of this remarkable story and so they spent the rest of the time embracing one another until the sun had fully risen the king then went to his court the troops arrived together with the vizier and when everyone was there he gave his judgements appointing some officials dismissing others and issuing orders and prohibitions until evening the court was then dismissed and the king returned to his palace where when night came he lay again with shahrazad']"
      ]
     },
     "execution_count": 1885,
     "metadata": {},
     "output_type": "execute_result"
    }
   ],
   "source": [
    "NW3"
   ]
  },
  {
   "cell_type": "code",
   "execution_count": 1993,
   "id": "7fddaab9",
   "metadata": {},
   "outputs": [
    {
     "ename": "IndexError",
     "evalue": "list index out of range",
     "output_type": "error",
     "traceback": [
      "\u001b[0;31m---------------------------------------------------------------------------\u001b[0m",
      "\u001b[0;31mIndexError\u001b[0m                                Traceback (most recent call last)",
      "\u001b[0;32m/var/folders/82/58plxq9d79373wycjp789qfm0000gn/T/ipykernel_1499/2299530545.py\u001b[0m in \u001b[0;36m<module>\u001b[0;34m\u001b[0m\n\u001b[0;32m----> 1\u001b[0;31m \u001b[0mFinal_Query_Lemmatized\u001b[0m\u001b[0;34m[\u001b[0m\u001b[0;36m21\u001b[0m\u001b[0;34m]\u001b[0m\u001b[0;34m\u001b[0m\u001b[0;34m\u001b[0m\u001b[0m\n\u001b[0m",
      "\u001b[0;31mIndexError\u001b[0m: list index out of range"
     ]
    }
   ],
   "source": [
    "Final_Query_Lemmatized[21]"
   ]
  },
  {
   "cell_type": "code",
   "execution_count": 1934,
   "id": "e5bc7c88",
   "metadata": {},
   "outputs": [
    {
     "data": {
      "text/plain": [
       "101"
      ]
     },
     "execution_count": 1934,
     "metadata": {},
     "output_type": "execute_result"
    }
   ],
   "source": [
    "len(Final_Target_Lemmatized)"
   ]
  },
  {
   "cell_type": "code",
   "execution_count": 2146,
   "id": "b931dc1c",
   "metadata": {},
   "outputs": [
    {
     "name": "stdout",
     "output_type": "stream",
     "text": [
      "0\n",
      "1\n",
      "2\n",
      "3\n"
     ]
    },
    {
     "ename": "IndexError",
     "evalue": "list index out of range",
     "output_type": "error",
     "traceback": [
      "\u001b[0;31m---------------------------------------------------------------------------\u001b[0m",
      "\u001b[0;31mIndexError\u001b[0m                                Traceback (most recent call last)",
      "\u001b[0;32m/var/folders/82/58plxq9d79373wycjp789qfm0000gn/T/ipykernel_1499/276765906.py\u001b[0m in \u001b[0;36m<module>\u001b[0;34m\u001b[0m\n\u001b[1;32m      3\u001b[0m \u001b[0;32mfor\u001b[0m \u001b[0mi\u001b[0m \u001b[0;32min\u001b[0m \u001b[0mrange\u001b[0m\u001b[0;34m(\u001b[0m\u001b[0mlen\u001b[0m\u001b[0;34m(\u001b[0m\u001b[0mtest\u001b[0m\u001b[0;34m)\u001b[0m\u001b[0;34m)\u001b[0m\u001b[0;34m:\u001b[0m\u001b[0;34m\u001b[0m\u001b[0;34m\u001b[0m\u001b[0m\n\u001b[1;32m      4\u001b[0m     \u001b[0mprint\u001b[0m\u001b[0;34m(\u001b[0m\u001b[0mi\u001b[0m\u001b[0;34m)\u001b[0m\u001b[0;34m\u001b[0m\u001b[0;34m\u001b[0m\u001b[0m\n\u001b[0;32m----> 5\u001b[0;31m     \u001b[0my\u001b[0m\u001b[0;34m.\u001b[0m\u001b[0mappend\u001b[0m\u001b[0;34m(\u001b[0m\u001b[0mtest\u001b[0m\u001b[0;34m[\u001b[0m\u001b[0mi\u001b[0m\u001b[0;34m]\u001b[0m\u001b[0;34m+\u001b[0m\u001b[0mtest\u001b[0m\u001b[0;34m[\u001b[0m\u001b[0mi\u001b[0m\u001b[0;34m+\u001b[0m\u001b[0;36m1\u001b[0m\u001b[0;34m]\u001b[0m\u001b[0;34m)\u001b[0m\u001b[0;34m\u001b[0m\u001b[0;34m\u001b[0m\u001b[0m\n\u001b[0m\u001b[1;32m      6\u001b[0m     \u001b[0mi\u001b[0m\u001b[0;34m+=\u001b[0m\u001b[0;36m2\u001b[0m\u001b[0;34m\u001b[0m\u001b[0;34m\u001b[0m\u001b[0m\n\u001b[1;32m      7\u001b[0m     \u001b[0;32mif\u001b[0m \u001b[0mlen\u001b[0m\u001b[0;34m(\u001b[0m\u001b[0my\u001b[0m\u001b[0;34m)\u001b[0m \u001b[0;34m==\u001b[0m \u001b[0;34m(\u001b[0m\u001b[0mlen\u001b[0m\u001b[0;34m(\u001b[0m\u001b[0mtest\u001b[0m\u001b[0;34m)\u001b[0m\u001b[0;34m)\u001b[0m\u001b[0;34m:\u001b[0m\u001b[0;34m\u001b[0m\u001b[0;34m\u001b[0m\u001b[0m\n",
      "\u001b[0;31mIndexError\u001b[0m: list index out of range"
     ]
    }
   ],
   "source": [
    "test=['This','is','my','car']\n",
    "y=[]\n",
    "for i in range(len(test)):\n",
    "    print(i)\n",
    "    y.append(test[i]+test[i+1])\n",
    "    i+=2\n",
    "    if len(y) == (len(test)):\n",
    "        print(\"True\")\n",
    "        break"
   ]
  },
  {
   "cell_type": "code",
   "execution_count": 2147,
   "id": "cc6129e6",
   "metadata": {},
   "outputs": [
    {
     "data": {
      "text/plain": [
       "['ab', 'bc', 'cd']"
      ]
     },
     "execution_count": 2147,
     "metadata": {},
     "output_type": "execute_result"
    }
   ],
   "source": [
    "y"
   ]
  },
  {
   "cell_type": "code",
   "execution_count": 2127,
   "id": "575ef4bf",
   "metadata": {},
   "outputs": [
    {
     "name": "stdout",
     "output_type": "stream",
     "text": [
      "0\n",
      "True\n"
     ]
    }
   ],
   "source": [
    "test=['a','b','c','d']\n",
    "y=[]\n",
    "for i in range(len(test)):\n",
    "    print(i)\n",
    "    y.append(test[i]+test[i+1])\n",
    "    i+=2\n",
    "    if len(y) == (len(test)-3):\n",
    "        print(\"True\")\n",
    "        break"
   ]
  },
  {
   "cell_type": "code",
   "execution_count": 2125,
   "id": "b3bc2764",
   "metadata": {},
   "outputs": [
    {
     "data": {
      "text/plain": [
       "['ab']"
      ]
     },
     "execution_count": 2125,
     "metadata": {},
     "output_type": "execute_result"
    }
   ],
   "source": [
    "y"
   ]
  },
  {
   "cell_type": "code",
   "execution_count": 30,
   "id": "224b8638",
   "metadata": {},
   "outputs": [],
   "source": [
    "#Combine Final_Query_Lemmatized using the previous approach\n",
    "Final_Query=[]\n",
    "for i in range(len(Final_Query_Lemmatized)):\n",
    "    #print(i)\n",
    "    Final_Query.append(Final_Query_Lemmatized[i]+\" \"+Final_Query_Lemmatized[i+1])\n",
    "    i+=2\n",
    "    if len(Final_Query) == (len(Final_Query_Lemmatized)-2):\n",
    "        #print(\"True\")\n",
    "        break"
   ]
  },
  {
   "cell_type": "code",
   "execution_count": 50,
   "id": "9f23ebd5",
   "metadata": {},
   "outputs": [],
   "source": [
    "Final_Query.append(Final_Query_Lemmatized[20])"
   ]
  },
  {
   "cell_type": "code",
   "execution_count": 54,
   "id": "703d6edb",
   "metadata": {},
   "outputs": [
    {
     "data": {
      "text/plain": [
       "'then o jinni i married the herdsman daughter to him and she transformed my wife into this gazelle sayingher shape is a comely and by no mean loathsome after this she abode with u night and day day and night till the almighty took her to himself'"
      ]
     },
     "execution_count": 54,
     "metadata": {},
     "output_type": "execute_result"
    }
   ],
   "source": []
  },
  {
   "cell_type": "code",
   "execution_count": 46,
   "id": "cb18e304",
   "metadata": {},
   "outputs": [
    {
     "data": {
      "text/plain": [
       "'when she deceased my son fared forth to the city of hind even to the city of this man who hath done to thee what hath been donefn51 and i also took this gazelle my cousin and wandered with her from town to town seeking tidings of my'"
      ]
     },
     "execution_count": 46,
     "metadata": {},
     "output_type": "execute_result"
    }
   ],
   "source": []
  },
  {
   "cell_type": "code",
   "execution_count": 39,
   "id": "e3dcfbab",
   "metadata": {},
   "outputs": [],
   "source": [
    "#Combine Final_Query_Lemmatized using the previous approach\n",
    "Final_Target=[]\n",
    "for i in range(len(Final_Target_Lemmatized)):\n",
    "    #print(i)\n",
    "    Final_Target.append(Final_Target_Lemmatized[i]+\" \"+Final_Target_Lemmatized[i+1])\n",
    "    i+=1\n",
    "    if len(Final_Target) == (len(Final_Target_Lemmatized)-1):\n",
    "        #print(\"True\")\n",
    "        break"
   ]
  },
  {
   "cell_type": "code",
   "execution_count": 56,
   "id": "3a8aa9de",
   "metadata": {},
   "outputs": [],
   "source": [
    "Final_Target.append(Final_Target_Lemmatized[100])"
   ]
  },
  {
   "cell_type": "code",
   "execution_count": 30,
   "id": "f9b6da65",
   "metadata": {},
   "outputs": [
    {
     "ename": "NameError",
     "evalue": "name 'Final_Query' is not defined",
     "output_type": "error",
     "traceback": [
      "\u001b[0;31m---------------------------------------------------------------------------\u001b[0m",
      "\u001b[0;31mNameError\u001b[0m                                 Traceback (most recent call last)",
      "\u001b[0;32m/var/folders/82/58plxq9d79373wycjp789qfm0000gn/T/ipykernel_1451/3107809447.py\u001b[0m in \u001b[0;36m<module>\u001b[0;34m\u001b[0m\n\u001b[1;32m      3\u001b[0m \u001b[0;34m\u001b[0m\u001b[0m\n\u001b[1;32m      4\u001b[0m \u001b[0mmodel\u001b[0m \u001b[0;34m=\u001b[0m \u001b[0mSentenceTransformer\u001b[0m\u001b[0;34m(\u001b[0m\u001b[0;34m'stsb-roberta-large'\u001b[0m\u001b[0;34m)\u001b[0m\u001b[0;34m\u001b[0m\u001b[0;34m\u001b[0m\u001b[0m\n\u001b[0;32m----> 5\u001b[0;31m \u001b[0mquery\u001b[0m \u001b[0;34m=\u001b[0m \u001b[0mFinal_Query\u001b[0m\u001b[0;34m[\u001b[0m\u001b[0;36m9\u001b[0m\u001b[0;34m]\u001b[0m\u001b[0;34m\u001b[0m\u001b[0;34m\u001b[0m\u001b[0m\n\u001b[0m\u001b[1;32m      6\u001b[0m \u001b[0;31m# encode corpus to get corpus embeddings\u001b[0m\u001b[0;34m\u001b[0m\u001b[0;34m\u001b[0m\u001b[0m\n\u001b[1;32m      7\u001b[0m \u001b[0mcandidates_embeddings\u001b[0m \u001b[0;34m=\u001b[0m \u001b[0mmodel\u001b[0m\u001b[0;34m.\u001b[0m\u001b[0mencode\u001b[0m\u001b[0;34m(\u001b[0m\u001b[0mFinal_Target\u001b[0m\u001b[0;34m,\u001b[0m \u001b[0mconvert_to_tensor\u001b[0m\u001b[0;34m=\u001b[0m\u001b[0;32mTrue\u001b[0m\u001b[0;34m)\u001b[0m\u001b[0;34m\u001b[0m\u001b[0;34m\u001b[0m\u001b[0m\n",
      "\u001b[0;31mNameError\u001b[0m: name 'Final_Query' is not defined"
     ]
    }
   ],
   "source": [
    "from sentence_transformers import SentenceTransformer, util\n",
    "import numpy as np\n",
    "\n",
    "model = SentenceTransformer('stsb-roberta-large')\n",
    "query = Final_Query[9]\n",
    "# encode corpus to get corpus embeddings\n",
    "candidates_embeddings = model.encode(Final_Target, convert_to_tensor=True)\n",
    "# encode sentence to get sentence embeddings\n",
    "sentence_embedding = model.encode(query, convert_to_tensor=True)\n",
    "# top_k results to return\n",
    "top_k=30\n",
    "# compute similarity scores of the sentence with the corpus\n",
    "cos_scores = util.pytorch_cos_sim(sentence_embedding, candidates_embeddings)[0]\n",
    "# Sort the results in decreasing order and get the first top_k\n",
    "top_results = np.argpartition(-cos_scores, range(top_k))[0:top_k]\n",
    "print(\"Sentence:\", query, \"\\n\")\n",
    "print(\"Top\", top_k, \"most similar sentences in corpus:\")\n",
    "NW_Candiadates1=[]\n",
    "for idx in range(len(top_results)):\n",
    "    #print(corpus[idx], \"(Score: %.4f)\" % (cos_scores[idx]))\n",
    "    NW_Candiadates1.append(corpus[idx])"
   ]
  },
  {
   "cell_type": "code",
   "execution_count": 164,
   "id": "a7f2ea89",
   "metadata": {},
   "outputs": [],
   "source": [
    "Final_NW=[]\n",
    "for i in NW_Candiadates1:\n",
    "    Final_NW.append(\" \".join(i))"
   ]
  },
  {
   "cell_type": "code",
   "execution_count": null,
   "id": "5b4980b9",
   "metadata": {},
   "outputs": [],
   "source": []
  },
  {
   "cell_type": "code",
   "execution_count": null,
   "id": "694ed601",
   "metadata": {},
   "outputs": [],
   "source": []
  },
  {
   "cell_type": "code",
   "execution_count": 165,
   "id": "e6c7f530",
   "metadata": {},
   "outputs": [
    {
     "name": "stdout",
     "output_type": "stream",
     "text": [
      "Query:  when she deceased my son fared forth to the city of hind even to the city of this man who hath done to thee what hath been donefn51 and i also took this gazelle my cousin and wandered with her from town to town seeking tidings of my \n",
      "\n",
      "Target Sentence: \n",
      " the girl stayed with u for some time until god chose to take her to himself and my son went off to india the country of the man with whom you have had this experience i myself took my wife this gazelle and have travelled from place to place looking for news of him until fate brought me here and i saw this merchant sitting weeping \n",
      "\n",
      "Perecent Identity using NW: 19.31\n"
     ]
    }
   ],
   "source": [
    "from minineedle import needle, core\n",
    "\n",
    "\n",
    "R = {} # Dicitonary to Save query, target sentence, precent identity and the actual aligmnet\n",
    "query=Final_Query[19].split()\n",
    "for i in Final_NW:\n",
    "    #print(\"t--------------\",i)\n",
    "    alignment = needle.NeedlemanWunsch(query, i.split())\n",
    "    x = alignment.get_identity()\n",
    "    y = alignment \n",
    "    R[i]=[x , query, i, y]\n",
    "max_value = max(R.values())\n",
    "print('Query: ',Final_Query[19],'\\n')\n",
    "print('Target Sentence: \\n',max_value[2],'\\n')\n",
    "print('Perecent Identity using NW:',max_value[0])\n",
    "#print('\\n',max_value[3]) "
   ]
  },
  {
   "cell_type": "code",
   "execution_count": null,
   "id": "67c3cd37",
   "metadata": {},
   "outputs": [],
   "source": [
    "Correct: 0,1,2,3,4,5,6,7,8,9,10,11,12,13,14,15,16,17,18,19"
   ]
  },
  {
   "cell_type": "code",
   "execution_count": 232,
   "id": "3072e35c",
   "metadata": {},
   "outputs": [],
   "source": [
    "test=['a','b','c','d','e']\n",
    "list1=[]\n",
    "list2=[]\n",
    "for i in range(len(test)):\n",
    "    if (i % 2) == 0:    \n",
    "        list1.append(test[i])\n",
    "    else:\n",
    "        list2.append(test[i]) "
   ]
  },
  {
   "cell_type": "code",
   "execution_count": 233,
   "id": "0d0f44a8",
   "metadata": {},
   "outputs": [
    {
     "data": {
      "text/plain": [
       "['a', 'c', 'e']"
      ]
     },
     "execution_count": 233,
     "metadata": {},
     "output_type": "execute_result"
    }
   ],
   "source": [
    "list1"
   ]
  },
  {
   "cell_type": "code",
   "execution_count": 234,
   "id": "217479af",
   "metadata": {},
   "outputs": [
    {
     "data": {
      "text/plain": [
       "['b', 'd']"
      ]
     },
     "execution_count": 234,
     "metadata": {},
     "output_type": "execute_result"
    }
   ],
   "source": [
    "list2"
   ]
  },
  {
   "cell_type": "code",
   "execution_count": 237,
   "id": "04c3c07d",
   "metadata": {},
   "outputs": [
    {
     "name": "stdout",
     "output_type": "stream",
     "text": [
      "('a', 'b')\n",
      "('a', 'd')\n",
      "('c', 'b')\n",
      "('c', 'd')\n",
      "('e', 'b')\n",
      "('e', 'd')\n"
     ]
    }
   ],
   "source": [
    "import itertools\n",
    "\n",
    "\n",
    "somelists = [list1] + [list2]\n",
    "for element in itertools.product(*somelists):\n",
    "    print(element) "
   ]
  },
  {
   "cell_type": "code",
   "execution_count": 239,
   "id": "90ddab74",
   "metadata": {},
   "outputs": [
    {
     "data": {
      "text/plain": [
       "['a', 'c', 'e']"
      ]
     },
     "execution_count": 239,
     "metadata": {},
     "output_type": "execute_result"
    }
   ],
   "source": [
    "somelists[0]"
   ]
  },
  {
   "cell_type": "code",
   "execution_count": 220,
   "id": "8e34bff8",
   "metadata": {},
   "outputs": [],
   "source": [
    "prefinal=list(zip(list1, list2))"
   ]
  },
  {
   "cell_type": "code",
   "execution_count": 221,
   "id": "fb199ed3",
   "metadata": {},
   "outputs": [
    {
     "data": {
      "text/plain": [
       "[('a', 'b'), ('c', 'd')]"
      ]
     },
     "execution_count": 221,
     "metadata": {},
     "output_type": "execute_result"
    }
   ],
   "source": [
    "prefinal"
   ]
  },
  {
   "cell_type": "code",
   "execution_count": 197,
   "id": "6bf8fff0",
   "metadata": {},
   "outputs": [
    {
     "data": {
      "text/plain": [
       "[['a', 'b'], ['c', 'd']]"
      ]
     },
     "execution_count": 197,
     "metadata": {},
     "output_type": "execute_result"
    }
   ],
   "source": [
    "X"
   ]
  },
  {
   "cell_type": "code",
   "execution_count": 2037,
   "id": "ac5a1899",
   "metadata": {},
   "outputs": [
    {
     "data": {
      "text/plain": [
       "26"
      ]
     },
     "execution_count": 2037,
     "metadata": {},
     "output_type": "execute_result"
    }
   ],
   "source": [
    "len(Final_Target_Lemmatized)"
   ]
  },
  {
   "cell_type": "code",
   "execution_count": 1920,
   "id": "0e474b8f",
   "metadata": {},
   "outputs": [
    {
     "name": "stdout",
     "output_type": "stream",
     "text": [
      "Query:  now when i heard o jinni these the word of the herdsman daughter i replied beside what thou askest all the cattle and the house hold stuff in thy father charge are thine and a for the daughter of my uncle her blood is lawful to thee \n",
      "\n",
      "Target Sentence: \n",
      " when i heard what she had to say i promised to give her what she wanted a well a everything that wa in her father charge adding that i would even give her permission to kill my wife \n",
      "\n",
      "Perecent Identity using NW: 17.02\n"
     ]
    }
   ],
   "source": [
    "from minineedle import needle, core\n",
    "\n",
    "\n",
    "R = {} # Dicitonary to Save query, target sentence, precent identity and the actual aligmnet\n",
    "query=Final_Query_Lemmatized[14].split()\n",
    "for i in Final_Target_Lemmatized:\n",
    "    #print(\"t--------------\",i)\n",
    "    alignment = needle.NeedlemanWunsch(query, i.split())\n",
    "    x = alignment.get_identity()\n",
    "    y = alignment \n",
    "    R[i]=[x , query, i, y]\n",
    "max_value = max(R.values())\n",
    "print('Query: ',Final_Query_Lemmatized[14],'\\n')\n",
    "print('Target Sentence: \\n',max_value[2],'\\n')\n",
    "print('Perecent Identity using NW:',max_value[0])\n",
    "#print('\\n',max_value[3]) "
   ]
  },
  {
   "cell_type": "code",
   "execution_count": null,
   "id": "ebb278fe",
   "metadata": {},
   "outputs": [],
   "source": []
  },
  {
   "cell_type": "code",
   "execution_count": null,
   "id": "e56903c4",
   "metadata": {},
   "outputs": [],
   "source": []
  },
  {
   "cell_type": "code",
   "execution_count": null,
   "id": "0e04cdc2",
   "metadata": {},
   "outputs": [],
   "source": []
  },
  {
   "cell_type": "code",
   "execution_count": 1581,
   "id": "82f7f7af",
   "metadata": {},
   "outputs": [
    {
     "name": "stdout",
     "output_type": "stream",
     "text": [
      "Sentence: when it wa the second night said dunyazad to her sister shahrazad o my sister finish for u that story of the merchant and the jinni and she answered with joy and goodly gree if the king permit me then quoth the king tell thy tale and shahrazad began in these word it hath reached me o auspicious king and heaven directed ruler that when the merchant purposed the sacrifice of the calf but saw it weeping his heart relented and he said to the herdsman keep the calf among my cattle all this the old shaykh told the jinni who marvelled much at these strange word \n",
      "\n",
      "Top 11 most similar sentences in corpus:\n",
      "['the', 'ifrit', 'was', 'listening', 'with', 'astonishment', 'to', 'what', 'the', 'old', 'man', 'with', 'the', 'gazelle', 'was', 'saying', 'and', 'the', 'man', 'went', 'on', 'lord', 'of', 'the', 'kings', 'of', 'the', 'jinn', 'while', 'all', 'this', 'was', 'going', 'on', 'my', 'wife', 'now', 'this', 'gazelle', 'was', 'looking', 'on', 'and', 'telling', 'me', 'to', 'kill', 'the', 'calf', 'because', 'it', 'was', 'fat', 'but', 'i', 'could', 'not', 'bring', 'myself', 'to', 'do', 'this', 'and', 'so', 'i', 'told', 'the', 'herdsman', 'to', 'take', 'it', 'away', 'which', 'he', 'did'] (Score: 0.7001)\n",
      "['the', 'next', 'day', 'as', 'i', 'was', 'sitting', 'there', 'he', 'came', 'back', 'to', 'me', 'and', 'said', 'i', 'have', 'something', 'to', 'tell', 'you', 'that', 'will', 'please', 'you', 'and', 'you', 'owe', 'me', 'a', 'reward', 'for', 'my', 'good', 'news'] (Score: 0.6727)\n",
      "['yesterday', 'when', 'you', 'gave', 'me', 'the', 'calf', 'i', 'went', 'to', 'the', 'girl', 'and', 'when', 'she', 'saw', 'it', 'she', 'covered', 'her', 'face', 'shed', 'tears', 'but', 'then', 'burst', 'into', 'laughter'] (Score: 0.6956)\n",
      "['this', 'is', 'why', 'i', 'was', 'laughing', 'but', 'the', 'reason', 'why', 'i', 'wept', 'was', 'that', 'his', 'father', 'killed', 'his', 'mother'] (Score: 0.5014)\n",
      "['when', 'i', 'heard', 'what', 'the', 'man', 'had', 'to', 'say', 'i', 'went', 'out', 'with', 'him', 'drunk', 'although', 'not', 'on', 'wine', 'with', 'the', 'joy', 'and', 'delight', 'that', 'i', 'was', 'feeling'] (Score: 0.5075)\n",
      "['when', 'i', 'got', 'to', 'his', 'house', 'his', 'daughter', 'welcomed', 'me', 'kissing', 'my', 'hands', 'while', 'the', 'calf', 'came', 'and', 'rolled', 'on', 'the', 'ground', 'in', 'front', 'of', 'me'] (Score: 0.5057)\n",
      "['girl', 'i', 'told', 'her', 'if', 'you', 'free', 'him', 'you', 'can', 'have', 'all', 'the', 'beasts', 'and', 'everything', 'else', 'that', 'your', 'father', 'looks', 'after'] (Score: 0.5183)\n",
      "['at', 'that', 'she', 'took', 'a', 'bowl', 'filled', 'it', 'with', 'water', 'and', 'recited', 'a', 'spell', 'over', 'it', 'after', 'which', 'she', 'sprinkled', 'the', 'water', 'over', 'the', 'calf', 'saying', 'if', 'you', 'are', 'a', 'calf', 'and', 'this', 'is', 'how', 'almighty', 'god', 'created', 'you', 'stay', 'in', 'this', 'shape', 'and', 'dont', 'change', 'but', 'if', 'you', 'are', 'under', 'a', 'spell', 'then', 'return', 'to', 'your', 'original', 'shape', 'with', 'the', 'permission', 'of', 'almighty', 'god'] (Score: 0.4109)\n",
      "['the', 'calf', 'shuddered', 'and', 'became', 'a', 'man', 'at', 'which', 'i', 'fell', 'on', 'him', 'and', 'said', 'for', 'gods', 'sake', 'tell', 'me', 'what', 'my', 'wife', 'did', 'to', 'you', 'and', 'your', 'mother'] (Score: 0.5552)\n",
      "['he', 'told', 'me', 'what', 'had', 'happened', 'and', 'i', 'said', 'my', 'son', 'god', 'has', 'sent', 'you', 'a', 'rescuer', 'to', 'restore', 'your', 'rights'] (Score: 0.4623)\n",
      "['i', 'then', 'married', 'the', 'herdsmans', 'daughter', 'to', 'him', 'and', 'she', 'transformed', 'my', 'wife', 'into', 'this', 'gazelle', 'saying', 'this', 'is', 'a', 'beautiful', 'shape', 'and', 'not', 'a', 'brutish', 'one', 'repellent', 'to', 'the', 'sight'] (Score: 0.6780)\n"
     ]
    }
   ],
   "source": [
    "from sentence_transformers import SentenceTransformer, util\n",
    "import numpy as np\n",
    "\n",
    "model = SentenceTransformer('stsb-roberta-large')\n",
    "query = Final_Query_Lemmatized[0]\n",
    "# encode corpus to get corpus embeddings\n",
    "candidates_embeddings = model.encode(candidates, convert_to_tensor=True)\n",
    "# encode sentence to get sentence embeddings\n",
    "sentence_embedding = model.encode(query, convert_to_tensor=True)\n",
    "# top_k results to return\n",
    "top_k=len(candidates)\n",
    "# compute similarity scores of the sentence with the corpus\n",
    "cos_scores = util.pytorch_cos_sim(sentence_embedding, candidates_embeddings)[0]\n",
    "# Sort the results in decreasing order and get the first top_k\n",
    "top_results = np.argpartition(-cos_scores, range(top_k))[0:top_k]\n",
    "print(\"Sentence:\", query, \"\\n\")\n",
    "print(\"Top\", top_k, \"most similar sentences in corpus:\")\n",
    "NW2_Candidates=[]\n",
    "for idx in range(len(top_results)):\n",
    "    print(corpus[idx], \"(Score: %.4f)\" % (cos_scores[idx]))\n",
    "    NW2_Candidates.append(corpus[idx])"
   ]
  },
  {
   "cell_type": "code",
   "execution_count": 1582,
   "id": "6820a7bc",
   "metadata": {},
   "outputs": [],
   "source": [
    "NW3=[]\n",
    "for i in NW2_Candidates:\n",
    "    NW3.append(\" \".join(i))"
   ]
  },
  {
   "cell_type": "code",
   "execution_count": null,
   "id": "1f46f45b",
   "metadata": {},
   "outputs": [],
   "source": []
  },
  {
   "cell_type": "code",
   "execution_count": 1583,
   "id": "a4c328fa",
   "metadata": {},
   "outputs": [
    {
     "name": "stdout",
     "output_type": "stream",
     "text": [
      "Query:  when it wa the second night said dunyazad to her sister shahrazad o my sister finish for u that story of the merchant and the jinni and she answered with joy and goodly gree if the king permit me then quoth the king tell thy tale and shahrazad began in these word it hath reached me o auspicious king and heaven directed ruler that when the merchant purposed the sacrifice of the calf but saw it weeping his heart relented and he said to the herdsman keep the calf among my cattle all this the old shaykh told the jinni who marvelled much at these strange word \n",
      "\n",
      "Target Sentence: \n",
      " the ifrit was listening with astonishment to what the old man with the gazelle was saying and the man went on lord of the kings of the jinn while all this was going on my wife now this gazelle was looking on and telling me to kill the calf because it was fat but i could not bring myself to do this and so i told the herdsman to take it away which he did \n",
      "\n",
      "Perecent Identity using NW: 14.32\n"
     ]
    }
   ],
   "source": [
    "from minineedle import needle, core\n",
    "\n",
    "\n",
    "R = {} # Dicitonary to Save query, target sentence, precent identity and the actual aligmnet\n",
    "query=Final_Query_Lemmatized[0].split()\n",
    "for i in NW3:\n",
    "    alignment = needle.NeedlemanWunsch(query, i.split())\n",
    "    x = alignment.get_identity()\n",
    "    y = alignment \n",
    "    R[i]=[x , query, i, y]\n",
    "max_value = max(R.values())\n",
    "print('Query: ',Final_Query_Lemmatized[0],'\\n')\n",
    "print('Target Sentence: \\n',max_value[2],'\\n')\n",
    "print('Perecent Identity using NW:',max_value[0])\n",
    "#print('\\n',max_value[3])"
   ]
  },
  {
   "cell_type": "code",
   "execution_count": null,
   "id": "3bbae95d",
   "metadata": {},
   "outputs": [],
   "source": []
  },
  {
   "cell_type": "code",
   "execution_count": 1435,
   "id": "56547705",
   "metadata": {},
   "outputs": [
    {
     "data": {
      "text/plain": [
       "'the ifrit wa listening with astonishment to what the old man with the gazelle wa saying and the man went on lord of the king of the jinni while all this wa going on my wife now this gazelle wa looking on and telling me to kill the calf because it wa fat but i could not bring myself to do this and so i told the herdsman to take it away which he did the next day a i wa sitting there he came back to me and said i have something to tell you that will please you and you owe me a reward for my good news i agreed to this and he went on master i have a daughter who a a young girl wa taught magic by an old woman we had staying with u yesterday when you gave me the calf i went to the girl and when she saw it she covered her face shed tear but then burst into laughter then she said father do you hold me so cheap that you bring strange men in to me where are these strange men i asked and why are you laughing and cry she said this calf you have with you is our master son who is under a spell laid upon him and his mother by his father wife this is why i wa laughing but the reason why i wept wa that his father killed his mother i wa astonished by this and a soon a i found that it wa morning i came to tell you when i heard what the man had to say i went out with him drunk although not on wine with the joy and delight that i wa feeling when i got to his house his daughter welcomed me kissing my hand while the calf came and rolled on the ground in front of me i asked her is what you say about this calf true yes master she assured me this is your darling son girl i told her if you free him you can have all the beast and everything else that your father look after she smiled and said master i only want this on two condition the first being that you marry me to him and the second that i be allowed to put a spell on the one who enchanted him and keep her confined for otherwise i shall not be safe from her scheming when i heard what she had to say i promised to give her what she wanted a well a everything that wa in her father charge adding that i would even give her permission to kill my wife at that she took a bowl filled it with water and recited a spell over it after which she sprinkled the water over the calf saying if you are a calf and this is how almighty god created you stay in this shape and dont change but if you are under a spell then return to your original shape with the permission of almighty god the calf shuddered and became a man at which i fell on him and said for god sake tell me what my wife did to you and your mother he told me what had happened and i said my son god ha sent you a rescuer to restore your right i then married the herdsman daughter to him and she transformed my wife into this gazelle saying this is a beautiful shape and not a brutish one repellent to the sight the girl stayed with u for some time until god chose to take her to himself and my son went off to india the country of the man with whom you have had this experience i myself took my wife this gazelle and have travelled from place to place looking for news of him until fate brought me here and i saw this merchant sitting weeping this is my story'"
      ]
     },
     "execution_count": 1435,
     "metadata": {},
     "output_type": "execute_result"
    }
   ],
   "source": [
    "Final_Target_Lemmatized[1]"
   ]
  },
  {
   "cell_type": "code",
   "execution_count": 1425,
   "id": "6e7b6921",
   "metadata": {},
   "outputs": [
    {
     "name": "stdout",
     "output_type": "stream",
     "text": [
      "Sentence: when it wa the second night said dunyazad to her sister shahrazad o my sister finish for u that story of the merchant and the jinni and she answered with joy and goodly gree if the king permit me then quoth the king tell thy tale and shahrazad began in these word it hath reached me o auspicious king and heaven directed ruler that when the merchant purposed the sacrifice of the calf but saw it weeping his heart relented and he said to the herdsman keep the calf among my cattle all this the old shaykh told the jinni who marvelled much at these strange word \n",
      "\n",
      "Top 9 most similar sentences in corpus:\n",
      "['the', 'ifrit', 'was', 'listening', 'with', 'astonishment', 'to', 'what', 'the', 'old', 'man', 'with', 'the', 'gazelle', 'was', 'saying', 'and', 'the', 'man', 'went', 'on', 'lord', 'of', 'the', 'kings', 'of', 'the', 'jinn', 'while', 'all', 'this', 'was', 'going', 'on', 'my', 'wife', 'now', 'this', 'gazelle', 'was', 'looking', 'on', 'and', 'telling', 'me', 'to', 'kill', 'the', 'calf', 'because', 'it', 'was', 'fat', 'but', 'i', 'could', 'not', 'bring', 'myself', 'to', 'do', 'this', 'and', 'so', 'i', 'told', 'the', 'herdsman', 'to', 'take', 'it', 'away', 'which', 'he', 'did'] (Score: 0.9232)\n",
      "['the', 'next', 'day', 'as', 'i', 'was', 'sitting', 'there', 'he', 'came', 'back', 'to', 'me', 'and', 'said', 'i', 'have', 'something', 'to', 'tell', 'you', 'that', 'will', 'please', 'you', 'and', 'you', 'owe', 'me', 'a', 'reward', 'for', 'my', 'good', 'news'] (Score: 0.7638)\n",
      "['yesterday', 'when', 'you', 'gave', 'me', 'the', 'calf', 'i', 'went', 'to', 'the', 'girl', 'and', 'when', 'she', 'saw', 'it', 'she', 'covered', 'her', 'face', 'shed', 'tears', 'but', 'then', 'burst', 'into', 'laughter'] (Score: 0.5473)\n",
      "['this', 'is', 'why', 'i', 'was', 'laughing', 'but', 'the', 'reason', 'why', 'i', 'wept', 'was', 'that', 'his', 'father', 'killed', 'his', 'mother'] (Score: 0.3408)\n",
      "['when', 'i', 'heard', 'what', 'the', 'man', 'had', 'to', 'say', 'i', 'went', 'out', 'with', 'him', 'drunk', 'although', 'not', 'on', 'wine', 'with', 'the', 'joy', 'and', 'delight', 'that', 'i', 'was', 'feeling'] (Score: 0.5183)\n",
      "['when', 'i', 'got', 'to', 'his', 'house', 'his', 'daughter', 'welcomed', 'me', 'kissing', 'my', 'hands', 'while', 'the', 'calf', 'came', 'and', 'rolled', 'on', 'the', 'ground', 'in', 'front', 'of', 'me'] (Score: 0.5910)\n",
      "['girl', 'i', 'told', 'her', 'if', 'you', 'free', 'him', 'you', 'can', 'have', 'all', 'the', 'beasts', 'and', 'everything', 'else', 'that', 'your', 'father', 'looks', 'after'] (Score: 0.5552)\n",
      "['at', 'that', 'she', 'took', 'a', 'bowl', 'filled', 'it', 'with', 'water', 'and', 'recited', 'a', 'spell', 'over', 'it', 'after', 'which', 'she', 'sprinkled', 'the', 'water', 'over', 'the', 'calf', 'saying', 'if', 'you', 'are', 'a', 'calf', 'and', 'this', 'is', 'how', 'almighty', 'god', 'created', 'you', 'stay', 'in', 'this', 'shape', 'and', 'dont', 'change', 'but', 'if', 'you', 'are', 'under', 'a', 'spell', 'then', 'return', 'to', 'your', 'original', 'shape', 'with', 'the', 'permission', 'of', 'almighty', 'god'] (Score: 0.4623)\n",
      "['the', 'calf', 'shuddered', 'and', 'became', 'a', 'man', 'at', 'which', 'i', 'fell', 'on', 'him', 'and', 'said', 'for', 'gods', 'sake', 'tell', 'me', 'what', 'my', 'wife', 'did', 'to', 'you', 'and', 'your', 'mother'] (Score: 0.6780)\n"
     ]
    }
   ],
   "source": [
    "from sentence_transformers import SentenceTransformer, util\n",
    "import numpy as np\n",
    "\n",
    "model = SentenceTransformer('stsb-roberta-large')\n",
    "query = Final_Query_Lemmatized[0]\n",
    "# encode corpus to get corpus embeddings\n",
    "candidates_embeddings = model.encode(candidates, convert_to_tensor=True)\n",
    "# encode sentence to get sentence embeddings\n",
    "sentence_embedding = model.encode(query, convert_to_tensor=True)\n",
    "# top_k results to return\n",
    "top_k=len(candidates)\n",
    "# compute similarity scores of the sentence with the corpus\n",
    "cos_scores = util.pytorch_cos_sim(sentence_embedding, candidates_embeddings)[0]\n",
    "# Sort the results in decreasing order and get the first top_k\n",
    "top_results = np.argpartition(-cos_scores, range(top_k))[0:top_k]\n",
    "print(\"Sentence:\", query, \"\\n\")\n",
    "print(\"Top\", top_k, \"most similar sentences in corpus:\")\n",
    "NW2_Candidates=[]\n",
    "for idx in range(len(top_results)):\n",
    "    print(corpus[idx], \"(Score: %.4f)\" % (cos_scores[idx]))\n",
    "    NW2_Candidates.append(corpus[idx])"
   ]
  },
  {
   "cell_type": "code",
   "execution_count": 1426,
   "id": "ca739be1",
   "metadata": {},
   "outputs": [],
   "source": [
    "NW3=[]\n",
    "for i in NW2_Candidates:\n",
    "    NW3.append(\" \".join(i))"
   ]
  },
  {
   "cell_type": "code",
   "execution_count": 1427,
   "id": "f5a53d51",
   "metadata": {},
   "outputs": [
    {
     "name": "stdout",
     "output_type": "stream",
     "text": [
      "Query:  when it wa the second night said dunyazad to her sister shahrazad o my sister finish for u that story of the merchant and the jinni and she answered with joy and goodly gree if the king permit me then quoth the king tell thy tale and shahrazad began in these word it hath reached me o auspicious king and heaven directed ruler that when the merchant purposed the sacrifice of the calf but saw it weeping his heart relented and he said to the herdsman keep the calf among my cattle all this the old shaykh told the jinni who marvelled much at these strange word \n",
      "\n",
      "Target Sentence: \n",
      " the ifrit was listening with astonishment to what the old man with the gazelle was saying and the man went on lord of the kings of the jinn while all this was going on my wife now this gazelle was looking on and telling me to kill the calf because it was fat but i could not bring myself to do this and so i told the herdsman to take it away which he did \n",
      "\n",
      "Perecent Identity using NW: 14.32\n"
     ]
    }
   ],
   "source": [
    "from minineedle import needle, core\n",
    "\n",
    "\n",
    "R = {} # Dicitonary to Save query, target sentence, precent identity and the actual aligmnet\n",
    "query=Final_Query_Lemmatized[0].split()\n",
    "for i in NW3:\n",
    "    alignment = needle.NeedlemanWunsch(query, i.split())\n",
    "    x = alignment.get_identity()\n",
    "    y = alignment \n",
    "    R[i]=[x , query, i, y]\n",
    "max_value = max(R.values())\n",
    "print('Query: ',Final_Query_Lemmatized[0],'\\n')\n",
    "print('Target Sentence: \\n',max_value[2],'\\n')\n",
    "print('Perecent Identity using NW:',max_value[0])\n",
    "#print('\\n',max_value[3])"
   ]
  },
  {
   "cell_type": "code",
   "execution_count": null,
   "id": "7a7a8acd",
   "metadata": {},
   "outputs": [],
   "source": []
  },
  {
   "cell_type": "code",
   "execution_count": null,
   "id": "320f6e85",
   "metadata": {},
   "outputs": [],
   "source": []
  },
  {
   "cell_type": "code",
   "execution_count": null,
   "id": "5b814a97",
   "metadata": {},
   "outputs": [],
   "source": []
  },
  {
   "cell_type": "code",
   "execution_count": null,
   "id": "ca45b6c2",
   "metadata": {},
   "outputs": [],
   "source": []
  },
  {
   "cell_type": "code",
   "execution_count": null,
   "id": "7970dd8f",
   "metadata": {},
   "outputs": [],
   "source": []
  },
  {
   "cell_type": "code",
   "execution_count": null,
   "id": "a3b444d3",
   "metadata": {},
   "outputs": [],
   "source": []
  },
  {
   "cell_type": "code",
   "execution_count": null,
   "id": "9c2af59d",
   "metadata": {},
   "outputs": [],
   "source": []
  },
  {
   "cell_type": "code",
   "execution_count": null,
   "id": "0d425b28",
   "metadata": {},
   "outputs": [],
   "source": []
  },
  {
   "cell_type": "code",
   "execution_count": null,
   "id": "d38fa68f",
   "metadata": {},
   "outputs": [],
   "source": []
  },
  {
   "cell_type": "code",
   "execution_count": null,
   "id": "54f76c47",
   "metadata": {},
   "outputs": [],
   "source": []
  },
  {
   "cell_type": "code",
   "execution_count": null,
   "id": "d24418a9",
   "metadata": {},
   "outputs": [],
   "source": []
  },
  {
   "cell_type": "code",
   "execution_count": 784,
   "id": "f5467d49",
   "metadata": {},
   "outputs": [
    {
     "data": {
      "text/plain": [
       "102"
      ]
     },
     "execution_count": 784,
     "metadata": {},
     "output_type": "execute_result"
    }
   ],
   "source": [
    "x = NW_Candiadates1[0].split(\".\")\n",
    "\n",
    "len(x)"
   ]
  },
  {
   "cell_type": "code",
   "execution_count": 785,
   "id": "bbe1b47e",
   "metadata": {},
   "outputs": [],
   "source": [
    "z=query_documents[5].split(\".\")"
   ]
  },
  {
   "cell_type": "code",
   "execution_count": 857,
   "id": "aa743bfd",
   "metadata": {},
   "outputs": [
    {
     "data": {
      "text/plain": [
       "'\\n\\nThe ‘ifrit was listening with astonishment to what the old man with the gazelle was saying, AND THE MAN WENT ON:\\n\\nLord of the kings of the jinn, while all this was going on, my wife, now this gazelle, was looking on and telling me to kill the calf, because it was fat, but I could not bring myself to do this and so I told the herdsman to take it away, which he did'"
      ]
     },
     "execution_count": 857,
     "metadata": {},
     "output_type": "execute_result"
    }
   ],
   "source": [
    "x[2]"
   ]
  },
  {
   "cell_type": "code",
   "execution_count": 858,
   "id": "67f21f21",
   "metadata": {},
   "outputs": [
    {
     "data": {
      "text/plain": [
       "'\" All this the old Shaykh told the Jinni\\nwho marvelled much at these strange words'"
      ]
     },
     "execution_count": 858,
     "metadata": {},
     "output_type": "execute_result"
    }
   ],
   "source": [
    "z[2]"
   ]
  },
  {
   "cell_type": "code",
   "execution_count": 875,
   "id": "5e7e4ff2",
   "metadata": {},
   "outputs": [
    {
     "name": "stdout",
     "output_type": "stream",
     "text": [
      "5.33\n",
      "Alignment of Query and Target Sentence is:\n",
      "\t-----------------------------------\"Allthis---------the---------------oldShaykhtoldtheJinniwhomarvelledmuchatthesestrangewords\n",
      "\tThe‘ifritwaslisteningwithastonishmenttowhattheoldmanwiththegazellewassaying,ANDTHEMANWENTON:Lordofthekingsofthejinn,whileallthiswasgoingon,mywife,nowthisgazelle,waslookingonandtellingmetokillthecalf,becauseitwasfat,butIcouldnotbringmyselftodothisandsoItoldtheherdsmantotakeitaway,whichhedid\n",
      "\n"
     ]
    }
   ],
   "source": [
    "from minineedle import needle, core\n",
    "\n",
    "alignment = needle.NeedlemanWunsch(z[2].split(), x[2].split())\n",
    "print(alignment.get_identity())\n",
    "print(alignment)"
   ]
  },
  {
   "cell_type": "code",
   "execution_count": 754,
   "id": "bf40f80c",
   "metadata": {},
   "outputs": [
    {
     "ename": "TypeError",
     "evalue": "'float' object is not subscriptable",
     "output_type": "error",
     "traceback": [
      "\u001b[0;31m---------------------------------------------------------------------------\u001b[0m",
      "\u001b[0;31mTypeError\u001b[0m                                 Traceback (most recent call last)",
      "\u001b[0;32m/var/folders/82/58plxq9d79373wycjp789qfm0000gn/T/ipykernel_1499/3316534208.py\u001b[0m in \u001b[0;36m<module>\u001b[0;34m\u001b[0m\n\u001b[1;32m      4\u001b[0m \u001b[0mR\u001b[0m \u001b[0;34m=\u001b[0m \u001b[0;34m{\u001b[0m\u001b[0;34m}\u001b[0m \u001b[0;31m# Dicitonary to Save query, target sentence, precent identity and the actual aligmnet\u001b[0m\u001b[0;34m\u001b[0m\u001b[0;34m\u001b[0m\u001b[0m\n\u001b[1;32m      5\u001b[0m \u001b[0;32mfor\u001b[0m \u001b[0mi\u001b[0m \u001b[0;32min\u001b[0m \u001b[0mrange\u001b[0m\u001b[0;34m(\u001b[0m\u001b[0mlen\u001b[0m\u001b[0;34m(\u001b[0m\u001b[0mx\u001b[0m\u001b[0;34m)\u001b[0m\u001b[0;34m)\u001b[0m\u001b[0;34m:\u001b[0m\u001b[0;34m\u001b[0m\u001b[0;34m\u001b[0m\u001b[0m\n\u001b[0;32m----> 6\u001b[0;31m     \u001b[0malignment\u001b[0m \u001b[0;34m=\u001b[0m \u001b[0mneedle\u001b[0m\u001b[0;34m.\u001b[0m\u001b[0mNeedlemanWunsch\u001b[0m\u001b[0;34m(\u001b[0m\u001b[0mkk\u001b[0m\u001b[0;34m,\u001b[0m \u001b[0mx\u001b[0m\u001b[0;34m[\u001b[0m\u001b[0mi\u001b[0m\u001b[0;34m]\u001b[0m\u001b[0;34m)\u001b[0m\u001b[0;34m\u001b[0m\u001b[0;34m\u001b[0m\u001b[0m\n\u001b[0m\u001b[1;32m      7\u001b[0m     \u001b[0mx\u001b[0m \u001b[0;34m=\u001b[0m \u001b[0malignment\u001b[0m\u001b[0;34m.\u001b[0m\u001b[0mget_identity\u001b[0m\u001b[0;34m(\u001b[0m\u001b[0;34m)\u001b[0m\u001b[0;34m\u001b[0m\u001b[0;34m\u001b[0m\u001b[0m\n\u001b[1;32m      8\u001b[0m     \u001b[0my\u001b[0m \u001b[0;34m=\u001b[0m \u001b[0malignment\u001b[0m\u001b[0;34m\u001b[0m\u001b[0;34m\u001b[0m\u001b[0m\n",
      "\u001b[0;31mTypeError\u001b[0m: 'float' object is not subscriptable"
     ]
    }
   ],
   "source": [
    "from minineedle import needle, core\n",
    "\n",
    "\n",
    "R = {} # Dicitonary to Save query, target sentence, precent identity and the actual aligmnet\n",
    "for i in range(len(x)):\n",
    "    alignment = needle.NeedlemanWunsch(kk, x[i])\n",
    "    x = alignment.get_identity()\n",
    "    y = alignment \n",
    "    R[i]=[x , y, i, y]\n",
    "max_value = max(R.values())\n",
    "print('Query: ',z[0],'\\n')\n",
    "print('Target Sentence: \\n',max_value[2],'\\n')\n",
    "print('Perecent Identity using NW:',max_value[0])\n",
    "#print('\\n',max_value[3])"
   ]
  },
  {
   "cell_type": "code",
   "execution_count": null,
   "id": "7b2be317",
   "metadata": {},
   "outputs": [],
   "source": []
  },
  {
   "cell_type": "code",
   "execution_count": null,
   "id": "46fdd9b9",
   "metadata": {},
   "outputs": [],
   "source": []
  },
  {
   "cell_type": "code",
   "execution_count": null,
   "id": "23315637",
   "metadata": {},
   "outputs": [],
   "source": []
  },
  {
   "cell_type": "code",
   "execution_count": null,
   "id": "f370a91b",
   "metadata": {},
   "outputs": [],
   "source": []
  },
  {
   "cell_type": "markdown",
   "id": "71f363f8",
   "metadata": {},
   "source": [
    "# Split the candidate to set of pages"
   ]
  },
  {
   "cell_type": "code",
   "execution_count": 539,
   "id": "635565cd",
   "metadata": {},
   "outputs": [],
   "source": [
    "Splitted = NW_Candiadates1[0].split()\n",
    "# if you give no arguments, it will separate by whitespaces by default\n",
    "# [\"A\", \"B\", \"C\", \"D\"]\n",
    "\n",
    "Splitted = NW_Candiadates1[0].split()\n",
    "# you can specify the maximum amount of elements the split() function will output\n",
    "# [\"E\", \"F\", \"G\"]"
   ]
  },
  {
   "cell_type": "code",
   "execution_count": 540,
   "id": "48a6d604",
   "metadata": {},
   "outputs": [
    {
     "data": {
      "text/plain": [
       "'When'"
      ]
     },
     "execution_count": 540,
     "metadata": {},
     "output_type": "execute_result"
    }
   ],
   "source": []
  },
  {
   "cell_type": "code",
   "execution_count": 573,
   "id": "7c4ee477",
   "metadata": {},
   "outputs": [],
   "source": []
  },
  {
   "cell_type": "code",
   "execution_count": 574,
   "id": "978c3e6b",
   "metadata": {},
   "outputs": [
    {
     "data": {
      "text/plain": [
       "[]"
      ]
     },
     "execution_count": 574,
     "metadata": {},
     "output_type": "execute_result"
    }
   ],
   "source": [
    "x[2]"
   ]
  },
  {
   "cell_type": "code",
   "execution_count": null,
   "id": "73b972b9",
   "metadata": {},
   "outputs": [],
   "source": []
  },
  {
   "cell_type": "code",
   "execution_count": null,
   "id": "a6997753",
   "metadata": {},
   "outputs": [],
   "source": []
  },
  {
   "cell_type": "code",
   "execution_count": null,
   "id": "9882b79c",
   "metadata": {},
   "outputs": [],
   "source": []
  },
  {
   "cell_type": "markdown",
   "id": "1245cb9d",
   "metadata": {},
   "source": [
    "# Token Paragraphs of candiadates"
   ]
  },
  {
   "cell_type": "code",
   "execution_count": 909,
   "id": "c6c8736a",
   "metadata": {},
   "outputs": [
    {
     "data": {
      "text/plain": [
       "101"
      ]
     },
     "execution_count": 909,
     "metadata": {},
     "output_type": "execute_result"
    }
   ],
   "source": [
    "Target_sentences = list(filter(lambda x : x != '', NW_Candiadates1[0].split('.')))#https://stackoverflow.com/questions/53240763/python-how-to-separate-paragraphs-from-text\n",
    "len(Target_sentences)"
   ]
  },
  {
   "cell_type": "code",
   "execution_count": 910,
   "id": "837a7ec1",
   "metadata": {},
   "outputs": [
    {
     "data": {
      "text/plain": [
       "'\\n\\nThe ‘ifrit was listening with astonishment to what the old man with the gazelle was saying, AND THE MAN WENT ON:\\n\\nLord of the kings of the jinn, while all this was going on, my wife, now this gazelle, was looking on and telling me to kill the calf, because it was fat, but I could not bring myself to do this and so I told the herdsman to take it away, which he did'"
      ]
     },
     "execution_count": 910,
     "metadata": {},
     "output_type": "execute_result"
    }
   ],
   "source": [
    "Target_sentences[2]"
   ]
  },
  {
   "cell_type": "code",
   "execution_count": null,
   "id": "08772a67",
   "metadata": {},
   "outputs": [],
   "source": []
  },
  {
   "cell_type": "code",
   "execution_count": null,
   "id": "11339830",
   "metadata": {},
   "outputs": [],
   "source": []
  },
  {
   "cell_type": "markdown",
   "id": "e1f3dfaf",
   "metadata": {},
   "source": [
    "# Preprocess Paragraphs"
   ]
  },
  {
   "cell_type": "code",
   "execution_count": 976,
   "id": "524cf65a",
   "metadata": {},
   "outputs": [],
   "source": [
    "import nltk \n",
    "#lower Sentences\n",
    "Target_sentences2=[]\n",
    "for i in Target_sentences:\n",
    "    i = i.lower()\n",
    "    \n",
    "    Target_sentences2.append(i)\n",
    "    "
   ]
  },
  {
   "cell_type": "code",
   "execution_count": 977,
   "id": "8180d779",
   "metadata": {},
   "outputs": [],
   "source": [
    "import re\n",
    " \n",
    "# Removing punctuations in string\n",
    "# Using loop + punctuation string\n",
    "final_target_paragraphs_list=[]\n",
    "for ele in Target_sentences2:\n",
    "    x = re.sub(r'[^\\w\\s]', '', ele)\n",
    "    x = x.replace('\\n',\" \")\n",
    "    final_target_paragraphs_list.append(x)"
   ]
  },
  {
   "cell_type": "code",
   "execution_count": 978,
   "id": "ec368745",
   "metadata": {},
   "outputs": [
    {
     "data": {
      "text/plain": [
       "101"
      ]
     },
     "execution_count": 978,
     "metadata": {},
     "output_type": "execute_result"
    }
   ],
   "source": [
    "len(final_target_paragraphs_list)"
   ]
  },
  {
   "cell_type": "markdown",
   "id": "8687bf74",
   "metadata": {},
   "source": []
  },
  {
   "cell_type": "code",
   "execution_count": 981,
   "id": "4ff463f5",
   "metadata": {},
   "outputs": [],
   "source": [
    "#https://stackoverflow.com/questions/50685343/how-to-lemmatize-a-list-of-sentences\n",
    "from nltk.stem.wordnet import WordNetLemmatizer\n",
    "from nltk import word_tokenize\n",
    "\n",
    "lmtzr = WordNetLemmatizer()\n",
    "lemmatized = [[lmtzr.lemmatize(word) for word in word_tokenize(s)]\n",
    "              for s in final_target_paragraphs_list]\n",
    "#print(lemmatized[2])\n",
    "#[['i', 'like', 'car'], ['cat', 'are', 'the', 'best']]"
   ]
  },
  {
   "cell_type": "code",
   "execution_count": 982,
   "id": "d150b9e9",
   "metadata": {},
   "outputs": [],
   "source": [
    "Final_Target_Lemmatized=[]\n",
    "for i in range(len(final_target_paragraphs_list)):\n",
    "    Final_Target_Lemmatized.append(\" \".join(word for word in lemmatized[i]))"
   ]
  },
  {
   "cell_type": "code",
   "execution_count": 983,
   "id": "f4759644",
   "metadata": {},
   "outputs": [
    {
     "data": {
      "text/plain": [
       "101"
      ]
     },
     "execution_count": 983,
     "metadata": {},
     "output_type": "execute_result"
    }
   ],
   "source": [
    "len(Final_Target_Lemmatized)"
   ]
  },
  {
   "cell_type": "code",
   "execution_count": 984,
   "id": "26958b8f",
   "metadata": {},
   "outputs": [
    {
     "data": {
      "text/plain": [
       "'girl i told her if you free him you can have all the beast and everything else that your father look after'"
      ]
     },
     "execution_count": 984,
     "metadata": {},
     "output_type": "execute_result"
    }
   ],
   "source": [
    "Final_Target_Lemmatized[13]"
   ]
  },
  {
   "cell_type": "code",
   "execution_count": null,
   "id": "ebacc3c9",
   "metadata": {},
   "outputs": [],
   "source": []
  },
  {
   "cell_type": "markdown",
   "id": "64add5e4",
   "metadata": {},
   "source": [
    "# Token Query text into paragraphs"
   ]
  },
  {
   "cell_type": "code",
   "execution_count": 915,
   "id": "cf6c75a6",
   "metadata": {},
   "outputs": [
    {
     "name": "stdout",
     "output_type": "stream",
     "text": [
      "21\n"
     ]
    }
   ],
   "source": [
    "query = query_documents[5].lower()\n",
    "query_paragraps = list(filter(lambda x : x != '', query.split('.')))#https://stackoverflow.com/questions/53240763/python-how-to-separate-paragraphs-from-text\n",
    "print(len(query_paragraps))\n",
    "#print(query_paragraps[7])"
   ]
  },
  {
   "cell_type": "markdown",
   "id": "019647c5",
   "metadata": {},
   "source": [
    "# Preprocess Paragraphs of Query"
   ]
  },
  {
   "cell_type": "code",
   "execution_count": 916,
   "id": "d8727566",
   "metadata": {},
   "outputs": [],
   "source": [
    "import nltk \n",
    "#lower Sentences\n",
    "preprocess_query_paragraphs=[]\n",
    "for i in query_paragraps:\n",
    "    i = i.lower()\n",
    "    preprocess_query_paragraphs.append(i)\n",
    "    "
   ]
  },
  {
   "cell_type": "code",
   "execution_count": 917,
   "id": "775bc1c4",
   "metadata": {},
   "outputs": [],
   "source": [
    "import re\n",
    " \n",
    "# Removing punctuations in string\n",
    "# Using loop + punctuation string\n",
    "final_query_paragraphs_list=[]\n",
    "for ele in preprocess_query_paragraphs:\n",
    "    x = re.sub(r'[^\\w\\s]', '', ele)\n",
    "    x = x.replace('\\n',\" \")\n",
    "    final_query_paragraphs_list.append(x)"
   ]
  },
  {
   "cell_type": "code",
   "execution_count": 918,
   "id": "c0cadd95",
   "metadata": {},
   "outputs": [
    {
     "data": {
      "text/plain": [
       "'when it was the second night said dunyazad to her sister shahrazad o my sister finish for us that story of the merchant and the jinni and she answered with joy and goodly gree if the king permit me'"
      ]
     },
     "execution_count": 918,
     "metadata": {},
     "output_type": "execute_result"
    }
   ],
   "source": [
    "final_query_paragraphs_list[0]"
   ]
  },
  {
   "cell_type": "markdown",
   "id": "85b8dd6a",
   "metadata": {},
   "source": [
    "# Lemmatize a list of Query sentences"
   ]
  },
  {
   "cell_type": "code",
   "execution_count": 972,
   "id": "e1ff1079",
   "metadata": {},
   "outputs": [],
   "source": [
    "#https://stackoverflow.com/questions/50685343/how-to-lemmatize-a-list-of-sentences\n",
    "from nltk.stem.wordnet import WordNetLemmatizer\n",
    "from nltk import word_tokenize\n",
    "\n",
    "lmtzr = WordNetLemmatizer()\n",
    "lemmatized = [[lmtzr.lemmatize(word) for word in word_tokenize(s)]\n",
    "              for s in final_query_paragraphs_list]\n",
    "#print(lemmatized[2])\n",
    "#[['i', 'like', 'car'], ['cat', 'are', 'the', 'best']]"
   ]
  },
  {
   "cell_type": "code",
   "execution_count": 973,
   "id": "02655d4f",
   "metadata": {},
   "outputs": [],
   "source": [
    "Final_Query_Lemmatized=[]\n",
    "for i in range(len(final_query_paragraphs_list)):\n",
    "    Final_Query_Lemmatized.append(\" \".join(word for word in lemmatized[i]))"
   ]
  },
  {
   "cell_type": "code",
   "execution_count": 974,
   "id": "6a7af2bf",
   "metadata": {},
   "outputs": [
    {
     "data": {
      "text/plain": [
       "['when it wa the second night said dunyazad to her sister shahrazad o my sister finish for u that story of the merchant and the jinni and she answered with joy and goodly gree if the king permit me',\n",
       " 'then quoth the king tell thy tale and shahrazad began in these word it hath reached me o auspicious king and heaven directed ruler that when the merchant purposed the sacrifice of the calf but saw it weeping his heart relented and he said to the herdsman keep the calf among my cattle',\n",
       " 'all this the old shaykh told the jinni who marvelled much at these strange word',\n",
       " 'then the owner of the gazelle continuedo lord of the king of the jann this much took place and my uncle daughter this gazelle looked on and saw it and said butcher me this calf for surely it is a fat one but i bade the herdsman take it away and he took it and turned his face homewards',\n",
       " 'on the next day a i wa sitting in my own house lo the herdsman came and standing before me said o my master i will tell thee a thing which shall gladden thy soul and shall gain me the gift of good tidings',\n",
       " 'fn50 i answered even so',\n",
       " 'then said he o merchant i have a daughter and she learned magic in her childhood from an old woman who lived with u',\n",
       " 'yesterday when thou gavest me the calf i went into the house to her and she looked upon it and veiled her face then she wept and laughed alternately and at last she saido my father hath mine honour become so cheap to thee that thou bringest in to me strange men i asked herwhere be these strange men and why wast thou laughing and cry and she answered of a truth this calf which is with thee is the son of our master the merchant but he is ensorcelled by his stepdame who bewitched both him and his mother such is the cause of my laughing now the reason of his weeping is his mother for that his father slew her unawares',\n",
       " 'then i marvelled at this with exceeding marvel and hardly made sure that day had dawned before i came to tell thee',\n",
       " 'when i heard o jinni my herdsman word i went out with him and i wa drunken without wine from the excess of joy and gladness which came upon me until i reached his house',\n",
       " 'there his daughter welcomed me and kissed my hand and forthwith the calf came and fawned upon me a before',\n",
       " 'quoth i to the herdsman daughter is this true that thou sayest of this calf quoth she yea o my master he is thy son the very core of thy heart',\n",
       " 'i rejoiced and said to her o maiden if thou wilt release him thine shall be whatever cattle and property of mine are under thy father hand',\n",
       " 'she smiled and answered o my master i have no greed for the good nor will i take them save on two condition the first that thou marry me to thy son and the second that i may bewitch her who bewitched him and imprison her otherwise i can not be safe from her malice and malpractice',\n",
       " 'now when i heard o jinni these the word of the herdsman daughter i replied beside what thou askest all the cattle and the house hold stuff in thy father charge are thine and a for the daughter of my uncle her blood is lawful to thee',\n",
       " 'when i had spoken she took a cup and filled it with water then she recited a spell over it and sprinkled it upon the calf saying if almighty allah created thee a calf remain so shaped and change not but if thou be enchanted return to thy whilom form by command of allah most highest and lo he trembled and became a man',\n",
       " 'then i fell on his neck and said allah upon thee tell me all that the daughter of my uncle did by thee and by thy mother',\n",
       " 'and when he told me what had come to pas between them i said o my son allah favoured thee with one to restore thee and thy right hath returned to thee',\n",
       " 'then o jinni i married the herdsman daughter to him and she transformed my wife into this gazelle sayingher shape is a comely and by no mean loathsome',\n",
       " 'after this she abode with u night and day day and night till the almighty took her to himself',\n",
       " 'when she deceased my son fared forth to the city of hind even to the city of this man who hath done to thee what hath been donefn51 and i also took this gazelle my cousin and wandered with her from town to town seeking tidings of my']"
      ]
     },
     "execution_count": 974,
     "metadata": {},
     "output_type": "execute_result"
    }
   ],
   "source": [
    "Final_Target_Lemmatized"
   ]
  },
  {
   "cell_type": "code",
   "execution_count": 975,
   "id": "e220b0e2",
   "metadata": {},
   "outputs": [
    {
     "data": {
      "text/plain": [
       "['when it wa the second night said dunyazad to her sister shahrazad o my sister finish for u that story of the merchant and the jinni and she answered with joy and goodly gree if the king permit me',\n",
       " 'then quoth the king tell thy tale and shahrazad began in these word it hath reached me o auspicious king and heaven directed ruler that when the merchant purposed the sacrifice of the calf but saw it weeping his heart relented and he said to the herdsman keep the calf among my cattle',\n",
       " 'all this the old shaykh told the jinni who marvelled much at these strange word',\n",
       " 'then the owner of the gazelle continuedo lord of the king of the jann this much took place and my uncle daughter this gazelle looked on and saw it and said butcher me this calf for surely it is a fat one but i bade the herdsman take it away and he took it and turned his face homewards',\n",
       " 'on the next day a i wa sitting in my own house lo the herdsman came and standing before me said o my master i will tell thee a thing which shall gladden thy soul and shall gain me the gift of good tidings',\n",
       " 'fn50 i answered even so',\n",
       " 'then said he o merchant i have a daughter and she learned magic in her childhood from an old woman who lived with u',\n",
       " 'yesterday when thou gavest me the calf i went into the house to her and she looked upon it and veiled her face then she wept and laughed alternately and at last she saido my father hath mine honour become so cheap to thee that thou bringest in to me strange men i asked herwhere be these strange men and why wast thou laughing and cry and she answered of a truth this calf which is with thee is the son of our master the merchant but he is ensorcelled by his stepdame who bewitched both him and his mother such is the cause of my laughing now the reason of his weeping is his mother for that his father slew her unawares',\n",
       " 'then i marvelled at this with exceeding marvel and hardly made sure that day had dawned before i came to tell thee',\n",
       " 'when i heard o jinni my herdsman word i went out with him and i wa drunken without wine from the excess of joy and gladness which came upon me until i reached his house',\n",
       " 'there his daughter welcomed me and kissed my hand and forthwith the calf came and fawned upon me a before',\n",
       " 'quoth i to the herdsman daughter is this true that thou sayest of this calf quoth she yea o my master he is thy son the very core of thy heart',\n",
       " 'i rejoiced and said to her o maiden if thou wilt release him thine shall be whatever cattle and property of mine are under thy father hand',\n",
       " 'she smiled and answered o my master i have no greed for the good nor will i take them save on two condition the first that thou marry me to thy son and the second that i may bewitch her who bewitched him and imprison her otherwise i can not be safe from her malice and malpractice',\n",
       " 'now when i heard o jinni these the word of the herdsman daughter i replied beside what thou askest all the cattle and the house hold stuff in thy father charge are thine and a for the daughter of my uncle her blood is lawful to thee',\n",
       " 'when i had spoken she took a cup and filled it with water then she recited a spell over it and sprinkled it upon the calf saying if almighty allah created thee a calf remain so shaped and change not but if thou be enchanted return to thy whilom form by command of allah most highest and lo he trembled and became a man',\n",
       " 'then i fell on his neck and said allah upon thee tell me all that the daughter of my uncle did by thee and by thy mother',\n",
       " 'and when he told me what had come to pas between them i said o my son allah favoured thee with one to restore thee and thy right hath returned to thee',\n",
       " 'then o jinni i married the herdsman daughter to him and she transformed my wife into this gazelle sayingher shape is a comely and by no mean loathsome',\n",
       " 'after this she abode with u night and day day and night till the almighty took her to himself',\n",
       " 'when she deceased my son fared forth to the city of hind even to the city of this man who hath done to thee what hath been donefn51 and i also took this gazelle my cousin and wandered with her from town to town seeking tidings of my']"
      ]
     },
     "execution_count": 975,
     "metadata": {},
     "output_type": "execute_result"
    }
   ],
   "source": [
    "Final_Query_Lemmatized"
   ]
  },
  {
   "cell_type": "markdown",
   "id": "8c5ac451",
   "metadata": {},
   "source": [
    "#  LSH ---> Cosine ---> NW"
   ]
  },
  {
   "cell_type": "markdown",
   "id": "eea097d4",
   "metadata": {},
   "source": [
    "# LSH"
   ]
  },
  {
   "cell_type": "code",
   "execution_count": 1054,
   "id": "758bc8ab",
   "metadata": {},
   "outputs": [
    {
     "name": "stdout",
     "output_type": "stream",
     "text": [
      "0      when it was the second night dunyazad said to ...\n",
      "1       with pleasure replied shahrazad if the king g...\n",
      "2        the ifrit was listening with astonishment to...\n",
      "3       the next day as i was sitting there he came b...\n",
      "4       i agreed to this and he went on master i have...\n",
      "                             ...                        \n",
      "96      when the old man had finished his tale the if...\n",
      "97       morning now dawned and shahrazad broke off f...\n",
      "98      what a good pleasant delightful and sweet sto...\n",
      "99      the king then went to his court the troops ar...\n",
      "100     the court was then dismissed and the king ret...\n",
      "Name: 0, Length: 101, dtype: object\n"
     ]
    }
   ],
   "source": [
    "db = pd.DataFrame(final_target_paragraphs_list)#We have 67 Sentences\n",
    "db=db[0]\n",
    "print(db)\n",
    "forest = get_forest(db, permutations)"
   ]
  },
  {
   "cell_type": "code",
   "execution_count": 1367,
   "id": "15c2c5cc",
   "metadata": {},
   "outputs": [
    {
     "name": "stdout",
     "output_type": "stream",
     "text": [
      "query:   she smiled and answered o my master i have no greed for the good nor will i take them save on two condition the first that thou marry me to thy son and the second that i may bewitch her who bewitched him and imprison her otherwise i can not be safe from her malice and malpractice\n",
      "\n",
      " Top similar sentences \n",
      " 32     then i checked my accounts and the sales figu...\n",
      "41     when i did my audit i found that i had two th...\n",
      "74      when i went home that evening i found these ...\n",
      "76     who did this to them i asked and she said i s...\n",
      "12                             this is your darling son\n",
      "14     she smiled and said master i only want this o...\n",
      "81      the third old man with the mule now said if ...\n",
      "83     this was at night and i saw a black slave lyi...\n",
      "24      at this point the old man with the two saluk...\n",
      "57     i shall pay you back for this and dont be mis...\n",
      "61     they spent their time eyeing all this and the...\n",
      "Name: 0, dtype: object\n"
     ]
    }
   ],
   "source": [
    "num_recommendations = 50\n",
    "query = Final_Query_Lemmatized[13]\n",
    "print('query:  ', query)\n",
    "result = predict(query, db, permutations, num_recommendations, forest)\n",
    "print('\\n Top similar sentences \\n', result)"
   ]
  },
  {
   "cell_type": "code",
   "execution_count": 1368,
   "id": "5b34c754",
   "metadata": {},
   "outputs": [],
   "source": [
    "#Create a list of candiates to be taken to the next layer which is Cosine Simialrity\n",
    "candidates=[]\n",
    "candidates=result.values\n",
    "#print(candidates)"
   ]
  },
  {
   "cell_type": "code",
   "execution_count": 1369,
   "id": "2cae2c3e",
   "metadata": {},
   "outputs": [
    {
     "data": {
      "text/plain": [
       "11"
      ]
     },
     "execution_count": 1369,
     "metadata": {},
     "output_type": "execute_result"
    }
   ],
   "source": [
    "len(candidates)"
   ]
  },
  {
   "cell_type": "code",
   "execution_count": 1370,
   "id": "86658399",
   "metadata": {},
   "outputs": [
    {
     "name": "stdout",
     "output_type": "stream",
     "text": [
      "Query:  she smiled and answered o my master i have no greed for the good nor will i take them save on two condition the first that thou marry me to thy son and the second that i may bewitch her who bewitched him and imprison her otherwise i can not be safe from her malice and malpractice \n",
      "\n",
      "Target Sentence: \n",
      "  she smiled and said master i only want this on two conditions the first being that you marry me to him and the second that i be allowed to put a spell on the one who enchanted him and keep her confined for otherwise i shall not be safe from her scheming \n",
      "\n",
      "Perecent Identity using NW: 45.3\n"
     ]
    }
   ],
   "source": [
    "from minineedle import needle, core\n",
    "\n",
    "\n",
    "R = {} # Dicitonary to Save query, target sentence, precent identity and the actual aligmnet\n",
    "query=Final_Query_Lemmatized[13].split()\n",
    "for i in candidates:\n",
    "    alignment = needle.NeedlemanWunsch(query, i.split())\n",
    "    x = alignment.get_identity()\n",
    "    y = alignment \n",
    "    R[i]=[x , query, i, y]\n",
    "max_value = max(R.values())\n",
    "print('Query: ',Final_Query_Lemmatized[13],'\\n')\n",
    "print('Target Sentence: \\n',max_value[2],'\\n')\n",
    "print('Perecent Identity using NW:',max_value[0])\n",
    "#print('\\n',max_value[3])"
   ]
  },
  {
   "cell_type": "markdown",
   "id": "299920a8",
   "metadata": {},
   "source": [
    "# Cosine another source\n",
    "https://towardsdatascience.com/semantic-similarity-using-transformers-8f3cb5bf66d6"
   ]
  },
  {
   "cell_type": "code",
   "execution_count": 1305,
   "id": "c4d13c8c",
   "metadata": {},
   "outputs": [
    {
     "name": "stdout",
     "output_type": "stream",
     "text": [
      "Sentence: then i marvelled at this with exceeding marvel and hardly made sure that day had dawned before i came to tell thee \n",
      "\n",
      "Top 29 most similar sentences in corpus:\n"
     ]
    }
   ],
   "source": [
    "from sentence_transformers import SentenceTransformer, util\n",
    "import numpy as np\n",
    "\n",
    "model = SentenceTransformer('stsb-roberta-large')\n",
    "query = Final_Query_Lemmatized[8]\n",
    "# encode corpus to get corpus embeddings\n",
    "candidates_embeddings = model.encode(candidates, convert_to_tensor=True)\n",
    "# encode sentence to get sentence embeddings\n",
    "sentence_embedding = model.encode(query, convert_to_tensor=True)\n",
    "# top_k results to return\n",
    "top_k=29\n",
    "# compute similarity scores of the sentence with the corpus\n",
    "cos_scores = util.pytorch_cos_sim(sentence_embedding, candidates_embeddings)[0]\n",
    "# Sort the results in decreasing order and get the first top_k\n",
    "top_results = np.argpartition(-cos_scores, range(top_k))[0:top_k]\n",
    "print(\"Sentence:\", query, \"\\n\")\n",
    "print(\"Top\", top_k, \"most similar sentences in corpus:\")\n",
    "NW2_Candidates=[]\n",
    "for idx in range(len(top_results)):\n",
    "    #print(corpus[idx], \"(Score: %.4f)\" % (cos_scores[idx]))\n",
    "    NW2_Candidates.append(corpus[idx])"
   ]
  },
  {
   "cell_type": "code",
   "execution_count": 1306,
   "id": "8061c58e",
   "metadata": {},
   "outputs": [],
   "source": [
    "NW3=[]\n",
    "for i in NW2_Candidates:\n",
    "    NW3.append(\" \".join(i))"
   ]
  },
  {
   "cell_type": "code",
   "execution_count": null,
   "id": "d10aa6f9",
   "metadata": {},
   "outputs": [],
   "source": []
  },
  {
   "cell_type": "code",
   "execution_count": 1307,
   "id": "8444dea0",
   "metadata": {},
   "outputs": [
    {
     "name": "stdout",
     "output_type": "stream",
     "text": [
      "Query:  then i marvelled at this with exceeding marvel and hardly made sure that day had dawned before i came to tell thee \n",
      "\n",
      "Target Sentence: \n",
      " then i checked my accounts and the sales figures of my shop and i found that i had made a profit of a thousand dinars on a capital of two thousand \n",
      "\n",
      "Perecent Identity using NW: 15.62\n"
     ]
    }
   ],
   "source": [
    "from minineedle import needle, core\n",
    "\n",
    "\n",
    "R = {} # Dicitonary to Save query, target sentence, precent identity and the actual aligmnet\n",
    "query=Final_Query_Lemmatized[8].split()\n",
    "for i in NW3:\n",
    "    alignment = needle.NeedlemanWunsch(query, i.split())\n",
    "    x = alignment.get_identity()\n",
    "    y = alignment \n",
    "    R[i]=[x , query, i, y]\n",
    "max_value = max(R.values())\n",
    "print('Query: ',Final_Query_Lemmatized[8],'\\n')\n",
    "print('Target Sentence: \\n',max_value[2],'\\n')\n",
    "print('Perecent Identity using NW:',max_value[0])\n",
    "#print('\\n',max_value[3])"
   ]
  },
  {
   "cell_type": "code",
   "execution_count": null,
   "id": "4e6b2085",
   "metadata": {},
   "outputs": [],
   "source": []
  },
  {
   "cell_type": "code",
   "execution_count": null,
   "id": "e6565057",
   "metadata": {},
   "outputs": [],
   "source": []
  },
  {
   "cell_type": "code",
   "execution_count": 1324,
   "id": "76d721ce",
   "metadata": {},
   "outputs": [
    {
     "data": {
      "text/plain": [
       "'all this the old shaykh told the jinni who marvelled much at these strange word'"
      ]
     },
     "execution_count": 1324,
     "metadata": {},
     "output_type": "execute_result"
    }
   ],
   "source": [
    "Final_Query_Lemmatized[2]"
   ]
  },
  {
   "cell_type": "code",
   "execution_count": 1325,
   "id": "05868901",
   "metadata": {},
   "outputs": [
    {
     "data": {
      "text/plain": [
       "'the ifrit wa listening with astonishment to what the old man with the gazelle wa saying and the man went on lord of the king of the jinni while all this wa going on my wife now this gazelle wa looking on and telling me to kill the calf because it wa fat but i could not bring myself to do this and so i told the herdsman to take it away which he did'"
      ]
     },
     "execution_count": 1325,
     "metadata": {},
     "output_type": "execute_result"
    }
   ],
   "source": [
    "Final_Target_Lemmatized[2]"
   ]
  },
  {
   "cell_type": "code",
   "execution_count": 1281,
   "id": "abba9ebb",
   "metadata": {},
   "outputs": [
    {
     "name": "stdout",
     "output_type": "stream",
     "text": [
      "30.43\n"
     ]
    }
   ],
   "source": [
    "from minineedle import needle, core\n",
    "\n",
    "\n",
    "query=Final_Query_Lemmatized[8].split()\n",
    "i=Final_Target_Lemmatized[8].split()\n",
    "alignment = needle.NeedlemanWunsch(query, i)\n",
    "print(alignment.get_identity())"
   ]
  },
  {
   "cell_type": "code",
   "execution_count": 1045,
   "id": "92037f34",
   "metadata": {},
   "outputs": [],
   "source": [
    "from re import sub\n",
    "from gensim.utils import simple_preprocess\n",
    "\n",
    "#query_string = 'fruit and vegetables'\n",
    "#documents = ['cars drive on the road', 'tomatoes are actually fruit']\n",
    "\n",
    "stopwords = []\n",
    "\n",
    "# From: https://github.com/RaRe-Technologies/gensim/blob/develop/docs/notebooks/soft_cosine_tutorial.ipynb\n",
    "def preprocess(doc):\n",
    "    # Tokenize, clean up input document string\n",
    "    doc = sub(r'<img[^<>]+(>|$)', \" image_token \", doc)\n",
    "    doc = sub(r'<[^<>]+(>|$)', \" \", doc)\n",
    "    doc = sub(r'\\[img_assist[^]]*?\\]', \" \", doc)\n",
    "    doc = sub(r'http[s]?://(?:[a-zA-Z]|[0-9]|[$-_@.&+]|[!*\\(\\),]|(?:%[0-9a-fA-F][0-9a-fA-F]))+', \" url_token \", doc)\n",
    "    return [token for token in simple_preprocess(doc, min_len=0, max_len=float(\"inf\")) if token not in stopwords]\n",
    "\n",
    "# Preprocess the documents, including the query string\n",
    "corpus = [preprocess(document) for document in candidates]\n",
    "#print(corpus)\n",
    "query = preprocess(query)\n",
    "#print (query)"
   ]
  },
  {
   "cell_type": "code",
   "execution_count": 994,
   "id": "8e437a89",
   "metadata": {},
   "outputs": [
    {
     "name": "stderr",
     "output_type": "stream",
     "text": [
      "100%|████████████████████████████████████████| 255/255 [00:01<00:00, 130.26it/s]\n"
     ]
    }
   ],
   "source": [
    "import gensim.downloader as api\n",
    "from gensim.corpora import Dictionary\n",
    "from gensim.models import TfidfModel\n",
    "from gensim.similarities import WordEmbeddingSimilarityIndex\n",
    "from gensim.similarities import SparseTermSimilarityMatrix\n",
    "from gensim.similarities import SoftCosineSimilarity\n",
    "\n",
    "# Load the model: this is a big file, can take a while to download and open\n",
    "glove = api.load(\"glove-wiki-gigaword-50\")    \n",
    "similarity_index = WordEmbeddingSimilarityIndex(glove)\n",
    "\n",
    "# Build the term dictionary, TF-idf model\n",
    "dictionary = Dictionary(corpus+[query])\n",
    "tfidf = TfidfModel(dictionary=dictionary)\n",
    "\n",
    "# Create the term similarity matrix.  \n",
    "similarity_matrix = SparseTermSimilarityMatrix(similarity_index, dictionary, tfidf)"
   ]
  },
  {
   "cell_type": "code",
   "execution_count": 1052,
   "id": "d0133fd4",
   "metadata": {},
   "outputs": [
    {
     "name": "stdout",
     "output_type": "stream",
     "text": [
      "0 \t 0.681 \t   the ifrit was listening with astonishment to what the old man with the gazelle was saying and the man went on  lord of the kings of the jinn while all this was going on my wife now this gazelle was looking on and telling me to kill the calf because it was fat but i could not bring myself to do this and so i told the herdsman to take it away which he did\n",
      "1 \t 0.653 \t  the next day as i was sitting there he came back to me and said i have something to tell you that will please you and you owe me a reward for my good news\n",
      "40 \t 0.638 \t  i took the water and went to my wife whom i found sleeping\n",
      "29 \t 0.637 \t  she then carried me to an island where she left me for a time before coming back at dawn and saying i am your servant and it was i who saved your life by carrying you off with the permission of almighty god\n",
      "39 \t 0.632 \t  she gave me some water and told me when you find her asleep sprinkle this water over her and say what you like for she will become whatever you want\n",
      "14 \t 0.620 \t  i had not been there for long before my eldest brother now one of these dogs sold the contents of his shop for a thousand dinars bought trade goods and set off on his travels\n",
      "11 \t 0.616 \t   the girl stayed with us for some time until god chose to take her to himself and my son went off to india the country of the man with whom you have had this experience\n",
      "13 \t 0.611 \t   at this point the old man with the two salukis came up and asked the ifrit if i tell you what happened to me and my brothers these two dogs and you find it the most amazing and astonishing of stories will you transfer to me a third of this mans offence the ifrit agreed and the man began  lord of the kings of the jinn these two dogs are my brothers i being the third\n",
      "8 \t 0.611 \t  the calf shuddered and became a man at which i fell on him and said for gods sake tell me what my wife did to you and your mother\n",
      "20 \t 0.607 \t  he too spent a whole year away before coming back to me in the same state as his brother\n",
      "4 \t 0.603 \t   when i heard what the man had to say i went out with him drunk although not on wine with the joy and delight that i was feeling\n",
      "18 \t 0.601 \t  he took the money gladly and opened another shop\n"
     ]
    }
   ],
   "source": [
    "# Compute Soft Cosine Measure between the query and the documents.\n",
    "# From: https://github.com/RaRe-Technologies/gensim/blob/develop/docs/notebooks/soft_cosine_tutorial.ipynb\n",
    "query_tf = tfidf[dictionary.doc2bow(query)]\n",
    "\n",
    "index = SoftCosineSimilarity(\n",
    "            tfidf[[dictionary.doc2bow(document) for document in corpus]],\n",
    "            similarity_matrix)\n",
    "\n",
    "doc_similarity_scores = index[query_tf] \n",
    "\n",
    "\n",
    "# Output the sorted similarity scores and documents\n",
    "NW_Candiadates=[]\n",
    "sorted_indexes = np.argsort(doc_similarity_scores)[::-1]\n",
    "for idx in sorted_indexes:\n",
    "    if doc_similarity_scores[idx]>0.6:\n",
    "        print(f'{idx} \\t {doc_similarity_scores[idx]:0.3f} \\t {candidates[idx]}')\n",
    "        NW_Candiadates.append(candidates[idx])"
   ]
  },
  {
   "cell_type": "code",
   "execution_count": null,
   "id": "4b8aab0a",
   "metadata": {},
   "outputs": [],
   "source": []
  },
  {
   "cell_type": "markdown",
   "id": "93930253",
   "metadata": {},
   "source": [
    "# NW"
   ]
  },
  {
   "cell_type": "code",
   "execution_count": 1053,
   "id": "8c0f5096",
   "metadata": {},
   "outputs": [
    {
     "name": "stdout",
     "output_type": "stream",
     "text": [
      "Query:  all this the old shaykh told the jinni who marvelled much at these strange word \n",
      "\n",
      "Target Sentence: \n",
      "   when i heard what the man had to say i went out with him drunk although not on wine with the joy and delight that i was feeling \n",
      "\n",
      "Perecent Identity using NW: 6.9\n"
     ]
    }
   ],
   "source": [
    "from minineedle import needle, core\n",
    "\n",
    "\n",
    "R = {} # Dicitonary to Save query, target sentence, precent identity and the actual aligmnet\n",
    "query=Final_Query_Lemmatized[2].split()\n",
    "for i in NW_Candiadates:\n",
    "    alignment = needle.NeedlemanWunsch(query, i.split())\n",
    "    x = alignment.get_identity()\n",
    "    y = alignment \n",
    "    R[i]=[x , query, i, y]\n",
    "max_value = max(R.values())\n",
    "print('Query: ',Final_Query_Lemmatized[2],'\\n')\n",
    "print('Target Sentence: \\n',max_value[2],'\\n')\n",
    "print('Perecent Identity using NW:',max_value[0])\n",
    "#print('\\n',max_value[3])"
   ]
  },
  {
   "cell_type": "code",
   "execution_count": 1042,
   "id": "08f68484",
   "metadata": {},
   "outputs": [
    {
     "data": {
      "text/plain": [
       "'the ifrit wa listening with astonishment to what the old man with the gazelle wa saying and the man went on lord of the king of the jinni while all this wa going on my wife now this gazelle wa looking on and telling me to kill the calf because it wa fat but i could not bring myself to do this and so i told the herdsman to take it away which he did'"
      ]
     },
     "execution_count": 1042,
     "metadata": {},
     "output_type": "execute_result"
    }
   ],
   "source": [
    "Final_Target_Lemmatized[2]"
   ]
  },
  {
   "cell_type": "code",
   "execution_count": 1050,
   "id": "62457f69",
   "metadata": {},
   "outputs": [
    {
     "name": "stdout",
     "output_type": "stream",
     "text": [
      "0.28\n"
     ]
    }
   ],
   "source": [
    "from minineedle import needle, core\n",
    "\n",
    "\n",
    "query='the ifrit was listening with astonishment to what the old man with the gazelle was saying and the man went on  lord of the kings of the jinn while all this was going on my wife now this gazelle was looking on and telling me to kill the calf because it was fat but i could not bring myself to do this and so i told the herdsman to take it away which he did'\n",
    "\n",
    "alignment = needle.NeedlemanWunsch(query, i.split())\n",
    "print(alignment.get_identity())"
   ]
  },
  {
   "cell_type": "code",
   "execution_count": null,
   "id": "818a91c0",
   "metadata": {},
   "outputs": [],
   "source": []
  },
  {
   "cell_type": "code",
   "execution_count": null,
   "id": "713a562d",
   "metadata": {},
   "outputs": [],
   "source": []
  },
  {
   "cell_type": "code",
   "execution_count": null,
   "id": "c6f98e9a",
   "metadata": {},
   "outputs": [],
   "source": []
  },
  {
   "cell_type": "markdown",
   "id": "01b6fc0c",
   "metadata": {},
   "source": [
    "# LSH --> LSH ---> Cosine ---> NW"
   ]
  },
  {
   "cell_type": "code",
   "execution_count": 565,
   "id": "3c86b05a",
   "metadata": {},
   "outputs": [],
   "source": [
    "#Second LSH\n",
    "# Token Query to Sentences \n",
    "import nltk \n",
    "query = query_documents[5].lower()\n",
    "query_sentences2 = nltk.tokenize.sent_tokenize(query)\n",
    "#lower Sentences\n",
    "query_sentences =[]\n",
    "for i in query_sentences2:\n",
    "    i = i.lower()\n",
    "    query_sentences.append(i)\n"
   ]
  },
  {
   "cell_type": "code",
   "execution_count": null,
   "id": "1e820de4",
   "metadata": {},
   "outputs": [],
   "source": []
  },
  {
   "cell_type": "code",
   "execution_count": 1366,
   "id": "a8f8bbeb",
   "metadata": {},
   "outputs": [],
   "source": [
    "import re\n",
    " \n",
    "# Removing punctuations in string\n",
    "# Using loop + punctuation string\n",
    "cleaned_query=[]\n",
    "for ele in query_sentences:\n",
    "    x = re.sub(r'[^\\w\\s]', '', ele)\n",
    "    cleaned_query.append(x)"
   ]
  },
  {
   "cell_type": "code",
   "execution_count": 1387,
   "id": "ee6d670a",
   "metadata": {},
   "outputs": [
    {
     "data": {
      "text/plain": [
       "'then quoth the\\nking tell thy tale and shahrazad began in these words it\\nhath reached me o auspicious king and heaven directed ruler'"
      ]
     },
     "execution_count": 1387,
     "metadata": {},
     "output_type": "execute_result"
    }
   ],
   "source": [
    "cleaned_query[1]"
   ]
  },
  {
   "cell_type": "markdown",
   "id": "78c7d048",
   "metadata": {},
   "source": [
    "# Combine each two tokens into one token (Query Sentences)\n"
   ]
  },
  {
   "cell_type": "code",
   "execution_count": 1376,
   "id": "7f1bc4a9",
   "metadata": {},
   "outputs": [],
   "source": [
    "x=[i for i in range(len(cleaned_query)) if i % 2 == 0]#Even Index  #https://discuss.codecademy.com/t/how-can-i-obtain-just-the-odd-indices-of-a-list/376640\n",
    "y=[i for i in range(len(cleaned_query)) if i % 2 == 1]#Odd Index  #https://discuss.codecademy.com/t/how-can-i-obtain-just-the-odd-indices-of-a-list/376640\n",
    "\n",
    "\n",
    "newx=[]\n",
    "newy=[]\n",
    "for i in x:\n",
    "    newx.append(cleaned_query[i])\n",
    "for j in y:\n",
    "    newy.append(cleaned_query[j])"
   ]
  },
  {
   "cell_type": "code",
   "execution_count": 1391,
   "id": "a9dcba5f",
   "metadata": {},
   "outputs": [
    {
     "data": {
      "text/plain": [
       "'such is my tale quoth the jinni this story\\nis indeed strange and therefore i grant thee the third part of\\nhis blood'"
      ]
     },
     "execution_count": 1391,
     "metadata": {},
     "output_type": "execute_result"
    }
   ],
   "source": [
    "final_query_list = [i +\" \"+ j for i, j in zip(newx, newy)]\n",
    "final_query_list[14]"
   ]
  },
  {
   "cell_type": "code",
   "execution_count": 1381,
   "id": "84dcc2b5",
   "metadata": {},
   "outputs": [
    {
     "ename": "IndexError",
     "evalue": "list index out of range",
     "output_type": "error",
     "traceback": [
      "\u001b[0;31m---------------------------------------------------------------------------\u001b[0m",
      "\u001b[0;31mIndexError\u001b[0m                                Traceback (most recent call last)",
      "\u001b[0;32m/var/folders/82/58plxq9d79373wycjp789qfm0000gn/T/ipykernel_3163/3348734025.py\u001b[0m in \u001b[0;36m<module>\u001b[0;34m\u001b[0m\n\u001b[0;32m----> 1\u001b[0;31m \u001b[0mfinal_cleaned_query\u001b[0m\u001b[0;34m[\u001b[0m\u001b[0;36m0\u001b[0m\u001b[0;34m]\u001b[0m\u001b[0;34m\u001b[0m\u001b[0;34m\u001b[0m\u001b[0m\n\u001b[0m",
      "\u001b[0;31mIndexError\u001b[0m: list index out of range"
     ]
    }
   ],
   "source": []
  },
  {
   "cell_type": "code",
   "execution_count": 1399,
   "id": "47072e79",
   "metadata": {},
   "outputs": [
    {
     "name": "stdout",
     "output_type": "stream",
     "text": [
      "m [1, 3]\n"
     ]
    }
   ],
   "source": [
    "x=['a','b','c','d','e']\n",
    "m=[i for i in range(len(x)) if i % 2 == 0]#Even Index  #https://discuss.codecademy.com/t/how-can-i-obtain-just-the-odd-indices-of-a-list/376640\n",
    "n=[i for i in range(len(x)) if i % 2 == 1]#Even Index  #https://discuss.codecademy.com/t/how-can-i-obtain-just-the-odd-indices-of-a-list/376640\n",
    "print(\"m\",n)\n",
    "newx=[]\n",
    "newy=[]\n",
    "for i in m:\n",
    "    newx.append(x[i])\n",
    "for j in n:\n",
    "    newy.append(x[j])\n"
   ]
  },
  {
   "cell_type": "code",
   "execution_count": 1400,
   "id": "68d92b48",
   "metadata": {},
   "outputs": [
    {
     "data": {
      "text/plain": [
       "['b', 'ba', 'bc', 'be', 'd', 'da', 'dc', 'de']"
      ]
     },
     "execution_count": 1400,
     "metadata": {},
     "output_type": "execute_result"
    }
   ],
   "source": [
    "res=[x + y for x in newy for y in [\"\"] + newx]\n",
    "res"
   ]
  },
  {
   "cell_type": "code",
   "execution_count": 634,
   "id": "a1a7427b",
   "metadata": {},
   "outputs": [
    {
     "data": {
      "text/plain": [
       "['when it was the second night dunyazad said to shahrazad sister finish your story of the merchant and the ifrit for us with pleasure replied shahrazad if the king gives me permission and when the king gave it she went on\\n\\ni have heard o fortunate king and rightly guided ruler that when the merchant was about to cut the throat of the calf he was moved by pity and told the herdsman to keep the calf among the other beasts']"
      ]
     },
     "execution_count": 634,
     "metadata": {},
     "output_type": "execute_result"
    }
   ],
   "source": [
    "# Token Target to Sentences \n",
    "targetStory_sentences = nltk.tokenize.sent_tokenize(NW_Candiadates[0])\n",
    "targetStory_sentences"
   ]
  },
  {
   "cell_type": "code",
   "execution_count": 635,
   "id": "fbaef4fc",
   "metadata": {},
   "outputs": [],
   "source": [
    "target_sentences =[]\n",
    "for i in targetStory_sentences:\n",
    "    i = i.lower()\n",
    "    target_sentences.append(i)"
   ]
  },
  {
   "cell_type": "code",
   "execution_count": 737,
   "id": "4d10fdf8",
   "metadata": {},
   "outputs": [
    {
     "data": {
      "text/plain": [
       "'the ifrit was listening with astonishment to what the old man with the gazelle was saying and the man went on\\n\\nlord of the kings of the jinn while all this was going on my wife now this gazelle was looking on and telling me to kill the calf because it was fat but i could not bring myself to do this and so i told the herdsman to take it away which he did'"
      ]
     },
     "execution_count": 737,
     "metadata": {},
     "output_type": "execute_result"
    }
   ],
   "source": [
    "cleaned_target[1]\n",
    "i for i in range(len(lst)) if i % 2 == 1"
   ]
  },
  {
   "cell_type": "markdown",
   "id": "8697461a",
   "metadata": {},
   "source": [
    "# Combine each two tokens into one token (Target Sentences)"
   ]
  },
  {
   "cell_type": "code",
   "execution_count": 919,
   "id": "8a0fb041",
   "metadata": {},
   "outputs": [
    {
     "name": "stdout",
     "output_type": "stream",
     "text": [
      "36\n"
     ]
    }
   ],
   "source": [
    "x=[i for i in range(len(cleaned_target)) if i % 2 == 0]#Even Index  #https://discuss.codecademy.com/t/how-can-i-obtain-just-the-odd-indices-of-a-list/376640\n",
    "y=[i for i in range(len(cleaned_target)) if i % 2 == 1]#Odd Index  #https://discuss.codecademy.com/t/how-can-i-obtain-just-the-odd-indices-of-a-list/376640\n",
    "print(len(y))"
   ]
  },
  {
   "cell_type": "code",
   "execution_count": 964,
   "id": "2cf0df34",
   "metadata": {},
   "outputs": [],
   "source": [
    "new_cleaned_target=[]\n",
    "for i in x:\n",
    "    new_cleaned_target.append(cleaned_target[i]+ cleaned_target[j])"
   ]
  },
  {
   "cell_type": "code",
   "execution_count": 925,
   "id": "a481e65e",
   "metadata": {},
   "outputs": [
    {
     "data": {
      "text/plain": [
       "'when it was the second night dunyazad said to shahrazad sister finish your story of the merchant and the ifrit for us with pleasure replied shahrazad if the king gives me permission and when the king gave it she went on\\n\\ni have heard o fortunate king and rightly guided ruler that when the merchant was about to cut the throat of the calf he was moved by pity and told the herdsman to keep the calf among the other beaststhe king then went to his court the troops arrived together with the vizier and when everyone was there he gave his judgements appointing some officials dismissing others and issuing orders and prohibitions until evening'"
      ]
     },
     "execution_count": 925,
     "metadata": {},
     "output_type": "execute_result"
    }
   ],
   "source": [
    "new_cleaned_target[0]"
   ]
  },
  {
   "cell_type": "code",
   "execution_count": 926,
   "id": "b1f3654d",
   "metadata": {},
   "outputs": [
    {
     "data": {
      "text/plain": [
       "37"
      ]
     },
     "execution_count": 926,
     "metadata": {},
     "output_type": "execute_result"
    }
   ],
   "source": [
    "len(new_cleaned_target)"
   ]
  },
  {
   "cell_type": "markdown",
   "id": "18c855c8",
   "metadata": {},
   "source": [
    "# NOW the second LSH"
   ]
  },
  {
   "cell_type": "code",
   "execution_count": 927,
   "id": "79f89573",
   "metadata": {},
   "outputs": [
    {
     "name": "stdout",
     "output_type": "stream",
     "text": [
      "0                                                                                                                                                              when it was the second night dunyazad said to shahrazad sister finish your story of the merchant and the ifrit for us with pleasure replied shahrazad if the king gives me permission and when the king gave it she went on\\n\\ni have heard o fortunate king and rightly guided ruler that when the merchant was about to cut the throat of the calf he was moved by pity and told the herdsman to keep the calf among the other beaststhe king then went to his court the troops arrived together with the vizier and when everyone was there he gave his judgements appointing some officials dismissing others and issuing orders and prohibitions until evening\n",
      "1                                                                                                                                                                                                                                                                                                      the next day as i was sitting there he came back to me and said i have something to tell you that will please you and you owe me a reward for my good news i agreed to this and he went on master i have a daughter who as a young girl was taught magic by an old woman we had staying with usthe king then went to his court the troops arrived together with the vizier and when everyone was there he gave his judgements appointing some officials dismissing others and issuing orders and prohibitions until evening\n",
      "2                                                                                                                                                                                                                                                                                                               then she said father do you hold me so cheap that you bring strange men in to me where are these strange men i asked and why are you laughing and crying she said this calf you have with you is our masters son who is under a spell laid upon him and his mother by his fathers wifethe king then went to his court the troops arrived together with the vizier and when everyone was there he gave his judgements appointing some officials dismissing others and issuing orders and prohibitions until evening\n",
      "3                                                                                                                                                                                                                                                                                                                                                                                                                                                                        when i got to his house his daughter welcomed me kissing my hands while the calf came and rolled on the ground in front of methe king then went to his court the troops arrived together with the vizier and when everyone was there he gave his judgements appointing some officials dismissing others and issuing orders and prohibitions until evening\n",
      "4     this is your darling son girl i told her if you free him you can have all the beasts and everything else that your father looks after she smiled and said master i only want this on two conditions the first being that you marry me to him and the second that i be allowed to put a spell on the one who enchanted him and keep her confined for otherwise i shall not be safe from her scheming\\n\\nwhen i heard what she had to say i promised to give her what she wanted as well as everything that was in her fathers charge adding that i would even give her permission to kill my wifethe king then went to his court the troops arrived together with the vizier and when everyone was there he gave his judgements appointing some officials dismissing others and issuing orders and prohibitions until evening\n",
      "5                                                                                                                                                                                                                                                                                                                                                                                                                                 i myself took my wife this gazelle and have travelled from place to place looking for news of him until fate brought me here and i saw this merchant sitting weepingthe king then went to his court the troops arrived together with the vizier and when everyone was there he gave his judgements appointing some officials dismissing others and issuing orders and prohibitions until evening\n",
      "6                                                                                                                      it is indeed a marvellous tale the ifrit agreed and i grant you a third share in his blood\\n\\nat this point the old man with the two salukis came up and asked the ifrit if i tell you what happened to me and my brothers these two dogs and you find it the most amazing and astonishing of stories will you transfer to me a third of this mans offence the ifrit agreed and the man began\\n\\nlord of the kings of the jinn these two dogs are my brothers i being the thirdthe king then went to his court the troops arrived together with the vizier and when everyone was there he gave his judgements appointing some officials dismissing others and issuing orders and prohibitions until evening\n",
      "7                                                                                                                                                                                                                                                                                                                                                                                                                       i had not been there for long before my eldest brother now one of these dogs sold the contents of his shop for a thousand dinars bought trade goods and set off on his travelsthe king then went to his court the troops arrived together with the vizier and when everyone was there he gave his judgements appointing some officials dismissing others and issuing orders and prohibitions until evening\n",
      "8                                                                                                                                                                                                                                                                                                                                                                                                            i wished him well but he said in tears dont you know me any more when i looked at him closely i saw that this was my brother and so i got up to welcome him and brought him into the shopthe king then went to his court the troops arrived together with the vizier and when everyone was there he gave his judgements appointing some officials dismissing others and issuing orders and prohibitions until evening\n",
      "9                                                                                                                                                                                                                                                                                                                                                                                                                                                          my wealth has gone and my circumstances have changed i took him to the baths gave him some of my own clothes and then brought him back homethe king then went to his court the troops arrived together with the vizier and when everyone was there he gave his judgements appointing some officials dismissing others and issuing orders and prohibitions until evening\n",
      "10                                                                                                                                                                                                                                                                                                                                                                                                                                                                                                              i divided this with my brother telling him to forget that he had ever travelled abroadthe king then went to his court the troops arrived together with the vizier and when everyone was there he gave his judgements appointing some officials dismissing others and issuing orders and prohibitions until evening\n",
      "11                                                                                                                                                                                                                                                                                                                                                                                                                                                                                        some time later my second brother now this other dog sold everything he had with the intention of travellingthe king then went to his court the troops arrived together with the vizier and when everyone was there he gave his judgements appointing some officials dismissing others and issuing orders and prohibitions until evening\n",
      "12                                                                                                                                                                                                                                                                                                                                                                                                                                                                                                            he too spent a whole year away before coming back to me in the same state as his brotherthe king then went to his court the troops arrived together with the vizier and when everyone was there he gave his judgements appointing some officials dismissing others and issuing orders and prohibitions until evening\n",
      "13                                                                                                                                                                                                                                                                                                                     i told him brother i check the accounts of my shop once every new year and any surplus i find i shall share with you when i did my audit i found that i had two thousand dinars and after praising the exalted creator i gave him a thousand and kept the other thousand myselfthe king then went to his court the troops arrived together with the vizier and when everyone was there he gave his judgements appointing some officials dismissing others and issuing orders and prohibitions until evening\n",
      "14                                                                                                                                                                                                                                                                                                                                                                                                                              i refused asking what did you get from your travels to make me imagine that i could make a profit i refused to listen to them and we stayed there trading in our shopsthe king then went to his court the troops arrived together with the vizier and when everyone was there he gave his judgements appointing some officials dismissing others and issuing orders and prohibitions until evening\n",
      "15                                                                                                                                                                                                                                                                                                                                                                                                                                                  i asked them to show me what money they had only to find that they had nothing at all having squandered everything on food drink and entertainmentthe king then went to his court the troops arrived together with the vizier and when everyone was there he gave his judgements appointing some officials dismissing others and issuing orders and prohibitions until evening\n",
      "16                                                                                                                                                                                                                                                                                                                                                                       i divided this in half telling my brothers that they and i could have three thousand dinars with which to trade while i would bury the remaining three thousand in case the same thing happened to me as had happened to themthe king then went to his court the troops arrived together with the vizier and when everyone was there he gave his judgements appointing some officials dismissing others and issuing orders and prohibitions until evening\n",
      "17                                                                                                                                                                                                                                                                                                                                                                                                                                                                                                       they agreed to this and i handed each of them a thousand dinars keeping a thousand for myselfthe king then went to his court the troops arrived together with the vizier and when everyone was there he gave his judgements appointing some officials dismissing others and issuing orders and prohibitions until evening\n",
      "18                                                                                                                                                                                                                                                                                                                                                                                                                                                                                                       after a whole months journey we brought them to a city where they fetched us a tenfold profitthe king then went to his court the troops arrived together with the vizier and when everyone was there he gave his judgements appointing some officials dismissing others and issuing orders and prohibitions until evening\n",
      "19                                                                                                                                                                                                                                                                                                                                                                                                                                                                                                            she kissed my hand and asked if i was a charitable man in which case she would reward methe king then went to his court the troops arrived together with the vizier and when everyone was there he gave his judgements appointing some officials dismissing others and issuing orders and prohibitions until evening\n",
      "20                                                                                                                                                                                                                                                                                                                                                                                                                                                                                                    i have given myself to you treat me kindly for i am someone who deserves kindness and generositythe king then went to his court the troops arrived together with the vizier and when everyone was there he gave his judgements appointing some officials dismissing others and issuing orders and prohibitions until evening\n",
      "21                                                                                                                                                                                                                                                                                                                                                                                                                                                       i treated her with respect and as our journey went on i fell so deeply in love with her that i could not bear to leave her by night or by daythe king then went to his court the troops arrived together with the vizier and when everyone was there he gave his judgements appointing some officials dismissing others and issuing orders and prohibitions until evening\n",
      "22                                                                                                                                                                                                                                                                                                   they spent their time eyeing all this and they discussed killing me and taking what i had saying let us kill our brother and then all this will be ours satan made this seem good to them and so finding me alone and asleep by the side of my wife they picked us both up and threw us overboardthe king then went to his court the troops arrived together with the vizier and when everyone was there he gave his judgements appointing some officials dismissing others and issuing orders and prohibitions until evening\n",
      "23                                                                                                                                                                                                                                                                                                                                                                                      she then carried me to an island where she left me for a time before coming back at dawn and saying i am your servant and it was i who saved your life by carrying you off with the permission of almighty godthe king then went to his court the troops arrived together with the vizier and when everyone was there he gave his judgements appointing some officials dismissing others and issuing orders and prohibitions until evening\n",
      "24                                                                                                                                                                                                                                                                                                                                                                                                                                                                                                                        for i believe in him and in his apostle may god bless him and give him peacethe king then went to his court the troops arrived together with the vizier and when everyone was there he gave his judgements appointing some officials dismissing others and issuing orders and prohibitions until evening\n",
      "25                                                                                                                                                                                                                                                                                                                                                                                                                               i am angry with your brothers and will have to kill them\\n\\ni was astonished to hear this and i thanked her for what she had done but forbade her to kill my brothersthe king then went to his court the troops arrived together with the vizier and when everyone was there he gave his judgements appointing some officials dismissing others and issuing orders and prohibitions until evening\n",
      "26                                                                                                                                                                                                                                                                                                                                                                                                                                                                      she continued to insist despite my pleading with her and she then flew off with me and put me down on the roof of my own housethe king then went to his court the troops arrived together with the vizier and when everyone was there he gave his judgements appointing some officials dismissing others and issuing orders and prohibitions until evening\n",
      "27                                                                                                                                                                                                                                                                                                                                                                                                                                   when i went home that evening i found these two dogs tied up and when they caught sight of me they came up with tears in their eyes and attached themselves to methe king then went to his court the troops arrived together with the vizier and when everyone was there he gave his judgements appointing some officials dismissing others and issuing orders and prohibitions until evening\n",
      "28                                                                                                                                                                                                                                                                                                                                                                                                                                                                                        he told me his story and i decided not to leave him until i saw what was going to happen between you and himthe king then went to his court the troops arrived together with the vizier and when everyone was there he gave his judgements appointing some officials dismissing others and issuing orders and prohibitions until evening\n",
      "29                                                                                                                                                                                                                                                         it is a marvellous one agreed the ifrit adding i grant you a third share in the blood he owes for his crime\\n\\nthe third old man with the mule now said if i tell you a more amazing story than these two will you grant me the remaining share the ifrit agreed and the man went on\\n\\nsultan and leader of the jinn this mule was my wifethe king then went to his court the troops arrived together with the vizier and when everyone was there he gave his judgements appointing some officials dismissing others and issuing orders and prohibitions until evening\n",
      "30                                                                                                                                                                                                                                                                                                                                                                                                                                                            this was at night and i saw a black slave lying in bed with her the two of them talked flirted laughed kissed and played with each otherthe king then went to his court the troops arrived together with the vizier and when everyone was there he gave his judgements appointing some officials dismissing others and issuing orders and prohibitions until evening\n",
      "31                                                                                                                                                                                                                                                                                                                                                                                                                         she sprinkled the water over me and said leave this shape of yours and take the form of a dog immediately i became a dog and she drove me out through the door of the housethe king then went to his court the troops arrived together with the vizier and when everyone was there he gave his judgements appointing some officials dismissing others and issuing orders and prohibitions until evening\n",
      "32                                                                                                                                                                                                    the butcher saw me and took me into his house where his daughter covered her face from me and said are you bringing a man in to me where is there a man asked her father and she said this dog is a man over whom his wife has cast a spell but i can free him from it do that for gods sake said her father and she took a jug of water spoke some words over it and sprinkled some of it on methe king then went to his court the troops arrived together with the vizier and when everyone was there he gave his judgements appointing some officials dismissing others and issuing orders and prohibitions until evening\n",
      "33                                                                                                                                                                                                                                                                             i kissed the girls hand and said i would like you to use your magic to do to my wife what she did to me she gave me some water and told me when you find her asleep sprinkle this water over her and say what you like for she will become whatever you want i took the water and went to my wife whom i found sleepingthe king then went to his court the troops arrived together with the vizier and when everyone was there he gave his judgements appointing some officials dismissing others and issuing orders and prohibitions until evening\n",
      "34                                                                                                                                                                                                                                                                                                                        \\n\\n\\n\\nis that true the man asked the mule at which it nodded its head conveying by gesture the message that is my story and that is what happened to me when the old man had finished his tale the ifrit trembling with delight granted him a third of the merchants bloodthe king then went to his court the troops arrived together with the vizier and when everyone was there he gave his judgements appointing some officials dismissing others and issuing orders and prohibitions until evening\n",
      "35                                                                                                                                                                            what a good pleasant delightful and sweet story this is exclaimed dunyazad at which shahrazad told her how can this compare with what i shall tell you this coming night if i am still alive and the king spares me by god the king said to himself i am not going to kill her until i hear the rest of this remarkable story and so they spent the rest of the time embracing one another until the sun had fully risenthe king then went to his court the troops arrived together with the vizier and when everyone was there he gave his judgements appointing some officials dismissing others and issuing orders and prohibitions until evening\n",
      "36                                                                                                                                                                                                                                                                                                                                                                                                                                                                                  the court was then dismissed and the king returned to his palace where when night came he lay again with shahrazadthe king then went to his court the troops arrived together with the vizier and when everyone was there he gave his judgements appointing some officials dismissing others and issuing orders and prohibitions until evening\n",
      "Name: 0, dtype: object\n"
     ]
    }
   ],
   "source": [
    "db = pd.DataFrame(new_cleaned_target)#We have 67 Sentences\n",
    "db=db[0]\n",
    "print(db)\n",
    "forest = get_forest(db, permutations)"
   ]
  },
  {
   "cell_type": "code",
   "execution_count": 956,
   "id": "75a5df57",
   "metadata": {},
   "outputs": [
    {
     "name": "stdout",
     "output_type": "stream",
     "text": [
      "query:   all this the old shaykh told the jinni\n",
      "who marvelled much at these strange words\n"
     ]
    }
   ],
   "source": [
    "num_recommendations = 10\n",
    "query = cleaned_query[3]\n",
    "print('query:  ', query)\n",
    "result = predict(query, db, permutations, num_recommendations, forest)\n",
    "#print('\\n Top similar sentences \\n', result)"
   ]
  },
  {
   "cell_type": "code",
   "execution_count": 957,
   "id": "c9efae62",
   "metadata": {},
   "outputs": [
    {
     "ename": "AttributeError",
     "evalue": "'NoneType' object has no attribute 'values'",
     "output_type": "error",
     "traceback": [
      "\u001b[0;31m---------------------------------------------------------------------------\u001b[0m",
      "\u001b[0;31mAttributeError\u001b[0m                            Traceback (most recent call last)",
      "\u001b[0;32m/var/folders/82/58plxq9d79373wycjp789qfm0000gn/T/ipykernel_3163/442708487.py\u001b[0m in \u001b[0;36m<module>\u001b[0;34m\u001b[0m\n\u001b[1;32m      1\u001b[0m \u001b[0;31m#Create a list of candiates to be taken to the next layer which is Cosine Simialrity\u001b[0m\u001b[0;34m\u001b[0m\u001b[0;34m\u001b[0m\u001b[0m\n\u001b[1;32m      2\u001b[0m \u001b[0mcandidates\u001b[0m\u001b[0;34m=\u001b[0m\u001b[0;34m[\u001b[0m\u001b[0;34m]\u001b[0m\u001b[0;34m\u001b[0m\u001b[0;34m\u001b[0m\u001b[0m\n\u001b[0;32m----> 3\u001b[0;31m \u001b[0mcandidates\u001b[0m\u001b[0;34m=\u001b[0m\u001b[0mresult\u001b[0m\u001b[0;34m.\u001b[0m\u001b[0mvalues\u001b[0m\u001b[0;34m\u001b[0m\u001b[0;34m\u001b[0m\u001b[0m\n\u001b[0m\u001b[1;32m      4\u001b[0m \u001b[0;31m#print(candidates)\u001b[0m\u001b[0;34m\u001b[0m\u001b[0;34m\u001b[0m\u001b[0m\n",
      "\u001b[0;31mAttributeError\u001b[0m: 'NoneType' object has no attribute 'values'"
     ]
    }
   ],
   "source": [
    "#Create a list of candiates to be taken to the next layer which is Cosine Simialrity\n",
    "candidates=[]\n",
    "candidates=result.values\n",
    "#print(candidates)"
   ]
  },
  {
   "cell_type": "markdown",
   "id": "c2834a6f",
   "metadata": {},
   "source": [
    "# Cosing Again"
   ]
  },
  {
   "cell_type": "code",
   "execution_count": 953,
   "id": "48801a02",
   "metadata": {},
   "outputs": [],
   "source": [
    "from re import sub\n",
    "from gensim.utils import simple_preprocess\n",
    "\n",
    "#query_string = 'fruit and vegetables'\n",
    "#documents = ['cars drive on the road', 'tomatoes are actually fruit']\n",
    "\n",
    "stopwords = []\n",
    "\n",
    "# From: https://github.com/RaRe-Technologies/gensim/blob/develop/docs/notebooks/soft_cosine_tutorial.ipynb\n",
    "def preprocess(doc):\n",
    "    # Tokenize, clean up input document string\n",
    "    doc = sub(r'<img[^<>]+(>|$)', \" image_token \", doc)\n",
    "    doc = sub(r'<[^<>]+(>|$)', \" \", doc)\n",
    "    doc = sub(r'\\[img_assist[^]]*?\\]', \" \", doc)\n",
    "    doc = sub(r'http[s]?://(?:[a-zA-Z]|[0-9]|[$-_@.&+]|[!*\\(\\),]|(?:%[0-9a-fA-F][0-9a-fA-F]))+', \" url_token \", doc)\n",
    "    return [token for token in simple_preprocess(doc, min_len=0, max_len=float(\"inf\")) if token not in stopwords]\n",
    "\n",
    "# Preprocess the documents, including the query string\n",
    "corpus = [preprocess(document) for document in candidates]\n",
    "#print(corpus)\n",
    "query = preprocess(query)\n",
    "#print (query)"
   ]
  },
  {
   "cell_type": "code",
   "execution_count": 937,
   "id": "7d12c1d2",
   "metadata": {},
   "outputs": [
    {
     "name": "stdout",
     "output_type": "stream",
     "text": [
      "INFO:keyedvectors.py:1954: loading projection weights from /Users/ibrahim/gensim-data/glove-wiki-gigaword-50/glove-wiki-gigaword-50.gz\n",
      "INFO:utils.py:447: KeyedVectors lifecycle event {'msg': 'loaded (400000, 50) matrix of type float32 from /Users/ibrahim/gensim-data/glove-wiki-gigaword-50/glove-wiki-gigaword-50.gz', 'binary': False, 'encoding': 'utf8', 'datetime': '2022-03-27T01:15:31.794785', 'gensim': '4.1.2', 'python': '3.9.7 (default, Sep 16 2021, 08:50:36) \\n[Clang 10.0.0 ]', 'platform': 'macOS-10.16-x86_64-i386-64bit', 'event': 'load_word2vec_format'}\n",
      "INFO:dictionary.py:199: adding document #0 to Dictionary(0 unique tokens: [])\n",
      "INFO:dictionary.py:204: built Dictionary(260 unique tokens: ['about', 'among', 'and', 'appointing', 'arrived']...) from 11 documents (total 962 corpus positions)\n",
      "INFO:utils.py:447: Dictionary lifecycle event {'msg': \"built Dictionary(260 unique tokens: ['about', 'among', 'and', 'appointing', 'arrived']...) from 11 documents (total 962 corpus positions)\", 'datetime': '2022-03-27T01:15:31.807561', 'gensim': '4.1.2', 'python': '3.9.7 (default, Sep 16 2021, 08:50:36) \\n[Clang 10.0.0 ]', 'platform': 'macOS-10.16-x86_64-i386-64bit', 'event': 'created'}\n",
      "INFO:termsim.py:209: constructing a sparse term similarity matrix using WordEmbeddingSimilarityIndex(keyedvectors=<gensim.models.keyedvectors.KeyedVectors object at 0x7f9463a197f0>, threshold=0.0, exponent=2.0, kwargs={})\n",
      "INFO:termsim.py:226: iterating over 260 columns in tf-idf order\n"
     ]
    },
    {
     "name": "stderr",
     "output_type": "stream",
     "text": [
      "100%|████████████████████████████████████████| 260/260 [00:02<00:00, 129.30it/s]"
     ]
    },
    {
     "name": "stdout",
     "output_type": "stream",
     "text": [
      "INFO:termsim.py:306: constructed a sparse term similarity matrix with 9.310651% density\n"
     ]
    },
    {
     "name": "stderr",
     "output_type": "stream",
     "text": [
      "\n"
     ]
    }
   ],
   "source": [
    "import gensim.downloader as api\n",
    "from gensim.corpora import Dictionary\n",
    "from gensim.models import TfidfModel\n",
    "from gensim.similarities import WordEmbeddingSimilarityIndex\n",
    "from gensim.similarities import SparseTermSimilarityMatrix\n",
    "from gensim.similarities import SoftCosineSimilarity\n",
    "\n",
    "# Load the model: this is a big file, can take a while to download and open\n",
    "glove = api.load(\"glove-wiki-gigaword-50\")    \n",
    "similarity_index = WordEmbeddingSimilarityIndex(glove)\n",
    "\n",
    "# Build the term dictionary, TF-idf model\n",
    "dictionary = Dictionary(corpus+[query])\n",
    "tfidf = TfidfModel(dictionary=dictionary)\n",
    "\n",
    "# Create the term similarity matrix.  \n",
    "similarity_matrix = SparseTermSimilarityMatrix(similarity_index, dictionary, tfidf)"
   ]
  },
  {
   "cell_type": "code",
   "execution_count": 954,
   "id": "d4edffae",
   "metadata": {},
   "outputs": [
    {
     "name": "stdout",
     "output_type": "stream",
     "text": [
      "0 \t 0.865 \t when it was the second night dunyazad said to shahrazad sister finish your story of the merchant and the ifrit for us with pleasure replied shahrazad if the king gives me permission and when the king gave it she went on\n",
      "\n",
      "i have heard o fortunate king and rightly guided ruler that when the merchant was about to cut the throat of the calf he was moved by pity and told the herdsman to keep the calf among the other beaststhe king then went to his court the troops arrived together with the vizier and when everyone was there he gave his judgements appointing some officials dismissing others and issuing orders and prohibitions until evening\n",
      "2 \t 0.784 \t then she said father do you hold me so cheap that you bring strange men in to me where are these strange men i asked and why are you laughing and crying she said this calf you have with you is our masters son who is under a spell laid upon him and his mother by his fathers wifethe king then went to his court the troops arrived together with the vizier and when everyone was there he gave his judgements appointing some officials dismissing others and issuing orders and prohibitions until evening\n",
      "3 \t 0.742 \t the butcher saw me and took me into his house where his daughter covered her face from me and said are you bringing a man in to me where is there a man asked her father and she said this dog is a man over whom his wife has cast a spell but i can free him from it do that for gods sake said her father and she took a jug of water spoke some words over it and sprinkled some of it on methe king then went to his court the troops arrived together with the vizier and when everyone was there he gave his judgements appointing some officials dismissing others and issuing orders and prohibitions until evening\n",
      "1 \t 0.726 \t the next day as i was sitting there he came back to me and said i have something to tell you that will please you and you owe me a reward for my good news i agreed to this and he went on master i have a daughter who as a young girl was taught magic by an old woman we had staying with usthe king then went to his court the troops arrived together with the vizier and when everyone was there he gave his judgements appointing some officials dismissing others and issuing orders and prohibitions until evening\n",
      "6 \t 0.716 \t she sprinkled the water over me and said leave this shape of yours and take the form of a dog immediately i became a dog and she drove me out through the door of the housethe king then went to his court the troops arrived together with the vizier and when everyone was there he gave his judgements appointing some officials dismissing others and issuing orders and prohibitions until evening\n",
      "5 \t 0.707 \t it is a marvellous one agreed the ifrit adding i grant you a third share in the blood he owes for his crime\n",
      "\n",
      "the third old man with the mule now said if i tell you a more amazing story than these two will you grant me the remaining share the ifrit agreed and the man went on\n",
      "\n",
      "sultan and leader of the jinn this mule was my wifethe king then went to his court the troops arrived together with the vizier and when everyone was there he gave his judgements appointing some officials dismissing others and issuing orders and prohibitions until evening\n",
      "4 \t 0.703 \t i myself took my wife this gazelle and have travelled from place to place looking for news of him until fate brought me here and i saw this merchant sitting weepingthe king then went to his court the troops arrived together with the vizier and when everyone was there he gave his judgements appointing some officials dismissing others and issuing orders and prohibitions until evening\n"
     ]
    }
   ],
   "source": [
    "# Compute Soft Cosine Measure between the query and the documents.\n",
    "# From: https://github.com/RaRe-Technologies/gensim/blob/develop/docs/notebooks/soft_cosine_tutorial.ipynb\n",
    "query_tf = tfidf[dictionary.doc2bow(query)]\n",
    "\n",
    "index = SoftCosineSimilarity(\n",
    "            tfidf[[dictionary.doc2bow(document) for document in corpus]],\n",
    "            similarity_matrix)\n",
    "\n",
    "doc_similarity_scores = index[query_tf] \n",
    "\n",
    "\n",
    "# Output the sorted similarity scores and documents\n",
    "NW_Candiadates=[]\n",
    "sorted_indexes = np.argsort(doc_similarity_scores)[::-1]\n",
    "for idx in sorted_indexes:\n",
    "    if doc_similarity_scores[idx]>0.4:\n",
    "        print(f'{idx} \\t {doc_similarity_scores[idx]:0.3f} \\t {candidates[idx]}')\n",
    "        NW_Candiadates.append(candidates[idx])"
   ]
  },
  {
   "cell_type": "markdown",
   "id": "46217414",
   "metadata": {},
   "source": [
    "# Now, NW"
   ]
  },
  {
   "cell_type": "code",
   "execution_count": 955,
   "id": "9befdd17",
   "metadata": {},
   "outputs": [
    {
     "name": "stdout",
     "output_type": "stream",
     "text": [
      "Query:  that when the merchant purposed the sacrifice of the calf but saw\n",
      "it weeping his heart relented and he said to the herdsman keep\n",
      "the calf among my cattle \n",
      "\n",
      "Target Sentence: \n",
      " when it was the second night dunyazad said to shahrazad sister finish your story of the merchant and the ifrit for us with pleasure replied shahrazad if the king gives me permission and when the king gave it she went on\n",
      "\n",
      "i have heard o fortunate king and rightly guided ruler that when the merchant was about to cut the throat of the calf he was moved by pity and told the herdsman to keep the calf among the other beaststhe king then went to his court the troops arrived together with the vizier and when everyone was there he gave his judgements appointing some officials dismissing others and issuing orders and prohibitions until evening \n",
      "\n",
      "Perecent Identity using NW: 12.74\n"
     ]
    }
   ],
   "source": [
    "from minineedle import needle, core\n",
    "\n",
    "#query= 'it hath reached me, o auspicious king, that there was a fisher man well stricken in years who had a wife and three children, and withal was of poor condition.'\n",
    "\n",
    "R = {} # Dicitonary to Save query, target sentence, precent identity and the actual aligmnet\n",
    "for i in NW_Candiadates:\n",
    "    alignment = needle.NeedlemanWunsch(query, i.split())\n",
    "    x = alignment.get_identity()\n",
    "    y = alignment \n",
    "    R[i]=[x , query, i, y]\n",
    "max_value = max(R.values())\n",
    "print('Query: ',cleaned_query[2],'\\n')\n",
    "print('Target Sentence: \\n',max_value[2],'\\n')\n",
    "print('Perecent Identity using NW:',max_value[0])\n",
    "#print('\\n',max_value[3])"
   ]
  },
  {
   "cell_type": "code",
   "execution_count": null,
   "id": "5b5892cb",
   "metadata": {},
   "outputs": [],
   "source": []
  },
  {
   "cell_type": "code",
   "execution_count": null,
   "id": "eb94c630",
   "metadata": {},
   "outputs": [],
   "source": []
  },
  {
   "cell_type": "markdown",
   "id": "4e27b2ab",
   "metadata": {},
   "source": [
    "# Mar 24"
   ]
  },
  {
   "cell_type": "markdown",
   "id": "b02d032f",
   "metadata": {},
   "source": [
    "# Token Query to Sentences "
   ]
  },
  {
   "cell_type": "code",
   "execution_count": 399,
   "id": "ad554d02",
   "metadata": {},
   "outputs": [],
   "source": [
    "import nltk \n",
    "query = query_documents[5].lower()\n",
    "query_sentences2 = nltk.tokenize.sent_tokenize(query)\n",
    "#lower Sentences\n",
    "query_sentences =[]\n",
    "for i in query_sentences2:\n",
    "    i = i.lower()\n",
    "    query_sentences.append(i)"
   ]
  },
  {
   "cell_type": "code",
   "execution_count": 400,
   "id": "976f7a16",
   "metadata": {},
   "outputs": [],
   "source": [
    "#query_sentences"
   ]
  },
  {
   "cell_type": "code",
   "execution_count": 401,
   "id": "05b95436",
   "metadata": {},
   "outputs": [],
   "source": [
    "import re\n",
    " \n",
    "# Removing punctuations in string\n",
    "# Using loop + punctuation string\n",
    "cleaned_query=[]\n",
    "for ele in query_sentences:\n",
    "    x = re.sub(r'[^\\w\\s]', '', ele)\n",
    "    cleaned_query.append(x)"
   ]
  },
  {
   "cell_type": "code",
   "execution_count": 404,
   "id": "fe38d966",
   "metadata": {},
   "outputs": [
    {
     "data": {
      "text/plain": [
       "'then the owner of the\\n\\n\\x0cgazelle continuedo lord of the kings of the jann this much\\ntook place and my uncles daughter this gazelle looked on and\\nsaw it and said butcher me this calf for surely it is a fat\\none but i bade the herdsman take it away and he took it and\\nturned his face homewards'"
      ]
     },
     "execution_count": 404,
     "metadata": {},
     "output_type": "execute_result"
    }
   ],
   "source": [
    "cleaned_query[4]"
   ]
  },
  {
   "cell_type": "markdown",
   "id": "47df11c1",
   "metadata": {},
   "source": [
    "# Token Target to Sentences "
   ]
  },
  {
   "cell_type": "code",
   "execution_count": 410,
   "id": "d5709dd1",
   "metadata": {},
   "outputs": [
    {
     "data": {
      "text/plain": [
       "'Yesterday when you gave me the calf, I went to the girl and, when she saw it, she covered her face, shed tears but then burst into laughter.'"
      ]
     },
     "execution_count": 410,
     "metadata": {},
     "output_type": "execute_result"
    }
   ],
   "source": [
    "targetStory_sentences = nltk.tokenize.sent_tokenize(NW_Candiadates[0])\n",
    "targetStory_sentences[3]"
   ]
  },
  {
   "cell_type": "code",
   "execution_count": 411,
   "id": "7bb5ac29",
   "metadata": {},
   "outputs": [],
   "source": [
    "target_sentences =[]\n",
    "for i in targetStory_sentences:\n",
    "    i = i.lower()\n",
    "    target_sentences.append(i)"
   ]
  },
  {
   "cell_type": "code",
   "execution_count": 412,
   "id": "832b5ded",
   "metadata": {},
   "outputs": [],
   "source": [
    "import re\n",
    " \n",
    "# Removing punctuations in string\n",
    "# Using loop + punctuation string\n",
    "cleaned_target=[]\n",
    "for ele in target_sentences:\n",
    "    x = re.sub(r'[^\\w\\s]', '', ele)\n",
    "    cleaned_target.append(x)"
   ]
  },
  {
   "cell_type": "code",
   "execution_count": 415,
   "id": "f5094956",
   "metadata": {},
   "outputs": [
    {
     "data": {
      "text/plain": [
       "'yesterday when you gave me the calf i went to the girl and when she saw it she covered her face shed tears but then burst into laughter'"
      ]
     },
     "execution_count": 415,
     "metadata": {},
     "output_type": "execute_result"
    }
   ],
   "source": [
    "cleaned_target[3]"
   ]
  },
  {
   "cell_type": "markdown",
   "id": "597a1800",
   "metadata": {},
   "source": [
    "### Compare the first sentece from Query against all sentences in Target sentences"
   ]
  },
  {
   "cell_type": "code",
   "execution_count": 416,
   "id": "36469cb8",
   "metadata": {},
   "outputs": [
    {
     "name": "stdout",
     "output_type": "stream",
     "text": [
      "0     when it was the second night dunyazad said to ...\n",
      "1     the ifrit was listening with astonishment to w...\n",
      "2     the next day as i was sitting there he came ba...\n",
      "3     yesterday when you gave me the calf i went to ...\n",
      "4     then she said father do you hold me so cheap t...\n",
      "                            ...                        \n",
      "68    \\n\\n\\n\\nis that true the man asked the mule at...\n",
      "69    morning now dawned and shahrazad broke off fro...\n",
      "70    what a good pleasant delightful and sweet stor...\n",
      "71    the king then went to his court the troops arr...\n",
      "72    the court was then dismissed and the king retu...\n",
      "Name: 0, Length: 73, dtype: object\n"
     ]
    }
   ],
   "source": [
    "db = pd.DataFrame(cleaned_target)#We have 67 Sentences\n",
    "db=db[0]\n",
    "print(db)\n",
    "forest = get_forest(db, permutations)"
   ]
  },
  {
   "cell_type": "code",
   "execution_count": 440,
   "id": "4c103cc4",
   "metadata": {},
   "outputs": [
    {
     "name": "stdout",
     "output_type": "stream",
     "text": [
      "Query:  then said he o merchant i have a daughter and she\n",
      "learned magic in her childhood from an old woman who lived with\n",
      "us\n",
      "\n",
      " Top similar sentences \n",
      " 0     when it was the second night dunyazad said to ...\n",
      "1     the ifrit was listening with astonishment to w...\n",
      "2     the next day as i was sitting there he came ba...\n",
      "4     then she said father do you hold me so cheap t...\n",
      "17          i asked him how he was and he said dont ask\n",
      "20    i divided this with my brother telling him to ...\n",
      "21     he took the money gladly and opened another shop\n",
      "22    some time later my second brother now this oth...\n",
      "24    he too spent a whole year away before coming b...\n",
      "27    my brother opened another shop but after a tim...\n",
      "37    we were about to sail off again when on the sh...\n",
      "38    she kissed my hand and asked if i was a charit...\n",
      "42    i treated her with respect and as our journey ...\n",
      "48    for i believe in him and in his apostle may go...\n",
      "56    he told me his story and i decided not to leav...\n",
      "58    it is a marvellous one agreed the ifrit adding...\n",
      "62    she sprinkled the water over me and said leave...\n",
      "64    the butcher saw me and took me into his house ...\n",
      "65    go back to your original shape she said and th...\n",
      "67    i sprinkled her with the water and said leave ...\n",
      "Name: 0, dtype: object\n"
     ]
    }
   ],
   "source": [
    "num_recommendations = 20\n",
    "query= cleaned_query[8]\n",
    "print('Query: ',query)\n",
    "result = predict(query, db, permutations, num_recommendations, forest)\n",
    "print('\\n Top similar sentences \\n', result)"
   ]
  },
  {
   "cell_type": "markdown",
   "id": "555fc1ff",
   "metadata": {},
   "source": [
    "### Save this list to candidates list to be sent to Cosine Simialrity"
   ]
  },
  {
   "cell_type": "code",
   "execution_count": 441,
   "id": "e6bc4b66",
   "metadata": {},
   "outputs": [],
   "source": [
    "#Create a list of candiates to be taken to the next layer which is Cosine Simialrity\n",
    "candidates=[]\n",
    "candidates=result.values[:]\n",
    "#print(candidates)"
   ]
  },
  {
   "cell_type": "markdown",
   "id": "d8dd0092",
   "metadata": {},
   "source": [
    "# 2.2 Cosine Similarity (The second layer)\n"
   ]
  },
  {
   "cell_type": "code",
   "execution_count": 442,
   "id": "84ef64ad",
   "metadata": {},
   "outputs": [],
   "source": [
    "from re import sub\n",
    "from gensim.utils import simple_preprocess\n",
    "\n",
    "#query_string = 'fruit and vegetables'\n",
    "#documents = ['cars drive on the road', 'tomatoes are actually fruit']\n",
    "\n",
    "stopwords = []\n",
    "\n",
    "# From: https://github.com/RaRe-Technologies/gensim/blob/develop/docs/notebooks/soft_cosine_tutorial.ipynb\n",
    "def preprocess(doc):\n",
    "    # Tokenize, clean up input document string\n",
    "    doc = sub(r'<img[^<>]+(>|$)', \" image_token \", doc)\n",
    "    doc = sub(r'<[^<>]+(>|$)', \" \", doc)\n",
    "    doc = sub(r'\\[img_assist[^]]*?\\]', \" \", doc)\n",
    "    doc = sub(r'http[s]?://(?:[a-zA-Z]|[0-9]|[$-_@.&+]|[!*\\(\\),]|(?:%[0-9a-fA-F][0-9a-fA-F]))+', \" url_token \", doc)\n",
    "    return [token for token in simple_preprocess(doc, min_len=0, max_len=float(\"inf\")) if token not in stopwords]\n",
    "\n",
    "# Preprocess the documents, including the query string\n",
    "corpus = [preprocess(document) for document in candidates]\n",
    "query = preprocess(query)"
   ]
  },
  {
   "cell_type": "code",
   "execution_count": 443,
   "id": "c13b06bc",
   "metadata": {},
   "outputs": [
    {
     "name": "stderr",
     "output_type": "stream",
     "text": [
      "100%|████████████████████████████████████████| 270/270 [00:02<00:00, 125.35it/s]\n"
     ]
    }
   ],
   "source": [
    "import gensim.downloader as api\n",
    "from gensim.corpora import Dictionary\n",
    "from gensim.models import TfidfModel\n",
    "from gensim.similarities import WordEmbeddingSimilarityIndex\n",
    "from gensim.similarities import SparseTermSimilarityMatrix\n",
    "from gensim.similarities import SoftCosineSimilarity\n",
    "\n",
    "# Load the model: this is a big file, can take a while to download and open\n",
    "glove = api.load(\"glove-wiki-gigaword-50\")    \n",
    "similarity_index = WordEmbeddingSimilarityIndex(glove)\n",
    "\n",
    "# Build the term dictionary, TF-idf model\n",
    "dictionary = Dictionary(corpus+[query])\n",
    "tfidf = TfidfModel(dictionary=dictionary)\n",
    "\n",
    "# Create the term similarity matrix.  \n",
    "similarity_matrix = SparseTermSimilarityMatrix(similarity_index, dictionary, tfidf)"
   ]
  },
  {
   "cell_type": "code",
   "execution_count": 444,
   "id": "04ba81fa",
   "metadata": {},
   "outputs": [
    {
     "name": "stdout",
     "output_type": "stream",
     "text": [
      "17 \t 0.769 \t the butcher saw me and took me into his house where his daughter covered her face from me and said are you bringing a man in to me where is there a man asked her father and she said this dog is a man over whom his wife has cast a spell but i can free him from it do that for gods sake said her father and she took a jug of water spoke some words over it and sprinkled some of it on me\n",
      "2 \t 0.714 \t the next day as i was sitting there he came back to me and said i have something to tell you that will please you and you owe me a reward for my good news i agreed to this and he went on master i have a daughter who as a young girl was taught magic by an old woman we had staying with us\n",
      "3 \t 0.698 \t then she said father do you hold me so cheap that you bring strange men in to me where are these strange men i asked and why are you laughing and crying she said this calf you have with you is our masters son who is under a spell laid upon him and his mother by his fathers wife\n",
      "12 \t 0.614 \t i treated her with respect and as our journey went on i fell so deeply in love with her that i could not bear to leave her by night or by day\n",
      "19 \t 0.604 \t i sprinkled her with the water and said leave this shape and become a mule which she did there and then and it is she whom you can see sultan and chief of the kings of the jinn\n",
      "11 \t 0.602 \t she kissed my hand and asked if i was a charitable man in which case she would reward me\n",
      "1 \t 0.594 \t the ifrit was listening with astonishment to what the old man with the gazelle was saying and the man went on\n",
      "\n",
      "lord of the kings of the jinn while all this was going on my wife now this gazelle was looking on and telling me to kill the calf because it was fat but i could not bring myself to do this and so i told the herdsman to take it away which he did\n",
      "0 \t 0.591 \t when it was the second night dunyazad said to shahrazad sister finish your story of the merchant and the ifrit for us with pleasure replied shahrazad if the king gives me permission and when the king gave it she went on\n",
      "\n",
      "i have heard o fortunate king and rightly guided ruler that when the merchant was about to cut the throat of the calf he was moved by pity and told the herdsman to keep the calf among the other beasts\n",
      "7 \t 0.582 \t some time later my second brother now this other dog sold everything he had with the intention of travelling\n",
      "15 \t 0.576 \t it is a marvellous one agreed the ifrit adding i grant you a third share in the blood he owes for his crime\n",
      "\n",
      "the third old man with the mule now said if i tell you a more amazing story than these two will you grant me the remaining share the ifrit agreed and the man went on\n",
      "\n",
      "sultan and leader of the jinn this mule was my wife\n",
      "9 \t 0.572 \t my brother opened another shop but after a time he and my other brother proposed that i should go off with them on a voyage\n",
      "10 \t 0.557 \t we were about to sail off again when on the shore we came across a girl dressed in rags and tatters\n",
      "8 \t 0.554 \t he too spent a whole year away before coming back to me in the same state as his brother\n",
      "13 \t 0.517 \t for i believe in him and in his apostle may god bless him and give him peace\n",
      "5 \t 0.488 \t i divided this with my brother telling him to forget that he had ever travelled abroad\n",
      "16 \t 0.484 \t she sprinkled the water over me and said leave this shape of yours and take the form of a dog immediately i became a dog and she drove me out through the door of the house\n",
      "14 \t 0.479 \t he told me his story and i decided not to leave him until i saw what was going to happen between you and him\n",
      "6 \t 0.456 \t he took the money gladly and opened another shop\n",
      "18 \t 0.451 \t go back to your original shape she said and that is what i did\n",
      "4 \t 0.373 \t i asked him how he was and he said dont ask\n"
     ]
    }
   ],
   "source": [
    "query_tf = tfidf[dictionary.doc2bow(query)]\n",
    "\n",
    "index = SoftCosineSimilarity(\n",
    "            tfidf[[dictionary.doc2bow(document) for document in corpus]],\n",
    "            similarity_matrix)\n",
    "\n",
    "doc_similarity_scores = index[query_tf] \n",
    "\n",
    "\n",
    "# Output the sorted similarity scores and documents\n",
    "NW_Candiadates=[]\n",
    "sorted_indexes = np.argsort(doc_similarity_scores)[::-1]\n",
    "for idx in sorted_indexes:\n",
    "    if doc_similarity_scores[idx]>0.01:\n",
    "        print(f'{idx} \\t {doc_similarity_scores[idx]:0.3f} \\t {candidates[idx]}')\n",
    "        NW_Candiadates.append(candidates[idx])"
   ]
  },
  {
   "cell_type": "code",
   "execution_count": 445,
   "id": "341526ae",
   "metadata": {},
   "outputs": [
    {
     "data": {
      "text/plain": [
       "['the butcher saw me and took me into his house where his daughter covered her face from me and said are you bringing a man in to me where is there a man asked her father and she said this dog is a man over whom his wife has cast a spell but i can free him from it do that for gods sake said her father and she took a jug of water spoke some words over it and sprinkled some of it on me',\n",
       " 'the next day as i was sitting there he came back to me and said i have something to tell you that will please you and you owe me a reward for my good news i agreed to this and he went on master i have a daughter who as a young girl was taught magic by an old woman we had staying with us',\n",
       " 'then she said father do you hold me so cheap that you bring strange men in to me where are these strange men i asked and why are you laughing and crying she said this calf you have with you is our masters son who is under a spell laid upon him and his mother by his fathers wife',\n",
       " 'i treated her with respect and as our journey went on i fell so deeply in love with her that i could not bear to leave her by night or by day',\n",
       " 'i sprinkled her with the water and said leave this shape and become a mule which she did there and then and it is she whom you can see sultan and chief of the kings of the jinn',\n",
       " 'she kissed my hand and asked if i was a charitable man in which case she would reward me',\n",
       " 'the ifrit was listening with astonishment to what the old man with the gazelle was saying and the man went on\\n\\nlord of the kings of the jinn while all this was going on my wife now this gazelle was looking on and telling me to kill the calf because it was fat but i could not bring myself to do this and so i told the herdsman to take it away which he did',\n",
       " 'when it was the second night dunyazad said to shahrazad sister finish your story of the merchant and the ifrit for us with pleasure replied shahrazad if the king gives me permission and when the king gave it she went on\\n\\ni have heard o fortunate king and rightly guided ruler that when the merchant was about to cut the throat of the calf he was moved by pity and told the herdsman to keep the calf among the other beasts',\n",
       " 'some time later my second brother now this other dog sold everything he had with the intention of travelling',\n",
       " 'it is a marvellous one agreed the ifrit adding i grant you a third share in the blood he owes for his crime\\n\\nthe third old man with the mule now said if i tell you a more amazing story than these two will you grant me the remaining share the ifrit agreed and the man went on\\n\\nsultan and leader of the jinn this mule was my wife',\n",
       " 'my brother opened another shop but after a time he and my other brother proposed that i should go off with them on a voyage',\n",
       " 'we were about to sail off again when on the shore we came across a girl dressed in rags and tatters',\n",
       " 'he too spent a whole year away before coming back to me in the same state as his brother',\n",
       " 'for i believe in him and in his apostle may god bless him and give him peace',\n",
       " 'i divided this with my brother telling him to forget that he had ever travelled abroad',\n",
       " 'she sprinkled the water over me and said leave this shape of yours and take the form of a dog immediately i became a dog and she drove me out through the door of the house',\n",
       " 'he told me his story and i decided not to leave him until i saw what was going to happen between you and him',\n",
       " 'he took the money gladly and opened another shop',\n",
       " 'go back to your original shape she said and that is what i did',\n",
       " 'i asked him how he was and he said dont ask']"
      ]
     },
     "execution_count": 445,
     "metadata": {},
     "output_type": "execute_result"
    }
   ],
   "source": [
    "NW_Candiadates"
   ]
  },
  {
   "cell_type": "markdown",
   "id": "51bd2ac5",
   "metadata": {},
   "source": [
    "# 2.3 Needleman Wunch (The Last Layer)"
   ]
  },
  {
   "cell_type": "code",
   "execution_count": 448,
   "id": "96c0a64f",
   "metadata": {},
   "outputs": [
    {
     "name": "stdout",
     "output_type": "stream",
     "text": [
      "Query:  then said he o merchant i have a daughter and she\n",
      "learned magic in her childhood from an old woman who lived with\n",
      "us \n",
      "\n",
      "Target Sentence: \n",
      " the next day as i was sitting there he came back to me and said i have something to tell you that will please you and you owe me a reward for my good news i agreed to this and he went on master i have a daughter who as a young girl was taught magic by an old woman we had staying with us \n",
      "\n",
      "Perecent Identity using NW: 16.92\n"
     ]
    }
   ],
   "source": [
    "from minineedle import needle, core\n",
    "\n",
    "#query= 'it hath reached me, o auspicious king, that there was a fisher man well stricken in years who had a wife and three children, and withal was of poor condition.'\n",
    "\n",
    "R = {} # Dicitonary to Save query, target sentence, precent identity and the actual aligmnet\n",
    "\n",
    "for i in NW_Candiadates:\n",
    "    alignment = needle.NeedlemanWunsch(query, i.split())\n",
    "    x = alignment.get_identity()\n",
    "    y = alignment \n",
    "    R[i]=[x , query, i, y]\n",
    "max_value = max(R.values())\n",
    "print('Query: ',cleaned_query[8],'\\n')\n",
    "print('Target Sentence: \\n',max_value[2],'\\n')\n",
    "print('Perecent Identity using NW:',max_value[0])\n",
    "#print('\\n',max_value[3])"
   ]
  },
  {
   "cell_type": "code",
   "execution_count": null,
   "id": "0cf965b1",
   "metadata": {},
   "outputs": [],
   "source": []
  },
  {
   "cell_type": "code",
   "execution_count": 168,
   "id": "918cf73c",
   "metadata": {},
   "outputs": [
    {
     "name": "stdout",
     "output_type": "stream",
     "text": [
      "['when', 'it', 'was', 'the', 'second', 'night', 'said', 'dunyazad', 'to', 'her', 'sister', 'shahrazad', 'o', 'my', 'sister', 'finish', 'for', 'us', 'that', 'story', 'of', 'the', 'merchant', 'and', 'the', 'jinni', 'and', 'she', 'answered', 'with', 'joy', 'and', 'goodly', 'gree', 'if', 'the', 'king', 'permit', 'me']\n",
      "Query:\n",
      "  ['when', 'it', 'was', 'the', 'second', 'night', 'said', 'dunyazad', 'to', 'her', 'sister', 'shahrazad', 'o', 'my', 'sister', 'finish', 'for', 'us', 'that', 'story', 'of', 'the', 'merchant', 'and', 'the', 'jinni', 'and', 'she', 'answered', 'with', 'joy', 'and', 'goodly', 'gree', 'if', 'the', 'king', 'permit', 'me'] \n",
      "\n",
      "Target Sentence: \n",
      " the butcher saw me and took me into his house where his daughter covered her face from me and said are you bringing a man in to me where is there a man asked her father and she said this dog is a man over whom his wife has cast a spell but i can free him from it do that for gods sake said her father and she took a jug of water spoke some words over it and sprinkled some of it on me \n",
      "\n",
      "Perecent Identity using NW: 0.7\n"
     ]
    }
   ],
   "source": [
    "from minineedle import needle, core\n",
    "\n",
    "#query= 'it hath reached me, o auspicious king, that there was a fisher man well stricken in years who had a wife and three children, and withal was of poor condition.'\n",
    "print(query)\n",
    "threshold = 10.0\n",
    "R = {} # Dicitonary to Save query, target sentence, precent identity and the actual aligmnet\n",
    "\n",
    "for i in NW_Candiadates:\n",
    "    alignment = needle.NeedlemanWunsch(query, i)\n",
    "    x = alignment.get_identity()\n",
    "    y = alignment \n",
    "    R[i]=[x , query, i, y]\n",
    "max_value = max(R.values())\n",
    "print('Query:\\n ',max_value[1],'\\n')\n",
    "print('Target Sentence: \\n',max_value[2],'\\n')\n",
    "print('Perecent Identity using NW:',max_value[0])\n",
    "#print('\\n',max_value[3])"
   ]
  },
  {
   "cell_type": "code",
   "execution_count": null,
   "id": "bc8f55d8",
   "metadata": {},
   "outputs": [],
   "source": []
  },
  {
   "cell_type": "code",
   "execution_count": null,
   "id": "d504d59e",
   "metadata": {},
   "outputs": [],
   "source": []
  },
  {
   "cell_type": "code",
   "execution_count": null,
   "id": "514b2848",
   "metadata": {},
   "outputs": [],
   "source": []
  },
  {
   "cell_type": "code",
   "execution_count": null,
   "id": "fe4760e4",
   "metadata": {},
   "outputs": [],
   "source": []
  },
  {
   "cell_type": "code",
   "execution_count": null,
   "id": "9c3eb9ca",
   "metadata": {},
   "outputs": [],
   "source": []
  },
  {
   "cell_type": "code",
   "execution_count": null,
   "id": "6e26c552",
   "metadata": {},
   "outputs": [],
   "source": []
  },
  {
   "cell_type": "code",
   "execution_count": null,
   "id": "130d726b",
   "metadata": {},
   "outputs": [],
   "source": []
  },
  {
   "cell_type": "code",
   "execution_count": null,
   "id": "1e470cf8",
   "metadata": {},
   "outputs": [],
   "source": []
  },
  {
   "cell_type": "code",
   "execution_count": null,
   "id": "12b3a9ab",
   "metadata": {},
   "outputs": [],
   "source": []
  },
  {
   "cell_type": "markdown",
   "id": "4a8b6419",
   "metadata": {},
   "source": [
    "# My Proposed Algorithm"
   ]
  },
  {
   "cell_type": "code",
   "execution_count": 18,
   "id": "102cd5ca",
   "metadata": {},
   "outputs": [],
   "source": [
    "#Using LSH\n",
    "# After getting the right story now we will do #1.Divide the query into sentences.\n",
    "import nltk \n",
    "query = query_documents[5].lower()\n",
    "query_sentences2 = nltk.tokenize.sent_tokenize(query)\n",
    "#lower Sentences\n",
    "query_sentences =[]\n",
    "for i in query_sentences2:\n",
    "    i = i.lower()\n",
    "    query_sentences.append(i)"
   ]
  },
  {
   "cell_type": "code",
   "execution_count": 19,
   "id": "d36f76ab",
   "metadata": {},
   "outputs": [
    {
     "data": {
      "text/plain": [
       "['when it was the second night,\\nsaid dunyazad to her sister shahrazad, \"o my sister, finish for\\nus that story of the merchant and the jinni;\" and she answered\\n\"with joy and goodly gree, if the king permit me.\"',\n",
       " 'then quoth the\\nking, \"tell thy tale;\" and shahrazad began in these words: it\\nhath reached me, o auspicious king and heaven directed ruler!',\n",
       " 'that when the merchant purposed the sacrifice of the calf but saw\\nit weeping, his heart relented and he said to the herdsman, \"keep\\nthe calf among my cattle.\"',\n",
       " 'all this the old shaykh told the jinni\\nwho marvelled much at these strange words.',\n",
       " 'then the owner of the\\n\\n\\x0cgazelle continued:--o lord of the kings of the jann, this much\\ntook place and my uncle\\'s daughter, this gazelle, looked on and\\nsaw it, and said, \"butcher me this calf, for surely it is a fat\\none;\" but i bade the herdsman take it away and he took it and\\nturned his face homewards.',\n",
       " 'on the next day as i was sitting in my\\nown house, lo!',\n",
       " 'the herdsman came and, standing before me said, \"o\\nmy master, i will tell thee a thing which shall gladden thy soul,\\nand shall gain me the gift of good tidings.',\n",
       " '\"[fn#50] i answered,\\n\"even so.\"',\n",
       " 'then said he, \"o merchant, i have a daughter, and she\\nlearned magic in her childhood from an old woman who lived with\\nus.',\n",
       " 'yesterday when thou gavest me the calf, i went into the house\\nto her, and she looked upon it and veiled her face; then she wept\\nand laughed alternately and at last she said:--o my father, hath\\nmine honour become so cheap to thee that thou bringest in to me\\nstrange men?',\n",
       " 'i asked her:--where be these strange men and why\\nwast thou laughing, and crying?',\n",
       " '; and she answered, of a truth\\nthis calf which is with thee is the son of our master, the\\nmerchant; but he is ensorcelled by his stepdame who bewitched\\nboth him and his mother: such is the cause of my laughing; now\\nthe reason of his weeping is his mother, for that his father slew\\nher unawares.',\n",
       " 'then i marvelled at this with exceeding marvel and\\nhardly made sure that day had dawned before i came to tell thee.\"',\n",
       " \"when i heard, o jinni, my herdsman's words, i went out with him,\\nand i was drunken without wine, from the excess of joy and\\ngladness which came upon me, until i reached his house.\",\n",
       " 'there his\\ndaughter welcomed me and kissed my hand, and forthwith the calf\\ncame and fawned upon me as before.',\n",
       " 'quoth i to the herdsman\\'s\\ndaughter, \"is this true that thou sayest of this calf?\"',\n",
       " 'quoth\\nshe, \"yea, o my master, he is thy son, the very core of thy\\nheart.\"',\n",
       " 'i rejoiced and said to her, \"o maiden, if thou wilt\\nrelease him thine shall be whatever cattle and property of mine\\nare under thy father\\'s hand.\"',\n",
       " 'she smiled and answered, \"o my\\nmaster, i have no greed for the goods nor will i take them save\\non two conditions; the first that thou marry me to thy son and\\nthe second that i may bewitch her who bewitched him and imprison\\nher, otherwise i cannot be safe from her malice and\\nmalpractices.\"',\n",
       " 'now when i heard, o jinni, these, the words of the\\nherdsman\\'s daughter, i replied, \"beside what thou askest all the\\ncattle and the house hold stuff in thy father\\'s charge are thine\\nand, as for the daughter of my uncle, her blood is lawful to\\nthee.\"',\n",
       " 'when i had spoken, she took a cup and filled it with\\nwater: then she recited a spell over it and sprinkled it upon the\\ncalf, saying, \"if almighty allah created thee a calf, remain so\\nshaped, and change not; but if thou be enchanted, return to thy\\nwhilom form, by command of allah most highest!\"',\n",
       " 'and lo!',\n",
       " 'he\\ntrembled and became a man.',\n",
       " 'then i fell on his neck and said,\\n\"allah upon thee, tell me all that the daughter of my uncle did\\nby thee and by thy mother.\"',\n",
       " 'and when he told me what had come to\\npass between them i said, \" o my son, allah favoured thee with\\none to restore thee, and thy right hath returned to thee.\"',\n",
       " \"then,\\no jinni, i married the herdsman's daughter to him, and she\\ntransformed my wife into this gazelle, saying:--her shape is a\\ncomely and by no means loathsome.\",\n",
       " 'after this she abode with us\\nnight and day, day and night, till the almighty took her to\\nhimself.',\n",
       " 'when she deceased, my son fared forth to the cities of\\nhind, even to the city of this man who hath done to thee what\\nhath been done;[fn#51] and i also took this gazelle (my cousin)\\nand wandered with her from town to town seeking tidings of my\\nson, till destiny drove me to this place where i saw the merchant\\nsitting in tears.',\n",
       " 'such is my tale!',\n",
       " 'quoth the jinni, \"this story\\nis indeed strange, and therefore i grant thee the third part of\\nhis blood.\"',\n",
       " 'there upon the second old man, who owned the two\\ngreyhounds, came up and said, \" o jinni, if i recount to thee\\nwhat befel me from my brothers, these two hounds, and thou see']"
      ]
     },
     "execution_count": 19,
     "metadata": {},
     "output_type": "execute_result"
    }
   ],
   "source": [
    "query_sentences"
   ]
  },
  {
   "cell_type": "code",
   "execution_count": 20,
   "id": "94fe6f70",
   "metadata": {},
   "outputs": [],
   "source": [
    "targetStory_sentences = nltk.tokenize.sent_tokenize(NW_Candiadates[0])"
   ]
  },
  {
   "cell_type": "code",
   "execution_count": 21,
   "id": "4c1f10ed",
   "metadata": {},
   "outputs": [
    {
     "name": "stdout",
     "output_type": "stream",
     "text": [
      "0     When it was the second night, Dunyazad said to...\n",
      "1     The ‘ifrit was listening with astonishment to ...\n",
      "2     The next day, as I was sitting there, he came ...\n",
      "3     Yesterday when you gave me the calf, I went to...\n",
      "4     Then she said: “Father, do you hold me so chea...\n",
      "                            ...                        \n",
      "68    *\\n\\n\\n\\n‘Is that true?’ the man asked the mul...\n",
      "69    Morning now dawned and Shahrazad broke off fro...\n",
      "70    ‘What a good, pleasant, delightful and sweet s...\n",
      "71    The king then went to his court; the troops ar...\n",
      "72    The court was then dismissed and the king retu...\n",
      "Name: 0, Length: 73, dtype: object\n"
     ]
    }
   ],
   "source": [
    "db2 = pd.DataFrame(targetStory_sentences)#We have 67 Sentences\n",
    "db2=db2[0]\n",
    "print(db2)\n",
    "forest = get_forest(db2, permutations)"
   ]
  },
  {
   "cell_type": "code",
   "execution_count": 22,
   "id": "17504fed",
   "metadata": {},
   "outputs": [],
   "source": [
    "num_recommendations = 1\n",
    "LSHcandidates=[]\n",
    "for query2 in query_sentences:\n",
    "    #print(query2)\n",
    "    result = predict(query2, db2, permutations, num_recommendations, forest)\n",
    "    result\n",
    "    LSHcandidates.append(result)"
   ]
  },
  {
   "cell_type": "code",
   "execution_count": 23,
   "id": "82e63143",
   "metadata": {},
   "outputs": [
    {
     "data": {
      "text/plain": [
       "[70    ‘What a good, pleasant, delightful and sweet s...\n",
       " Name: 0, dtype: object,\n",
       " 0    When it was the second night, Dunyazad said to...\n",
       " Name: 0, dtype: object,\n",
       " 67    I sprinkled her with the water and said: ‘Leav...\n",
       " Name: 0, dtype: object,\n",
       " 62    She sprinkled the water over me and said: ‘Lea...\n",
       " Name: 0, dtype: object,\n",
       " 52    She continued to insist, despite my pleading w...\n",
       " Name: 0, dtype: object,\n",
       " 60    This was at night and I saw a black slave lyin...\n",
       " Name: 0, dtype: object,\n",
       " 67    I sprinkled her with the water and said: ‘Leav...\n",
       " Name: 0, dtype: object,\n",
       " 8    ‘This is your darling son.’ ‘Girl,’ I told her...\n",
       " Name: 0, dtype: object,\n",
       " 27    My brother opened another shop, but after a ti...\n",
       " Name: 0, dtype: object,\n",
       " 2    The next day, as I was sitting there, he came ...\n",
       " Name: 0, dtype: object,\n",
       " 4    Then she said: “Father, do you hold me so chea...\n",
       " Name: 0, dtype: object,\n",
       " 29    Every year they would make the same proposal t...\n",
       " Name: 0, dtype: object,\n",
       " 61    My wife caught sight of me and came to me with...\n",
       " Name: 0, dtype: object,\n",
       " 29    Every year they would make the same proposal t...\n",
       " Name: 0, dtype: object,\n",
       " 24    He too spent a whole year away before coming b...\n",
       " Name: 0, dtype: object,\n",
       " 1    The ‘ifrit was listening with astonishment to ...\n",
       " Name: 0, dtype: object,\n",
       " 29    Every year they would make the same proposal t...\n",
       " Name: 0, dtype: object,\n",
       " 4    Then she said: “Father, do you hold me so chea...\n",
       " Name: 0, dtype: object,\n",
       " 31    I didn’t say a word to them but checked the ac...\n",
       " Name: 0, dtype: object,\n",
       " 58    ‘It is a marvellous one,’ agreed the ‘ifrit, a...\n",
       " Name: 0, dtype: object,\n",
       " 41    I shall pay you back for this and don’t be mis...\n",
       " Name: 0, dtype: object,\n",
       " 69    Morning now dawned and Shahrazad broke off fro...\n",
       " Name: 0, dtype: object,\n",
       " 27    My brother opened another shop, but after a ti...\n",
       " Name: 0, dtype: object,\n",
       " 67    I sprinkled her with the water and said: ‘Leav...\n",
       " Name: 0, dtype: object,\n",
       " 28    I refused, asking: ‘What did you get from your...\n",
       " Name: 0, dtype: object,\n",
       " 29    Every year they would make the same proposal t...\n",
       " Name: 0, dtype: object,\n",
       " 21    He took the money gladly and opened another shop.\n",
       " Name: 0, dtype: object,\n",
       " 29    Every year they would make the same proposal t...\n",
       " Name: 0, dtype: object,\n",
       " 57    This is my tale.\n",
       " Name: 0, dtype: object,\n",
       " 58    ‘It is a marvellous one,’ agreed the ‘ifrit, a...\n",
       " Name: 0, dtype: object,\n",
       " 53    I opened the doors, brought out the money that...\n",
       " Name: 0, dtype: object]"
      ]
     },
     "execution_count": 23,
     "metadata": {},
     "output_type": "execute_result"
    }
   ],
   "source": [
    "LSHcandidates"
   ]
  },
  {
   "cell_type": "code",
   "execution_count": null,
   "id": "ca43fbc0",
   "metadata": {
    "scrolled": true
   },
   "outputs": [],
   "source": []
  },
  {
   "cell_type": "code",
   "execution_count": 24,
   "id": "71fa3c4e",
   "metadata": {},
   "outputs": [],
   "source": [
    "FinalLSH=[]\n",
    "for i in range(len(LSHcandidates)):\n",
    "    FinalLSH.append(LSHcandidates[i].values[:])"
   ]
  },
  {
   "cell_type": "code",
   "execution_count": 25,
   "id": "c09328dc",
   "metadata": {},
   "outputs": [],
   "source": [
    "\n",
    "FinalLSH[0].tolist()\n",
    "FinalList=[]\n",
    "for i in range(len(LSHcandidates)):\n",
    "    FinalList.append(FinalLSH[i].tolist())\n"
   ]
  },
  {
   "cell_type": "code",
   "execution_count": 26,
   "id": "5c5ab214",
   "metadata": {},
   "outputs": [
    {
     "data": {
      "text/plain": [
       "[['‘What a good, pleasant, delightful and sweet story this is!’ exclaimed Dunyazad, at which Shahrazad told her: ‘How can this compare with what I shall tell you this coming night, if I am still alive and the king spares me?’ ‘By God,’ the king said to himself, ‘I am not going to kill her until I hear the rest of this remarkable story,’ and so they spent the rest of the time embracing one another until the sun had fully risen.'],\n",
       " ['When it was the second night, Dunyazad said to Shahrazad: ‘Sister, finish your story of the merchant and the ‘ifrit for us.’ ‘With pleasure,’ replied Shahrazad, ‘if the king gives me permission,’ and when the king gave it, SHE WENT ON:\\n\\nI have heard, O fortunate king and rightly guided ruler, that when the merchant was about to cut the throat of the calf, he was moved by pity and told the herdsman to keep the calf among the other beasts.'],\n",
       " ['I sprinkled her with the water and said: ‘Leave this shape and become a mule,’ which she did there and then, and it is she whom you can see, sultan and chief of the kings of the jinn.'],\n",
       " ['She sprinkled the water over me and said: ‘Leave this shape of yours and take the form of a dog.’ Immediately I became a dog and she drove me out through the door of the house.'],\n",
       " ['She continued to insist, despite my pleading with her, and she then flew off with me and put me down on the roof of my own house.'],\n",
       " ['This was at night and I saw a black slave lying in bed with her; the two of them talked, flirted, laughed, kissed and played with each other.'],\n",
       " ['I sprinkled her with the water and said: ‘Leave this shape and become a mule,’ which she did there and then, and it is she whom you can see, sultan and chief of the kings of the jinn.'],\n",
       " ['‘This is your darling son.’ ‘Girl,’ I told her, ‘if you free him, you can have all the beasts and everything else that your father looks after.’ She smiled and said: ‘Master, I only want this on two conditions, the first being that you marry me to him and the second that I be allowed to put a spell on the one who enchanted him and keep her confined, for otherwise I shall not be safe from her scheming.’\\n\\nWhen I heard what she had to say, I promised to give her what she wanted as well as everything that was in her father’s charge, adding that I would even give her permission to kill my wife.'],\n",
       " ['My brother opened another shop, but after a time he and my other brother proposed that I should go off with them on a voyage.'],\n",
       " ['The next day, as I was sitting there, he came back to me and said: ‘I have something to tell you that will please you, and you owe me a reward for my good news.’ I agreed to this and he went on: ‘Master, I have a daughter who, as a young girl, was taught magic by an old woman we had staying with us.'],\n",
       " ['Then she said: “Father, do you hold me so cheap that you bring strange men in to me?” “Where are these strange men,” I asked, “and why are you laughing and crying?” She said: “This calf you have with you is our master’s son, who is under a spell laid upon him and his mother by his father’s wife.'],\n",
       " ['Every year they would make the same proposal to me and I would not agree, until after six years I finally accepted and told them I would go with them.'],\n",
       " ['My wife caught sight of me and came to me with a jug of water over which she uttered a spell.'],\n",
       " ['Every year they would make the same proposal to me and I would not agree, until after six years I finally accepted and told them I would go with them.'],\n",
       " ['He too spent a whole year away before coming back to me in the same state as his brother.'],\n",
       " ['The ‘ifrit was listening with astonishment to what the old man with the gazelle was saying, AND THE MAN WENT ON:\\n\\nLord of the kings of the jinn, while all this was going on, my wife, now this gazelle, was looking on and telling me to kill the calf, because it was fat, but I could not bring myself to do this and so I told the herdsman to take it away, which he did.'],\n",
       " ['Every year they would make the same proposal to me and I would not agree, until after six years I finally accepted and told them I would go with them.'],\n",
       " ['Then she said: “Father, do you hold me so cheap that you bring strange men in to me?” “Where are these strange men,” I asked, “and why are you laughing and crying?” She said: “This calf you have with you is our master’s son, who is under a spell laid upon him and his mother by his father’s wife.'],\n",
       " ['I didn’t say a word to them but checked the accounts of my shop and sold what I owned together with all my shop goods, leaving me, to my delight, with a total of six thousand dinars.'],\n",
       " ['‘It is a marvellous one,’ agreed the ‘ifrit, adding: ‘I grant you a third share in the blood he owes for his crime.’\\n\\nThe third old man, with the mule, now said: ‘If I tell you a more amazing story than these two, will you grant me the remaining share?’ The ‘ifrit agreed AND THE MAN WENT ON:\\n\\nSultan and leader of the jinn, this mule was my wife.'],\n",
       " ['I shall pay you back for this and don’t be misled by the state I am in now.’\\n\\nWhen I heard this, I felt a yearning for her, as God, the Great and Glorious, had decreed, and so I took her, gave her clothes and provided her with elegantly furnished accommodation on the ship.'],\n",
       " ['Morning now dawned and Shahrazad broke off from what she had been allowed to say.'],\n",
       " ['My brother opened another shop, but after a time he and my other brother proposed that I should go off with them on a voyage.'],\n",
       " ['I sprinkled her with the water and said: ‘Leave this shape and become a mule,’ which she did there and then, and it is she whom you can see, sultan and chief of the kings of the jinn.'],\n",
       " ['I refused, asking: ‘What did you get from your travels to make me imagine that I could make a profit?’ I refused to listen to them and we stayed there trading in our shops.'],\n",
       " ['Every year they would make the same proposal to me and I would not agree, until after six years I finally accepted and told them I would go with them.'],\n",
       " ['He took the money gladly and opened another shop.'],\n",
       " ['Every year they would make the same proposal to me and I would not agree, until after six years I finally accepted and told them I would go with them.'],\n",
       " ['This is my tale.'],\n",
       " ['‘It is a marvellous one,’ agreed the ‘ifrit, adding: ‘I grant you a third share in the blood he owes for his crime.’\\n\\nThe third old man, with the mule, now said: ‘If I tell you a more amazing story than these two, will you grant me the remaining share?’ The ‘ifrit agreed AND THE MAN WENT ON:\\n\\nSultan and leader of the jinn, this mule was my wife.'],\n",
       " ['I opened the doors, brought out the money that I had buried and opened up my shop, after greeting the people there and buying goods for trade.']]"
      ]
     },
     "execution_count": 26,
     "metadata": {},
     "output_type": "execute_result"
    }
   ],
   "source": [
    "FinalList"
   ]
  },
  {
   "cell_type": "markdown",
   "id": "fdeb0ffa",
   "metadata": {},
   "source": [
    "# Transfer the text to doc"
   ]
  },
  {
   "cell_type": "code",
   "execution_count": 27,
   "id": "0a2edd45",
   "metadata": {},
   "outputs": [],
   "source": [
    "from docx import Document\n",
    "\n",
    "document = Document()\n",
    "document.add_heading('Similar Document', level=1)\n",
    "document.add_paragraph(NW_Candiadates[0])\n",
    "\n",
    "document.save('Target.docx')"
   ]
  },
  {
   "cell_type": "code",
   "execution_count": 28,
   "id": "99ea961f",
   "metadata": {},
   "outputs": [
    {
     "data": {
      "text/plain": [
       "[['‘What a good, pleasant, delightful and sweet story this is!’ exclaimed Dunyazad, at which Shahrazad told her: ‘How can this compare with what I shall tell you this coming night, if I am still alive and the king spares me?’ ‘By God,’ the king said to himself, ‘I am not going to kill her until I hear the rest of this remarkable story,’ and so they spent the rest of the time embracing one another until the sun had fully risen.'],\n",
       " ['When it was the second night, Dunyazad said to Shahrazad: ‘Sister, finish your story of the merchant and the ‘ifrit for us.’ ‘With pleasure,’ replied Shahrazad, ‘if the king gives me permission,’ and when the king gave it, SHE WENT ON:\\n\\nI have heard, O fortunate king and rightly guided ruler, that when the merchant was about to cut the throat of the calf, he was moved by pity and told the herdsman to keep the calf among the other beasts.'],\n",
       " ['I sprinkled her with the water and said: ‘Leave this shape and become a mule,’ which she did there and then, and it is she whom you can see, sultan and chief of the kings of the jinn.'],\n",
       " ['She sprinkled the water over me and said: ‘Leave this shape of yours and take the form of a dog.’ Immediately I became a dog and she drove me out through the door of the house.'],\n",
       " ['She continued to insist, despite my pleading with her, and she then flew off with me and put me down on the roof of my own house.'],\n",
       " ['This was at night and I saw a black slave lying in bed with her; the two of them talked, flirted, laughed, kissed and played with each other.'],\n",
       " ['I sprinkled her with the water and said: ‘Leave this shape and become a mule,’ which she did there and then, and it is she whom you can see, sultan and chief of the kings of the jinn.'],\n",
       " ['‘This is your darling son.’ ‘Girl,’ I told her, ‘if you free him, you can have all the beasts and everything else that your father looks after.’ She smiled and said: ‘Master, I only want this on two conditions, the first being that you marry me to him and the second that I be allowed to put a spell on the one who enchanted him and keep her confined, for otherwise I shall not be safe from her scheming.’\\n\\nWhen I heard what she had to say, I promised to give her what she wanted as well as everything that was in her father’s charge, adding that I would even give her permission to kill my wife.'],\n",
       " ['My brother opened another shop, but after a time he and my other brother proposed that I should go off with them on a voyage.'],\n",
       " ['The next day, as I was sitting there, he came back to me and said: ‘I have something to tell you that will please you, and you owe me a reward for my good news.’ I agreed to this and he went on: ‘Master, I have a daughter who, as a young girl, was taught magic by an old woman we had staying with us.'],\n",
       " ['Then she said: “Father, do you hold me so cheap that you bring strange men in to me?” “Where are these strange men,” I asked, “and why are you laughing and crying?” She said: “This calf you have with you is our master’s son, who is under a spell laid upon him and his mother by his father’s wife.'],\n",
       " ['Every year they would make the same proposal to me and I would not agree, until after six years I finally accepted and told them I would go with them.'],\n",
       " ['My wife caught sight of me and came to me with a jug of water over which she uttered a spell.'],\n",
       " ['Every year they would make the same proposal to me and I would not agree, until after six years I finally accepted and told them I would go with them.'],\n",
       " ['He too spent a whole year away before coming back to me in the same state as his brother.'],\n",
       " ['The ‘ifrit was listening with astonishment to what the old man with the gazelle was saying, AND THE MAN WENT ON:\\n\\nLord of the kings of the jinn, while all this was going on, my wife, now this gazelle, was looking on and telling me to kill the calf, because it was fat, but I could not bring myself to do this and so I told the herdsman to take it away, which he did.'],\n",
       " ['Every year they would make the same proposal to me and I would not agree, until after six years I finally accepted and told them I would go with them.'],\n",
       " ['Then she said: “Father, do you hold me so cheap that you bring strange men in to me?” “Where are these strange men,” I asked, “and why are you laughing and crying?” She said: “This calf you have with you is our master’s son, who is under a spell laid upon him and his mother by his father’s wife.'],\n",
       " ['I didn’t say a word to them but checked the accounts of my shop and sold what I owned together with all my shop goods, leaving me, to my delight, with a total of six thousand dinars.'],\n",
       " ['‘It is a marvellous one,’ agreed the ‘ifrit, adding: ‘I grant you a third share in the blood he owes for his crime.’\\n\\nThe third old man, with the mule, now said: ‘If I tell you a more amazing story than these two, will you grant me the remaining share?’ The ‘ifrit agreed AND THE MAN WENT ON:\\n\\nSultan and leader of the jinn, this mule was my wife.'],\n",
       " ['I shall pay you back for this and don’t be misled by the state I am in now.’\\n\\nWhen I heard this, I felt a yearning for her, as God, the Great and Glorious, had decreed, and so I took her, gave her clothes and provided her with elegantly furnished accommodation on the ship.'],\n",
       " ['Morning now dawned and Shahrazad broke off from what she had been allowed to say.'],\n",
       " ['My brother opened another shop, but after a time he and my other brother proposed that I should go off with them on a voyage.'],\n",
       " ['I sprinkled her with the water and said: ‘Leave this shape and become a mule,’ which she did there and then, and it is she whom you can see, sultan and chief of the kings of the jinn.'],\n",
       " ['I refused, asking: ‘What did you get from your travels to make me imagine that I could make a profit?’ I refused to listen to them and we stayed there trading in our shops.'],\n",
       " ['Every year they would make the same proposal to me and I would not agree, until after six years I finally accepted and told them I would go with them.'],\n",
       " ['He took the money gladly and opened another shop.'],\n",
       " ['Every year they would make the same proposal to me and I would not agree, until after six years I finally accepted and told them I would go with them.'],\n",
       " ['This is my tale.'],\n",
       " ['‘It is a marvellous one,’ agreed the ‘ifrit, adding: ‘I grant you a third share in the blood he owes for his crime.’\\n\\nThe third old man, with the mule, now said: ‘If I tell you a more amazing story than these two, will you grant me the remaining share?’ The ‘ifrit agreed AND THE MAN WENT ON:\\n\\nSultan and leader of the jinn, this mule was my wife.'],\n",
       " ['I opened the doors, brought out the money that I had buried and opened up my shop, after greeting the people there and buying goods for trade.']]"
      ]
     },
     "execution_count": 28,
     "metadata": {},
     "output_type": "execute_result"
    }
   ],
   "source": [
    "FinalList"
   ]
  },
  {
   "cell_type": "code",
   "execution_count": 54,
   "id": "688cd78a",
   "metadata": {},
   "outputs": [
    {
     "data": {
      "text/plain": [
       "['When it was the second night, Dunyazad said to Shahrazad: ‘Sister, finish your story of the merchant and the ‘ifrit for us.’ ‘With pleasure,’ replied Shahrazad, ‘if the king gives me permission,’ and when the king gave it, SHE WENT ON:\\n\\nI have heard, O fortunate king and rightly guided ruler, that when the merchant was about to cut the throat of the calf, he was moved by pity and told the herdsman to keep the calf among the other beasts.']"
      ]
     },
     "execution_count": 54,
     "metadata": {},
     "output_type": "execute_result"
    }
   ],
   "source": [
    "FinalList[1]"
   ]
  },
  {
   "cell_type": "code",
   "execution_count": 60,
   "id": "08033a0d",
   "metadata": {},
   "outputs": [],
   "source": [
    "Final=' '.join(str(x) for x in FinalList)"
   ]
  },
  {
   "cell_type": "code",
   "execution_count": 76,
   "id": "945a745c",
   "metadata": {},
   "outputs": [
    {
     "data": {
      "text/plain": [
       "['‘What a good, pleasant, delightful and sweet story this is!’ exclaimed Dunyazad, at which Shahrazad told her: ‘How can this compare with what I shall tell you this coming night, if I am still alive and the king spares me?’ ‘By God,’ the king said to himself, ‘I am not going to kill her until I hear the rest of this remarkable story,’ and so they spent the rest of the time embracing one another until the sun had fully risen.']"
      ]
     },
     "execution_count": 76,
     "metadata": {},
     "output_type": "execute_result"
    }
   ],
   "source": [
    "FinalList[0]"
   ]
  },
  {
   "cell_type": "code",
   "execution_count": 138,
   "id": "c45c6f0c",
   "metadata": {},
   "outputs": [],
   "source": [
    "# Import docx NOT python-docx\n",
    "import docx\n",
    "from docx.enum.text import WD_COLOR_INDEX\n",
    "  \n",
    "# Create an instance of a word document\n",
    "doc = docx.Document()\n",
    "# Add a Title to the document \n",
    "doc.add_heading('Target Story', 0)\n",
    "  \n",
    "# Creating paragraph with some content and Highlighting it.\n",
    "highlight_para = doc.add_paragraph(\n",
    "    ).add_run(\n",
    "           NW_Candiadates\n",
    "                 ).font.highlight_color = WD_COLOR_INDEX.WHITE\n",
    "  \n",
    "# Now save the document to a location \n",
    "doc.save('Target-Story.docx')"
   ]
  },
  {
   "cell_type": "code",
   "execution_count": null,
   "id": "29cecf34",
   "metadata": {},
   "outputs": [],
   "source": []
  },
  {
   "cell_type": "code",
   "execution_count": 149,
   "id": "fc7a86ef",
   "metadata": {},
   "outputs": [
    {
     "ename": "IndentationError",
     "evalue": "unindent does not match any outer indentation level (<tokenize>, line 9)",
     "output_type": "error",
     "traceback": [
      "\u001b[0;36m  File \u001b[0;32m\"<tokenize>\"\u001b[0;36m, line \u001b[0;32m9\u001b[0m\n\u001b[0;31m    for i in doc1.paragraphs:\u001b[0m\n\u001b[0m    ^\u001b[0m\n\u001b[0;31mIndentationError\u001b[0m\u001b[0;31m:\u001b[0m unindent does not match any outer indentation level\n"
     ]
    }
   ],
   "source": [
    "import docx\n",
    "from docx.enum.text import WD_COLOR_INDEX\n",
    "  \n",
    "# create an instance of a \n",
    "# word document we want to open\n",
    "doc1 = Document('/Users/ibrahim/Desktop/Grad-Research-Spring22/Preprocessing/Target-Story.docx')\n",
    "for i in FinalList:\n",
    "     print(i)\n",
    "        for i in doc1.paragraphs:\n",
    "            print(\"True\")"
   ]
  },
  {
   "cell_type": "code",
   "execution_count": 196,
   "id": "e706c951",
   "metadata": {},
   "outputs": [
    {
     "name": "stdout",
     "output_type": "stream",
     "text": [
      "['‘What a good, pleasant, delightful and sweet story this is!’ exclaimed Dunyazad, at which Shahrazad told her: ‘How can this compare with what I shall tell you this coming night, if I am still alive and the king spares me?’ ‘By God,’ the king said to himself, ‘I am not going to kill her until I hear the rest of this remarkable story,’ and so they spent the rest of the time embracing one another until the sun had fully risen.']\n",
      "['When it was the second night, Dunyazad said to Shahrazad: ‘Sister, finish your story of the merchant and the ‘ifrit for us.’ ‘With pleasure,’ replied Shahrazad, ‘if the king gives me permission,’ and when the king gave it, SHE WENT ON:\\n\\nI have heard, O fortunate king and rightly guided ruler, that when the merchant was about to cut the throat of the calf, he was moved by pity and told the herdsman to keep the calf among the other beasts.']\n",
      "['I sprinkled her with the water and said: ‘Leave this shape and become a mule,’ which she did there and then, and it is she whom you can see, sultan and chief of the kings of the jinn.']\n",
      "['She sprinkled the water over me and said: ‘Leave this shape of yours and take the form of a dog.’ Immediately I became a dog and she drove me out through the door of the house.']\n",
      "['She continued to insist, despite my pleading with her, and she then flew off with me and put me down on the roof of my own house.']\n",
      "['This was at night and I saw a black slave lying in bed with her; the two of them talked, flirted, laughed, kissed and played with each other.']\n",
      "['I sprinkled her with the water and said: ‘Leave this shape and become a mule,’ which she did there and then, and it is she whom you can see, sultan and chief of the kings of the jinn.']\n",
      "['‘This is your darling son.’ ‘Girl,’ I told her, ‘if you free him, you can have all the beasts and everything else that your father looks after.’ She smiled and said: ‘Master, I only want this on two conditions, the first being that you marry me to him and the second that I be allowed to put a spell on the one who enchanted him and keep her confined, for otherwise I shall not be safe from her scheming.’\\n\\nWhen I heard what she had to say, I promised to give her what she wanted as well as everything that was in her father’s charge, adding that I would even give her permission to kill my wife.']\n",
      "['My brother opened another shop, but after a time he and my other brother proposed that I should go off with them on a voyage.']\n",
      "['The next day, as I was sitting there, he came back to me and said: ‘I have something to tell you that will please you, and you owe me a reward for my good news.’ I agreed to this and he went on: ‘Master, I have a daughter who, as a young girl, was taught magic by an old woman we had staying with us.']\n",
      "['Then she said: “Father, do you hold me so cheap that you bring strange men in to me?” “Where are these strange men,” I asked, “and why are you laughing and crying?” She said: “This calf you have with you is our master’s son, who is under a spell laid upon him and his mother by his father’s wife.']\n",
      "['Every year they would make the same proposal to me and I would not agree, until after six years I finally accepted and told them I would go with them.']\n",
      "['My wife caught sight of me and came to me with a jug of water over which she uttered a spell.']\n",
      "['Every year they would make the same proposal to me and I would not agree, until after six years I finally accepted and told them I would go with them.']\n",
      "['He too spent a whole year away before coming back to me in the same state as his brother.']\n",
      "['The ‘ifrit was listening with astonishment to what the old man with the gazelle was saying, AND THE MAN WENT ON:\\n\\nLord of the kings of the jinn, while all this was going on, my wife, now this gazelle, was looking on and telling me to kill the calf, because it was fat, but I could not bring myself to do this and so I told the herdsman to take it away, which he did.']\n",
      "['Every year they would make the same proposal to me and I would not agree, until after six years I finally accepted and told them I would go with them.']\n",
      "['Then she said: “Father, do you hold me so cheap that you bring strange men in to me?” “Where are these strange men,” I asked, “and why are you laughing and crying?” She said: “This calf you have with you is our master’s son, who is under a spell laid upon him and his mother by his father’s wife.']\n",
      "['I didn’t say a word to them but checked the accounts of my shop and sold what I owned together with all my shop goods, leaving me, to my delight, with a total of six thousand dinars.']\n",
      "['‘It is a marvellous one,’ agreed the ‘ifrit, adding: ‘I grant you a third share in the blood he owes for his crime.’\\n\\nThe third old man, with the mule, now said: ‘If I tell you a more amazing story than these two, will you grant me the remaining share?’ The ‘ifrit agreed AND THE MAN WENT ON:\\n\\nSultan and leader of the jinn, this mule was my wife.']\n",
      "['I shall pay you back for this and don’t be misled by the state I am in now.’\\n\\nWhen I heard this, I felt a yearning for her, as God, the Great and Glorious, had decreed, and so I took her, gave her clothes and provided her with elegantly furnished accommodation on the ship.']\n",
      "['Morning now dawned and Shahrazad broke off from what she had been allowed to say.']\n",
      "['My brother opened another shop, but after a time he and my other brother proposed that I should go off with them on a voyage.']\n",
      "['I sprinkled her with the water and said: ‘Leave this shape and become a mule,’ which she did there and then, and it is she whom you can see, sultan and chief of the kings of the jinn.']\n",
      "['I refused, asking: ‘What did you get from your travels to make me imagine that I could make a profit?’ I refused to listen to them and we stayed there trading in our shops.']\n",
      "['Every year they would make the same proposal to me and I would not agree, until after six years I finally accepted and told them I would go with them.']\n",
      "['He took the money gladly and opened another shop.']\n",
      "['Every year they would make the same proposal to me and I would not agree, until after six years I finally accepted and told them I would go with them.']\n",
      "['This is my tale.']\n",
      "['‘It is a marvellous one,’ agreed the ‘ifrit, adding: ‘I grant you a third share in the blood he owes for his crime.’\\n\\nThe third old man, with the mule, now said: ‘If I tell you a more amazing story than these two, will you grant me the remaining share?’ The ‘ifrit agreed AND THE MAN WENT ON:\\n\\nSultan and leader of the jinn, this mule was my wife.']\n",
      "['I opened the doors, brought out the money that I had buried and opened up my shop, after greeting the people there and buying goods for trade.']\n"
     ]
    }
   ],
   "source": [
    "import docx\n",
    "from docx.enum.text import WD_COLOR_INDEX\n",
    "  \n",
    "# Create an instance of a word document\n",
    "doc = docx.Document('/Users/ibrahim/Desktop/Grad-Research-Spring22/Preprocessing/Target-Story.docx')\n",
    "  \n",
    "# Add a Title to the document \n",
    "doc.add_heading('Paragraphs', 0)\n",
    "inserted=[]\n",
    "for i in FinalList:\n",
    "    print(i)\n",
    "    inserted.append(i)\n",
    "    if i in doc.paragraphs:\n",
    "        print()\n",
    "\n",
    "for i in range(len(inserted)):\n",
    "    #print(inserted[i])# paragraph with some content and Highlighting it.\n",
    "    highlight_para = doc.add_paragraph(\n",
    "        ).add_run(\n",
    "                 ).font.highlight_color = WD_COLOR_INDEX.YELLOW\n",
    "  \n",
    "# Now save the document to a location \n",
    "doc.save('gfg.docx')"
   ]
  },
  {
   "cell_type": "code",
   "execution_count": 137,
   "id": "9fbde974",
   "metadata": {},
   "outputs": [],
   "source": [
    "# Import docx NOT python-docx\n",
    "import docx\n",
    "from docx.enum.text import WD_COLOR_INDEX\n",
    "from docx import Document\n",
    "\n",
    "  \n",
    "# Create an instance of a word document\n",
    "doc1 = Document('/Users/ibrahim/Desktop/Grad-Research-Spring22/Preprocessing/Target-Story.docx')\n",
    "doc1=Document()\n",
    "  \n",
    "# Add a Title to the document \n",
    "#doc1.add_heading('Target Story', 0)\n",
    "  \n",
    "# Creating paragraph with some content\n",
    "for i in FinalList:\n",
    "    #print(i)\n",
    "    for i in doc1.paragraphs:\n",
    "        print(\"True\")\n",
    "        doc1.add_run(i\n",
    "                  ).font.highlight_color = WD_COLOR_INDEX.RED\n",
    "\n",
    "# Now save the document to a location \n",
    "doc.save('gfg.docx')"
   ]
  },
  {
   "cell_type": "code",
   "execution_count": 110,
   "id": "779ac37a",
   "metadata": {},
   "outputs": [
    {
     "name": "stdout",
     "output_type": "stream",
     "text": [
      "/Users/ibrahim/Desktop/Grad-Research-Spring22/Preprocessing/Target-Story.docxTarget-Story.docx\n"
     ]
    },
    {
     "ename": "PackageNotFoundError",
     "evalue": "Package not found at '/Users/ibrahim/Desktop/Grad-Research-Spring22/Preprocessing/Target-Story.docxTarget-Story.docx'",
     "output_type": "error",
     "traceback": [
      "\u001b[0;31m---------------------------------------------------------------------------\u001b[0m",
      "\u001b[0;31mPackageNotFoundError\u001b[0m                      Traceback (most recent call last)",
      "\u001b[0;32m/var/folders/82/58plxq9d79373wycjp789qfm0000gn/T/ipykernel_12137/1765651571.py\u001b[0m in \u001b[0;36m<module>\u001b[0;34m\u001b[0m\n\u001b[1;32m      5\u001b[0m \u001b[0mf\u001b[0m \u001b[0;34m=\u001b[0m \u001b[0msource_folder\u001b[0m\u001b[0;34m+\u001b[0m\u001b[0;34m'Target-Story.docx'\u001b[0m\u001b[0;34m\u001b[0m\u001b[0;34m\u001b[0m\u001b[0m\n\u001b[1;32m      6\u001b[0m \u001b[0mprint\u001b[0m\u001b[0;34m(\u001b[0m\u001b[0mf\u001b[0m\u001b[0;34m)\u001b[0m\u001b[0;34m\u001b[0m\u001b[0;34m\u001b[0m\u001b[0m\n\u001b[0;32m----> 7\u001b[0;31m \u001b[0mdocument\u001b[0m \u001b[0;34m=\u001b[0m \u001b[0mDocument\u001b[0m\u001b[0;34m(\u001b[0m\u001b[0mf\u001b[0m\u001b[0;34m)\u001b[0m\u001b[0;34m\u001b[0m\u001b[0;34m\u001b[0m\u001b[0m\n\u001b[0m\u001b[1;32m      8\u001b[0m \u001b[0;34m\u001b[0m\u001b[0m\n\u001b[1;32m      9\u001b[0m \u001b[0;34m\u001b[0m\u001b[0m\n",
      "\u001b[0;32m~/opt/anaconda3/lib/python3.9/site-packages/docx/api.py\u001b[0m in \u001b[0;36mDocument\u001b[0;34m(docx)\u001b[0m\n\u001b[1;32m     23\u001b[0m     \"\"\"\n\u001b[1;32m     24\u001b[0m     \u001b[0mdocx\u001b[0m \u001b[0;34m=\u001b[0m \u001b[0m_default_docx_path\u001b[0m\u001b[0;34m(\u001b[0m\u001b[0;34m)\u001b[0m \u001b[0;32mif\u001b[0m \u001b[0mdocx\u001b[0m \u001b[0;32mis\u001b[0m \u001b[0;32mNone\u001b[0m \u001b[0;32melse\u001b[0m \u001b[0mdocx\u001b[0m\u001b[0;34m\u001b[0m\u001b[0;34m\u001b[0m\u001b[0m\n\u001b[0;32m---> 25\u001b[0;31m     \u001b[0mdocument_part\u001b[0m \u001b[0;34m=\u001b[0m \u001b[0mPackage\u001b[0m\u001b[0;34m.\u001b[0m\u001b[0mopen\u001b[0m\u001b[0;34m(\u001b[0m\u001b[0mdocx\u001b[0m\u001b[0;34m)\u001b[0m\u001b[0;34m.\u001b[0m\u001b[0mmain_document_part\u001b[0m\u001b[0;34m\u001b[0m\u001b[0;34m\u001b[0m\u001b[0m\n\u001b[0m\u001b[1;32m     26\u001b[0m     \u001b[0;32mif\u001b[0m \u001b[0mdocument_part\u001b[0m\u001b[0;34m.\u001b[0m\u001b[0mcontent_type\u001b[0m \u001b[0;34m!=\u001b[0m \u001b[0mCT\u001b[0m\u001b[0;34m.\u001b[0m\u001b[0mWML_DOCUMENT_MAIN\u001b[0m\u001b[0;34m:\u001b[0m\u001b[0;34m\u001b[0m\u001b[0;34m\u001b[0m\u001b[0m\n\u001b[1;32m     27\u001b[0m         \u001b[0mtmpl\u001b[0m \u001b[0;34m=\u001b[0m \u001b[0;34m\"file '%s' is not a Word file, content type is '%s'\"\u001b[0m\u001b[0;34m\u001b[0m\u001b[0;34m\u001b[0m\u001b[0m\n",
      "\u001b[0;32m~/opt/anaconda3/lib/python3.9/site-packages/docx/opc/package.py\u001b[0m in \u001b[0;36mopen\u001b[0;34m(cls, pkg_file)\u001b[0m\n\u001b[1;32m    126\u001b[0m         \u001b[0;34m*\u001b[0m\u001b[0mpkg_file\u001b[0m\u001b[0;34m*\u001b[0m\u001b[0;34m.\u001b[0m\u001b[0;34m\u001b[0m\u001b[0;34m\u001b[0m\u001b[0m\n\u001b[1;32m    127\u001b[0m         \"\"\"\n\u001b[0;32m--> 128\u001b[0;31m         \u001b[0mpkg_reader\u001b[0m \u001b[0;34m=\u001b[0m \u001b[0mPackageReader\u001b[0m\u001b[0;34m.\u001b[0m\u001b[0mfrom_file\u001b[0m\u001b[0;34m(\u001b[0m\u001b[0mpkg_file\u001b[0m\u001b[0;34m)\u001b[0m\u001b[0;34m\u001b[0m\u001b[0;34m\u001b[0m\u001b[0m\n\u001b[0m\u001b[1;32m    129\u001b[0m         \u001b[0mpackage\u001b[0m \u001b[0;34m=\u001b[0m \u001b[0mcls\u001b[0m\u001b[0;34m(\u001b[0m\u001b[0;34m)\u001b[0m\u001b[0;34m\u001b[0m\u001b[0;34m\u001b[0m\u001b[0m\n\u001b[1;32m    130\u001b[0m         \u001b[0mUnmarshaller\u001b[0m\u001b[0;34m.\u001b[0m\u001b[0munmarshal\u001b[0m\u001b[0;34m(\u001b[0m\u001b[0mpkg_reader\u001b[0m\u001b[0;34m,\u001b[0m \u001b[0mpackage\u001b[0m\u001b[0;34m,\u001b[0m \u001b[0mPartFactory\u001b[0m\u001b[0;34m)\u001b[0m\u001b[0;34m\u001b[0m\u001b[0;34m\u001b[0m\u001b[0m\n",
      "\u001b[0;32m~/opt/anaconda3/lib/python3.9/site-packages/docx/opc/pkgreader.py\u001b[0m in \u001b[0;36mfrom_file\u001b[0;34m(pkg_file)\u001b[0m\n\u001b[1;32m     30\u001b[0m         \u001b[0mReturn\u001b[0m \u001b[0ma\u001b[0m \u001b[0;34m|\u001b[0m\u001b[0mPackageReader\u001b[0m\u001b[0;34m|\u001b[0m \u001b[0minstance\u001b[0m \u001b[0mloaded\u001b[0m \u001b[0;32mwith\u001b[0m \u001b[0mcontents\u001b[0m \u001b[0mof\u001b[0m \u001b[0;34m*\u001b[0m\u001b[0mpkg_file\u001b[0m\u001b[0;34m*\u001b[0m\u001b[0;34m.\u001b[0m\u001b[0;34m\u001b[0m\u001b[0;34m\u001b[0m\u001b[0m\n\u001b[1;32m     31\u001b[0m         \"\"\"\n\u001b[0;32m---> 32\u001b[0;31m         \u001b[0mphys_reader\u001b[0m \u001b[0;34m=\u001b[0m \u001b[0mPhysPkgReader\u001b[0m\u001b[0;34m(\u001b[0m\u001b[0mpkg_file\u001b[0m\u001b[0;34m)\u001b[0m\u001b[0;34m\u001b[0m\u001b[0;34m\u001b[0m\u001b[0m\n\u001b[0m\u001b[1;32m     33\u001b[0m         \u001b[0mcontent_types\u001b[0m \u001b[0;34m=\u001b[0m \u001b[0m_ContentTypeMap\u001b[0m\u001b[0;34m.\u001b[0m\u001b[0mfrom_xml\u001b[0m\u001b[0;34m(\u001b[0m\u001b[0mphys_reader\u001b[0m\u001b[0;34m.\u001b[0m\u001b[0mcontent_types_xml\u001b[0m\u001b[0;34m)\u001b[0m\u001b[0;34m\u001b[0m\u001b[0;34m\u001b[0m\u001b[0m\n\u001b[1;32m     34\u001b[0m         \u001b[0mpkg_srels\u001b[0m \u001b[0;34m=\u001b[0m \u001b[0mPackageReader\u001b[0m\u001b[0;34m.\u001b[0m\u001b[0m_srels_for\u001b[0m\u001b[0;34m(\u001b[0m\u001b[0mphys_reader\u001b[0m\u001b[0;34m,\u001b[0m \u001b[0mPACKAGE_URI\u001b[0m\u001b[0;34m)\u001b[0m\u001b[0;34m\u001b[0m\u001b[0;34m\u001b[0m\u001b[0m\n",
      "\u001b[0;32m~/opt/anaconda3/lib/python3.9/site-packages/docx/opc/phys_pkg.py\u001b[0m in \u001b[0;36m__new__\u001b[0;34m(cls, pkg_file)\u001b[0m\n\u001b[1;32m     28\u001b[0m                 \u001b[0mreader_cls\u001b[0m \u001b[0;34m=\u001b[0m \u001b[0m_ZipPkgReader\u001b[0m\u001b[0;34m\u001b[0m\u001b[0;34m\u001b[0m\u001b[0m\n\u001b[1;32m     29\u001b[0m             \u001b[0;32melse\u001b[0m\u001b[0;34m:\u001b[0m\u001b[0;34m\u001b[0m\u001b[0;34m\u001b[0m\u001b[0m\n\u001b[0;32m---> 30\u001b[0;31m                 raise PackageNotFoundError(\n\u001b[0m\u001b[1;32m     31\u001b[0m                     \u001b[0;34m\"Package not found at '%s'\"\u001b[0m \u001b[0;34m%\u001b[0m \u001b[0mpkg_file\u001b[0m\u001b[0;34m\u001b[0m\u001b[0;34m\u001b[0m\u001b[0m\n\u001b[1;32m     32\u001b[0m                 )\n",
      "\u001b[0;31mPackageNotFoundError\u001b[0m: Package not found at '/Users/ibrahim/Desktop/Grad-Research-Spring22/Preprocessing/Target-Story.docxTarget-Story.docx'"
     ]
    }
   ],
   "source": [
    "\n",
    "\n",
    "\n",
    "for para in doc1.paragraphs:\n",
    "    for run in para.runs:\n",
    "        run.font.highlight_color = WD_COLOR_INDEX.RED\n",
    "document.save(source_folder+'new.docx')"
   ]
  },
  {
   "cell_type": "code",
   "execution_count": null,
   "id": "2f38a657",
   "metadata": {},
   "outputs": [],
   "source": []
  },
  {
   "cell_type": "code",
   "execution_count": 440,
   "id": "306a1ebd",
   "metadata": {},
   "outputs": [
    {
     "ename": "TypeError",
     "evalue": "cannot use a string pattern on a bytes-like object",
     "output_type": "error",
     "traceback": [
      "\u001b[0;31m---------------------------------------------------------------------------\u001b[0m",
      "\u001b[0;31mTypeError\u001b[0m                                 Traceback (most recent call last)",
      "\u001b[0;32m/var/folders/82/58plxq9d79373wycjp789qfm0000gn/T/ipykernel_11451/3174377941.py\u001b[0m in \u001b[0;36m<module>\u001b[0;34m\u001b[0m\n\u001b[1;32m     18\u001b[0m \u001b[0;34m\u001b[0m\u001b[0m\n\u001b[1;32m     19\u001b[0m \u001b[0;31m# Preprocess the documents, including the query string\u001b[0m\u001b[0;34m\u001b[0m\u001b[0;34m\u001b[0m\u001b[0m\n\u001b[0;32m---> 20\u001b[0;31m \u001b[0mcorpus2\u001b[0m \u001b[0;34m=\u001b[0m \u001b[0;34m[\u001b[0m\u001b[0mpreprocess\u001b[0m\u001b[0;34m(\u001b[0m\u001b[0mdocument\u001b[0m\u001b[0;34m)\u001b[0m \u001b[0;32mfor\u001b[0m \u001b[0mdocument\u001b[0m \u001b[0;32min\u001b[0m \u001b[0mFinalLSH\u001b[0m\u001b[0;34m]\u001b[0m\u001b[0;34m\u001b[0m\u001b[0;34m\u001b[0m\u001b[0m\n\u001b[0m\u001b[1;32m     21\u001b[0m \u001b[0mprint\u001b[0m\u001b[0;34m(\u001b[0m\u001b[0mcorpus2\u001b[0m\u001b[0;34m)\u001b[0m\u001b[0;34m\u001b[0m\u001b[0;34m\u001b[0m\u001b[0m\n",
      "\u001b[0;32m/var/folders/82/58plxq9d79373wycjp789qfm0000gn/T/ipykernel_11451/3174377941.py\u001b[0m in \u001b[0;36m<listcomp>\u001b[0;34m(.0)\u001b[0m\n\u001b[1;32m     18\u001b[0m \u001b[0;34m\u001b[0m\u001b[0m\n\u001b[1;32m     19\u001b[0m \u001b[0;31m# Preprocess the documents, including the query string\u001b[0m\u001b[0;34m\u001b[0m\u001b[0;34m\u001b[0m\u001b[0m\n\u001b[0;32m---> 20\u001b[0;31m \u001b[0mcorpus2\u001b[0m \u001b[0;34m=\u001b[0m \u001b[0;34m[\u001b[0m\u001b[0mpreprocess\u001b[0m\u001b[0;34m(\u001b[0m\u001b[0mdocument\u001b[0m\u001b[0;34m)\u001b[0m \u001b[0;32mfor\u001b[0m \u001b[0mdocument\u001b[0m \u001b[0;32min\u001b[0m \u001b[0mFinalLSH\u001b[0m\u001b[0;34m]\u001b[0m\u001b[0;34m\u001b[0m\u001b[0;34m\u001b[0m\u001b[0m\n\u001b[0m\u001b[1;32m     21\u001b[0m \u001b[0mprint\u001b[0m\u001b[0;34m(\u001b[0m\u001b[0mcorpus2\u001b[0m\u001b[0;34m)\u001b[0m\u001b[0;34m\u001b[0m\u001b[0;34m\u001b[0m\u001b[0m\n",
      "\u001b[0;32m/var/folders/82/58plxq9d79373wycjp789qfm0000gn/T/ipykernel_11451/3174377941.py\u001b[0m in \u001b[0;36mpreprocess\u001b[0;34m(doc)\u001b[0m\n\u001b[1;32m     11\u001b[0m \u001b[0;32mdef\u001b[0m \u001b[0mpreprocess\u001b[0m\u001b[0;34m(\u001b[0m\u001b[0mdoc\u001b[0m\u001b[0;34m)\u001b[0m\u001b[0;34m:\u001b[0m\u001b[0;34m\u001b[0m\u001b[0;34m\u001b[0m\u001b[0m\n\u001b[1;32m     12\u001b[0m     \u001b[0;31m# Tokenize, clean up input document string\u001b[0m\u001b[0;34m\u001b[0m\u001b[0;34m\u001b[0m\u001b[0m\n\u001b[0;32m---> 13\u001b[0;31m     \u001b[0mdoc\u001b[0m \u001b[0;34m=\u001b[0m \u001b[0msub\u001b[0m\u001b[0;34m(\u001b[0m\u001b[0;34mr'<img[^<>]+(>|$)'\u001b[0m\u001b[0;34m,\u001b[0m \u001b[0;34m\" image_token \"\u001b[0m\u001b[0;34m,\u001b[0m \u001b[0mdoc\u001b[0m\u001b[0;34m)\u001b[0m\u001b[0;34m\u001b[0m\u001b[0;34m\u001b[0m\u001b[0m\n\u001b[0m\u001b[1;32m     14\u001b[0m     \u001b[0mdoc\u001b[0m \u001b[0;34m=\u001b[0m \u001b[0msub\u001b[0m\u001b[0;34m(\u001b[0m\u001b[0;34mr'<[^<>]+(>|$)'\u001b[0m\u001b[0;34m,\u001b[0m \u001b[0;34m\" \"\u001b[0m\u001b[0;34m,\u001b[0m \u001b[0mdoc\u001b[0m\u001b[0;34m)\u001b[0m\u001b[0;34m\u001b[0m\u001b[0;34m\u001b[0m\u001b[0m\n\u001b[1;32m     15\u001b[0m     \u001b[0mdoc\u001b[0m \u001b[0;34m=\u001b[0m \u001b[0msub\u001b[0m\u001b[0;34m(\u001b[0m\u001b[0;34mr'\\[img_assist[^]]*?\\]'\u001b[0m\u001b[0;34m,\u001b[0m \u001b[0;34m\" \"\u001b[0m\u001b[0;34m,\u001b[0m \u001b[0mdoc\u001b[0m\u001b[0;34m)\u001b[0m\u001b[0;34m\u001b[0m\u001b[0;34m\u001b[0m\u001b[0m\n",
      "\u001b[0;32m~/opt/anaconda3/lib/python3.9/re.py\u001b[0m in \u001b[0;36msub\u001b[0;34m(pattern, repl, string, count, flags)\u001b[0m\n\u001b[1;32m    208\u001b[0m     \u001b[0ma\u001b[0m \u001b[0mcallable\u001b[0m\u001b[0;34m,\u001b[0m \u001b[0mit\u001b[0m\u001b[0;31m'\u001b[0m\u001b[0ms\u001b[0m \u001b[0mpassed\u001b[0m \u001b[0mthe\u001b[0m \u001b[0mMatch\u001b[0m \u001b[0mobject\u001b[0m \u001b[0;32mand\u001b[0m \u001b[0mmust\u001b[0m \u001b[0;32mreturn\u001b[0m\u001b[0;34m\u001b[0m\u001b[0;34m\u001b[0m\u001b[0m\n\u001b[1;32m    209\u001b[0m     a replacement string to be used.\"\"\"\n\u001b[0;32m--> 210\u001b[0;31m     \u001b[0;32mreturn\u001b[0m \u001b[0m_compile\u001b[0m\u001b[0;34m(\u001b[0m\u001b[0mpattern\u001b[0m\u001b[0;34m,\u001b[0m \u001b[0mflags\u001b[0m\u001b[0;34m)\u001b[0m\u001b[0;34m.\u001b[0m\u001b[0msub\u001b[0m\u001b[0;34m(\u001b[0m\u001b[0mrepl\u001b[0m\u001b[0;34m,\u001b[0m \u001b[0mstring\u001b[0m\u001b[0;34m,\u001b[0m \u001b[0mcount\u001b[0m\u001b[0;34m)\u001b[0m\u001b[0;34m\u001b[0m\u001b[0;34m\u001b[0m\u001b[0m\n\u001b[0m\u001b[1;32m    211\u001b[0m \u001b[0;34m\u001b[0m\u001b[0m\n\u001b[1;32m    212\u001b[0m \u001b[0;32mdef\u001b[0m \u001b[0msubn\u001b[0m\u001b[0;34m(\u001b[0m\u001b[0mpattern\u001b[0m\u001b[0;34m,\u001b[0m \u001b[0mrepl\u001b[0m\u001b[0;34m,\u001b[0m \u001b[0mstring\u001b[0m\u001b[0;34m,\u001b[0m \u001b[0mcount\u001b[0m\u001b[0;34m=\u001b[0m\u001b[0;36m0\u001b[0m\u001b[0;34m,\u001b[0m \u001b[0mflags\u001b[0m\u001b[0;34m=\u001b[0m\u001b[0;36m0\u001b[0m\u001b[0;34m)\u001b[0m\u001b[0;34m:\u001b[0m\u001b[0;34m\u001b[0m\u001b[0;34m\u001b[0m\u001b[0m\n",
      "\u001b[0;31mTypeError\u001b[0m: cannot use a string pattern on a bytes-like object"
     ]
    }
   ],
   "source": [
    "#Compare query_sentences using cosine with the candiadates we got from LSH\n",
    "from re import sub\n",
    "from gensim.utils import simple_preprocess\n",
    "\n",
    "#query_string = 'fruit and vegetables'\n",
    "#documents = ['cars drive on the road', 'tomatoes are actually fruit']\n",
    "\n",
    "stopwords = []\n",
    "\n",
    "# From: https://github.com/RaRe-Technologies/gensim/blob/develop/docs/notebooks/soft_cosine_tutorial.ipynb\n",
    "def preprocess(doc):\n",
    "    # Tokenize, clean up input document string\n",
    "    doc = sub(r'<img[^<>]+(>|$)', \" image_token \", doc)\n",
    "    doc = sub(r'<[^<>]+(>|$)', \" \", doc)\n",
    "    doc = sub(r'\\[img_assist[^]]*?\\]', \" \", doc)\n",
    "    doc = sub(r'http[s]?://(?:[a-zA-Z]|[0-9]|[$-_@.&+]|[!*\\(\\),]|(?:%[0-9a-fA-F][0-9a-fA-F]))+', \" url_token \", doc)\n",
    "    return [token for token in simple_preprocess(doc, min_len=0, max_len=float(\"inf\")) if token not in stopwords]\n",
    "\n",
    "# Preprocess the documents, including the query string\n",
    "corpus2 = [preprocess(document) for document in FinalLSH]\n",
    "print(corpus2)"
   ]
  },
  {
   "cell_type": "code",
   "execution_count": 35,
   "id": "0f63c971",
   "metadata": {},
   "outputs": [
    {
     "name": "stderr",
     "output_type": "stream",
     "text": [
      "100%|██████████████████████████████████████████| 75/75 [00:00<00:00, 117.44it/s]\n"
     ]
    }
   ],
   "source": [
    "import gensim.downloader as api\n",
    "from gensim.corpora import Dictionary\n",
    "from gensim.models import TfidfModel\n",
    "from gensim.similarities import WordEmbeddingSimilarityIndex\n",
    "from gensim.similarities import SparseTermSimilarityMatrix\n",
    "from gensim.similarities import SoftCosineSimilarity\n",
    "\n",
    "# Load the model: this is a big file, can take a while to download and open\n",
    "glove = api.load(\"glove-wiki-gigaword-50\")    \n",
    "similarity_index = WordEmbeddingSimilarityIndex(glove)\n",
    "\n",
    "# Build the term dictionary, TF-idf model\n",
    "dictionary = Dictionary(corpus2+[query2])\n",
    "tfidf = TfidfModel(dictionary=dictionary)\n",
    "\n",
    "# Create the term similarity matrix.  \n",
    "similarity_matrix = SparseTermSimilarityMatrix(similarity_index, dictionary, tfidf)"
   ]
  },
  {
   "cell_type": "code",
   "execution_count": 39,
   "id": "10883b77",
   "metadata": {},
   "outputs": [
    {
     "name": "stdout",
     "output_type": "stream",
     "text": [
      "1 \t 0.305 \t Four hundred years later, I promised that I would grant three wishes, but when I still remained imprisoned, I became furiously angry and said to myself that I would kill whoever saved me, giving him a choice of how he wanted to die.\n"
     ]
    }
   ],
   "source": [
    "# Compute Soft Cosine Measure between the query and the documents.\n",
    "# From: https://github.com/RaRe-Technologies/gensim/blob/develop/docs/notebooks/soft_cosine_tutorial.ipynb\n",
    "query_tf = tfidf[dictionary.doc2bow(query2)]\n",
    "\n",
    "index = SoftCosineSimilarity(\n",
    "            tfidf[[dictionary.doc2bow(document) for document in corpus2]],\n",
    "            similarity_matrix)\n",
    "\n",
    "doc_similarity_scores = index[query_tf] \n",
    "\n",
    "\n",
    "# Output the sorted similarity scores and documents\n",
    "NW_Candiadates2=[]\n",
    "sorted_indexes2 = np.argsort(doc_similarity_scores)[::-1]\n",
    "for idx in sorted_indexes2:\n",
    "    if doc_similarity_scores[idx]>0.100:\n",
    "        print(f'{idx} \\t {doc_similarity_scores[idx]:0.3f} \\t {candidates2[idx]}')\n",
    "        NW_Candiadates2.append(candidates2[idx])"
   ]
  },
  {
   "cell_type": "code",
   "execution_count": 40,
   "id": "4a43e5c5",
   "metadata": {},
   "outputs": [
    {
     "data": {
      "text/plain": [
       "['Four hundred years later, I promised that I would grant three wishes, but when I still remained imprisoned, I became furiously angry and said to myself that I would kill whoever saved me, giving him a choice of how he wanted to die.']"
      ]
     },
     "execution_count": 40,
     "metadata": {},
     "output_type": "execute_result"
    }
   ],
   "source": [
    "# Compare Compare query_sentences using NW with the candiadates we got from cosine\n",
    "NW_Candiadates2"
   ]
  },
  {
   "cell_type": "code",
   "execution_count": 43,
   "id": "2dcd3375",
   "metadata": {},
   "outputs": [
    {
     "name": "stdout",
     "output_type": "stream",
     "text": [
      "Query:\n",
      "  i fulfil three wishes.\" yet no one set me free. thereupon i waxed\n",
      "wroth with exceeding wrath and said to myself, \"whoso shall\n",
      "release me from this time forth, him will i slay and i will give\n",
      "him choice of what death he will die; and now, as thou hast\n",
      "released me, i give thee full choice of deaths.\" the fisherman,\n",
      "hearing the words of the ifrit, said, \"o allah! the wonder of it\n",
      "that i have not come to free thee save in these days!\" adding,\n",
      "\"spare my life, so allah spare thine; and slay me not, lest allah\n",
      "set one to slay thee.\" replied the contumacious one, \"there is no\n",
      "help for it; die thou must; so ask me by way of boon what manner\n",
      "of death thou wilt die.\" albeit thus certified the fisherman\n",
      "again addressed the ifrit saying, \"forgive me this my death as a\n",
      "generous reward for having freed thee;\" and the ifrit, \"surely i\n",
      "would not slay thee save on account of that same release.\" \"o\n",
      "chief of the ifrits,\" said the fisherman, \"i do thee good and\n",
      "thou requitest me with evil! in very sooth the old saw lieth not\n",
      "when it saith:-we wrought them weal, they met our weal with ill; * such, by my\n",
      "life! is every bad man's labour:\n",
      "to him who benefits unworthy wights * shall hap what inapt to\n",
      "ummi amir's neighbor.[fn#73]\"\n",
      "now when the ifrit heard these words he answered, \"no more of\n",
      "this talk, needs must i kill thee.\" upon this the fisherman said\n",
      "to himself, \"this is a jinni; and i am a man to whom allah hath\n",
      "given a passably cunning wit, so i will now cast about to com\n",
      "pass his destruction by my contrivance and by mine intelligence;\n",
      "even as he took counsel only of his malice and his\n",
      "frowardness.\"[fn#74] he began by asking the ifrit, \"hast thou\n",
      "indeed resolved to kill me?\" and, receiving for all answer, \"even\n",
      "so,\" he cried, \"now in the most great name, graven on the seal\n",
      "ring of sulayman the son of david (peace be with the holy\n",
      "twain!), an i question thee on a certain matter wilt thou give me\n",
      "a true answer?\" the ifrit replied \"yea;\" but, hearing mention of\n",
      "the most great name, his wits were troubled and he said with\n",
      "trembling, \"ask and be brief.\" quoth the fisherman, \"how didst\n",
      "thou fit into this bottle which would not hold thy hand; no, nor\n",
      "even thy foot, and how came it to be large enough to contain the\n",
      "whole of thee?\" replied the ifrit, \"what! cost not believe that i\n",
      "was all there?\" and the fisherman rejoined, \"nay! i will never\n",
      "believe it until i see thee inside with my own eyes.\" and\n",
      "shahrazad per ceived the dawn of day and ceased to say her\n",
      "permitted say. \n",
      "\n",
      "Target Sentence: \n",
      " Four hundred years later, I promised that I would grant three wishes, but when I still remained imprisoned, I became furiously angry and said to myself that I would kill whoever saved me, giving him a choice of how he wanted to die. \n",
      "\n",
      "Perecent Identity using NW: 0.43\n"
     ]
    }
   ],
   "source": [
    "from minineedle import needle, core\n",
    "\n",
    "#query2 = \"t is related  O auspicious King that there was a merchant of the merchants who had much wealth and business in various cities Now on a day he mounted horse and went forth to re cover monies in certain towns and the heat sore oppressed him so he sat beneath a tree and putting his hand into his saddle bags took thence some broken bread and dry dates and began to break his fast When he had ended eating the dates he threw away the stones with force and lo an Ifrit appeared huge of stature and brandishing a drawn sword wherewith he approached the mer chant and said Stand up that I may slay thee even as thou slewest my son Asked the merchant How have I slain thy son and he answered When thou atest dates and threwest away the stones they struck my son full in the breast as he was walking by so that he died forthwith F40 Quoth the merchant Verily from Allah we proceeded and unto Allah are we re turning There is no Majesty and there is no Might save in Allah the Glorious the Great If I slew thy son I slew him by chance medley\".lower()\n",
    "\n",
    "threshold = 10.0\n",
    "R = {} # Dicitonary to Save query, target sentence, precent identity and the actual aligmnet\n",
    "\n",
    "for i in NW_Candiadates2:\n",
    "    alignment = needle.NeedlemanWunsch(query2, i)\n",
    "    x = alignment.get_identity()\n",
    "    y = alignment \n",
    "    R[i]=[x , query, i, y]\n",
    "max_value = max(R.values())\n",
    "print('Query:\\n ',max_value[1],'\\n')\n",
    "print('Target Sentence: \\n',max_value[2],'\\n')\n",
    "print('Perecent Identity using NW:',max_value[0])\n",
    "#print('\\n',max_value[3])"
   ]
  },
  {
   "cell_type": "code",
   "execution_count": 44,
   "id": "68db45e0",
   "metadata": {},
   "outputs": [],
   "source": [
    "# Save targetStory_sentences to the Final List\n",
    "FinalList=[]\n",
    "FinalList.append(max_value[2])"
   ]
  },
  {
   "cell_type": "code",
   "execution_count": 490,
   "id": "886e96fc",
   "metadata": {},
   "outputs": [
    {
     "data": {
      "text/plain": [
       "['I shall pay you back for this and don’t be misled by the state I am in now.’\\n\\nWhen I heard this, I felt a yearning for her, as God, the Great and Glorious, had decreed, and so I took her, gave her clothes and provided her with elegantly furnished accommodation on the ship.']"
      ]
     },
     "execution_count": 490,
     "metadata": {},
     "output_type": "execute_result"
    }
   ],
   "source": [
    "FinalList[20]"
   ]
  },
  {
   "cell_type": "code",
   "execution_count": null,
   "id": "1f4cf2f2",
   "metadata": {},
   "outputs": [],
   "source": []
  },
  {
   "cell_type": "code",
   "execution_count": null,
   "id": "767d1ac8",
   "metadata": {},
   "outputs": [],
   "source": []
  },
  {
   "cell_type": "markdown",
   "id": "7ca4b69f",
   "metadata": {},
   "source": [
    "# 1.3 Needleman Wunch (The Last Layer)"
   ]
  },
  {
   "cell_type": "code",
   "execution_count": 203,
   "id": "95196d9e",
   "metadata": {},
   "outputs": [
    {
     "name": "stdout",
     "output_type": "stream",
     "text": [
      "Query:\n",
      "  ['i', 'fulfil', 'three', 'wishes', 'yet', 'no', 'one', 'set', 'me', 'free', 'thereupon', 'i', 'waxed', 'wroth', 'with', 'exceeding', 'wrath', 'and', 'said', 'to', 'myself', 'whoso', 'shall', 'release', 'me', 'from', 'this', 'time', 'forth', 'him', 'will', 'i', 'slay', 'and', 'i', 'will', 'give', 'him', 'choice', 'of', 'what', 'death', 'he', 'will', 'die', 'and', 'now', 'as', 'thou', 'hast', 'released', 'me', 'i', 'give', 'thee', 'full', 'choice', 'of', 'deaths', 'the', 'fisherman', 'hearing', 'the', 'words', 'of', 'the', 'ifrit', 'said', 'o', 'allah', 'the', 'wonder', 'of', 'it', 'that', 'i', 'have', 'not', 'come', 'to', 'free', 'thee', 'save', 'in', 'these', 'days', 'adding', 'spare', 'my', 'life', 'so', 'allah', 'spare', 'thine', 'and', 'slay', 'me', 'not', 'lest', 'allah', 'set', 'one', 'to', 'slay', 'thee', 'replied', 'the', 'contumacious', 'one', 'there', 'is', 'no', 'help', 'for', 'it', 'die', 'thou', 'must', 'so', 'ask', 'me', 'by', 'way', 'of', 'boon', 'what', 'manner', 'of', 'death', 'thou', 'wilt', 'die', 'albeit', 'thus', 'certified', 'the', 'fisherman', 'again', 'addressed', 'the', 'ifrit', 'saying', 'forgive', 'me', 'this', 'my', 'death', 'as', 'a', 'generous', 'reward', 'for', 'having', 'freed', 'thee', 'and', 'the', 'ifrit', 'surely', 'i', 'would', 'not', 'slay', 'thee', 'save', 'on', 'account', 'of', 'that', 'same', 'release', 'o', 'chief', 'of', 'the', 'ifrits', 'said', 'the', 'fisherman', 'i', 'do', 'thee', 'good', 'and', 'thou', 'requitest', 'me', 'with', 'evil', 'in', 'very', 'sooth', 'the', 'old', 'saw', 'lieth', 'not', 'when', 'it', 'saith', 'we', 'wrought', 'them', 'weal', 'they', 'met', 'our', 'weal', 'with', 'ill', 'such', 'by', 'my', 'life', 'is', 'every', 'bad', 'man', 's', 'labour', 'to', 'him', 'who', 'benefits', 'unworthy', 'wights', 'shall', 'hap', 'what', 'inapt', 'to', 'ummi', 'amir', 's', 'neighbor', 'fn', 'now', 'when', 'the', 'ifrit', 'heard', 'these', 'words', 'he', 'answered', 'no', 'more', 'of', 'this', 'talk', 'needs', 'must', 'i', 'kill', 'thee', 'upon', 'this', 'the', 'fisherman', 'said', 'to', 'himself', 'this', 'is', 'a', 'jinni', 'and', 'i', 'am', 'a', 'man', 'to', 'whom', 'allah', 'hath', 'given', 'a', 'passably', 'cunning', 'wit', 'so', 'i', 'will', 'now', 'cast', 'about', 'to', 'com', 'pass', 'his', 'destruction', 'by', 'my', 'contrivance', 'and', 'by', 'mine', 'intelligence', 'even', 'as', 'he', 'took', 'counsel', 'only', 'of', 'his', 'malice', 'and', 'his', 'frowardness', 'fn', 'he', 'began', 'by', 'asking', 'the', 'ifrit', 'hast', 'thou', 'indeed', 'resolved', 'to', 'kill', 'me', 'and', 'receiving', 'for', 'all', 'answer', 'even', 'so', 'he', 'cried', 'now', 'in', 'the', 'most', 'great', 'name', 'graven', 'on', 'the', 'seal', 'ring', 'of', 'sulayman', 'the', 'son', 'of', 'david', 'peace', 'be', 'with', 'the', 'holy', 'twain', 'an', 'i', 'question', 'thee', 'on', 'a', 'certain', 'matter', 'wilt', 'thou', 'give', 'me', 'a', 'true', 'answer', 'the', 'ifrit', 'replied', 'yea', 'but', 'hearing', 'mention', 'of', 'the', 'most', 'great', 'name', 'his', 'wits', 'were', 'troubled', 'and', 'he', 'said', 'with', 'trembling', 'ask', 'and', 'be', 'brief', 'quoth', 'the', 'fisherman', 'how', 'didst', 'thou', 'fit', 'into', 'this', 'bottle', 'which', 'would', 'not', 'hold', 'thy', 'hand', 'no', 'nor', 'even', 'thy', 'foot', 'and', 'how', 'came', 'it', 'to', 'be', 'large', 'enough', 'to', 'contain', 'the', 'whole', 'of', 'thee', 'replied', 'the', 'ifrit', 'what', 'cost', 'not', 'believe', 'that', 'i', 'was', 'all', 'there', 'and', 'the', 'fisherman', 'rejoined', 'nay', 'i', 'will', 'never', 'believe', 'it', 'until', 'i', 'see', 'thee', 'inside', 'with', 'my', 'own', 'eyes', 'and', 'shahrazad', 'per', 'ceived', 'the', 'dawn', 'of', 'day', 'and', 'ceased', 'to', 'say', 'her', 'permitted', 'say'] \n",
      "\n",
      "Target Sentence: \n",
      " When it was the third night, Dunyazad asked her sister to finish the story. ‘With pleasure,’ said Shahrazad and went on: ‘I have heard, O fortunate king, that the third old man told the ‘ifrit a more remarkable story than the other two, and that in his astonishment and delight the ‘ifrit granted him the remaining share of the blood debt and allowed the merchant to go free. For his part, the merchant went and thanked the old men, who congratulated him on his safety, after which each of them went home. This, however, is not more surprising than the tale of the fisherman.’ When the king asked what that was, she went on:\n",
      "\n",
      "I have heard, O fortunate king, that there once was a poor, elderly fisherman with a wife and three children, who was in the habit of casting his net exactly four times each day. He went out to the shore at noon one day, put down his basket, tucked up his shirt, waded into the sea and cast his net. He waited until it had sunk down before pulling its cords together and then, finding it heavy, he tried unsuccessfully to drag it in. He took one end of it to the shore and fixed it to a peg that he drove in there, after which he stripped and dived into the sea beside it, where he continued tugging until he managed to get it up. He climbed out delightedly, put his clothes back on and went up to the net, only to find that what was in it was a dead donkey, and that the donkey had made a hole in the net. The fisherman was saddened by this and recited the formula: ‘There is no might and no power except with God, the Exalted, the Omnipotent,’ before saying: ‘This is a strange thing that God has given me by way of food!’ and then reciting:\n",
      "\n",
      "You who court danger, diving in the dark of night,\n",
      "\n",
      "Give up; your efforts do not win your daily bread from God.\n",
      "\n",
      "The fisherman rises to earn his keep;\n",
      "\n",
      "There is the sea, with stars woven in the sky.\n",
      "\n",
      "He plunges in, buffeted by waves,\n",
      "\n",
      "His eyes fixed on his billowing net.\n",
      "\n",
      "Happy with his night’s work, he takes back home\n",
      "\n",
      "A fish, its jaw caught up on his pronged hook.\n",
      "\n",
      "This fish is bought from him by one who spent his night\n",
      "\n",
      "Out of the cold, enjoying his comforts.\n",
      "\n",
      "Praise be to God, Who gives and Who deprives;\n",
      "\n",
      "For one man eats the fish; another catches it.\n",
      "\n",
      "\n",
      "\n",
      "He encouraged himself, saying that Almighty God would show favour and reciting:\n",
      "\n",
      "When you are faced with hardship, clothe yourself\n",
      "\n",
      "In noble patience; that is more resolute.\n",
      "\n",
      "Do not complain, then, to God’s servants; you complain\n",
      "\n",
      "To those who have no mercy of the Merciful.\n",
      "\n",
      "\n",
      "\n",
      "He freed the donkey from the net, which he then wrung out before spreading it out again and going back into the sea. Invoking the Name of God, he made another cast, waited until the net had settled, and found it heavier and more difficult to move than before. Thinking that it must be full of fish, he fastened it to his peg, stripped off his clothes and dived in to free it. After tugging at it he got it up on shore, only to discover that what was in it was a large jar full of sand and mud. Saddened by this sight, he recited:\n",
      "\n",
      "Troubles of Time, give up!\n",
      "\n",
      "Stop, even if you have not had enough.\n",
      "\n",
      "I came out looking for my daily bread,\n",
      "\n",
      "But I have found there is no more of this.\n",
      "\n",
      "How many a fool reaches the Pleiades!\n",
      "\n",
      "How many wise men lie hidden in the earth!\n",
      "\n",
      "\n",
      "\n",
      "The fisherman threw away the jar, wrung out his net, cleaned it and went back a third time to the sea, asking God to forgive him. He made his cast and waited for the net to settle before drawing it in, and this time what he found in it were bits of pots, bottles and bones. He was furious and, shedding bitter tears, he recited:\n",
      "\n",
      "You have no power at all over your daily bread;\n",
      "\n",
      "Neither learning nor letters will fetch it for you.\n",
      "\n",
      "Fortune and sustenance are divided up;\n",
      "\n",
      "One land is fertile while another suffers drought.\n",
      "\n",
      "Time’s changes bring down cultured men,\n",
      "\n",
      "While fortune lifts the undeserving up.\n",
      "\n",
      "Come, death, and visit me, for life is vile;\n",
      "\n",
      "Falcons are brought down low while ducks are raised on high.\n",
      "\n",
      "Feel no surprise if you should see a man of excellence\n",
      "\n",
      "In poverty, while an inferior holds sway.\n",
      "\n",
      "One bird circles the earth from east to west;\n",
      "\n",
      "Another gets its food but does not have to move.\n",
      "\n",
      "\n",
      "\n",
      "He then looked up to heaven and said: ‘O my God, You know that I only cast my net four times a day. I have done this thrice and got nothing, so this time grant me something on which to live.’ He pronounced the Name of God and cast his net into the sea. He waited until it had settled and then he tried to pull it in, but found that it had snagged on the bottom. He recited the formula: ‘There is no power and no might except with God,’ and went on:\n",
      "\n",
      "How wretched is this kind of world\n",
      "\n",
      "That leaves us in such trouble and distress!\n",
      "\n",
      "In the morning it may be that things go well,\n",
      "\n",
      "But I must drink destruction’s cup when evening comes.\n",
      "\n",
      "Yet when it is asked who leads the easiest life,\n",
      "\n",
      "Men would reply that this was I.\n",
      "\n",
      "\n",
      "\n",
      "The fisherman stripped off his clothes and, after diving in, he worked his hardest to drag the net to shore. Then, when he opened it up, he found in it a brass bottle with a lead seal, imprinted with the inscription of our master Solomon, the son of David, on both of whom be peace. The fisherman was delighted to see this, telling himself that it would fetch ten gold dinars if he sold it in the brass market. He shook it and, discovering that it was heavy as well as sealed, he said to himself: ‘I wonder what is in it? I’ll open it up and have a look before selling it.’ He took out a knife and worked on the lead until he had removed it from the bottle, which he then put down on the ground, shaking it in order to pour out its contents. To his astonishment, at first nothing came out, but then there emerged smoke which towered up into the sky and spread over the surface of the ground. When it had all come out, it collected and solidified; a tremor ran through it and it became an ‘ifrit with his head in the clouds and his feet on the earth. His head was like a dome, his hands were like winnowing forks and his feet like ships’ masts. He had a mouth like a cave with teeth like rocks, while his nostrils were like jugs and his eyes like lamps. He was dark and scowling.\n",
      "\n",
      "When he saw this ‘ifrit the fisherman shuddered; his teeth chattered; his mouth dried up and he could not see where he was going. At the sight of him the ‘ifrit exclaimed: ‘There is no god but the God of Solomon, His prophet. Prophet of God, do not kill me for I shall never disobey you again in word or in deed.’ ‘‘Ifrit,’ the fisherman said, ‘you talk of Solomon, the prophet of God, but Solomon died eighteen hundred years ago and we are living in the last age of the world. What is your story and how did you come to be in this bottle?’ To which the ‘ifrit replied: ‘There is no god but God. I have good news for you, fisherman.’ ‘What is that?’ the fisherman asked, and the ‘ifrit said: ‘I am now going to put you to the worst of deaths.’ ‘For this good news, leader of the ‘ifrits,’ exclaimed the fisherman, ‘you deserve that God’s protection be removed from you, you damned creature. Why should you kill me and what have I done to deserve this? It was I who saved you from the bottom of the sea and brought you ashore.’\n",
      "\n",
      "But the ‘ifrit said: ‘Choose what death you want and how you want me to kill you.’ ‘What have I done wrong,’ asked the fisherman, ‘and why are you punishing me?’ The ‘ifrit replied: ‘Listen to my story,’ and the fisherman said: ‘Tell it, but keep it short as I am at my last gasp.’ ‘Know, fisherman,’ the ‘ifrit told him, ‘that I was one of the apostate jinn, and that together with Sakhr, the jinni, I rebelled against Solomon, the son of David, on both of whom be peace. Solomon sent his vizier, Asaf, to fetch me to him under duress, and I was forced to go with him in a state of humiliation to stand before Solomon. “I take refuge with God!” exclaimed Solomon when he saw me, and he then offered me conversion to the Faith and proposed that I enter his service. When I refused, he called for this bottle, in which he imprisoned me, sealing it with lead and imprinting on it the Greatest Name of God. Then, at his command, the jinn carried me off and threw me into the middle of the sea.\n",
      "\n",
      "‘For a hundred years I stayed there, promising myself that I would give whoever freed me enough wealth to last him for ever, but the years passed and no one rescued me. For the next hundred years I told myself that I would open up all the treasures of the earth for my rescuer, but still no one rescued me. Four hundred years later, I promised that I would grant three wishes, but when I still remained imprisoned, I became furiously angry and said to myself that I would kill whoever saved me, giving him a choice of how he wanted to die. It is you who are my rescuer, and so I allow you this choice.’\n",
      "\n",
      "When the fisherman heard this, he exclaimed in wonder at his bad luck in freeing the ‘ifrit now, and he went on: ‘Spare me, may God spare you, and do not kill me lest God place you in the power of one who will kill you.’ ‘I must kill you,’ insisted the ‘ifrit, ‘and so choose how you want to die.’ Ignoring this, the fisherman made another appeal, calling on the ‘ifrit to show gratitude for his release. ‘It is only because you freed me that I am going to kill you,’ repeated the ‘ifrit, at which the fisherman said: ‘Lord of the ‘ifrits, I have done you good and you are repaying me with evil. The proverbial lines are right where they say:\n",
      "\n",
      "We did them good; they did its opposite,\n",
      "\n",
      "And this, by God, is how the shameless act.\n",
      "\n",
      "Whoever helps those who deserve no help,\n",
      "\n",
      "Will be like one who rescues a hyena.’\n",
      "\n",
      "\n",
      "\n",
      "‘Don’t go on so long,’ said the ‘ifrit when he heard this, ‘for death is coming to you.’ The fisherman said to himself: ‘This is a jinni and I am a human. God has given me sound intelligence which I can use to find a way of destroying him, whereas he can only use vicious cunning.’ So he asked: ‘Are you definitely going to kill me?’ and when the ‘ifrit confirmed this, he said: ‘I conjure you by the Greatest Name inscribed on the seal of Solomon and ask you to give me a truthful answer to a question that I have.’ ‘I shall,’ replied the ‘ifrit, who had been shaken and disturbed by the mention of the Greatest Name, and he went on: ‘Ask your question but be brief.’ The fisherman went on: ‘You say you were in this bottle, but there is not room in it for your hand or your foot, much less all the rest of you.’ ‘You don’t believe that I was in it?’ asked the ‘ifrit, to which the fisherman replied: ‘I shall never believe it until I see it with my own eyes.’\n",
      "\n",
      "Morning now dawned and Shahrazad broke off from what she had been allowed to say. \n",
      "\n",
      "Perecent Identity using NW: 0.0\n"
     ]
    }
   ],
   "source": [
    "from minineedle import needle, core\n",
    "\n",
    "#query2 = \"t is related  O auspicious King that there was a merchant of the merchants who had much wealth and business in various cities Now on a day he mounted horse and went forth to re cover monies in certain towns and the heat sore oppressed him so he sat beneath a tree and putting his hand into his saddle bags took thence some broken bread and dry dates and began to break his fast When he had ended eating the dates he threw away the stones with force and lo an Ifrit appeared huge of stature and brandishing a drawn sword wherewith he approached the mer chant and said Stand up that I may slay thee even as thou slewest my son Asked the merchant How have I slain thy son and he answered When thou atest dates and threwest away the stones they struck my son full in the breast as he was walking by so that he died forthwith F40 Quoth the merchant Verily from Allah we proceeded and unto Allah are we re turning There is no Majesty and there is no Might save in Allah the Glorious the Great If I slew thy son I slew him by chance medley\".lower()\n",
    "\n",
    "threshold = 10.0\n",
    "R = {} # Dicitonary to Save query, target sentence, precent identity and the actual aligmnet\n",
    "\n",
    "for i in NW_Candiadates:\n",
    "    alignment = needle.NeedlemanWunsch(query, i.split('.'))\n",
    "    x = alignment.get_identity()\n",
    "    y = alignment \n",
    "    R[i]=[x , query, i, y]\n",
    "max_value = max(R.values())\n",
    "print('Query:\\n ',max_value[1],'\\n')\n",
    "print('Target Sentence: \\n',max_value[2],'\\n')\n",
    "print('Perecent Identity using NW:',max_value[0])\n",
    "#print('\\n',max_value[3])"
   ]
  },
  {
   "cell_type": "code",
   "execution_count": null,
   "id": "fc238c87",
   "metadata": {},
   "outputs": [],
   "source": []
  },
  {
   "cell_type": "code",
   "execution_count": null,
   "id": "ea57897b",
   "metadata": {},
   "outputs": [],
   "source": []
  },
  {
   "cell_type": "code",
   "execution_count": null,
   "id": "ce018043",
   "metadata": {},
   "outputs": [],
   "source": []
  },
  {
   "cell_type": "code",
   "execution_count": null,
   "id": "6ccf8d0c",
   "metadata": {},
   "outputs": [],
   "source": []
  },
  {
   "cell_type": "code",
   "execution_count": null,
   "id": "65fcf1fa",
   "metadata": {},
   "outputs": [],
   "source": []
  },
  {
   "cell_type": "markdown",
   "id": "ff870068",
   "metadata": {},
   "source": [
    "# Get the title of the story (i.e 1st story, 2nd story ...etc)"
   ]
  },
  {
   "cell_type": "code",
   "execution_count": 78,
   "id": "3a43c8ff",
   "metadata": {},
   "outputs": [
    {
     "name": "stdout",
     "output_type": "stream",
     "text": [
      "When it was the third night\n"
     ]
    }
   ],
   "source": [
    "with open(\"Target-1.txt\") as f:\n",
    "    lines = f.read() ##Assume the sample file has 3 lines\n",
    "    first = lines.split(',', 1)[0]\n",
    "\n",
    "print(first)"
   ]
  },
  {
   "cell_type": "code",
   "execution_count": 79,
   "id": "3989ae0d",
   "metadata": {},
   "outputs": [
    {
     "name": "stdout",
     "output_type": "stream",
     "text": [
      "THIRD NIGHT STROTY\n"
     ]
    }
   ],
   "source": [
    "# Function which returns last word\n",
    "def lastWord(string):\n",
    "   \n",
    "    # split by space and converting\n",
    "    # string to list and\n",
    "    lis = list(string.split(\" \"))\n",
    "     \n",
    "    # length of list\n",
    "    length = len(lis)\n",
    "     \n",
    "    # returning last element in list\n",
    "    return lis[length-2]\n",
    " \n",
    " \n",
    "# Driver code\n",
    "x=lastWord(first).upper()\n",
    "print(lastWord(first).upper(),'night stroty'.upper())"
   ]
  },
  {
   "cell_type": "markdown",
   "id": "5e664fb7",
   "metadata": {},
   "source": [
    "# Print the title into new text file "
   ]
  },
  {
   "cell_type": "code",
   "execution_count": 82,
   "id": "684e2be1",
   "metadata": {},
   "outputs": [],
   "source": []
  },
  {
   "cell_type": "markdown",
   "id": "7dffd19f",
   "metadata": {},
   "source": [
    "# Print the whole story again under the title"
   ]
  },
  {
   "cell_type": "code",
   "execution_count": null,
   "id": "d6684aae",
   "metadata": {},
   "outputs": [],
   "source": []
  },
  {
   "cell_type": "markdown",
   "id": "64523c0d",
   "metadata": {},
   "source": [
    "# First Filter (Cosine Similarity)\n",
    "https://www.machinelearningplus.com/nlp/cosine-similarity/"
   ]
  },
  {
   "cell_type": "code",
   "execution_count": null,
   "id": "a9fb6e86",
   "metadata": {},
   "outputs": [],
   "source": [
    "from sklearn.feature_extraction.text import CountVectorizer\n",
    "import pandas as pd\n",
    "\n",
    "# Create the Document Term Matrix\n",
    "count_vectorizer = CountVectorizer(stop_words='english')\n",
    "count_vectorizer = CountVectorizer()\n",
    "sparse_matrix = count_vectorizer.fit_transform(candidates)\n",
    "\n",
    "# OPTIONAL: Convert Sparse Matrix to Pandas Dataframe if you want to see the word frequencies.\n",
    "doc_term_matrix = sparse_matrix.todense()\n",
    "df = pd.DataFrame(doc_term_matrix, \n",
    "                  columns=count_vectorizer.get_feature_names(), \n",
    "                  index=[candidates])\n",
    "df"
   ]
  },
  {
   "cell_type": "code",
   "execution_count": null,
   "id": "5eeb78a2",
   "metadata": {},
   "outputs": [],
   "source": [
    "# Compute Cosine Similarity\n",
    "from sklearn.metrics.pairwise import cosine_similarity\n",
    "\n",
    "print(cosine_similarity(df, df))"
   ]
  },
  {
   "cell_type": "code",
   "execution_count": null,
   "id": "c43779eb",
   "metadata": {},
   "outputs": [],
   "source": [
    "query_term_matrix = sparse_matrix.todense()\n",
    "df_query = pd.DataFrame(doc_term_matrix, \n",
    "                  columns=count_vectorizer.get_feature_names(), \n",
    "                  index=[query])\n",
    "\n",
    "df_query"
   ]
  },
  {
   "cell_type": "markdown",
   "id": "8c7345b8",
   "metadata": {},
   "source": [
    "# NW to test our candidates"
   ]
  },
  {
   "cell_type": "code",
   "execution_count": null,
   "id": "35abcb2d",
   "metadata": {},
   "outputs": [],
   "source": [
    "from minineedle import needle, core\n",
    "\n",
    "query= 'it hath reached me, o auspicious king, that there was a fisher man well stricken in years who had a wife and three children, and withal was of poor condition.'\n",
    "\n",
    "threshold = 10.0\n",
    "R = {} # Dicitonary to Save query, target sentence, precent identity and the actula aligmnet\n",
    "\n",
    "for i in candidates:\n",
    "    alignment = needle.NeedlemanWunsch(query.lower(), i.lower())\n",
    "    x = alignment.get_identity()\n",
    "    y = alignment \n",
    "    R[i]=[x , query, i, y]\n",
    "max_value = max(R.values())\n",
    "print('Query:\\n ',max_value[1],'\\n')\n",
    "print('Target Sentence: \\n',max_value[2],'\\n')\n",
    "print('Perecent Identity using NW:',max_value[0])\n",
    "print('\\n',max_value[3])"
   ]
  },
  {
   "cell_type": "code",
   "execution_count": null,
   "id": "9f3ec480",
   "metadata": {},
   "outputs": [],
   "source": []
  },
  {
   "cell_type": "code",
   "execution_count": null,
   "id": "3e063cc3",
   "metadata": {},
   "outputs": [],
   "source": []
  },
  {
   "cell_type": "markdown",
   "id": "27c7c18e",
   "metadata": {},
   "source": [
    "# LSH Algorithm 4"
   ]
  },
  {
   "cell_type": "markdown",
   "id": "5a4dc634",
   "metadata": {},
   "source": [
    "# LSH itself"
   ]
  },
  {
   "cell_type": "markdown",
   "id": "dd836042",
   "metadata": {},
   "source": [
    "# Another Resource\n"
   ]
  },
  {
   "cell_type": "markdown",
   "id": "c9142270",
   "metadata": {},
   "source": [
    "# Test NW with Lemmatization+ POS+ Synonyms"
   ]
  },
  {
   "cell_type": "code",
   "execution_count": null,
   "id": "9e2b817c",
   "metadata": {},
   "outputs": [],
   "source": []
  },
  {
   "cell_type": "code",
   "execution_count": 106,
   "id": "3e558b44",
   "metadata": {},
   "outputs": [
    {
     "name": "stdout",
     "output_type": "stream",
     "text": [
      "Score -2\n",
      "Identity 25.0\n",
      "Alignment of Query and Target Sentence is:\n",
      "\therewe-are!\n",
      "\t-wearehere!\n",
      "\n"
     ]
    }
   ],
   "source": [
    "from minineedle import needle, core\n",
    "\n",
    "seq1='Here we are!'.lower().split()\n",
    "seq2='We are here!'.lower().split()\n",
    "\n",
    "alignment = needle.NeedlemanWunsch(seq1, seq2)\n",
    "\n",
    "alignment.align()\n",
    "\n",
    "print('Score',alignment.get_score())\n",
    "\n",
    "print('Identity',alignment.get_identity())\n",
    "\n",
    "print(alignment)"
   ]
  },
  {
   "cell_type": "code",
   "execution_count": 75,
   "id": "76c4a64d",
   "metadata": {},
   "outputs": [
    {
     "name": "stdout",
     "output_type": "stream",
     "text": [
      "Score 10\n",
      "Identity 75.0\n",
      "Alignment of SEQUENCE 1 and SEQUENCE 2:\n",
      "\tthis is a good night\n",
      "\tthis is a good --day\n",
      "\n"
     ]
    }
   ],
   "source": [
    "from minineedle import needle, core\n",
    "\n",
    "seq1='This is a good night'.lower()\n",
    "seq2='This is a good day'.lower()\n",
    "\n",
    "alignment = needle.NeedlemanWunsch(seq1, seq2)\n",
    "\n",
    "alignment.align()\n",
    "\n",
    "print('Score',alignment.get_score())\n",
    "\n",
    "print('Identity',alignment.get_identity())\n",
    "\n",
    "print(alignment)"
   ]
  }
 ],
 "metadata": {
  "kernelspec": {
   "display_name": "Python 3 (ipykernel)",
   "language": "python",
   "name": "python3"
  },
  "language_info": {
   "codemirror_mode": {
    "name": "ipython",
    "version": 3
   },
   "file_extension": ".py",
   "mimetype": "text/x-python",
   "name": "python",
   "nbconvert_exporter": "python",
   "pygments_lexer": "ipython3",
   "version": "3.9.7"
  }
 },
 "nbformat": 4,
 "nbformat_minor": 5
}
