{
 "cells": [
  {
   "cell_type": "markdown",
   "id": "6d431f7d",
   "metadata": {},
   "source": [
    "# 1. Read Dataset(Target Stories)"
   ]
  },
  {
   "cell_type": "code",
   "execution_count": 30,
   "id": "9d9ac387",
   "metadata": {},
   "outputs": [
    {
     "name": "stdout",
     "output_type": "stream",
     "text": [
      "Number of documents:  5\n"
     ]
    }
   ],
   "source": [
    "import glob\n",
    "file_names = glob.glob(\"/Users/ibrahim/Desktop/Preprocess/query/*.txt\")\n",
    "raw_documents=[]\n",
    "for file in file_names:\n",
    "    try:\n",
    "        with open(file, \"r\", encoding=\"utf-8\") as f: raw_documents.append(f.read())\n",
    "    except:\n",
    "        pass\n",
    "print(\"Number of documents: \",len(raw_documents))"
   ]
  },
  {
   "cell_type": "markdown",
   "id": "fd490b25",
   "metadata": {},
   "source": [
    "##  1.1 Read Dataset(Query Story)"
   ]
  },
  {
   "cell_type": "code",
   "execution_count": 31,
   "id": "f784f548",
   "metadata": {},
   "outputs": [],
   "source": [
    "querydoc=glob.glob(\"/Users/ibrahim/Desktop/Preprocess/AllStories/*.txt\")\n",
    "query_documents=[]\n",
    "for file in querydoc:\n",
    "    try:\n",
    "        with open(file, \"r\", encoding=\"utf-8\") as f: query_documents.append(f.read())\n",
    "    except:\n",
    "        pass\n",
    "query = query_documents[0].lower()\n",
    "#print(\"Number of documents: \",len(query_documents))"
   ]
  },
  {
   "cell_type": "markdown",
   "id": "bbc6c70d",
   "metadata": {},
   "source": [
    "# 1.1 Locality Sensitive Hashing (LSH) Algorithm (First Layer)\n",
    "https://nbviewer.org/github/bassimeledath/quora_profile/blob/master/questions_analysis.ipynb\n",
    "\n",
    "https://www.pinecone.io/learn/locality-sensitive-hashing/"
   ]
  },
  {
   "cell_type": "code",
   "execution_count": 32,
   "id": "979ad634",
   "metadata": {},
   "outputs": [],
   "source": [
    "import numpy as np\n",
    "import pandas as pd\n",
    "import re\n",
    "import time\n",
    "from datasketch import MinHash, MinHashLSHForest"
   ]
  },
  {
   "cell_type": "code",
   "execution_count": 33,
   "id": "6e38d0df",
   "metadata": {},
   "outputs": [],
   "source": [
    "#Preprocess will split a string of text into individual tokens/shingles based on whitespace.\n",
    "def preprocess(text):\n",
    "    punc = '''!()-[]{};:'\"\\,<>./?@#$%^&*_~'''\n",
    "    tokens = text\n",
    "    # Removing punctuations in string\n",
    "    # Using loop + punctuation string\n",
    "    for ele in tokens:\n",
    "        if ele in punc:\n",
    "            tokens = tokens.replace(ele, \"\")\n",
    "    tokens = text.lower()\n",
    "    tokens = tokens.split()\n",
    "    return tokens"
   ]
  },
  {
   "cell_type": "code",
   "execution_count": null,
   "id": "029e4139",
   "metadata": {},
   "outputs": [],
   "source": []
  },
  {
   "cell_type": "code",
   "execution_count": 34,
   "id": "712a3264",
   "metadata": {},
   "outputs": [],
   "source": [
    "def get_forest(data, perms):\n",
    "    start_time = time.time()\n",
    "    \n",
    "    minhash = []\n",
    "    \n",
    "    for text in data:\n",
    "        tokens = preprocess(text)\n",
    "        m = MinHash(num_perm=perms)\n",
    "        for s in tokens:\n",
    "            m.update(s.encode('utf8'))\n",
    "        minhash.append(m)\n",
    "        \n",
    "    forest = MinHashLSHForest(num_perm=perms)\n",
    "    \n",
    "    for i,m in enumerate(minhash):\n",
    "        forest.add(i,m)\n",
    "        \n",
    "    forest.index()\n",
    "    \n",
    "    #print('It took %s seconds to build forest.' %(time.time()-start_time))\n",
    "    \n",
    "    return forest"
   ]
  },
  {
   "cell_type": "code",
   "execution_count": 35,
   "id": "6353ff29",
   "metadata": {},
   "outputs": [],
   "source": [
    "def predict(text, database, perms, num_results, forest):\n",
    "    start_time = time.time()\n",
    "    \n",
    "    tokens = preprocess(text)\n",
    "    m = MinHash(num_perm=perms)\n",
    "    for s in tokens:\n",
    "        m.update(s.encode('utf8'))\n",
    "        \n",
    "    idx_array = np.array(forest.query(m, num_results))\n",
    "    if len(idx_array) == 0:\n",
    "        return None # if your query is empty, return none\n",
    "    result={}\n",
    "    result = database.iloc[idx_array]\n",
    "    \n",
    "    #print('It took %s seconds to query forest.' %(time.time()-start_time))\n",
    "    \n",
    "    return result"
   ]
  },
  {
   "cell_type": "code",
   "execution_count": 36,
   "id": "915d2f14",
   "metadata": {},
   "outputs": [],
   "source": [
    "def LSH_Candiadates_List(candidates_list):\n",
    "    db = pd.DataFrame(candidates_list)#We have 67 Sentences\n",
    "    db=db[0]\n",
    "    #print(db)\n",
    "    #Number of Permutations\n",
    "    permutations = 800\n",
    "    #Number of Recommendations to return\n",
    "    num_recommendations = 5\n",
    "    forest = get_forest(db, permutations)\n",
    "    num_recommendations = 10\n",
    "    #query = query_documents[0].lower()\n",
    "    result = predict(query, db, permutations, num_recommendations, forest)\n",
    "    #print('\\n Top similar sentences \\n', result1)\n",
    "\n",
    "\n",
    "    #Create a list of candiates to be taken to the next layer which is Cosine Simialrity\n",
    "    candidates=[]\n",
    "    candidates=result.values\n",
    "    return candidates"
   ]
  },
  {
   "cell_type": "markdown",
   "id": "dee31028",
   "metadata": {},
   "source": [
    "# Print a the candidates list from LSH"
   ]
  },
  {
   "cell_type": "code",
   "execution_count": 37,
   "id": "7d533953",
   "metadata": {},
   "outputs": [],
   "source": [
    "LSH_Candidates= LSH_Candiadates_List(raw_documents)"
   ]
  },
  {
   "cell_type": "markdown",
   "id": "84345d64",
   "metadata": {},
   "source": [
    "# 1.2 Cosine Similarity (The second layer)"
   ]
  },
  {
   "cell_type": "markdown",
   "id": "f0b8a608",
   "metadata": {},
   "source": [
    "https://towardsdatascience.com/how-to-rank-text-content-by-semantic-similarity-4d2419a84c32"
   ]
  },
  {
   "cell_type": "code",
   "execution_count": 38,
   "id": "8bf0402f",
   "metadata": {},
   "outputs": [],
   "source": [
    "from re import sub\n",
    "from gensim.utils import simple_preprocess\n",
    "\n",
    "#query_string = 'fruit and vegetables'\n",
    "#documents = ['cars drive on the road', 'tomatoes are actually fruit']\n",
    "\n",
    "stopwords = []\n",
    "\n",
    "# From: https://github.com/RaRe-Technologies/gensim/blob/develop/docs/notebooks/soft_cosine_tutorial.ipynb\n",
    "def preprocess(doc):\n",
    "    # Tokenize, clean up input document string\n",
    "    doc = sub(r'<img[^<>]+(>|$)', \" image_token \", doc)\n",
    "    doc = sub(r'<[^<>]+(>|$)', \" \", doc)\n",
    "    doc = sub(r'\\[img_assist[^]]*?\\]', \" \", doc)\n",
    "    doc = sub(r'http[s]?://(?:[a-zA-Z]|[0-9]|[$-_@.&+]|[!*\\(\\),]|(?:%[0-9a-fA-F][0-9a-fA-F]))+', \" url_token \", doc)\n",
    "    return [token for token in simple_preprocess(doc, min_len=0, max_len=float(\"inf\")) if token not in stopwords]\n",
    "\n",
    "# Preprocess the documents, including the query string\n",
    "corpus = [preprocess(document) for document in LSH_Candidates]\n",
    "#print(corpus)\n",
    "query = preprocess(query)\n",
    "#print (query)"
   ]
  },
  {
   "cell_type": "code",
   "execution_count": 39,
   "id": "e15a12e3",
   "metadata": {},
   "outputs": [
    {
     "name": "stderr",
     "output_type": "stream",
     "text": [
      "100%|██████████████████████████████████████| 1045/1045 [00:08<00:00, 128.45it/s]\n"
     ]
    }
   ],
   "source": [
    "import gensim.downloader as api\n",
    "from gensim.corpora import Dictionary\n",
    "from gensim.models import TfidfModel\n",
    "from gensim.similarities import WordEmbeddingSimilarityIndex\n",
    "from gensim.similarities import SparseTermSimilarityMatrix\n",
    "from gensim.similarities import SoftCosineSimilarity\n",
    "\n",
    "# Load the model: this is a big file, can take a while to download and open\n",
    "glove = api.load(\"glove-wiki-gigaword-50\")    \n",
    "similarity_index = WordEmbeddingSimilarityIndex(glove)\n",
    "\n",
    "# Build the term dictionary, TF-idf model\n",
    "dictionary = Dictionary(corpus+[query])\n",
    "tfidf = TfidfModel(dictionary=dictionary)\n",
    "\n",
    "# Create the term similarity matrix.  \n",
    "similarity_matrix = SparseTermSimilarityMatrix(similarity_index, dictionary, tfidf)"
   ]
  },
  {
   "cell_type": "code",
   "execution_count": 40,
   "id": "0f6386d8",
   "metadata": {},
   "outputs": [],
   "source": [
    "# Compute Soft Cosine Measure between the query and the documents.\n",
    "# From: https://github.com/RaRe-Technologies/gensim/blob/develop/docs/notebooks/soft_cosine_tutorial.ipynb\n",
    "def Cosine_Candiadates_List(candidates_list) :\n",
    "    \n",
    "    query_tf = tfidf[dictionary.doc2bow(query)]\n",
    "\n",
    "    index = SoftCosineSimilarity(\n",
    "                tfidf[[dictionary.doc2bow(document) for document in corpus]],\n",
    "                similarity_matrix)\n",
    "\n",
    "    doc_similarity_scores = index[query_tf] \n",
    "\n",
    "\n",
    "# Output the sorted similarity scores and documents\n",
    "    NW_Candiadates=[]\n",
    "    sorted_indexes = np.argsort(doc_similarity_scores)[::-1]\n",
    "    for idx in sorted_indexes:\n",
    "        if doc_similarity_scores[idx]>0.3:\n",
    "            print(f'{idx} \\t {doc_similarity_scores[idx]:0.3f} \\t {LSH_Candidates[idx]}')\n",
    "            NW_Candiadates.append(LSH_Candidates[idx])\n",
    "    return NW_Candiadates"
   ]
  },
  {
   "cell_type": "code",
   "execution_count": 41,
   "id": "be3952bb",
   "metadata": {},
   "outputs": [
    {
     "name": "stdout",
     "output_type": "stream",
     "text": [
      "1 \t 0.622 \t When it was the third night, Dunyazad asked her sister to finish the story. ‘With pleasure,’ said Shahrazad and went on: ‘I have heard, O fortunate king, that the third old man told the ‘ifrit a more remarkable story than the other two, and that in his astonishment and delight the ‘ifrit granted him the remaining share of the blood debt and allowed the merchant to go free. For his part, the merchant went and thanked the old men, who congratulated him on his safety, after which each of them went home. This, however, is not more surprising than the tale of the fisherman.’ When the king asked what that was, she went on:\n",
      "\n",
      "I have heard, O fortunate king, that there once was a poor, elderly fisherman with a wife and three children, who was in the habit of casting his net exactly four times each day. He went out to the shore at noon one day, put down his basket, tucked up his shirt, waded into the sea and cast his net. He waited until it had sunk down before pulling its cords together and then, finding it heavy, he tried unsuccessfully to drag it in. He took one end of it to the shore and fixed it to a peg that he drove in there, after which he stripped and dived into the sea beside it, where he continued tugging until he managed to get it up. He climbed out delightedly, put his clothes back on and went up to the net, only to find that what was in it was a dead donkey, and that the donkey had made a hole in the net. The fisherman was saddened by this and recited the formula: ‘There is no might and no power except with God, the Exalted, the Omnipotent,’ before saying: ‘This is a strange thing that God has given me by way of food!’ and then reciting:\n",
      "\n",
      "You who court danger, diving in the dark of night,\n",
      "\n",
      "Give up; your efforts do not win your daily bread from God.\n",
      "\n",
      "The fisherman rises to earn his keep;\n",
      "\n",
      "There is the sea, with stars woven in the sky.\n",
      "\n",
      "He plunges in, buffeted by waves,\n",
      "\n",
      "His eyes fixed on his billowing net.\n",
      "\n",
      "Happy with his night’s work, he takes back home\n",
      "\n",
      "A fish, its jaw caught up on his pronged hook.\n",
      "\n",
      "This fish is bought from him by one who spent his night\n",
      "\n",
      "Out of the cold, enjoying his comforts.\n",
      "\n",
      "Praise be to God, Who gives and Who deprives;\n",
      "\n",
      "For one man eats the fish; another catches it.\n",
      "\n",
      "\n",
      "\n",
      "He encouraged himself, saying that Almighty God would show favour and reciting:\n",
      "\n",
      "When you are faced with hardship, clothe yourself\n",
      "\n",
      "In noble patience; that is more resolute.\n",
      "\n",
      "Do not complain, then, to God’s servants; you complain\n",
      "\n",
      "To those who have no mercy of the Merciful.\n",
      "\n",
      "\n",
      "\n",
      "He freed the donkey from the net, which he then wrung out before spreading it out again and going back into the sea. Invoking the Name of God, he made another cast, waited until the net had settled, and found it heavier and more difficult to move than before. Thinking that it must be full of fish, he fastened it to his peg, stripped off his clothes and dived in to free it. After tugging at it he got it up on shore, only to discover that what was in it was a large jar full of sand and mud. Saddened by this sight, he recited:\n",
      "\n",
      "Troubles of Time, give up!\n",
      "\n",
      "Stop, even if you have not had enough.\n",
      "\n",
      "I came out looking for my daily bread,\n",
      "\n",
      "But I have found there is no more of this.\n",
      "\n",
      "How many a fool reaches the Pleiades!\n",
      "\n",
      "How many wise men lie hidden in the earth!\n",
      "\n",
      "\n",
      "\n",
      "The fisherman threw away the jar, wrung out his net, cleaned it and went back a third time to the sea, asking God to forgive him. He made his cast and waited for the net to settle before drawing it in, and this time what he found in it were bits of pots, bottles and bones. He was furious and, shedding bitter tears, he recited:\n",
      "\n",
      "You have no power at all over your daily bread;\n",
      "\n",
      "Neither learning nor letters will fetch it for you.\n",
      "\n",
      "Fortune and sustenance are divided up;\n",
      "\n",
      "One land is fertile while another suffers drought.\n",
      "\n",
      "Time’s changes bring down cultured men,\n",
      "\n",
      "While fortune lifts the undeserving up.\n",
      "\n",
      "Come, death, and visit me, for life is vile;\n",
      "\n",
      "Falcons are brought down low while ducks are raised on high.\n",
      "\n",
      "Feel no surprise if you should see a man of excellence\n",
      "\n",
      "In poverty, while an inferior holds sway.\n",
      "\n",
      "One bird circles the earth from east to west;\n",
      "\n",
      "Another gets its food but does not have to move.\n",
      "\n",
      "\n",
      "\n",
      "He then looked up to heaven and said: ‘O my God, You know that I only cast my net four times a day. I have done this thrice and got nothing, so this time grant me something on which to live.’ He pronounced the Name of God and cast his net into the sea. He waited until it had settled and then he tried to pull it in, but found that it had snagged on the bottom. He recited the formula: ‘There is no power and no might except with God,’ and went on:\n",
      "\n",
      "How wretched is this kind of world\n",
      "\n",
      "That leaves us in such trouble and distress!\n",
      "\n",
      "In the morning it may be that things go well,\n",
      "\n",
      "But I must drink destruction’s cup when evening comes.\n",
      "\n",
      "Yet when it is asked who leads the easiest life,\n",
      "\n",
      "Men would reply that this was I.\n",
      "\n",
      "\n",
      "\n",
      "The fisherman stripped off his clothes and, after diving in, he worked his hardest to drag the net to shore. Then, when he opened it up, he found in it a brass bottle with a lead seal, imprinted with the inscription of our master Solomon, the son of David, on both of whom be peace. The fisherman was delighted to see this, telling himself that it would fetch ten gold dinars if he sold it in the brass market. He shook it and, discovering that it was heavy as well as sealed, he said to himself: ‘I wonder what is in it? I’ll open it up and have a look before selling it.’ He took out a knife and worked on the lead until he had removed it from the bottle, which he then put down on the ground, shaking it in order to pour out its contents. To his astonishment, at first nothing came out, but then there emerged smoke which towered up into the sky and spread over the surface of the ground. When it had all come out, it collected and solidified; a tremor ran through it and it became an ‘ifrit with his head in the clouds and his feet on the earth. His head was like a dome, his hands were like winnowing forks and his feet like ships’ masts. He had a mouth like a cave with teeth like rocks, while his nostrils were like jugs and his eyes like lamps. He was dark and scowling.\n",
      "\n",
      "When he saw this ‘ifrit the fisherman shuddered; his teeth chattered; his mouth dried up and he could not see where he was going. At the sight of him the ‘ifrit exclaimed: ‘There is no god but the God of Solomon, His prophet. Prophet of God, do not kill me for I shall never disobey you again in word or in deed.’ ‘‘Ifrit,’ the fisherman said, ‘you talk of Solomon, the prophet of God, but Solomon died eighteen hundred years ago and we are living in the last age of the world. What is your story and how did you come to be in this bottle?’ To which the ‘ifrit replied: ‘There is no god but God. I have good news for you, fisherman.’ ‘What is that?’ the fisherman asked, and the ‘ifrit said: ‘I am now going to put you to the worst of deaths.’ ‘For this good news, leader of the ‘ifrits,’ exclaimed the fisherman, ‘you deserve that God’s protection be removed from you, you damned creature. Why should you kill me and what have I done to deserve this? It was I who saved you from the bottom of the sea and brought you ashore.’\n",
      "\n",
      "But the ‘ifrit said: ‘Choose what death you want and how you want me to kill you.’ ‘What have I done wrong,’ asked the fisherman, ‘and why are you punishing me?’ The ‘ifrit replied: ‘Listen to my story,’ and the fisherman said: ‘Tell it, but keep it short as I am at my last gasp.’ ‘Know, fisherman,’ the ‘ifrit told him, ‘that I was one of the apostate jinn, and that together with Sakhr, the jinni, I rebelled against Solomon, the son of David, on both of whom be peace. Solomon sent his vizier, Asaf, to fetch me to him under duress, and I was forced to go with him in a state of humiliation to stand before Solomon. “I take refuge with God!” exclaimed Solomon when he saw me, and he then offered me conversion to the Faith and proposed that I enter his service. When I refused, he called for this bottle, in which he imprisoned me, sealing it with lead and imprinting on it the Greatest Name of God. Then, at his command, the jinn carried me off and threw me into the middle of the sea.\n",
      "\n",
      "‘For a hundred years I stayed there, promising myself that I would give whoever freed me enough wealth to last him for ever, but the years passed and no one rescued me. For the next hundred years I told myself that I would open up all the treasures of the earth for my rescuer, but still no one rescued me. Four hundred years later, I promised that I would grant three wishes, but when I still remained imprisoned, I became furiously angry and said to myself that I would kill whoever saved me, giving him a choice of how he wanted to die. It is you who are my rescuer, and so I allow you this choice.’\n",
      "\n",
      "When the fisherman heard this, he exclaimed in wonder at his bad luck in freeing the ‘ifrit now, and he went on: ‘Spare me, may God spare you, and do not kill me lest God place you in the power of one who will kill you.’ ‘I must kill you,’ insisted the ‘ifrit, ‘and so choose how you want to die.’ Ignoring this, the fisherman made another appeal, calling on the ‘ifrit to show gratitude for his release. ‘It is only because you freed me that I am going to kill you,’ repeated the ‘ifrit, at which the fisherman said: ‘Lord of the ‘ifrits, I have done you good and you are repaying me with evil. The proverbial lines are right where they say:\n",
      "\n",
      "We did them good; they did its opposite,\n",
      "\n",
      "And this, by God, is how the shameless act.\n",
      "\n",
      "Whoever helps those who deserve no help,\n",
      "\n",
      "Will be like one who rescues a hyena.’\n",
      "\n",
      "\n",
      "\n",
      "‘Don’t go on so long,’ said the ‘ifrit when he heard this, ‘for death is coming to you.’ The fisherman said to himself: ‘This is a jinni and I am a human. God has given me sound intelligence which I can use to find a way of destroying him, whereas he can only use vicious cunning.’ So he asked: ‘Are you definitely going to kill me?’ and when the ‘ifrit confirmed this, he said: ‘I conjure you by the Greatest Name inscribed on the seal of Solomon and ask you to give me a truthful answer to a question that I have.’ ‘I shall,’ replied the ‘ifrit, who had been shaken and disturbed by the mention of the Greatest Name, and he went on: ‘Ask your question but be brief.’ The fisherman went on: ‘You say you were in this bottle, but there is not room in it for your hand or your foot, much less all the rest of you.’ ‘You don’t believe that I was in it?’ asked the ‘ifrit, to which the fisherman replied: ‘I shall never believe it until I see it with my own eyes.’\n",
      "\n",
      "Morning now dawned and Shahrazad broke off from what she had been allowed to say.\n",
      "0 \t 0.569 \t SHAHRAZAD SAID:\n",
      "\tI have heard, O fortunate king, that a wealthy merchant, who had many dealings throughout the lands, rode out one day to settle a matter of business in one of them. When it became hot, he sat down under a tree and put his hand in his saddlebag, from which he took out a piece of bread and a date. He ate and when he had finished with the date he threw away its stone, at which a huge ‘ifrit appeared, with a drawn sword in his hand. This ‘ifrit came up to the merchant and said: ‘Get up so that I can kill you as you killed my son.’ ‘How did I kill your son?’ asked the merchant, and the ‘ifrit told him: ‘When you ate that date and threw away the stone, it struck my son in the chest as he was walking, and he died instantly.’ ‘We belong to God and to Him do we return,’ recited the merchant, adding: ‘There is no might and no power except with God, the Exalted, the Omnipotent. If I killed him, this was by accident, so please forgive me.’ ‘I must kill you,’ insisted the ‘ifrit, and he dragged off the merchant, threw him down on the ground and raised his sword to strike.\n",
      "\n",
      "\tWith tears in his eyes, the merchant exclaimed: ‘I entrust my affair to God!’ and he then recited these lines:\n",
      "\n",
      "Time is two days, one safe and one of peril,\n",
      "And our lives are of two halves, one fair, one overcast.\n",
      "Say to those who reproach us for what Time has done:\n",
      "‘Does Time oppose any but great men?’\n",
      "Do you not see that when the storm winds blow,\n",
      "It is the tall trees that they strike?\n",
      "Corpses rise to the surface of the sea,\n",
      "While it is in its depths that pearls lie hid.\n",
      "It may be that Time will mishandle us,\n",
      "Subjecting us to constant harm.\n",
      "Though in the heavens there are countless stars,\n",
      "Only the sun and moon suffer eclipse.\n",
      "There are both green and dry boughs on the earth,\n",
      "But we throw stones only at those with fruit.\n",
      "You think well of the days when they are fine,\n",
      "So do not fear the evil that fate brings.\n",
      "\n",
      "\n",
      "\tWhen he had finished, the ‘ifrit said: ‘Stop talking, for, by God, I am most certainly going to kill you.’ ‘‘Ifrit,’ the merchant said, ‘I am a wealthy man, with a wife and children; I have debts and I hold deposits, so let me go home and give everyone their due before returning to you at the start of the new year. I shall take a solemn oath and swear by God that I shall come back to you and you can then do what you want with me. God will be the guarantor of this.’ The ‘ifrit trusted him and let him go, after which he went home, settled all his affairs, and gave everyone what was owed them. He told his wife and children what had happened, gave them his injunctions and stayed with them until the end of the year, when he got up, performed the ritual ablution and, with his shroud under his arm, said goodbye to his family and all his relations as well as his neighbours, and set off reluctantly, while they all wept and wailed. He came to the orchard on what was New Year’s Day, and as he sat there weeping over his fate, a very old man approached him, leading a gazelle on a chain. The newcomer greeted him and asked him why he was sitting there alone, when the place was a haunt of jinn. The merchant told the story of his encounter with the ‘ifrit, and the old man exclaimed: ‘By God, brother, you are a very pious man and your story is so wonderful that were it written with needles on the corners of men’s eyes, it would be a lesson for those who take heed.’\n",
      "\tHe took his seat by the merchant’s side and promised not to leave until he had seen what happened to him with the ‘ifrit. As the two of them sat there talking, the merchant was overcome by an access of fear together with ever-increasing distress and apprehension. It was at this point that a second old man arrived, having with him two black Salukis. After greeting the two men, he asked them why they were sitting in this haunt of jinn and they told him the story from beginning to end. No sooner had he sat down with them than a third old man, with a dappled mule, came up, greeted them and asked why they were there, at which they repeated the whole story – but there is no point in going over it again.\n",
      "\tAs soon as the newcomer had sat down, a huge dust-devil appeared in the middle of the desert, clearing away to show the ‘ifrit with a drawn sword in his hand and sparks shooting from his eyes. He came up to the three, dragged the merchant from between them and said: ‘Get up so that I can kill you as you killed my beloved son.’ The merchant sobbed and wept, while the three old men shed tears, wailed and lamented. Then the first of them, the man with the gazelle, left the others, kissed the ‘ifrit’s hand and said: ‘Jinni, royal crown of the jinn, if I tell you the story of my connection with this gazelle, will you grant me a third share in this merchant’s blood?’ The ‘ifrit agreed to do this if he found the story marvellous, AND SO THE OLD MAN BEGAN HIS TALE:\n",
      "\tKnow, ‘ifrit, that this gazelle is my cousin, my own flesh and blood. I married her when she was still young and stayed with her for thirty years without her bearing me a child. So I took a concubine and she bore me a son, the perfection of whose eyes and eyebrows made him look like the full moon when it appears. He grew up and when he was fifteen I had occasion to travel to a certain city, taking with me a great quantity of trade goods. My wife, now this gazelle, had studied sorcery since her youth and she turned the boy into a calf and his mother into a cow, handing them over to the herdsman. When, after a long absence, I got back from my journey, I asked about the two of them and my wife told me that the woman had died and that the boy had run away, where she did not know.\n",
      "\tFor a year I remained sad at heart and tearful until ‘Id al-Adha came round and I sent to tell the herdsman to bring me a fat cow. What he brought me was my slave girl whom my wife had enchanted. I tucked up my clothes, took the knife in my hand and was about to slaughter her, when she gave a cry, howled and shed tears. This astonished me and, feeling pity for her, I left her and told the herdsman to fetch me another. At that my wife called out: ‘Kill this one, as I have no finer or fatter cow.’ I went up again to do the killing and again the cow gave a cry, at which I told the herdsman to slaughter her and then skin her. He did this, only to discover that there was neither flesh nor fat in the carcass, but only skin and bone. I was sorry for what I had done at a time when regret was of no use, and I gave the cow to the herdsman, telling him to bring me a fat calf. He brought me my son, and when this ‘calf ’ caught sight of me, he broke his tether and rolled in the dust in front of me, howling and shedding tears. Again I felt pity and told the herdsman to leave the calf and fetch me a cow, and again my wife, now this gazelle, called to me, insisting that I must slaughter the calf that day. ‘This is a noble and a blessed day,’ she pointed out. ‘The sacrifice must be a good one and we have nothing fatter or finer than this calf.’ ‘Look at what happened with the cow that you told me to kill. This led to a disappointment and we got no good from it at all, leaving me full of regret at having slaughtered it. This time I am not going to do what you say or kill this calf.’ ‘By God the Omnipotent, the Compassionate, the Merciful, you must do this on this noble day, and if you don’t, then you are not my husband and I am not your wife.’ On hearing these harsh words, but not realizing what she intended to do, I went up to the calf with the knife in my hand.\n",
      "\n",
      "Morning now dawned and Shahrazad broke off from what she had been allowed to say. ‘What a good, pleasant, delightful and sweet story this is!’ exclaimed Dunyazad, at which Shahrazad told her: ‘How can this compare with what I shall tell you this coming night, if I am still alive and the king spares me?’ ‘By God,’ the king said to himself, ‘I am not going to kill her until I hear the rest of the story,’ and so they spent the rest of the time embracing one another until the sun had fully risen. The king then went to his court as the vizier came with the shroud under his arm, and he gave his judgements, appointing some officials and dismissing others, until evening, but to the vizier’s great surprise he gave no instructions about his daughter. The court was then dismissed and King Shahriyar returned to his palace.\n"
     ]
    }
   ],
   "source": [
    "Pre_NW_Candiadates= Cosine_Candiadates_List(LSH_Candidates)"
   ]
  },
  {
   "cell_type": "code",
   "execution_count": 42,
   "id": "760281a6",
   "metadata": {},
   "outputs": [],
   "source": [
    "NW_Candiadates=[]\n",
    "NW_Candiadates=Pre_NW_Candiadates[0]#Take the story that has the maximum cosine similarity\n",
    "#print(NW_Candiadates)"
   ]
  },
  {
   "cell_type": "markdown",
   "id": "2716cdb3",
   "metadata": {},
   "source": [
    "# Send the target Story to be processed again\n",
    "1. Remove punctuations\n",
    "3. Lemmatizations(optional)\n",
    "4. Tokenization each 3 sentences together\n"
   ]
  },
  {
   "cell_type": "code",
   "execution_count": 43,
   "id": "762f0c2b",
   "metadata": {},
   "outputs": [],
   "source": [
    "import nltk \n",
    "import re\n",
    "from nltk.stem.wordnet import WordNetLemmatizer\n",
    "from nltk import word_tokenize\n",
    "\n",
    "def Before_NW_Processing(candidates_list):\n",
    "    paragraphs = list(filter(lambda x : x != '', candidates_list.split('.')))#https://stackoverflow.com/questions/53240763/python-how-to-separate-paragraphs-from-text\n",
    "    len(paragraphs)\n",
    "    paragraphs2=[]\n",
    "    for i in paragraphs:\n",
    "        i = i.lower()\n",
    "        paragraphs2.append(i)\n",
    "        import re\n",
    " \n",
    "    # Removing punctuations in string\n",
    "    # Using loop + punctuation string\n",
    "    final_paragraphs_list=[]\n",
    "    for ele in paragraphs2:\n",
    "        x = re.sub(r'[^\\w\\s]', '', ele)\n",
    "        x = x.replace('\\n',\" \")\n",
    "        final_paragraphs_list.append(x)\n",
    "   \n",
    "    #https://stackoverflow.com/questions/50685343/how-to-lemmatize-a-list-of-sentences\n",
    "\n",
    "    lmtzr = WordNetLemmatizer()\n",
    "    lemmatized = [[lmtzr.lemmatize(word) for word in word_tokenize(s)]\n",
    "                  for s in final_paragraphs_list]\n",
    "#print(lemmatized[2])\n",
    "#[['i', 'like', 'car'], ['cat', 'are', 'the', 'best']]\n",
    "\n",
    "    Final_Lemmatized=[]\n",
    "    for i in range(len(final_paragraphs_list)):\n",
    "        Final_Lemmatized.append(\" \".join(word for word in lemmatized[i]))\n",
    "    return Final_Lemmatized"
   ]
  },
  {
   "cell_type": "code",
   "execution_count": 45,
   "id": "563dbd5f",
   "metadata": {},
   "outputs": [],
   "source": [
    "\n",
    "Final_Target_Candidates=[]\n",
    "Final_Target_Candidates=Before_NW_Processing(NW_Candiadates)\n",
    "#len(Final_Target_Candidates)\n",
    "\n",
    "query = query_documents[0].lower()\n",
    "Final_Query_Candidates=[]\n",
    "Final_Query_Candidates= Before_NW_Processing(query)\n",
    "#len(Final_Query_Candidates)"
   ]
  },
  {
   "cell_type": "markdown",
   "id": "aad9a23f",
   "metadata": {},
   "source": [
    "# Tokenization each 3 sentences together\n"
   ]
  },
  {
   "cell_type": "code",
   "execution_count": 46,
   "id": "6afddccd",
   "metadata": {},
   "outputs": [],
   "source": [
    "def Three_Sentences_Tokenization(candidates_list):\n",
    "    Final_Lemmatized=candidates_list\n",
    "    Final_Dataset=[]\n",
    "    i=0\n",
    "    if len(Final_Lemmatized) % 3==0:\n",
    "        while(i < len(Final_Lemmatized)):\n",
    "            #if len(x) < len(test):\n",
    "            if Final_Lemmatized[i]==Final_Lemmatized[-2]:\n",
    "                Final_Dataset.append(Final_Lemmatized[-2]+\" \"+Final_Lemmatized[-1])\n",
    "                break\n",
    "            else:\n",
    "                Final_Dataset.append(Final_Lemmatized[i]+\" \"+Final_Lemmatized[i+1]+\" \"+Final_Lemmatized[i+2])\n",
    "            i += 3\n",
    "        return Final_Dataset\n",
    "    else:\n",
    "        while(i < len(Final_Lemmatized)):\n",
    "            #if len(x) < len(test):\n",
    "            if Final_Lemmatized[i]==Final_Lemmatized[-1]:\n",
    "                Final_Dataset.append(Final_Lemmatized[i])\n",
    "                Final_Dataset[-1]=Final_Dataset[-2]+\" \"+Final_Dataset[-1]\n",
    "                Final_Dataset.remove(Final_Dataset[-2])\n",
    "                break\n",
    "            elif Final_Lemmatized[i]==Final_Lemmatized[-2]:\n",
    "                Final_Dataset.append(Final_Lemmatized[i]+\" \"+Final_Lemmatized[i+1])\n",
    "                #x.remove(x[-2])\n",
    "                break\n",
    "            else:\n",
    "                Final_Dataset.append(Final_Lemmatized[i]+\" \"+Final_Lemmatized[i+1]+\" \"+Final_Lemmatized[i+2])\n",
    "            i += 3\n",
    "        return Final_Dataset\n",
    "        \n",
    "#print(Final_Query)"
   ]
  },
  {
   "cell_type": "code",
   "execution_count": 47,
   "id": "bfea9a43",
   "metadata": {},
   "outputs": [],
   "source": [
    "Final_Target=[]\n",
    "Final_Target= Three_Sentences_Tokenization(Final_Target_Candidates)\n",
    "Final_Query=[]\n",
    "Final_Query= Three_Sentences_Tokenization(Final_Query_Candidates)"
   ]
  },
  {
   "cell_type": "markdown",
   "id": "c1eb8d33",
   "metadata": {},
   "source": [
    "# Needlman-Wunch "
   ]
  },
  {
   "cell_type": "code",
   "execution_count": 50,
   "id": "381b3423",
   "metadata": {},
   "outputs": [],
   "source": [
    "from minineedle import needle, core\n",
    "def needlman_wunch(Target_candidates_list,Query_list):\n",
    "    \n",
    "    \n",
    "    R = {} # Dicitonary to Save query, target sentence, precent identity and the actual aligmnet\n",
    "    IR=0 #IndexRange\n",
    "\n",
    "    query=Query_list[IR].split()\n",
    "    if IR==0:\n",
    "        for i in Target_candidates_list[IR:IR+1]:\n",
    "        #print(\"t--------------\",i)\n",
    "            alignment = needle.NeedlemanWunsch(query, i.split())\n",
    "            x = alignment.get_identity()\n",
    "            y = alignment \n",
    "            R[i]=[x , query, i, y]\n",
    "        max_value = max(R.values())\n",
    "        print('Query: ',Query_list[IR],'\\n')\n",
    "        print('Target Sentence: \\n',max_value[2],'\\n')\n",
    "        print('Perecent Identity using NW:',max_value[0])\n",
    "    #print('\\n',max_value[3]) \n",
    "    else:\n",
    "        for i in Target_candidates_list[IR-1:IR+1]:\n",
    "        #print(\"t--------------\",i)\n",
    "            alignment = needle.NeedlemanWunsch(query, i.split())\n",
    "            x = alignment.get_identity()\n",
    "            y = alignment \n",
    "            R[i]=[x , query, i, y]\n",
    "        max_value = max(R.values())\n",
    "        print('Query: ',Query_list[IR],'\\n')\n",
    "        print('Target Sentence: \\n',max_value[2],'\\n')\n",
    "        print('Perecent Identity using NW:',max_value[0]) "
   ]
  },
  {
   "cell_type": "markdown",
   "id": "2f2d097d",
   "metadata": {},
   "source": [
    "# Call the Needlman-Wunch with Final_Target and Final Final_Query Datasets"
   ]
  },
  {
   "cell_type": "code",
   "execution_count": 51,
   "id": "bde14bab",
   "metadata": {},
   "outputs": [
    {
     "name": "stdout",
     "output_type": "stream",
     "text": [
      "Query:  when it wa the third night and the king had had his will of the wazirs daughter dunyazad her sister said to her finish for u that tale of thine and she replied with joy and goodly gree it hath reached me o auspicious king that when the third old man told a tale to the jinni more wondrous than the two preceding the jinni marvelled with exceeding marvel and shaking with delight cried lo i have given thee the remainder of the merchant punishment and for thy sake have i released him thereupon the merchant embraced the old men and thanked them and these shaykhs wished him joy on being saved and fared forth each one for his own city yet this tale is not more wondrous than the fisherman story \n",
      "\n",
      "Target Sentence: \n",
      " when it wa the third night dunyazad asked her sister to finish the story with pleasure said shahrazad and went on i have heard o fortunate king that the third old man told the ifrit a more remarkable story than the other two and that in his astonishment and delight the ifrit granted him the remaining share of the blood debt and allowed the merchant to go free for his part the merchant went and thanked the old men who congratulated him on his safety after which each of them went home \n",
      "\n",
      "Perecent Identity using NW: 29.79\n"
     ]
    }
   ],
   "source": [
    "needlman_wunch(Final_Target,Final_Query)"
   ]
  },
  {
   "cell_type": "code",
   "execution_count": null,
   "id": "3e92bd41",
   "metadata": {},
   "outputs": [],
   "source": []
  }
 ],
 "metadata": {
  "kernelspec": {
   "display_name": "Python 3 (ipykernel)",
   "language": "python",
   "name": "python3"
  },
  "language_info": {
   "codemirror_mode": {
    "name": "ipython",
    "version": 3
   },
   "file_extension": ".py",
   "mimetype": "text/x-python",
   "name": "python",
   "nbconvert_exporter": "python",
   "pygments_lexer": "ipython3",
   "version": "3.9.7"
  }
 },
 "nbformat": 4,
 "nbformat_minor": 5
}
